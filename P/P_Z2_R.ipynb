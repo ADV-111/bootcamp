{
 "cells": [
  {
   "cell_type": "markdown",
   "metadata": {},
   "source": [
    "# 4. Funkcje"
   ]
  },
  {
   "cell_type": "markdown",
   "metadata": {},
   "source": [
    "Definicja funkcji musi zawierać:\n",
    "\n",
    "* nagłówek funkcji:\n",
    "  * nazwę funkcji, która pozwoli zidentyfikować funkcję w pozostałej części programu,\n",
    "  * listę argumentów\n",
    "* ciało funkcji, zawierające instrukcje, które zostaną wykonane w momencie wywołania (użycia) funkcji\n",
    "  * jeżeli funkcja ma zwracać jakiś rezultat, musi zawierać instrukcję ,,return''\n",
    "\n",
    "W języku Python składnia definicji funkcji jest następująca:"
   ]
  },
  {
   "cell_type": "code",
   "execution_count": 85,
   "metadata": {
    "collapsed": true
   },
   "outputs": [],
   "source": [
    "def nazwa_funkcji (lista_parametrow):\n",
    "    instrukcje_do_wykonania"
   ]
  },
  {
   "cell_type": "markdown",
   "metadata": {},
   "source": [
    "Przykład funkcji:"
   ]
  },
  {
   "cell_type": "code",
   "execution_count": 87,
   "metadata": {
    "collapsed": false
   },
   "outputs": [
    {
     "name": "stdout",
     "output_type": "stream",
     "text": [
      "To jest użycie funkcji\n",
      "tak\n"
     ]
    }
   ],
   "source": [
    "# Przykład 1\n",
    "def wypisz(lancuch):\n",
    "    print(lancuch)\n",
    "    \n",
    "wypisz(\"To jest użycie funkcji\")\n",
    "x = \"tak\"\n",
    "wypisz(x)"
   ]
  },
  {
   "cell_type": "code",
   "execution_count": 93,
   "metadata": {
    "collapsed": false
   },
   "outputs": [
    {
     "name": "stdout",
     "output_type": "stream",
     "text": [
      "12\n",
      "1\n"
     ]
    }
   ],
   "source": [
    "# Przykład 2 - zwraca wynik\n",
    "def suma(x, y):\n",
    "    return x+y\n",
    "\n",
    "print(suma(4,8))\n",
    "x = suma(2, -1)\n",
    "print(x)"
   ]
  },
  {
   "cell_type": "markdown",
   "metadata": {},
   "source": [
    "Funkcje, podobnie jak zmienną, można usuwać. Do tego służy instrukcja ,,**del**''. Na przykład:"
   ]
  },
  {
   "cell_type": "code",
   "execution_count": 94,
   "metadata": {
    "collapsed": false
   },
   "outputs": [
    {
     "name": "stdout",
     "output_type": "stream",
     "text": [
      "5\n"
     ]
    },
    {
     "ename": "NameError",
     "evalue": "name 'x' is not defined",
     "output_type": "error",
     "traceback": [
      "\u001b[0;31m---------------------------------------------------------------------------\u001b[0m",
      "\u001b[0;31mNameError\u001b[0m                                 Traceback (most recent call last)",
      "\u001b[0;32m<ipython-input-94-6e10d40c8d1f>\u001b[0m in \u001b[0;36m<module>\u001b[0;34m()\u001b[0m\n\u001b[1;32m      5\u001b[0m \u001b[1;32mdel\u001b[0m\u001b[1;33m(\u001b[0m\u001b[0mx\u001b[0m\u001b[1;33m)\u001b[0m\u001b[1;33m\u001b[0m\u001b[0m\n\u001b[1;32m      6\u001b[0m \u001b[1;33m\u001b[0m\u001b[0m\n\u001b[0;32m----> 7\u001b[0;31m \u001b[0mprint\u001b[0m\u001b[1;33m(\u001b[0m\u001b[0mx\u001b[0m\u001b[1;33m)\u001b[0m\u001b[1;33m\u001b[0m\u001b[0m\n\u001b[0m",
      "\u001b[0;31mNameError\u001b[0m: name 'x' is not defined"
     ]
    }
   ],
   "source": [
    "# przykład 1\n",
    "x=5\n",
    "print(x)\n",
    "\n",
    "del(x)\n",
    "\n",
    "print(x)"
   ]
  },
  {
   "cell_type": "code",
   "execution_count": 95,
   "metadata": {
    "collapsed": false
   },
   "outputs": [
    {
     "name": "stdout",
     "output_type": "stream",
     "text": [
      "3.0\n"
     ]
    },
    {
     "ename": "NameError",
     "evalue": "name 'pierw' is not defined",
     "output_type": "error",
     "traceback": [
      "\u001b[0;31m---------------------------------------------------------------------------\u001b[0m",
      "\u001b[0;31mNameError\u001b[0m                                 Traceback (most recent call last)",
      "\u001b[0;32m<ipython-input-95-a515dbca6044>\u001b[0m in \u001b[0;36m<module>\u001b[0;34m()\u001b[0m\n\u001b[1;32m      7\u001b[0m \u001b[1;32mdel\u001b[0m \u001b[0mpierw\u001b[0m\u001b[1;33m\u001b[0m\u001b[0m\n\u001b[1;32m      8\u001b[0m \u001b[1;33m\u001b[0m\u001b[0m\n\u001b[0;32m----> 9\u001b[0;31m \u001b[0mprint\u001b[0m\u001b[1;33m(\u001b[0m\u001b[0mpierw\u001b[0m\u001b[1;33m(\u001b[0m\u001b[1;36m4\u001b[0m\u001b[1;33m)\u001b[0m\u001b[1;33m)\u001b[0m\u001b[1;33m\u001b[0m\u001b[0m\n\u001b[0m",
      "\u001b[0;31mNameError\u001b[0m: name 'pierw' is not defined"
     ]
    }
   ],
   "source": [
    "# przykład 2\n",
    "def pierw(n):\n",
    "    return n**0.5\n",
    "\n",
    "print(pierw(9))\n",
    "\n",
    "del pierw\n",
    "\n",
    "print(pierw(4))\n"
   ]
  },
  {
   "cell_type": "markdown",
   "metadata": {},
   "source": [
    "# 4.1 Domyślne wartości parametrów\n",
    "\n",
    "W sytuacji nie podania wartości dla wszystkich parametrów zdefiniowanych w nagłówku funkcji spowoduje wystąpienie/pojawienie się błędu. Możemy tego uniknąć, podając domyślne wartości argumentów, np.:"
   ]
  },
  {
   "cell_type": "code",
   "execution_count": 100,
   "metadata": {
    "collapsed": false
   },
   "outputs": [
    {
     "name": "stdout",
     "output_type": "stream",
     "text": [
      "7\n"
     ]
    },
    {
     "ename": "TypeError",
     "evalue": "suma() missing 1 required positional argument: 'y'",
     "output_type": "error",
     "traceback": [
      "\u001b[0;31m---------------------------------------------------------------------------\u001b[0m",
      "\u001b[0;31mTypeError\u001b[0m                                 Traceback (most recent call last)",
      "\u001b[0;32m<ipython-input-100-b6913f0798ac>\u001b[0m in \u001b[0;36m<module>\u001b[0;34m()\u001b[0m\n\u001b[1;32m      3\u001b[0m \u001b[1;33m\u001b[0m\u001b[0m\n\u001b[1;32m      4\u001b[0m \u001b[0mprint\u001b[0m\u001b[1;33m(\u001b[0m\u001b[0msuma\u001b[0m\u001b[1;33m(\u001b[0m\u001b[1;36m3\u001b[0m\u001b[1;33m,\u001b[0m \u001b[1;36m4\u001b[0m\u001b[1;33m)\u001b[0m\u001b[1;33m)\u001b[0m\u001b[1;33m\u001b[0m\u001b[0m\n\u001b[0;32m----> 5\u001b[0;31m \u001b[0mprint\u001b[0m\u001b[1;33m(\u001b[0m\u001b[0msuma\u001b[0m\u001b[1;33m(\u001b[0m\u001b[1;36m3\u001b[0m\u001b[1;33m)\u001b[0m\u001b[1;33m)\u001b[0m\u001b[1;33m\u001b[0m\u001b[0m\n\u001b[0m",
      "\u001b[0;31mTypeError\u001b[0m: suma() missing 1 required positional argument: 'y'"
     ]
    }
   ],
   "source": [
    "def suma(x, y):\n",
    "    return x+y\n",
    "\n",
    "print(suma(3, 4))\n",
    "print(suma(3))"
   ]
  },
  {
   "cell_type": "code",
   "execution_count": 101,
   "metadata": {
    "collapsed": false
   },
   "outputs": [
    {
     "name": "stdout",
     "output_type": "stream",
     "text": [
      "7\n",
      "4\n"
     ]
    }
   ],
   "source": [
    "def suma(x, y=1):\n",
    "    return x+y\n",
    "\n",
    "print(suma(3, 4))\n",
    "print(suma(3))"
   ]
  },
  {
   "cell_type": "code",
   "execution_count": 102,
   "metadata": {
    "collapsed": false
   },
   "outputs": [
    {
     "name": "stdout",
     "output_type": "stream",
     "text": [
      "developers \n"
     ]
    }
   ],
   "source": [
    "def say(message, times=1):\n",
    "    print((message + ' ') * times)\n",
    "    \n",
    "say('developers')"
   ]
  },
  {
   "cell_type": "markdown",
   "metadata": {},
   "source": [
    "Parametry znajdujące się na początku listy i na właściwych sobie pozycjach, nie muszą mieć podanej nazwy:"
   ]
  },
  {
   "cell_type": "code",
   "execution_count": 103,
   "metadata": {
    "collapsed": false
   },
   "outputs": [
    {
     "name": "stdout",
     "output_type": "stream",
     "text": [
      "developers developers developers \n"
     ]
    }
   ],
   "source": [
    "say('developers', 3)"
   ]
  },
  {
   "cell_type": "code",
   "execution_count": 104,
   "metadata": {
    "collapsed": false
   },
   "outputs": [
    {
     "name": "stdout",
     "output_type": "stream",
     "text": [
      "developers developers developers \n"
     ]
    }
   ],
   "source": [
    "say('developers', times=3)"
   ]
  },
  {
   "cell_type": "markdown",
   "metadata": {},
   "source": [
    "Parametry znajdujące się po parametrach wymienionych z nazwy, nawet na właściwych sobie pozycjach, muszą mieć podaną nazwę:"
   ]
  },
  {
   "cell_type": "code",
   "execution_count": 106,
   "metadata": {
    "collapsed": false
   },
   "outputs": [
    {
     "ename": "SyntaxError",
     "evalue": "positional argument follows keyword argument (<ipython-input-106-829c8b000357>, line 1)",
     "output_type": "error",
     "traceback": [
      "\u001b[0;36m  File \u001b[0;32m\"<ipython-input-106-829c8b000357>\"\u001b[0;36m, line \u001b[0;32m1\u001b[0m\n\u001b[0;31m    say(times=3, 'developers')\u001b[0m\n\u001b[0m                ^\u001b[0m\n\u001b[0;31mSyntaxError\u001b[0m\u001b[0;31m:\u001b[0m positional argument follows keyword argument\n"
     ]
    }
   ],
   "source": [
    "say(times=3, 'developers')"
   ]
  },
  {
   "cell_type": "code",
   "execution_count": 107,
   "metadata": {
    "collapsed": false
   },
   "outputs": [
    {
     "name": "stdout",
     "output_type": "stream",
     "text": [
      "developers developers developers \n"
     ]
    }
   ],
   "source": [
    "say(times=3, message='developers')"
   ]
  },
  {
   "cell_type": "markdown",
   "metadata": {},
   "source": [
    "# 4.2 Wiele rezultatów\n",
    "Jeżeli chcemy aby funkcja zwracała więcej niż jedną zmienną to stosujemy krotkę ,,(zmienna_1, ..., zmienna_n)'':"
   ]
  },
  {
   "cell_type": "code",
   "execution_count": 108,
   "metadata": {
    "collapsed": false
   },
   "outputs": [
    {
     "name": "stdout",
     "output_type": "stream",
     "text": [
      "(6, -2)\n",
      "(6, -2)\n"
     ]
    }
   ],
   "source": [
    "def f1(a,b):\n",
    "    return a+b,a-b\n",
    "\n",
    "def f2(a,b):\n",
    "    return (a+b,a-b)\n",
    "\n",
    "print(f1(2, 4))\n",
    "print(f2(2, 4))"
   ]
  },
  {
   "cell_type": "markdown",
   "metadata": {},
   "source": [
    "# Zad.\n",
    "\n",
    "Napisz funkcje, która zwraca:\n",
    "\n",
    "* sumę,\n",
    "* różnicę,\n",
    "* iloczyn elementów listy.\n",
    "\n",
    "Do testowania użyj poniższego kodu:\n",
    "\n",
    "```python\n",
    "# przykład testowania funkcji ,,suma''\n",
    "assert suma([5,-2,3]) == 6\n",
    "```"
   ]
  },
  {
   "cell_type": "code",
   "execution_count": 13,
   "metadata": {
    "collapsed": false
   },
   "outputs": [
    {
     "name": "stdout",
     "output_type": "stream",
     "text": [
      "15\n",
      "-15\n",
      "120\n"
     ]
    }
   ],
   "source": [
    "def sum_1(a):\n",
    "    sum_temp=0\n",
    "    for i in a:\n",
    "        sum_temp +=i\n",
    "    return(sum_temp)\n",
    "\n",
    "def div_1(a):\n",
    "    sum_temp=0\n",
    "    for i in a:\n",
    "        sum_temp -=i\n",
    "    return(sum_temp)\n",
    "\n",
    "def prod_1(a):\n",
    "    sum_temp=1\n",
    "    for i in a:\n",
    "        sum_temp *=i\n",
    "    return(sum_temp)\n",
    "\n",
    "a=[1,2,3,4,5]    \n",
    "print(sum_1(a))\n",
    "print(div_1(a))\n",
    "print(prod_1(a))"
   ]
  },
  {
   "cell_type": "markdown",
   "metadata": {},
   "source": [
    "# Zad\n",
    "\n",
    "Napisz funkcję wyliczającą wartość wielomianu w punkcie. Argumentami funkcji powinny być:\n",
    "\n",
    "* tablica współczynników wielomianu\n",
    "* stopień wielomianu\n",
    "* argument x, dla którego wyliczamy wartość wielomianu"
   ]
  },
  {
   "cell_type": "code",
   "execution_count": null,
   "metadata": {
    "collapsed": true
   },
   "outputs": [],
   "source": []
  },
  {
   "cell_type": "markdown",
   "metadata": {},
   "source": [
    "# 4.3 Zmienne lokalne, a globalne\n",
    "\n",
    "Zmienne lokalne (utworzone wewnątrz funkcji) nie są dostępne poza nią:"
   ]
  },
  {
   "cell_type": "code",
   "execution_count": 111,
   "metadata": {
    "collapsed": false
   },
   "outputs": [
    {
     "name": "stdout",
     "output_type": "stream",
     "text": [
      "9\n"
     ]
    },
    {
     "ename": "NameError",
     "evalue": "name 'a' is not defined",
     "output_type": "error",
     "traceback": [
      "\u001b[0;31m---------------------------------------------------------------------------\u001b[0m",
      "\u001b[0;31mNameError\u001b[0m                                 Traceback (most recent call last)",
      "\u001b[0;32m<ipython-input-111-e8508247322e>\u001b[0m in \u001b[0;36m<module>\u001b[0;34m()\u001b[0m\n\u001b[1;32m      5\u001b[0m \u001b[1;33m\u001b[0m\u001b[0m\n\u001b[1;32m      6\u001b[0m \u001b[0mprint\u001b[0m\u001b[1;33m(\u001b[0m\u001b[0mfun\u001b[0m\u001b[1;33m(\u001b[0m\u001b[1;36m3\u001b[0m\u001b[1;33m)\u001b[0m\u001b[1;33m)\u001b[0m\u001b[1;33m\u001b[0m\u001b[0m\n\u001b[0;32m----> 7\u001b[0;31m \u001b[0mprint\u001b[0m\u001b[1;33m(\u001b[0m\u001b[0ma\u001b[0m\u001b[1;33m)\u001b[0m\u001b[1;33m\u001b[0m\u001b[0m\n\u001b[0m",
      "\u001b[0;31mNameError\u001b[0m: name 'a' is not defined"
     ]
    }
   ],
   "source": [
    "del a\n",
    "def fun(x):\n",
    "    a = 2\n",
    "    return x**2\n",
    "\n",
    "print(fun(3))\n",
    "print(a)"
   ]
  },
  {
   "cell_type": "markdown",
   "metadata": {},
   "source": [
    "lecz można je zdefiniować jako zmienne globalne za pomocą operatora **global**:"
   ]
  },
  {
   "cell_type": "code",
   "execution_count": 112,
   "metadata": {
    "collapsed": false
   },
   "outputs": [
    {
     "name": "stdout",
     "output_type": "stream",
     "text": [
      "9\n",
      "2\n"
     ]
    }
   ],
   "source": [
    "def fun(x):\n",
    "    global a\n",
    "    a = 2\n",
    "    return x**2\n",
    "\n",
    "print(fun(3))\n",
    "print(a)"
   ]
  },
  {
   "cell_type": "markdown",
   "metadata": {},
   "source": [
    "# 4.4 Funkcje z nieznaną liczbą parametrów\n",
    "\n",
    "Jeżeli w momencie definiowania funkcji nie jesteśmy w stanie określić liczby argumentów, które będą do niej przekazywane, poprzedzamy nazwę parametru formalnego oznaczającego wszystkie pozostałe argumenty funkcji gwiazdką:"
   ]
  },
  {
   "cell_type": "code",
   "execution_count": 115,
   "metadata": {
    "collapsed": false
   },
   "outputs": [
    {
     "name": "stdout",
     "output_type": "stream",
     "text": [
      "pierwsza zmienna: yasoob\n",
      "pozostałe zmienne : python\n",
      "pozostałe zmienne : eggs\n",
      "pozostałe zmienne : test\n"
     ]
    }
   ],
   "source": [
    "def test_var_args(x, *argv):\n",
    "    print(\"pierwsza zmienna:\", x)\n",
    "    for arg in argv:\n",
    "        print(\"pozostałe zmienne :\", arg)\n",
    "\n",
    "test_var_args('yasoob','python','eggs','test')"
   ]
  },
  {
   "cell_type": "markdown",
   "metadata": {},
   "source": [
    "Żeby przekazać do funkcji wartości argumentów wraz z ich nazwami należy użyć dwóch gwiazdek:"
   ]
  },
  {
   "cell_type": "code",
   "execution_count": 119,
   "metadata": {
    "collapsed": false
   },
   "outputs": [
    {
     "name": "stdout",
     "output_type": "stream",
     "text": [
      "imie = Jan\n",
      "nazwisko = Kowalski\n"
     ]
    }
   ],
   "source": [
    "def fun(**x):\n",
    "    if x is not None:\n",
    "        for key, value in x.items():\n",
    "            print(\"%s = %s\" %(key,value))\n",
    "\n",
    "fun(imie=\"Jan\", nazwisko=\"Kowalski\")"
   ]
  },
  {
   "cell_type": "code",
   "execution_count": 121,
   "metadata": {
    "collapsed": false
   },
   "outputs": [
    {
     "name": "stdout",
     "output_type": "stream",
     "text": [
      "(4, 22)\n"
     ]
    }
   ],
   "source": [
    "def suma(*x, **y):\n",
    "    s1=s2=0\n",
    "    for i in x:\n",
    "        s1+=i\n",
    "    for i in y:\n",
    "        s2+=y[i]\n",
    "    return s1,s2 \n",
    "\n",
    "print(suma(1, 2, 3, -5, 3, x=4, y=5, z=6, v=7))"
   ]
  },
  {
   "cell_type": "markdown",
   "metadata": {},
   "source": [
    "# 4.5 Funkcje rekurencyjne\n",
    "\n",
    "Funkcje rekurencyjne to funkcje, które odwołują się do samych siebie. Dobrym przykładem funkcji rekurencyjnej jest silnia:"
   ]
  },
  {
   "cell_type": "code",
   "execution_count": 122,
   "metadata": {
    "collapsed": false
   },
   "outputs": [
    {
     "name": "stdout",
     "output_type": "stream",
     "text": [
      "1\n",
      "1\n",
      "6\n",
      "120\n"
     ]
    }
   ],
   "source": [
    "def silnia(n):\n",
    "    if n>1:\n",
    "        return n*silnia(n-1)\n",
    "    else:\n",
    "        return 1\n",
    "    \n",
    "print(silnia(0))\n",
    "print(silnia(1))\n",
    "print(silnia(3))\n",
    "print(silnia(5))"
   ]
  },
  {
   "cell_type": "markdown",
   "metadata": {},
   "source": [
    "Nie zawsze jednak funkcja w postaci rekurencyjnej jest jednak użyteczna. Przykładem nieefektywności rekursji jest funkcja wyliczająca n-ty element ciągu Fibonacciego:"
   ]
  },
  {
   "cell_type": "code",
   "execution_count": 125,
   "metadata": {
    "collapsed": false
   },
   "outputs": [
    {
     "name": "stdout",
     "output_type": "stream",
     "text": [
      "1\n",
      "2\n",
      "6765\n",
      "9227465\n"
     ]
    }
   ],
   "source": [
    "def fib(n):\n",
    "    if n<2:\n",
    "        return n\n",
    "    else:\n",
    "        return fib(n-1)+fib(n-2)\n",
    "    \n",
    "print(fib(1))\n",
    "print(fib(3))\n",
    "print(fib(20))\n",
    "print(fib(35))\n",
    "# print(fib(50))"
   ]
  },
  {
   "cell_type": "markdown",
   "metadata": {},
   "source": [
    "Dlaczego funkcja liczy tak powoli? Każde wywołanie funkcji powoduje jej ponowne dwukrotne wywołanie dla n>=2. A zatem, dla n=50, liczba wywołań funkcji wyniesie około 249 razy. Nawet jeśli pojedyncze wywołanie funkcji zabiera tylko jedną dziesięciomilionową sekundy, to wykonanie 249 wywołań zajmie komputerowi prawie dwa lata.\n",
    "Tę samą funkcję da się przedstawić w szybkiej wersji iteracyjnej:"
   ]
  },
  {
   "cell_type": "code",
   "execution_count": 127,
   "metadata": {
    "collapsed": false
   },
   "outputs": [
    {
     "name": "stdout",
     "output_type": "stream",
     "text": [
      "1\n",
      "2\n",
      "6765\n",
      "12586269025\n"
     ]
    }
   ],
   "source": [
    "def fib(n):\n",
    "    if n<2:\n",
    "        return n\n",
    "    a, b = 0, 1             # 0 podstawiamy pod a, 1 pod b\n",
    "    for x in range(1, n):\n",
    "        a, b = b, a+b       # b podstawiamy pod a, sumę pod b\n",
    "    return b\n",
    "\n",
    "print(fib(1))\n",
    "print(fib(3))\n",
    "print(fib(20))\n",
    "print(fib(50))"
   ]
  },
  {
   "cell_type": "markdown",
   "metadata": {},
   "source": [
    "# Zad.\n",
    "Napisz funkcję **reverse(napis)**, która z napisu będącego jej argumentem tworzy odwrócony napis. Przykładowo, wywołanie reverse(\"hello\") powinno zwrócić napis \"olleh\". "
   ]
  },
  {
   "cell_type": "code",
   "execution_count": 2,
   "metadata": {
    "collapsed": false
   },
   "outputs": [
    {
     "data": {
      "text/plain": [
       "'atok am alA '"
      ]
     },
     "execution_count": 2,
     "metadata": {},
     "output_type": "execute_result"
    }
   ],
   "source": [
    " def reverse(text):\n",
    "        text_inverse = \"\"\n",
    "        text_len=len(text)\n",
    "        for i in range(text_len):\n",
    "            text_inverse+=text[text_len-1-i]\n",
    "        return(text_inverse)\n",
    "reverse(text=\" Ala ma kota\")  "
   ]
  },
  {
   "cell_type": "markdown",
   "metadata": {},
   "source": [
    "# Zad.\n",
    "\n",
    "Napisz funkcję **mirror(napis)**, która z napisu będącego jej argumentem tworzy napis będący konkatenacją (czyli złączeniem) tego argumentu i jego odwrócenia. Przykładowo, wywołanie mirror(\"linka\") powinno zwrócić napis \"linkaaknil\". "
   ]
  },
  {
   "cell_type": "code",
   "execution_count": 3,
   "metadata": {
    "collapsed": false
   },
   "outputs": [
    {
     "name": "stdout",
     "output_type": "stream",
     "text": [
      "linkaaknil\n"
     ]
    }
   ],
   "source": [
    "def mirror(text):\n",
    "    return text+reverse(text)\n",
    "print(mirror(\"linka\"))   "
   ]
  },
  {
   "cell_type": "markdown",
   "metadata": {},
   "source": [
    "# Zad.\n",
    "\n",
    "Napisać program zamieniający napis na napis „rozstrzelony”, czyli wstawiający spacje przed napisem, pomiędzy literami i po napisie. Przykład: **'Python' → ' P y t h o n '**. "
   ]
  },
  {
   "cell_type": "code",
   "execution_count": 4,
   "metadata": {
    "collapsed": false
   },
   "outputs": [
    {
     "name": "stdout",
     "output_type": "stream",
     "text": [
      "P y t h o n \n"
     ]
    }
   ],
   "source": [
    "def add_space(text):\n",
    "    text_new = \"\"\n",
    "    for i in text:\n",
    "        text_new += (i+\" \")\n",
    "    return(text_new)\n",
    "print(add_space(\"Python\")) "
   ]
  },
  {
   "cell_type": "markdown",
   "metadata": {},
   "source": [
    "# Zad. \n",
    "Wypisz w pętli liczby od 0 do 30 z wyjątkiem liczb podzielnych przez 3. "
   ]
  },
  {
   "cell_type": "code",
   "execution_count": 6,
   "metadata": {
    "collapsed": false
   },
   "outputs": [
    {
     "name": "stdout",
     "output_type": "stream",
     "text": [
      "1 2 4 5 7 8 10 11 13 14 16 17 19 20 22 23 25 26 28 29 "
     ]
    }
   ],
   "source": [
    "for i in range(30):\n",
    "    if( i % 3 != 0):\n",
    "        print(i, end=\" \")"
   ]
  },
  {
   "cell_type": "markdown",
   "metadata": {},
   "source": [
    "# Zad.\n",
    "\n",
    "Napisz program, który obliczy wszystkie pierwiastki rzeczywiste równania kwadratowego o postaci **$ax^2+bx+c=0$**, gdzie **$a$**, **$b$** i **$c$** podaje użytkownik. "
   ]
  },
  {
   "cell_type": "code",
   "execution_count": 7,
   "metadata": {
    "collapsed": false
   },
   "outputs": [
    {
     "name": "stdout",
     "output_type": "stream",
     "text": [
      "Rowanie kwardatowe ver 3.0\n",
      "ax^2+bx+c\n",
      "Podaj wspolczynnik rowniania a: 2\n",
      "Podaj wspolczynnik rowniania b: 2\n",
      "Podaj wspolczynnik rowniania c: 2\n",
      "Delta y= 2.0 x^ + ( 2.0 ) x + 2.0 wynosi: -12.0\n",
      "Wyciągniecie pierwiastka z delty niemożliwe\n",
      "Delta mniejsza od zera - brak rozwiązań\n"
     ]
    }
   ],
   "source": [
    "import math\n",
    "print(\"Rowanie kwardatowe ver 3.0\\nax^2+bx+c\")\n",
    "a = float(input(\"Podaj wspolczynnik rowniania a: \"))\n",
    "b = float(input(\"Podaj wspolczynnik rowniania b: \"))\n",
    "c = float(input(\"Podaj wspolczynnik rowniania c: \"))\n",
    "\n",
    "delta = b**2 - 4*a*c\n",
    "print(\"Delta y=\", a,\"x^ +\",\"(\", b,\")\", \"x +\", c, \"wynosi:\", delta)\n",
    "from math import sqrt\n",
    " \n",
    "if delta < 0:\n",
    "    print(\"Wyciągniecie pierwiastka z delty niemożliwe\")\n",
    "else:\n",
    "    pdelta = sqrt(delta)\n",
    "    print(\"Pierwiastek z delty wynosi:\", pdelta)\n",
    "    \n",
    "if delta < 0:\n",
    "    print(\"Delta mniejsza od zera - brak rozwiązań\")\n",
    "elif delta == 0:\n",
    "    x = - b / 2 * a\n",
    "    print(\"x równa się: \", x)\n",
    "else:\n",
    "    x1 = (- b - sqrt (delta)) / 2 * a\n",
    "    x2 = (- b + sqrt (delta)) / 2 * a\n",
    "    print(\"x1 równa się:\", x1, \"x2 równa się:\", x2)\n",
    "    "
   ]
  },
  {
   "cell_type": "markdown",
   "metadata": {},
   "source": [
    "# Zad.\n",
    "Napisz funkcję, która dla podanych trzech parametrów: n (numer elementu ciągu), a1 (wartość pierwszego elementu ciągu - domyślnie 1), q (wartość iloczynu ciągu geometrycznego - domyślnie 2) zwróci n-ty element ciągu geometrycznego. "
   ]
  },
  {
   "cell_type": "code",
   "execution_count": 8,
   "metadata": {
    "collapsed": false
   },
   "outputs": [
    {
     "data": {
      "text/plain": [
       "59048.0"
      ]
     },
     "execution_count": 8,
     "metadata": {},
     "output_type": "execute_result"
    }
   ],
   "source": [
    "def sum_geo(n = 10, a_1 = 2, q = 6/2):\n",
    "    return(a_1*(1-q**n)/(1-q))\n",
    "sum_geo( n = 10, a_1 = 2, q = 6/2)"
   ]
  },
  {
   "cell_type": "markdown",
   "metadata": {},
   "source": [
    "\n",
    "# Zad.\n",
    "Zdefiniuj funkcje, które dla dowolnej liczby parametrów zwróci ich:\n",
    "\n",
    "* średnią arytmetyczną,\n",
    "* średnią ważona o równych wagach,\n",
    "* średnia harmoniczną\n",
    "\n",
    "lub 0 dla 0 parametrów. "
   ]
  },
  {
   "cell_type": "code",
   "execution_count": 10,
   "metadata": {
    "collapsed": false
   },
   "outputs": [
    {
     "name": "stdout",
     "output_type": "stream",
     "text": [
      "2.5\n",
      "2.5\n",
      "2.9787234042553195\n"
     ]
    }
   ],
   "source": [
    "def arth_mean(*argv):\n",
    "    sum_temp=0\n",
    "    for arg in argv:\n",
    "        sum_temp+=arg\n",
    "    return(sum_temp/len(argv))    \n",
    "\n",
    "print(arth_mean(1,2,3,4))\n",
    "\n",
    "def veight_mean(*argv):\n",
    "    sum_temp=0\n",
    "    for arg in argv:\n",
    "        sum_temp+=1./len(argv)*arg\n",
    "    return(sum_temp)    \n",
    "\n",
    "print(veight_mean(1,2,3,4))\n",
    "\n",
    "def har_mean(*argv):\n",
    "    sum_temp=0\n",
    "    for arg in argv:\n",
    "        sum_temp+=1./arg\n",
    "    return(len(argv)/sum_temp)    \n",
    "\n",
    "print(har_mean(2,2,5,7))"
   ]
  },
  {
   "cell_type": "markdown",
   "metadata": {},
   "source": [
    "# Zad \n",
    "\n",
    "Napisz program, który wczyta od użytkownika tekst, a następnie podwoi w nim co drugi znak (nie uwzględniamy białych znaków) i wyświetli wynik, np.:\n",
    "\n",
    "* wejście: Ala ma kota\n",
    "* wyjście: Alla mma kkotta"
   ]
  },
  {
   "cell_type": "code",
   "execution_count": 11,
   "metadata": {
    "collapsed": false
   },
   "outputs": [
    {
     "name": "stdout",
     "output_type": "stream",
     "text": [
      "Alla  maa kkotta\n"
     ]
    }
   ],
   "source": [
    "text=\"Ala ma kota\"\n",
    "new_text = \"\"\n",
    "for i, x in enumerate(\"Ala ma kota\"):\n",
    "    new_text += x\n",
    "    if i % 2 != 0:\n",
    "        new_text += x\n",
    "print(new_text)"
   ]
  },
  {
   "cell_type": "markdown",
   "metadata": {},
   "source": [
    "# Zad.\n",
    "\n",
    "Napisz program, który wczyta od użytkownika tekst, a następnie podwoi w nim co drugi znak (**nie uwzględniamy białych znaków**) i wyświetli wynik, np.:\n",
    "\n",
    "* wejście: Ala ma kota\n",
    "* wyjście: Alla mma kkotta"
   ]
  },
  {
   "cell_type": "code",
   "execution_count": 12,
   "metadata": {
    "collapsed": false
   },
   "outputs": [
    {
     "name": "stdout",
     "output_type": "stream",
     "text": [
      "Alla mma kkotta\n"
     ]
    }
   ],
   "source": [
    "text=\"Ala ma kota\"\n",
    "new_text = \"\"\n",
    "it=0\n",
    "for x in \"Ala ma kota\":\n",
    "    new_text += x\n",
    "    if(x!=\" \"):\n",
    "        if it % 2 != 0:\n",
    "            new_text += x\n",
    "        it+=1    \n",
    "print(new_text)"
   ]
  },
  {
   "cell_type": "markdown",
   "metadata": {},
   "source": [
    "# Zad.\n",
    "\n",
    "Napisz rekurencyjnie funkcje **silnia** - liczącą silnie.\n"
   ]
  },
  {
   "cell_type": "code",
   "execution_count": null,
   "metadata": {
    "collapsed": true
   },
   "outputs": [],
   "source": []
  }
 ],
 "metadata": {
  "kernelspec": {
   "display_name": "Python 3",
   "language": "python",
   "name": "python3"
  },
  "language_info": {
   "codemirror_mode": {
    "name": "ipython",
    "version": 3
   },
   "file_extension": ".py",
   "mimetype": "text/x-python",
   "name": "python",
   "nbconvert_exporter": "python",
   "pygments_lexer": "ipython3",
   "version": "3.6.0"
  }
 },
 "nbformat": 4,
 "nbformat_minor": 2
}
