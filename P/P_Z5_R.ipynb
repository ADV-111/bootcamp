{
 "cells": [
  {
   "cell_type": "markdown",
   "metadata": {},
   "source": [
    "# 1. Elementy programowania funkcjonalnego w Pythonie\n",
    "\n",
    "Dodatkową cechą Pythona jest dostępność składni funkcyjnej. Udostępnia on kilka rozwiązań przejętych z języków programowania funkcyjnego takich jak np.: *Scheme*, *Standard ML*, opartych na paradygmacie funkcjonalnym, w których za program uważa się wyrażenie matematyczne, operujące na pewnych parametrach i zwracające pewien rezultat. Te rozwiązania to:\n",
    "\n",
    "* wytworniki list,\n",
    "* forma lambda,\n",
    "* funkcja apply(),\n",
    "* funkcja map(),\n",
    "* funkcja zip(),\n",
    "* funkcja filter(),\n",
    "* funkcja reduce().\n",
    "\n",
    "## Wyrażenia lambda\n",
    "\n",
    "Forma lambda służy do tworzenia małych, anonimowych funkcji. Jej składnia jest następująca:<br /><br />\n",
    "\n",
    "<tt>lambda parametry: wyrażenie</tt>\n",
    "\n",
    "Przykłady:"
   ]
  },
  {
   "cell_type": "code",
   "execution_count": 2,
   "metadata": {
    "collapsed": false
   },
   "outputs": [
    {
     "name": "stdout",
     "output_type": "stream",
     "text": [
      "x\n",
      "5\n",
      "3\n"
     ]
    }
   ],
   "source": [
    "x = lambda : 'x'\n",
    "print(x())\n",
    "\n",
    "y = lambda x: x + 1\n",
    "print(y(4))\n",
    "\n",
    "suma = lambda x,y : x+y\n",
    "print(suma(1,2))"
   ]
  },
  {
   "cell_type": "markdown",
   "metadata": {},
   "source": [
    "Zaletą formy lambda jest to, że możemy ją wstawić wszędzie tam, gdzie da się wstawić inne wyrażenie, np. do listy:"
   ]
  },
  {
   "cell_type": "code",
   "execution_count": 4,
   "metadata": {
    "collapsed": false
   },
   "outputs": [
    {
     "name": "stdout",
     "output_type": "stream",
     "text": [
      "6\n",
      "-2\n"
     ]
    }
   ],
   "source": [
    "z=[lambda x,y: x+y, lambda x,y: x-y]\n",
    "print(z[0](2, 4))\n",
    "print(z[1](2, 4))"
   ]
  },
  {
   "cell_type": "markdown",
   "metadata": {},
   "source": [
    "jako element dłuższego wyrażenia:"
   ]
  },
  {
   "cell_type": "code",
   "execution_count": 6,
   "metadata": {
    "collapsed": false
   },
   "outputs": [
    {
     "name": "stdout",
     "output_type": "stream",
     "text": [
      "2.00\n"
     ]
    }
   ],
   "source": [
    "print(\"%.2f\" % (lambda x,y: x**y)(4,0.5))"
   ]
  },
  {
   "cell_type": "markdown",
   "metadata": {},
   "source": [
    "albo jako parametr będący funkcją:"
   ]
  },
  {
   "cell_type": "code",
   "execution_count": 10,
   "metadata": {
    "collapsed": false
   },
   "outputs": [
    {
     "name": "stdout",
     "output_type": "stream",
     "text": [
      "['1', '5', '3', '11'] \n",
      "\n",
      "['1', '11', '3', '5'] \n",
      "\n",
      "['1', '3', '5', '11']\n"
     ]
    }
   ],
   "source": [
    "x = \"1 5 3 11\".split()\n",
    "print(x, \"\\n\")\n",
    "\n",
    "x.sort() # sortowanie wg alfabetu\n",
    "print(x, \"\\n\")\n",
    "\n",
    "# równoważnie\n",
    "x = \"1 5 3 11\".split()\n",
    "x.sort(key=int)\n",
    "print(x)"
   ]
  },
  {
   "cell_type": "markdown",
   "metadata": {},
   "source": [
    "Wadą formy lambda jest brak możliwości wykorzystania w niej instrukcji nie będących wyrażeniami, np. print, if, for, while, itp. Jakkolwiek forma lambda bywa wygodna, nie należy jej nadużywać, bo prowadzi to do nieprzejrzystego kodu źródłowego."
   ]
  },
  {
   "cell_type": "markdown",
   "metadata": {},
   "source": [
    "# Zad. \n",
    "Napisz program, który będzie sortował dane względem:\n",
    "\n",
    "* nazwiska,\n",
    "* wieku,\n",
    "* wzrostu.\n",
    "\n",
    "Dane przechowujemy jako listę krotek, np.:\n",
    "[('John', '20', '90'), ('Jony', '17', '91'), ('Jony', '17', '93'), ('Json', '21', '85'), ('Tom', '19', '80')]. \n",
    "\n",
    "Możesz **użyć tylko raz sort** i funkcji lambda. "
   ]
  },
  {
   "cell_type": "code",
   "execution_count": 1,
   "metadata": {
    "collapsed": false
   },
   "outputs": [
    {
     "name": "stdout",
     "output_type": "stream",
     "text": [
      "[('John', '20', '90'), ('Jony', '17', '91'), ('Jony', '17', '93'), ('Json', '21', '85'), ('Tom', '19', '80')]\n",
      "[('Jony', '17', '91'), ('Jony', '17', '93'), ('Tom', '19', '80'), ('John', '20', '90'), ('Json', '21', '85')]\n",
      "[('Tom', '19', '80'), ('Json', '21', '85'), ('John', '20', '90'), ('Jony', '17', '91'), ('Jony', '17', '93')]\n"
     ]
    }
   ],
   "source": [
    "data = [('John', '20', '90'), ('Jony', '17', '91'), ('Jony', '17', '93'), ('Json', '21', '85'), ('Tom', '19', '80')]\n",
    "print(sorted(data, key=lambda x: (x[0]) ) )\n",
    "print(sorted(data, key=lambda x: (x[1]) ) )\n",
    "print(sorted(data, key=lambda x: (x[2]) ) )"
   ]
  },
  {
   "cell_type": "markdown",
   "metadata": {},
   "source": [
    "## Funkcja apply()\n",
    "Funkcja apply() przyjmuje dwa argumenty: pierwszy - funkcję, a drugi - krotkę. Działanie tej funkcji polega na wywołaniu funkcji z parametrami uzyskanymi z rozpakowania sekwencji (krotki):"
   ]
  },
  {
   "cell_type": "code",
   "execution_count": 11,
   "metadata": {
    "collapsed": false
   },
   "outputs": [
    {
     "ename": "NameError",
     "evalue": "name 'apply' is not defined",
     "output_type": "error",
     "traceback": [
      "\u001b[0;31m---------------------------------------------------------------------------\u001b[0m",
      "\u001b[0;31mNameError\u001b[0m                                 Traceback (most recent call last)",
      "\u001b[0;32m<ipython-input-11-25ceb0cceba6>\u001b[0m in \u001b[0;36m<module>\u001b[0;34m()\u001b[0m\n\u001b[1;32m      2\u001b[0m \u001b[0mpole_prostokata\u001b[0m \u001b[1;33m=\u001b[0m \u001b[1;32mlambda\u001b[0m \u001b[0ma\u001b[0m\u001b[1;33m,\u001b[0m\u001b[0mb\u001b[0m\u001b[1;33m:\u001b[0m \u001b[0ma\u001b[0m\u001b[1;33m*\u001b[0m\u001b[0mb\u001b[0m\u001b[1;33m\u001b[0m\u001b[0m\n\u001b[1;32m      3\u001b[0m \u001b[1;33m\u001b[0m\u001b[0m\n\u001b[0;32m----> 4\u001b[0;31m \u001b[0mprint\u001b[0m\u001b[1;33m(\u001b[0m\u001b[0mapply\u001b[0m\u001b[1;33m(\u001b[0m\u001b[0mpole_prostokata\u001b[0m\u001b[1;33m,\u001b[0m \u001b[0mboki\u001b[0m\u001b[1;33m)\u001b[0m\u001b[1;33m)\u001b[0m\u001b[1;33m\u001b[0m\u001b[0m\n\u001b[0m",
      "\u001b[0;31mNameError\u001b[0m: name 'apply' is not defined"
     ]
    }
   ],
   "source": [
    "boki = (3,5)\n",
    "pole_prostokata = lambda a,b: a*b\n",
    "\n",
    "print(apply(pole_prostokata, boki))"
   ]
  },
  {
   "cell_type": "markdown",
   "metadata": {},
   "source": [
    "## Python 3: Instead of apply(f, args) use f(*args)."
   ]
  },
  {
   "cell_type": "code",
   "execution_count": 13,
   "metadata": {
    "collapsed": false
   },
   "outputs": [
    {
     "name": "stdout",
     "output_type": "stream",
     "text": [
      "15\n"
     ]
    }
   ],
   "source": [
    "boki = (3,5)\n",
    "pole_prostokata = lambda a,b: a*b\n",
    "\n",
    "print(pole_prostokata(*boki))"
   ]
  },
  {
   "cell_type": "markdown",
   "metadata": {},
   "source": [
    "Bez operatora \\* dostaniemy błąd, gdyż jej parametrami są 2 liczby całkowite, a nie pojedyncza krotka:"
   ]
  },
  {
   "cell_type": "code",
   "execution_count": 16,
   "metadata": {
    "collapsed": false
   },
   "outputs": [
    {
     "ename": "TypeError",
     "evalue": "<lambda>() missing 1 required positional argument: 'b'",
     "output_type": "error",
     "traceback": [
      "\u001b[0;31m---------------------------------------------------------------------------\u001b[0m",
      "\u001b[0;31mTypeError\u001b[0m                                 Traceback (most recent call last)",
      "\u001b[0;32m<ipython-input-16-66dd4b7da920>\u001b[0m in \u001b[0;36m<module>\u001b[0;34m()\u001b[0m\n\u001b[1;32m      2\u001b[0m \u001b[0mpole_prostokata\u001b[0m \u001b[1;33m=\u001b[0m \u001b[1;32mlambda\u001b[0m \u001b[0ma\u001b[0m\u001b[1;33m,\u001b[0m\u001b[0mb\u001b[0m\u001b[1;33m:\u001b[0m \u001b[0ma\u001b[0m\u001b[1;33m*\u001b[0m\u001b[0mb\u001b[0m\u001b[1;33m\u001b[0m\u001b[0m\n\u001b[1;32m      3\u001b[0m \u001b[1;33m\u001b[0m\u001b[0m\n\u001b[0;32m----> 4\u001b[0;31m \u001b[0mprint\u001b[0m\u001b[1;33m(\u001b[0m\u001b[0mpole_prostokata\u001b[0m\u001b[1;33m(\u001b[0m\u001b[0mboki\u001b[0m\u001b[1;33m)\u001b[0m\u001b[1;33m)\u001b[0m\u001b[1;33m\u001b[0m\u001b[0m\n\u001b[0m",
      "\u001b[0;31mTypeError\u001b[0m: <lambda>() missing 1 required positional argument: 'b'"
     ]
    }
   ],
   "source": [
    "boki = (3,5)\n",
    "pole_prostokata = lambda a,b: a*b\n",
    "\n",
    "print(pole_prostokata(boki))"
   ]
  },
  {
   "cell_type": "code",
   "execution_count": 19,
   "metadata": {
    "collapsed": false
   },
   "outputs": [
    {
     "name": "stdout",
     "output_type": "stream",
     "text": [
      "15\n"
     ]
    }
   ],
   "source": [
    "pole_prostokata = lambda a,b: a*b\n",
    "print(pole_prostokata(3, 5))"
   ]
  },
  {
   "cell_type": "markdown",
   "metadata": {},
   "source": [
    "## Funkcja map()\n",
    "Funkcja map() podobnie jak apply ma dwa parametry: funkcję i sekwencję. Pozwala wywołać określoną funkcję dla każdego elementu sekwencji z osobna. Zwraca listę rezultatów funkcji, o takiej samej długości jak listy parametrów, np.:"
   ]
  },
  {
   "cell_type": "code",
   "execution_count": 32,
   "metadata": {
    "collapsed": false
   },
   "outputs": [
    {
     "name": "stdout",
     "output_type": "stream",
     "text": [
      "<map object at 0x000000DBCAD22B38>\n",
      "1\n",
      "4\n",
      "9\n",
      "16\n",
      "25\n",
      "36\n",
      "49\n",
      "64\n",
      "81\n",
      "100\n",
      "\n",
      "0\n",
      "1\n",
      "9\n",
      "\n"
     ]
    }
   ],
   "source": [
    "print(map(int, [0.7, 1.3, 3.7]))\n",
    "# print map(int, (0.7, 1.3, 3.7))\n",
    "\n",
    "\n",
    "for el in map(lambda x: x*x, range(1,11)):\n",
    "    print(el)\n",
    "print()\n",
    "    \n",
    "kwadrat=lambda x: x*x\n",
    "for el in map(kwadrat, map(int, [0.7, 1.3, 3.7])):\n",
    "    print(el)\n",
    "print()\n",
    "\n"
   ]
  },
  {
   "cell_type": "code",
   "execution_count": 35,
   "metadata": {
    "collapsed": false
   },
   "outputs": [
    {
     "name": "stdout",
     "output_type": "stream",
     "text": [
      "0.48999999999999994\n",
      "1.6900000000000002\n",
      "13.690000000000001\n",
      "\n",
      "0\n",
      "1\n",
      "13\n",
      "\n"
     ]
    }
   ],
   "source": [
    "for el in map(kwadrat, [0.7, 1.3, 3.7]):\n",
    "        print(el)\n",
    "print()\n",
    "\n",
    "for el in map(int, map(kwadrat, [0.7, 1.3, 3.7])):\n",
    "    print(el)\n",
    "print()"
   ]
  },
  {
   "cell_type": "code",
   "execution_count": 36,
   "metadata": {
    "collapsed": false
   },
   "outputs": [
    {
     "name": "stdout",
     "output_type": "stream",
     "text": [
      "2\n",
      "1\n",
      "0\n",
      "1\n",
      "2\n",
      "\n",
      "[2, 1, 0, 1, 2]\n"
     ]
    }
   ],
   "source": [
    "L = [-2, -1, 0, 1, 2]\n",
    "for el in map(abs, L): \n",
    "    print(el)\n",
    "print()\n",
    "\n",
    "print([abs(x) for x in L])"
   ]
  },
  {
   "cell_type": "markdown",
   "metadata": {},
   "source": [
    "Jeżeli przekażemy do funkcji map kilka sekwencji, z pierwszej pobierany będzie pierwszy parametr funkcji, z drugiej - drugi, itd.:"
   ]
  },
  {
   "cell_type": "code",
   "execution_count": 38,
   "metadata": {
    "collapsed": false
   },
   "outputs": [
    {
     "name": "stdout",
     "output_type": "stream",
     "text": [
      "1.5\n",
      "7.5\n",
      "100.0\n",
      "\n"
     ]
    }
   ],
   "source": [
    "avg = lambda x,y: (x+y)*0.5\n",
    "for el in map(avg, [1, 5, 100], [2, 10, 100]):\n",
    "    print(el)\n",
    "print()    "
   ]
  },
  {
   "cell_type": "markdown",
   "metadata": {},
   "source": [
    "## Funkcja zip()\n",
    "Funkcja zip() służy do konsolidacji danych, tj. operacji łączenia kilku list w jedną, w której wartość pojedynczego elementu listy wynikowej zależy od wartości pojedynczych elementów list źródłowych. Funkcja zip przyjmuje jako swoje parametry jedną lub więcej sekwencji, po czym zwraca listę krotek, których poszczególne elementy pochodzą z poszczególnych sekwencji, np.:"
   ]
  },
  {
   "cell_type": "code",
   "execution_count": 42,
   "metadata": {
    "collapsed": false
   },
   "outputs": [
    {
     "name": "stdout",
     "output_type": "stream",
     "text": [
      "<zip object at 0x000000DBCAD0AA88>\n",
      "('a', 1)\n",
      "('b', 2)\n",
      "('c', 3)\n",
      "('d', 4)\n",
      "('e', 5)\n",
      "('f', 6)\n",
      "\n"
     ]
    }
   ],
   "source": [
    "print(zip(\"abcdef\", [1, 2, 3, 4, 5, 6]))\n",
    "for el in zip(\"abcdef\", [1, 2, 3, 4, 5, 6]):\n",
    "    print(el)\n",
    "print()    "
   ]
  },
  {
   "cell_type": "code",
   "execution_count": 43,
   "metadata": {
    "collapsed": false
   },
   "outputs": [
    {
     "name": "stdout",
     "output_type": "stream",
     "text": [
      "<zip object at 0x000000DBCAD18688>\n",
      "(1, 9)\n",
      "(2, 8)\n",
      "(3, 7)\n",
      "(4, 6)\n",
      "(5, 5)\n",
      "(6, 4)\n",
      "(7, 3)\n",
      "(8, 2)\n",
      "(9, 1)\n",
      "\n"
     ]
    }
   ],
   "source": [
    "print(zip(range(1, 10), range(9, 0, -1)))\n",
    "for el in zip(range(1, 10), range(9, 0, -1)):\n",
    "    print(el)\n",
    "print() "
   ]
  },
  {
   "cell_type": "code",
   "execution_count": 44,
   "metadata": {
    "collapsed": false
   },
   "outputs": [
    {
     "name": "stdout",
     "output_type": "stream",
     "text": [
      "<zip object at 0x000000DBCAD30AC8>\n",
      "(1, 2)\n",
      "(3, 4)\n",
      "(5, 6)\n",
      "\n"
     ]
    }
   ],
   "source": [
    "liczby_n = [1, 3, 5]\n",
    "liczby_p = [2, 4, 6]\n",
    "print(zip(liczby_n, liczby_p))\n",
    "for el in zip(liczby_n, liczby_p):\n",
    "    print(el)\n",
    "print() "
   ]
  },
  {
   "cell_type": "markdown",
   "metadata": {},
   "source": [
    "W przypadku, gdy długości sekwencji są różne, wynikowa sekwencja jest skracana do najkrótszej spośród nich:"
   ]
  },
  {
   "cell_type": "code",
   "execution_count": 46,
   "metadata": {
    "collapsed": false
   },
   "outputs": [
    {
     "name": "stdout",
     "output_type": "stream",
     "text": [
      "('a', 1)\n",
      "('b', 2)\n",
      "('c', 3)\n",
      "('d', 4)\n",
      "('e', 5)\n",
      "('f', 6)\n",
      "\n",
      "('z', 0, (0,))\n",
      "('i', 1, (1,))\n",
      "('p', 2, (2,))\n",
      "\n"
     ]
    }
   ],
   "source": [
    "z1 = zip(\"abcdef\", [1, 2, 3, 4, 5, 6, 7, 8])\n",
    "for el in z1:\n",
    "    print(el)\n",
    "print() \n",
    "z2 = zip(\"zip\", range(0, 9), zip(range(0, 9)))\n",
    "for el in z2:\n",
    "    print(el)\n",
    "print() "
   ]
  },
  {
   "cell_type": "markdown",
   "metadata": {},
   "source": [
    "## Funkcja filter()\n",
    "Funkcja filter() służy do filtrowania danych. Przyjmuje jako parametry funkcję oraz sekwencję, po czym zwraca sekwencję zawierającą te elementy sekwencji wejściowej, dla których funkcja zwróciła wartość logiczną True, np.:"
   ]
  },
  {
   "cell_type": "code",
   "execution_count": 49,
   "metadata": {
    "collapsed": false
   },
   "outputs": [
    {
     "name": "stdout",
     "output_type": "stream",
     "text": [
      "True\n",
      "False \n",
      "\n"
     ]
    }
   ],
   "source": [
    "samogloska = lambda x: x.lower() in 'aeiou'\n",
    "print(samogloska('A'))\n",
    "print(samogloska('z'), \"\\n\")"
   ]
  },
  {
   "cell_type": "code",
   "execution_count": 54,
   "metadata": {
    "collapsed": false
   },
   "outputs": [
    {
     "name": "stdout",
     "output_type": "stream",
     "text": [
      "A\n",
      "a\n",
      "a\n",
      "o\n",
      "a\n",
      "o\n",
      "a\n",
      "A\n",
      "e\n"
     ]
    }
   ],
   "source": [
    "f1=filter(samogloska, \"Ala ma kota, kot ma Ale\")\n",
    "for el in f1:\n",
    "    print(el)"
   ]
  },
  {
   "cell_type": "code",
   "execution_count": 55,
   "metadata": {
    "collapsed": false
   },
   "outputs": [
    {
     "name": "stdout",
     "output_type": "stream",
     "text": [
      "l\n",
      " \n",
      "m\n",
      " \n",
      "k\n",
      "t\n",
      ",\n",
      " \n",
      "k\n",
      "t\n",
      " \n",
      "m\n",
      " \n",
      "l\n"
     ]
    }
   ],
   "source": [
    "f2 = filter(lambda x: not samogloska(x), \"Ala ma kota, kot ma Ale\")\n",
    "for el in f2:\n",
    "    print(el)"
   ]
  },
  {
   "cell_type": "code",
   "execution_count": 58,
   "metadata": {
    "collapsed": false
   },
   "outputs": [
    {
     "name": "stdout",
     "output_type": "stream",
     "text": [
      "0\n",
      "2\n",
      "4\n",
      "6\n",
      "8\n",
      "10\n"
     ]
    }
   ],
   "source": [
    "# liczby parzyste\n",
    "f3 = filter(lambda x: x % 2 - 1, range(0, 11))\n",
    "for el in f3:\n",
    "    print(el)"
   ]
  },
  {
   "cell_type": "markdown",
   "metadata": {},
   "source": [
    "# Funkcja reduce()\n",
    "\n",
    "Funkcja reduce() służy do agregowania danych, tj. operacji obliczenia pojedynczego wyrażenia, zależnego od wszystkich elementów listy źródłowej. Funkcja reduce przyjmuje jako parametry funkcję oraz sekwencję, zwraca pojedynczą wartość. Na początek wykonuje funkcję dla dwóch pierwszych elementów sekwencji, następnie wykonuje funkcję dla otrzymanego w pierwszym kroku rezultatu i trzeciego elementu sekwencji, następnie wykonuje funkcję dla otrzymanego w drugim kroku rezultatu i czwartego elementu sekwencji, itd., aż dojdzie do końca sekwencji, np.:"
   ]
  },
  {
   "cell_type": "code",
   "execution_count": 146,
   "metadata": {
    "collapsed": false
   },
   "outputs": [
    {
     "name": "stdout",
     "output_type": "stream",
     "text": [
      "12\n",
      "285\n"
     ]
    }
   ],
   "source": [
    "from functools import reduce\n",
    "\n",
    "print(reduce(lambda x,y: x+y, [1, 2, 3, 6]))\n",
    "\n",
    "# suma kwadratów elementów \n",
    "print(reduce(lambda x,y: x+y, map(lambda x: x*x, range(1,10))))"
   ]
  },
  {
   "cell_type": "markdown",
   "metadata": {},
   "source": [
    "## Generatory i iteratory\n",
    "Generatorów i iteratorów używamy, aby oszczędzić pamięć (a także czas potrzebny na jej alokację). Zysk wydajności powstaje przez ominięcie potrzeby tworzenia tymczasowych struktur pośrednich w pamięci. Zamiast tego możemy przeiterować kolejno po elementach i finalnie zapisać tylko te które są potrzebne.\n",
    "\n",
    "Obiekty, z których pętle odczytują kolejne dane to iteratory (ang. iterators). Reprezentują one strumień danych, z którego zwracają tylko jedną kolejną wartość na raz za pomocą metody next() (python 3 __next()__). Jeżeli w strumieniu nie ma więcej danych, wywoływany jest wyjątek StopIteration."
   ]
  },
  {
   "cell_type": "code",
   "execution_count": 63,
   "metadata": {
    "collapsed": false
   },
   "outputs": [
    {
     "name": "stdout",
     "output_type": "stream",
     "text": [
      "<list_iterator object at 0x000000DBCAD4DBE0>\n",
      "1\n",
      "2\n",
      "3\n"
     ]
    },
    {
     "ename": "StopIteration",
     "evalue": "",
     "output_type": "error",
     "traceback": [
      "\u001b[0;31m---------------------------------------------------------------------------\u001b[0m",
      "\u001b[0;31mStopIteration\u001b[0m                             Traceback (most recent call last)",
      "\u001b[0;32m<ipython-input-63-656e016c5383>\u001b[0m in \u001b[0;36m<module>\u001b[0;34m()\u001b[0m\n\u001b[1;32m      7\u001b[0m \u001b[0mprint\u001b[0m\u001b[1;33m(\u001b[0m\u001b[0mnext\u001b[0m\u001b[1;33m(\u001b[0m\u001b[0mx\u001b[0m\u001b[1;33m)\u001b[0m\u001b[1;33m)\u001b[0m\u001b[1;33m\u001b[0m\u001b[0m\n\u001b[1;32m      8\u001b[0m \u001b[1;33m\u001b[0m\u001b[0m\n\u001b[0;32m----> 9\u001b[0;31m \u001b[0mprint\u001b[0m\u001b[1;33m(\u001b[0m\u001b[0mnext\u001b[0m\u001b[1;33m(\u001b[0m\u001b[0mx\u001b[0m\u001b[1;33m)\u001b[0m\u001b[1;33m)\u001b[0m\u001b[1;33m\u001b[0m\u001b[0m\n\u001b[0m",
      "\u001b[0;31mStopIteration\u001b[0m: "
     ]
    }
   ],
   "source": [
    "x = iter([1, 2, 3])\n",
    "\n",
    "print(x)\n",
    "\n",
    "print(next(x))\n",
    "print(next(x))\n",
    "print(next(x))\n",
    "\n",
    "print(next(x))"
   ]
  },
  {
   "cell_type": "markdown",
   "metadata": {},
   "source": [
    "Wbudowana funkcja **iter()** zwraca iterator utworzony z dowolnego iterowalnego obiektu. Iteratory wykorzystujemy do przeglądania list, krotek, słowników czy plików używając instrukcji for x in y, w której y jest obiektem iterowalnym równoważnym wyrażeniu iter(y), np.:"
   ]
  },
  {
   "cell_type": "code",
   "execution_count": 64,
   "metadata": {
    "collapsed": false
   },
   "outputs": [
    {
     "name": "stdout",
     "output_type": "stream",
     "text": [
      "2\n",
      "5\n",
      "6\n",
      "\n",
      "-1\n",
      "4\n",
      "7\n",
      "\n",
      "1\n",
      "3\n",
      "5\n"
     ]
    }
   ],
   "source": [
    "lista = [2, 5, 6]\n",
    "for x in lista:\n",
    "    print(x)\n",
    "\n",
    "print()\n",
    "    \n",
    "slownik = {'-1':1, '4':3 , '7':5}\n",
    "for x in slownik:\n",
    "    print(x)\n",
    "\n",
    "print() \n",
    "    \n",
    "for x in slownik:\n",
    "    print(slownik[x])"
   ]
  },
  {
   "cell_type": "markdown",
   "metadata": {},
   "source": [
    "**Generatory** (ang. generators) to funkcje ułatwiające tworzenie iteratorów. Od zwykłych funkcji różnią się tym, że:\n",
    "\n",
    "* zwracają iterator za pomocą słowa kluczowego yield:\n",
    "* Wyrażenie yield tymczasowo zatrzymuje przetwarzanie, zapamiętuje stan funkcji. Po wznowieniu generatora (ponownym wywołaniu) przetwarzanie jest kontynuowane od miejsca zatrzymania.\n",
    "* zapamiętują swój stan z momentu ostatniego wywołania, są więc wznawialne (ang. resumable),\n",
    "* zwracają następną wartość ze strumienia danych podczas kolejnych wywołań metodą next().\n",
    "\n",
    "Z generatorów korzystamy zwykle wtedy, gdy nie potrzebujemy pamiętać pełnej listy, a lista jest tylko pewnym krokiem pośrednim w obliczeniach. Generatory to \"leniwe funkcje\": obliczają wartości tylko wtedy, gdy są żądane. Generatory są iteratorami, bo obsługują metodę next(). Przykład:"
   ]
  },
  {
   "cell_type": "code",
   "execution_count": 66,
   "metadata": {
    "collapsed": false
   },
   "outputs": [
    {
     "name": "stdout",
     "output_type": "stream",
     "text": [
      "<generator object gen_parzyste at 0x000000DBCAD1CE08>\n",
      "0\n",
      "2\n",
      "4 \n",
      "\n",
      "0\n",
      "2\n",
      "4\n",
      "6\n",
      "8\n",
      "10\n",
      "12\n",
      "14\n",
      "16\n",
      "18\n"
     ]
    }
   ],
   "source": [
    "def gen_parzyste(n):\n",
    "    for i in range(n):\n",
    "        if i % 2 == 0:\n",
    "            yield i\n",
    "\n",
    "gen = gen_parzyste(10)\n",
    "print(gen)\n",
    "print(next(gen))\n",
    "print(next(gen))\n",
    "print(next(gen), \"\\n\")\n",
    "\n",
    "for i in gen_parzyste(20):\n",
    "    print(i)"
   ]
  },
  {
   "cell_type": "markdown",
   "metadata": {},
   "source": [
    "Generator można także wyrazić za pomocą **wyrażenia generatorowego** (ang. generator expressions), które jest analogiczne do wytworników list, np.:"
   ]
  },
  {
   "cell_type": "code",
   "execution_count": 67,
   "metadata": {
    "collapsed": false
   },
   "outputs": [
    {
     "name": "stdout",
     "output_type": "stream",
     "text": [
      "0\n",
      "1\n",
      "4\n",
      "9\n",
      "16\n",
      "25\n",
      "36\n",
      "49\n",
      "64\n",
      "81\n",
      "\n",
      "0\n",
      "1\n",
      "4\n",
      "9\n",
      "16\n",
      "25\n",
      "36\n",
      "49\n",
      "64\n",
      "81\n"
     ]
    }
   ],
   "source": [
    "gen_kwadratow1 = (i**2 for i in range(10))\n",
    "\n",
    "for i in gen_kwadratow1:\n",
    "    print(i)\n",
    "    \n",
    "print()\n",
    "# równoważnie\n",
    "def gen_kwadratow2():\n",
    "    for i in range(10):\n",
    "         yield i**2\n",
    "            \n",
    "for i in gen_kwadratow2():\n",
    "    print(i)"
   ]
  },
  {
   "cell_type": "markdown",
   "metadata": {},
   "source": [
    "# Zad.\n",
    "\n",
    "Używając wytwornika list zbuduj listę zawierającą wszystkie liczby podzielne przez 4 z zakresu od 1 do n (wartość n wprowadzamy z klawiatury). Następnie wykonaj poszczególne kroki:\n",
    "\n",
    "* używając funkcji filter usuń z niej wszystkie liczby parzyste,\n",
    "* używając wyrażenia lambda i funkcji map podnieś wszystkie elementy listy (otrzymanej z poprzedniego podpunktu) do sześcianu,\n",
    "* używając funkcji reduce i len oblicz średnią arytmetyczną z elementów otrzymanej listy z poprzedniego podpunktu"
   ]
  },
  {
   "cell_type": "code",
   "execution_count": 2,
   "metadata": {
    "collapsed": false
   },
   "outputs": [
    {
     "name": "stdout",
     "output_type": "stream",
     "text": [
      "[0, 4, 8, 12, 16, 20, 24, 28, 32, 36, 40, 44, 48, 52, 56, 60, 64, 68, 72, 76, 80, 84, 88, 92, 96]\n"
     ]
    }
   ],
   "source": [
    "n=100\n",
    "x = range(100)\n",
    "x_4 = [i for i in x if i % 4 == 0]\n",
    "print(x_4)"
   ]
  },
  {
   "cell_type": "code",
   "execution_count": 4,
   "metadata": {
    "collapsed": false
   },
   "outputs": [
    {
     "name": "stdout",
     "output_type": "stream",
     "text": [
      "4 12 20 28 36 44 52 60 68 76 84 92 "
     ]
    }
   ],
   "source": [
    "cond = lambda x: x % 8 != 0\n",
    "f1=filter(cond, x_4)\n",
    "for el in f1:\n",
    "    print(el, end=\" \")"
   ]
  },
  {
   "cell_type": "code",
   "execution_count": 5,
   "metadata": {
    "collapsed": false
   },
   "outputs": [
    {
     "name": "stdout",
     "output_type": "stream",
     "text": [
      "48.0\n"
     ]
    }
   ],
   "source": [
    "from functools import reduce\n",
    "print(reduce(lambda x,y: x+y, x_4)/len(x_4))"
   ]
  },
  {
   "cell_type": "markdown",
   "metadata": {},
   "source": [
    "# Zad. \n",
    "\n",
    "Stwórz trzy listy zawierające po 5 elementów: nazwiska - z nazwiskami pracowników, godziny - z liczbą przepracowanych godzin, stawka - ze stawką w złotych za godzinę pracy, np.:\n",
    "\n",
    "<tt>\n",
    "nazwiska = [\"Kowalski\", \"Przybył\", \"Nowak\", \"Konior\", \"Kaczka\"], <br />\n",
    "godziny = [105, 220, 112, 48, 79], <br />\n",
    "stawka = [10.0, 17.0, 9.0, 18.0, 13.0]. <br />\n",
    "</tt>\n",
    "\n",
    "Wykorzystując funkcje: zip, map, reduce i filter (oraz, ewentualnie, wytworniki list) wyświetl nazwiska i wypłaty (iloczyn stawki godzinowej i liczby przepracowanych godzin) tych pracowników, którzy zarobili więcej, niż wyniosła średnia wypłata. "
   ]
  },
  {
   "cell_type": "code",
   "execution_count": 6,
   "metadata": {
    "collapsed": false
   },
   "outputs": [
    {
     "name": "stdout",
     "output_type": "stream",
     "text": [
      "Kowalski 1050.0\n",
      "Przybył 3740.0\n",
      "Nowak 1008.0\n",
      "Konior 864.0\n",
      "Kaczka 1027.0\n"
     ]
    }
   ],
   "source": [
    "nazwiska = [\"Kowalski\", \"Przybył\", \"Nowak\", \"Konior\", \"Kaczka\"]\n",
    "godziny = [105, 220, 112, 48, 79]\n",
    "stawka = [10.0, 17.0, 9.0, 18.0, 13.0]\n",
    "\n",
    "mul = lambda x,y: (x*y)\n",
    "zip_1=zip(nazwiska,list(map(mul, godziny,stawka)))\n",
    "\n",
    "for x, y in zip_1:\n",
    "    print(x, y)"
   ]
  },
  {
   "cell_type": "markdown",
   "metadata": {},
   "source": [
    "# Zad.\n",
    "\n",
    "Napisz własny generator, który będzie zamieniał imiona, pisane małą literą, na imiona pisane z dużej litery, np.:\n",
    "\n",
    "<tt>\n",
    "['anna', 'ala', 'ela', 'wiola', 'ola'] -> ['Anna', 'Ala', 'Ela', 'Wiola', 'Ola'].\n",
    "</tt>\n",
    "\n",
    "Wypisz wyniki wykorzystując pętlę **for** i funkcję **next**. "
   ]
  },
  {
   "cell_type": "code",
   "execution_count": 7,
   "metadata": {
    "collapsed": false
   },
   "outputs": [
    {
     "name": "stdout",
     "output_type": "stream",
     "text": [
      "<generator object gen at 0x000000615DF3FEB8>\n",
      "Anna\n",
      "Ala\n",
      "Ela\n",
      "Wiola\n",
      "Ola\n"
     ]
    }
   ],
   "source": [
    "list_1=['anna', 'ala', 'ela', 'wiola', 'ola']\n",
    "def gen(l):\n",
    "    for i in l:\n",
    "            yield i.title()\n",
    "\n",
    "gen = gen(list_1)\n",
    "\n",
    "print(gen)\n",
    "print(next(gen))\n",
    "print(next(gen))\n",
    "print(next(gen))\n",
    "print(next(gen))\n",
    "print(next(gen))"
   ]
  },
  {
   "cell_type": "markdown",
   "metadata": {},
   "source": [
    "# Zad.\n",
    "\n",
    "Zmodyfikuj swój generator tak aby wybierał tylko imiona n-literowe, np.: \n",
    "<br /><br />\n",
    "<tt>\n",
    "imiona 3-literowe ['anna', 'ala', 'ela', 'wiola', 'ola'] -> ['Ala', 'Ela', 'Ola'] \n",
    "</tt>"
   ]
  },
  {
   "cell_type": "code",
   "execution_count": 8,
   "metadata": {
    "collapsed": false
   },
   "outputs": [
    {
     "name": "stdout",
     "output_type": "stream",
     "text": [
      "<generator object gen at 0x000000615D107938>\n",
      "Ala\n",
      "Ela\n",
      "Ola\n"
     ]
    }
   ],
   "source": [
    "list_1=['anna', 'ala', 'ela', 'wiola', 'ola']\n",
    "def gen(l):\n",
    "    for i in l:\n",
    "        if len(i) == 3:\n",
    "            yield i.title()\n",
    "\n",
    "gen = gen(list_1)\n",
    "\n",
    "print(gen)\n",
    "print(next(gen))\n",
    "print(next(gen))\n",
    "print(next(gen))"
   ]
  },
  {
   "cell_type": "markdown",
   "metadata": {},
   "source": [
    "# 2. Moduły i pakiety\n",
    "Moduł to plik w Pythonie zawierający definicję klas, funkcji, stałych i zmiennych. Definicje zawarte w module mogą być zaimportowane do innych modułów lub do modułu głównego. Wewnątrz modułu jego nazwa dostępna jest jako wartość zmiennej globalnej **<tt>__name__</tt>**.\n",
    "\n",
    "Moduł, oprócz definicji funkcji i klas, może zawierać instrukcje, które służą do inicjalizacji modułu w trakcie ładowania. Inicjalizacja ta wykonywana jest tylko raz. Instrukcje te wykonywane są również, gdy moduł wykonywany jest jako skrypt."
   ]
  },
  {
   "cell_type": "markdown",
   "metadata": {},
   "source": [
    "Instrukcje związane z modułami to **import** oraz **from**. Zwyczajowo instrukcje import umieszcza się na początku modułu. Zalecane jest umieszczanie każdego importu w osobnej linii. Kod modułu jest wykonywany tylko raz podczas pierwszego importu. Python wykonuje instrukcje modułu jedna po drugiej, od góry pliku do dołu. Zwykle instrukcje wewnątrz modułu służą do jego inicjalizacji. Importowany moduł może z kolei importować inne moduły."
   ]
  },
  {
   "cell_type": "code",
   "execution_count": 69,
   "metadata": {
    "collapsed": false
   },
   "outputs": [
    {
     "ename": "SyntaxError",
     "evalue": "Missing parentheses in call to 'print' (<ipython-input-69-f06fed5af18a>, line 5)",
     "output_type": "error",
     "traceback": [
      "\u001b[0;36m  File \u001b[0;32m\"<ipython-input-69-f06fed5af18a>\"\u001b[0;36m, line \u001b[0;32m5\u001b[0m\n\u001b[0;31m    print module1.zmienna         # użycie zmiennej z modułu\u001b[0m\n\u001b[0m                ^\u001b[0m\n\u001b[0;31mSyntaxError\u001b[0m\u001b[0;31m:\u001b[0m Missing parentheses in call to 'print'\n"
     ]
    }
   ],
   "source": [
    "# Zastosowanie instrukcji import\n",
    "import module1                # zaleca się pojedyncze zapisy\n",
    "import module2, module3       # import kilku modułów\n",
    "\n",
    "print module1.zmienna         # użycie zmiennej z modułu\n",
    "print module1.funkcja()       # użycie funkcji z modułu\n",
    "\n",
    "\n",
    "# Zastosowanie instrukcji from\n",
    "from module1 import zmienna, funkcja   # ładowanie wybranych nazw\n",
    "\n",
    "print zmienna, funkcja()\n",
    "\n",
    "\n",
    "# Import modułu pod inną nazwą\n",
    "import module1 as module2    \n",
    "\n",
    "# Zmiana nazw atrybutów\n",
    "from module1 import funkcja as funkcja1"
   ]
  },
  {
   "cell_type": "markdown",
   "metadata": {},
   "source": [
    "Do ponownego ładowania modułu służy funkcja **reload(nazwa_modułu)**.\n",
    "\n",
    "Instrukcja **from** niszczy podział przestrzeni nazw, ponieważ nazwy są importowane bezpośrednio do lokalnej tablicy symboli. Sama nazwa modułu, z którego importowane są nazwy, nie jest ustawiana. Beztroskie korzystanie z instrukcji from grozi nadpisaniem istniejących zmiennych z lokalnego zakresu. Inne problemy mogą pojawić się przy zastosowaniu reload(). Generalnie zalecane jest stosowanie instrukcji import.\n",
    "\n",
    "Dostęp do przestrzeni nazw modułu odbywa się za pomocą atrybutu **__dict__** lub **dir(nazwa_modułu)**. Inaczej mówiąc, funkcja wbudowana dir() służy do znajdywania wszystkich nazw, które są zdefiniowane w module. Zwraca ona posortowaną listę napisów:"
   ]
  },
  {
   "cell_type": "code",
   "execution_count": 71,
   "metadata": {
    "collapsed": false
   },
   "outputs": [
    {
     "name": "stdout",
     "output_type": "stream",
     "text": [
      "['__displayhook__', '__doc__', '__excepthook__', '__interactivehook__', '__loader__', '__name__', '__package__', '__spec__', '__stderr__', '__stdin__', '__stdout__', '_clear_type_cache', '_current_frames', '_debugmallocstats', '_enablelegacywindowsfsencoding', '_getframe', '_home', '_mercurial', '_xoptions', 'api_version', 'argv', 'base_exec_prefix', 'base_prefix', 'builtin_module_names', 'byteorder', 'call_tracing', 'callstats', 'copyright', 'displayhook', 'dllhandle', 'dont_write_bytecode', 'exc_info', 'excepthook', 'exec_prefix', 'executable', 'exit', 'flags', 'float_info', 'float_repr_style', 'get_asyncgen_hooks', 'get_coroutine_wrapper', 'getallocatedblocks', 'getcheckinterval', 'getdefaultencoding', 'getfilesystemencodeerrors', 'getfilesystemencoding', 'getprofile', 'getrecursionlimit', 'getrefcount', 'getsizeof', 'getswitchinterval', 'gettrace', 'getwindowsversion', 'hash_info', 'hexversion', 'implementation', 'int_info', 'intern', 'is_finalizing', 'last_traceback', 'last_type', 'last_value', 'maxsize', 'maxunicode', 'meta_path', 'modules', 'path', 'path_hooks', 'path_importer_cache', 'platform', 'prefix', 'ps1', 'ps2', 'ps3', 'set_asyncgen_hooks', 'set_coroutine_wrapper', 'setcheckinterval', 'setprofile', 'setrecursionlimit', 'setswitchinterval', 'settrace', 'stderr', 'stdin', 'stdout', 'thread_info', 'version', 'version_info', 'warnoptions', 'winver']\n"
     ]
    }
   ],
   "source": [
    "import sys\n",
    "print(dir(sys))"
   ]
  },
  {
   "cell_type": "markdown",
   "metadata": {},
   "source": [
    "Funkcja **dir()** wywołana bez argumentów zwróci listę zdefiniowanych przez nas nazw:"
   ]
  },
  {
   "cell_type": "code",
   "execution_count": 73,
   "metadata": {
    "collapsed": false
   },
   "outputs": [
    {
     "name": "stdout",
     "output_type": "stream",
     "text": [
      "Once deleted, variables cannot be recovered. Proceed (y/[n])? y\n",
      "['In', 'Out', '__builtin__', '__builtins__', '__name__', '_dh', '_ih', '_oh', '_sh', 'exit', 'get_ipython', 'quit', 'suma', 'x']\n"
     ]
    }
   ],
   "source": [
    "%reset\n",
    "x = [1, 2, 3, 4]\n",
    "\n",
    "def suma(x, y):\n",
    "    return x+y\n",
    "\n",
    "print(dir())"
   ]
  },
  {
   "cell_type": "markdown",
   "metadata": {},
   "source": [
    "## Jak działa importowanie\n",
    "Przy pierwszym imporcie danego pliku przez program wykonywane są trzy osobne kroki:\n",
    "\n",
    "* odnalezienie pliku modułu (wykorzystanie standardowej ścieżki wyszukiwania modułów),\n",
    "* skompilowanie go do kodu bajtowego, jeśli jest to konieczne (powstają pliki .pyc),\n",
    "* wykonanie kodu modułu w celu utworzenia zdefiniowanych przez niego obiektów.\n",
    "\n",
    "Python przechowuje moduły programu w słowniku sys.modules.\n"
   ]
  },
  {
   "cell_type": "code",
   "execution_count": 75,
   "metadata": {
    "collapsed": false
   },
   "outputs": [
    {
     "name": "stdout",
     "output_type": "stream",
     "text": [
      "['', 'F:\\\\samsung\\\\word-embeddings-benchmarks', 'F:\\\\samsung\\\\S_NLP', 'F:\\\\samsung\\\\word-embeddings-benchmarks\\\\web', 'D:\\\\Anaconda3\\\\python36.zip', 'D:\\\\Anaconda3\\\\DLLs', 'D:\\\\Anaconda3\\\\lib', 'D:\\\\Anaconda3', 'D:\\\\Anaconda3\\\\lib\\\\site-packages', 'D:\\\\Anaconda3\\\\lib\\\\site-packages\\\\Sphinx-1.5.1-py3.6.egg', 'D:\\\\Anaconda3\\\\lib\\\\site-packages\\\\win32', 'D:\\\\Anaconda3\\\\lib\\\\site-packages\\\\win32\\\\lib', 'D:\\\\Anaconda3\\\\lib\\\\site-packages\\\\Pythonwin', 'D:\\\\Anaconda3\\\\lib\\\\site-packages\\\\setuptools-27.2.0-py3.6.egg', 'D:\\\\Anaconda3\\\\lib\\\\site-packages\\\\IPython\\\\extensions', 'C:\\\\Users\\\\Przemek\\\\.ipython']\n",
      "dict_keys(['builtins', 'sys', '_frozen_importlib', '_imp', '_warnings', '_thread', '_weakref', '_frozen_importlib_external', '_io', 'marshal', 'nt', 'winreg', 'zipimport', 'encodings', 'codecs', '_codecs', 'encodings.aliases', 'encodings.utf_8', '_signal', '__main__', 'encodings.latin_1', 'io', 'abc', '_weakrefset', '_bootlocale', '_locale', 'encodings.cp1250', 'site', 'os', 'errno', 'stat', '_stat', 'ntpath', 'genericpath', 'os.path', '_collections_abc', '_sitebuiltins', 'sysconfig', 'types', 'functools', '_functools', 'collections', 'operator', '_operator', 'keyword', 'heapq', '_heapq', 'itertools', 'reprlib', '_collections', 'weakref', 'collections.abc', 'importlib', 'importlib._bootstrap', 'importlib._bootstrap_external', 'warnings', 'importlib.util', 'importlib.abc', 'importlib.machinery', 'contextlib', 'google', 'scikits', 'encodings.cp437', 'runpy', 'pkgutil', 'ipykernel', 'ipykernel._version', 'ipykernel.connect', '__future__', 'json', 'json.decoder', 're', 'enum', 'sre_compile', '_sre', 'sre_parse', 'sre_constants', 'copyreg', 'json.scanner', '_json', 'json.encoder', 'subprocess', 'time', 'signal', 'threading', 'traceback', 'linecache', 'tokenize', 'token', 'msvcrt', '_winapi', 'IPython', 'IPython.core', 'IPython.core.getipython', 'IPython.core.release', 'IPython.core.application', 'atexit', 'copy', 'glob', 'fnmatch', 'posixpath', 'logging', 'string', '_string', 'shutil', 'tarfile', 'struct', '_struct', 'bz2', '_compression', '_bz2', 'lzma', '_lzma', 'traitlets', 'traitlets.traitlets', 'inspect', 'ast', '_ast', 'dis', 'opcode', '_opcode', 'six', 'traitlets.utils', 'traitlets.utils.getargspec', 'traitlets.utils.importstring', 'ipython_genutils', 'ipython_genutils._version', 'ipython_genutils.py3compat', 'ipython_genutils.encoding', 'locale', 'traitlets.utils.sentinel', 'traitlets.utils.bunch', 'traitlets._version', 'traitlets.config', 'traitlets.config.application', 'decorator', 'traitlets.config.configurable', 'traitlets.config.loader', 'argparse', 'textwrap', 'gettext', 'ipython_genutils.path', 'random', 'math', 'hashlib', '_hashlib', '_blake2', '_sha3', 'bisect', '_bisect', '_random', 'ipython_genutils.text', 'ipython_genutils.importstring', 'IPython.core.crashhandler', 'pprint', 'IPython.core.ultratb', 'pydoc', 'platform', 'urllib', 'urllib.parse', 'IPython.core.debugger', 'bdb', 'IPython.utils', 'IPython.utils.PyColorize', 'IPython.utils.coloransi', 'IPython.utils.ipstruct', 'IPython.utils.py3compat', 'IPython.utils.encoding', 'IPython.utils.colorable', 'pygments', 'pygments.util', 'IPython.utils.ulinecache', 'IPython.utils.openpy', 'IPython.core.excolors', 'IPython.testing', 'IPython.testing.skipdoctest', 'pdb', 'cmd', 'code', 'codeop', 'IPython.core.display_trap', 'IPython.utils.path', 'tempfile', 'IPython.utils.process', 'IPython.utils._process_win32', 'ctypes', '_ctypes', 'ctypes._endian', 'ctypes.wintypes', 'IPython.utils._process_common', 'shlex', 'IPython.utils.decorators', 'IPython.utils.data', 'IPython.utils.terminal', 'IPython.utils.sysinfo', 'IPython.utils._sysinfo', 'IPython.core.profiledir', 'IPython.paths', 'IPython.utils.importstring', 'IPython.terminal', 'IPython.terminal.embed', 'IPython.core.compilerop', 'IPython.core.magic', 'getopt', 'IPython.core.oinspect', 'IPython.core.page', 'IPython.core.display', 'base64', 'binascii', 'mimetypes', 'IPython.core.error', 'IPython.lib', 'IPython.lib.security', 'getpass', 'IPython.lib.pretty', 'datetime', '_datetime', 'IPython.utils.dir2', 'IPython.utils.text', 'pathlib', 'IPython.utils.wildcard', 'IPython.utils.signatures', 'pygments.lexers', 'pygments.lexers._mapping', 'pygments.modeline', 'pygments.plugin', 'pkg_resources', 'zipfile', 'zlib', 'plistlib', 'xml', 'xml.parsers', 'xml.parsers.expat', 'pyexpat.errors', 'pyexpat.model', 'pyexpat', 'xml.parsers.expat.model', 'xml.parsers.expat.errors', 'email', 'email.parser', 'email.feedparser', 'email.errors', 'email._policybase', 'email.header', 'email.quoprimime', 'email.base64mime', 'email.charset', 'email.encoders', 'quopri', 'email.utils', 'socket', '_socket', 'selectors', 'select', 'email._parseaddr', 'calendar', 'pkg_resources.extern', 'pkg_resources._vendor', 'pkg_resources.extern.six', 'pkg_resources._vendor.six', 'pkg_resources.extern.six.moves', 'pkg_resources._vendor.six.moves', 'pkg_resources.py31compat', 'win32com', 'win32api', 'pythoncom', 'pywintypes', 'imp', '_win32sysloader', 'win32com.gen_py', 'win32com.shell', 'pkg_resources.extern.appdirs', 'pkg_resources._vendor.packaging.__about__', 'pkg_resources.extern.packaging', 'pkg_resources.extern.packaging.version', 'pkg_resources.extern.packaging._structures', 'pkg_resources.extern.packaging.specifiers', 'pkg_resources.extern.packaging._compat', 'pkg_resources.extern.packaging.requirements', 'pkg_resources.extern.pyparsing', 'pkg_resources.extern.six.moves.urllib', 'pkg_resources.extern.packaging.markers', 'pygments.lexers.python', 'pygments.lexer', 'pygments.filter', 'pygments.filters', 'pygments.token', 'pygments.regexopt', 'pygments.unistring', 'pygments.formatters', 'pygments.formatters._mapping', 'pygments.formatters.html', 'pygments.formatter', 'pygments.styles', 'IPython.core.inputsplitter', 'IPython.core.inputtransformer', 'IPython.core.splitinput', 'IPython.utils.tokenize2', 'IPython.utils._tokenize_py3', 'IPython.core.interactiveshell', 'pickleshare', 'pickle', '_compat_pickle', '_pickle', 'IPython.core.prefilter', 'IPython.core.autocall', 'IPython.core.macro', 'IPython.core.shadowns', 'IPython.core.alias', 'IPython.core.builtin_trap', 'IPython.core.events', 'IPython.core.displayhook', 'IPython.core.displaypub', 'IPython.core.extensions', 'IPython.core.formatters', 'IPython.utils.sentinel', 'IPython.core.history', 'sqlite3', 'sqlite3.dbapi2', '_sqlite3', 'IPython.core.logger', 'IPython.core.payload', 'IPython.core.usage', 'IPython.utils.io', 'IPython.utils.capture', 'IPython.utils.strdispatch', 'IPython.core.hooks', 'IPython.utils.syspathcontext', 'IPython.utils.tempdir', 'IPython.utils.contexts', 'IPython.terminal.interactiveshell', 'prompt_toolkit', 'prompt_toolkit.interface', 'prompt_toolkit.application', 'prompt_toolkit.buffer', 'prompt_toolkit.auto_suggest', 'prompt_toolkit.filters', 'prompt_toolkit.filters.base', 'prompt_toolkit.utils', 'wcwidth', 'wcwidth.wcwidth', 'wcwidth.table_wide', 'wcwidth.table_zero', 'six.moves', 'prompt_toolkit.filters.cli', 'prompt_toolkit.enums', 'prompt_toolkit.key_binding', 'prompt_toolkit.key_binding.vi_state', 'prompt_toolkit.cache', 'prompt_toolkit.filters.types', 'prompt_toolkit.filters.utils', 'prompt_toolkit.clipboard', 'prompt_toolkit.clipboard.base', 'prompt_toolkit.selection', 'prompt_toolkit.clipboard.in_memory', 'prompt_toolkit.completion', 'prompt_toolkit.document', 'prompt_toolkit.history', 'prompt_toolkit.search_state', 'prompt_toolkit.validation', 'prompt_toolkit.buffer_mapping', 'prompt_toolkit.key_binding.bindings', 'prompt_toolkit.key_binding.bindings.basic', 'prompt_toolkit.keys', 'prompt_toolkit.layout', 'prompt_toolkit.layout.containers', 'prompt_toolkit.layout.controls', 'prompt_toolkit.mouse_events', 'prompt_toolkit.token', 'prompt_toolkit.layout.lexers', 'prompt_toolkit.layout.utils', 'prompt_toolkit.layout.processors', 'prompt_toolkit.reactive', 'prompt_toolkit.layout.screen', 'prompt_toolkit.layout.dimension', 'prompt_toolkit.layout.margins', 'prompt_toolkit.renderer', 'prompt_toolkit.layout.mouse_handlers', 'prompt_toolkit.output', 'prompt_toolkit.styles', 'prompt_toolkit.styles.base', 'prompt_toolkit.styles.defaults', 'prompt_toolkit.styles.from_dict', 'prompt_toolkit.styles.utils', 'prompt_toolkit.styles.from_pygments', 'pygments.style', 'pygments.styles.default', 'prompt_toolkit.key_binding.bindings.utils', 'prompt_toolkit.key_binding.bindings.named_commands', 'prompt_toolkit.key_binding.bindings.completion', 'prompt_toolkit.key_binding.registry', 'prompt_toolkit.key_binding.bindings.emacs', 'prompt_toolkit.key_binding.bindings.scroll', 'prompt_toolkit.key_binding.bindings.vi', 'prompt_toolkit.key_binding.digraphs', 'prompt_toolkit.eventloop', 'prompt_toolkit.eventloop.base', 'prompt_toolkit.eventloop.callbacks', 'prompt_toolkit.input', 'prompt_toolkit.terminal', 'prompt_toolkit.terminal.win32_input', 'prompt_toolkit.key_binding.input_processor', 'prompt_toolkit.win32_types', 'prompt_toolkit.shortcuts', 'prompt_toolkit.key_binding.manager', 'prompt_toolkit.layout.menus', 'prompt_toolkit.layout.prompt', 'prompt_toolkit.layout.toolbars', 'prompt_toolkit.terminal.win32_output', 'prompt_toolkit.terminal.conemu_output', 'prompt_toolkit.terminal.vt100_output', 'array', 'IPython.terminal.debugger', 'IPython.core.completer', 'unicodedata', 'IPython.core.latex_symbols', 'IPython.utils.generics', 'simplegeneric', 'IPython.terminal.ptutils', 'IPython.terminal.magics', 'IPython.lib.clipboard', 'IPython.terminal.pt_inputhooks', 'IPython.terminal.prompts', 'IPython.terminal.shortcuts', 'IPython.terminal.ipapp', 'IPython.core.magics', 'IPython.core.magics.auto', 'IPython.core.magics.basic', 'IPython.core.magic_arguments', 'IPython.core.magics.code', 'IPython.core.magics.config', 'IPython.core.magics.display', 'IPython.core.magics.execution', 'gc', 'timeit', 'cProfile', '_lsprof', 'profile', 'optparse', 'pstats', 'IPython.utils.module_paths', 'IPython.utils.timing', 'IPython.core.magics.extension', 'IPython.core.magics.history', 'IPython.core.magics.logging', 'IPython.core.magics.namespace', 'IPython.core.magics.osm', 'IPython.core.magics.pylab', 'IPython.core.pylabtools', 'IPython.core.magics.script', 'IPython.lib.backgroundjobs', 'IPython.core.shellapp', 'IPython.extensions', 'IPython.extensions.storemagic', 'IPython.utils.frame', 'jupyter_client', 'jupyter_client._version', 'jupyter_client.connect', 'zmq', 'zmq.libzmq', 'zmq.backend', 'zmq.backend.select', 'zmq.backend.cython', 'zmq.backend.cython.constants', '_cython_0_25_1', 'zmq.backend.cython.error', 'zmq.utils', 'zmq.utils.strtypes', 'zmq.backend.cython.message', 'zmq.error', 'zmq.backend.cython.context', 'zmq.backend.cython.socket', 'zmq.backend.cython.utils', 'zmq.backend.cython._poll', 'zmq.backend.cython._version', 'zmq.backend.cython._device', 'zmq.sugar', 'zmq.sugar.constants', 'zmq.utils.constant_names', 'zmq.sugar.context', 'zmq.sugar.attrsettr', 'zmq.sugar.socket', 'zmq.sugar.poll', 'zmq.sugar.frame', 'zmq.sugar.tracker', 'zmq.sugar.version', 'zmq.sugar.stopwatch', 'jupyter_client.localinterfaces', 'jupyter_core', 'jupyter_core.version', 'jupyter_core.paths', 'jupyter_client.launcher', 'traitlets.log', 'jupyter_client.client', 'jupyter_client.channels', 'jupyter_client.channelsabc', 'jupyter_client.clientabc', 'jupyter_client.manager', 'queue', 'jupyter_client.kernelspec', 'jupyter_client.session', 'hmac', 'uuid', 'ctypes.util', 'zmq.utils.jsonapi', 'zmq.eventloop', 'zmq.eventloop.ioloop', 'tornado', 'tornado.ioloop', 'numbers', 'tornado.concurrent', 'tornado.log', 'logging.handlers', 'tornado.escape', 'tornado.util', 'typing', 'typing.io', 'typing.re', 'tornado.speedups', 'html', 'html.entities', 'tornado.stack_context', 'concurrent', 'concurrent.futures', 'concurrent.futures._base', 'concurrent.futures.process', 'multiprocessing', 'multiprocessing.context', 'multiprocessing.process', 'multiprocessing.reduction', '__mp_main__', 'multiprocessing.connection', '_multiprocessing', 'multiprocessing.util', 'concurrent.futures.thread', 'tornado.platform', 'tornado.platform.auto', 'tornado.platform.common', 'tornado.platform.interface', 'tornado.platform.windows', 'zmq.eventloop.zmqstream', 'jupyter_client.jsonutil', '_strptime', 'jupyter_client.adapter', 'jupyter_client.managerabc', 'jupyter_client.blocking', 'jupyter_client.blocking.client', 'jupyter_client.blocking.channels', 'jupyter_client.multikernelmanager', 'ipykernel.kernelapp', 'ipykernel.iostream', 'ipykernel.heartbeat', 'ipykernel.ipkernel', 'IPython.utils.tokenutil', 'ipykernel.comm', 'ipykernel.comm.manager', 'ipykernel.comm.comm', 'ipykernel.kernelbase', 'ipykernel.jsonutil', 'ipykernel.zmqshell', 'IPython.core.payloadpage', 'IPython.display', 'IPython.lib.display', 'ipykernel.displayhook', 'ipykernel.parentpoller', 'faulthandler', 'ipykernel.datapub', 'ipykernel.serialize', 'ipykernel.pickleutil', 'ipykernel.codeutil', 'IPython.lib.deepreload', 'IPython.core.completerlib', 'storemagic', 'ipywidgets', 'ipywidgets._version', 'ipywidgets.widgets', 'ipywidgets.widgets.widget', 'ipywidgets.widgets.domwidget', 'ipywidgets.widgets.trait_types', 'ipywidgets.widgets.eventful', 'ipywidgets.widgets.widget_layout', 'ipywidgets.widgets.widget_bool', 'ipywidgets.widgets.widget_button', 'ipywidgets.widgets.widget_box', 'ipywidgets.widgets.widget_float', 'ipywidgets.widgets.widget_image', 'ipywidgets.widgets.widget_int', 'ipywidgets.widgets.widget_color', 'ipywidgets.widgets.widget_output', 'ipywidgets.widgets.widget_selection', 'ipywidgets.widgets.widget_selectioncontainer', 'ipywidgets.widgets.widget_string', 'ipywidgets.widgets.widget_controller', 'ipywidgets.widgets.interaction', 'ipywidgets.widgets.widget_link'])\n"
     ]
    }
   ],
   "source": [
    "import sys\n",
    "\n",
    "print(sys.path)                # ścieżka wyszukiwania\n",
    "print(sys.modules.keys())      # nazwy importowanych modułów"
   ]
  },
  {
   "cell_type": "markdown",
   "metadata": {},
   "source": [
    "# Polecenie import poszukuje wskazanego modułu:\n",
    "\n",
    "* wśród modułów wbudowanych\n",
    "* następnie przeszukiwane są miejsca wskazane w zmiennej sys.path Zmienna sys.path zawiera:\n",
    "  * ścieżkę do katalogu ze skryptem, który został uruchomiony przez interpreter,\n",
    "  * ścieżki ze zmiennej PYTHONPATH,\n",
    "  * ścieżki domyślnych lokalizacji dla danej instalacji.\n",
    "\n",
    "Python zawiera standardową bibliotekę modułów. Niektóre z modułów są wbudowane w interpreter, by zapewnić odpowiednią szybkość działania, lub dostęp do API systemowego. Jednym z takich modułów jest **sys**."
   ]
  },
  {
   "cell_type": "markdown",
   "metadata": {},
   "source": [
    "Katalog z modułem musi zawierać plik __init__.py, który może zawierać kod Pythona lub może też pozostać pusty."
   ]
  },
  {
   "cell_type": "markdown",
   "metadata": {},
   "source": [
    "## Wybrane pakiety, moduły:\n",
    "\n",
    "* random - moduł ten zawiera funkcje obsługujące generowanie liczb pseudolosowych:"
   ]
  },
  {
   "cell_type": "code",
   "execution_count": 76,
   "metadata": {
    "collapsed": false
   },
   "outputs": [
    {
     "name": "stdout",
     "output_type": "stream",
     "text": [
      "4\n",
      "2\n",
      "5\n"
     ]
    }
   ],
   "source": [
    "import random\n",
    "\n",
    "random.seed() # inicjalizacja generatora liczb pseudolosowych\n",
    "\n",
    "# losowanie liczb całkowitych z zakresu od..do.\n",
    "print(random.randint(1,10))\n",
    "print(random.randint(1,10))\n",
    "print(random.randint(1,10))"
   ]
  },
  {
   "cell_type": "code",
   "execution_count": 77,
   "metadata": {
    "collapsed": false
   },
   "outputs": [
    {
     "name": "stdout",
     "output_type": "stream",
     "text": [
      "2\n",
      "6\n"
     ]
    }
   ],
   "source": [
    "import random\n",
    "\n",
    "random.seed()\n",
    "\n",
    "# losowe wybieranie elementu z sekwencji\n",
    "print(random.choice([1, 4, 6, 2]))\n",
    "print(random.choice([1, 4, 6, 2]))"
   ]
  },
  {
   "cell_type": "markdown",
   "metadata": {},
   "source": [
    "* losowa permutacja sekwencji"
   ]
  },
  {
   "cell_type": "code",
   "execution_count": 80,
   "metadata": {
    "collapsed": false
   },
   "outputs": [
    {
     "name": "stdout",
     "output_type": "stream",
     "text": [
      "[0, 1, 2, 3, 4, 5, 6, 7, 8, 9]\n",
      "[7, 1, 5, 0, 8, 9, 4, 2, 3, 6]\n"
     ]
    }
   ],
   "source": [
    "import random\n",
    "\n",
    "random.seed()\n",
    "\n",
    "# losowa permutacja sekwencji\n",
    "x = list(range(10))\n",
    "print(x)\n",
    "random.shuffle(x)\n",
    "print(x)"
   ]
  },
  {
   "cell_type": "markdown",
   "metadata": {},
   "source": [
    "* generowanie losowej liczby rzeczywistej z przedziału [0.0, 1.0)"
   ]
  },
  {
   "cell_type": "code",
   "execution_count": 82,
   "metadata": {
    "collapsed": false
   },
   "outputs": [
    {
     "name": "stdout",
     "output_type": "stream",
     "text": [
      "0.7045774600442769\n",
      "0.06277649877907909\n"
     ]
    }
   ],
   "source": [
    "from random import random, seed\n",
    "\n",
    "seed()\n",
    "\n",
    "# generowanie losowej liczby rzeczywistej z przedziału [0.0, 1.0)\n",
    "print(random())\n",
    "print(random())"
   ]
  },
  {
   "cell_type": "markdown",
   "metadata": {},
   "source": [
    "* generowanie losowej liczby rzeczywistej z przedziału [a, b)"
   ]
  },
  {
   "cell_type": "code",
   "execution_count": 83,
   "metadata": {
    "collapsed": false
   },
   "outputs": [
    {
     "name": "stdout",
     "output_type": "stream",
     "text": [
      "11.28683445492397\n",
      "10.601486081692178\n"
     ]
    }
   ],
   "source": [
    "from random import * # normalnie tak nie importujemy\n",
    "\n",
    "seed()\n",
    "\n",
    "# generowanie losowej liczby rzeczywistej z przedziału [a, b)\n",
    "print(uniform(10,20)) # rozkład jednostajny\n",
    "print(uniform(10,20))"
   ]
  },
  {
   "cell_type": "markdown",
   "metadata": {},
   "source": [
    "* normalvariate(mu, sigma) - zwraca wartość zmiennej losowej o rozkładzie normalnym, o średniej mu i odchyleniu standardowym sigma"
   ]
  },
  {
   "cell_type": "code",
   "execution_count": 85,
   "metadata": {
    "collapsed": false
   },
   "outputs": [
    {
     "name": "stdout",
     "output_type": "stream",
     "text": [
      "3.2342813561319517\n",
      "3.9871816976537877\n"
     ]
    }
   ],
   "source": [
    "from random import seed, normalvariate\n",
    "\n",
    "seed()\n",
    "\n",
    "# normalvariate(mu, sigma) - zwraca wartość zmiennej losowej o \n",
    "# rozkładzie normalnym, o średniej mu i odchyleniu standardowym sigma\n",
    "print(normalvariate(5,2))\n",
    "print(normalvariate(5,2))"
   ]
  },
  {
   "cell_type": "markdown",
   "metadata": {},
   "source": [
    "* **math** - moduł ten zawiera definicje najczęściej używanych funkcji matematycznych:"
   ]
  },
  {
   "cell_type": "code",
   "execution_count": 86,
   "metadata": {
    "collapsed": false
   },
   "outputs": [
    {
     "name": "stdout",
     "output_type": "stream",
     "text": [
      "5\n",
      "4\n",
      "3.0\n",
      "(0.5, 2.0)\n",
      "7.38905609893065\n",
      "1.0\n",
      "3.0\n",
      "1.5\n",
      "0.0\n",
      "0.5403023058681398\n"
     ]
    }
   ],
   "source": [
    "from math import *\n",
    "\n",
    "print(ceil(4.7)) # zwraca sufit liczby rzeczywistej\n",
    "print(floor(4.7)) # zwraca podłogę liczby rzeczywistej\n",
    "print(fabs(-3)) # zwraca wartość absolutną liczby rzeczywistej\n",
    "print(modf(2.5)) # zwraca krotkę zawierającą część ułamkową i całkowitą liczby rzeczywistej\n",
    "print(exp(2)) # zwraca e do potęgi x\n",
    "print(log(e)) # zwraca logarytm naturalny\n",
    "print(log(8, 2)) # zwraca logarytm o podstawie 2 (drugi parametr)\n",
    "print(sqrt(2.25)) # zwraca pierwiastek kwadratowy\n",
    "print(acos(1))\n",
    "print(cos(1))"
   ]
  },
  {
   "cell_type": "markdown",
   "metadata": {},
   "source": [
    "* **itertools* - moduł ten dostarcza bardzo wiele ciekawych narzędzi pracujących na iteratorach pomocnych do zaawansowanego programowania funkcyjnego:"
   ]
  },
  {
   "cell_type": "code",
   "execution_count": 89,
   "metadata": {
    "collapsed": false
   },
   "outputs": [
    {
     "name": "stdout",
     "output_type": "stream",
     "text": [
      "[1, 2, 3, 4, 5, 6] \n",
      "\n",
      "[('a', 'b', 'c'), ('a', 'b', 'd'), ('a', 'b', 'e'), ('a', 'b', 'f'), ('a', 'c', 'd'), ('a', 'c', 'e'), ('a', 'c', 'f'), ('a', 'd', 'e'), ('a', 'd', 'f'), ('a', 'e', 'f'), ('b', 'c', 'd'), ('b', 'c', 'e'), ('b', 'c', 'f'), ('b', 'd', 'e'), ('b', 'd', 'f'), ('b', 'e', 'f'), ('c', 'd', 'e'), ('c', 'd', 'f'), ('c', 'e', 'f'), ('d', 'e', 'f')] \n",
      "\n",
      "[('a', 'a', 'a'), ('a', 'a', 'b'), ('a', 'a', 'c'), ('a', 'a', 'd'), ('a', 'a', 'e'), ('a', 'a', 'f'), ('a', 'b', 'b'), ('a', 'b', 'c'), ('a', 'b', 'd'), ('a', 'b', 'e'), ('a', 'b', 'f'), ('a', 'c', 'c'), ('a', 'c', 'd'), ('a', 'c', 'e'), ('a', 'c', 'f'), ('a', 'd', 'd'), ('a', 'd', 'e'), ('a', 'd', 'f'), ('a', 'e', 'e'), ('a', 'e', 'f'), ('a', 'f', 'f'), ('b', 'b', 'b'), ('b', 'b', 'c'), ('b', 'b', 'd'), ('b', 'b', 'e'), ('b', 'b', 'f'), ('b', 'c', 'c'), ('b', 'c', 'd'), ('b', 'c', 'e'), ('b', 'c', 'f'), ('b', 'd', 'd'), ('b', 'd', 'e'), ('b', 'd', 'f'), ('b', 'e', 'e'), ('b', 'e', 'f'), ('b', 'f', 'f'), ('c', 'c', 'c'), ('c', 'c', 'd'), ('c', 'c', 'e'), ('c', 'c', 'f'), ('c', 'd', 'd'), ('c', 'd', 'e'), ('c', 'd', 'f'), ('c', 'e', 'e'), ('c', 'e', 'f'), ('c', 'f', 'f'), ('d', 'd', 'd'), ('d', 'd', 'e'), ('d', 'd', 'f'), ('d', 'e', 'e'), ('d', 'e', 'f'), ('d', 'f', 'f'), ('e', 'e', 'e'), ('e', 'e', 'f'), ('e', 'f', 'f'), ('f', 'f', 'f')] \n",
      "\n",
      "[('A', 'B'), ('A', 'C'), ('B', 'A'), ('B', 'C'), ('C', 'A'), ('C', 'B')] \n",
      "\n",
      "a 1\n",
      "b 2\n",
      "c 3\n",
      "32.0\n",
      "9.0\n",
      "1000.0\n",
      "\n",
      "[('A', 'X'), ('A', 'Y'), ('B', 'X'), ('B', 'Y'), ('C', 'X'), ('C', 'Y')] \n",
      "\n",
      "[(0, 'a'), (1, 'b'), (2, 'c')]\n"
     ]
    }
   ],
   "source": [
    "from itertools import *  \n",
    "\n",
    "# łączy wiele iteratorów w jeden\n",
    "print(list(chain([1, 2, 3], [4, 5, 6])), \"\\n\")\n",
    "\n",
    "# kombinacja\n",
    "print(list(combinations('abcdef', 3)), \"\\n\")\n",
    "\n",
    "# kombinacja z powtórzeniami\n",
    "print(list(combinations_with_replacement('abcdef', 3)), \"\\n\")\n",
    "\n",
    "# permutacja\n",
    "iterator = permutations('ABC', 2)\n",
    "print(list(iterator), \"\\n\")\n",
    "\n",
    "# wersja funkcji zip\n",
    "for x, y in zip([\"a\", \"b\", \"c\"], [1, 2, 3]):\n",
    "    print(x, y)\n",
    "\n",
    "print\n",
    "# wersja funkcji map\n",
    "for i in map(pow, (2,3,10), (5,2,3)):\n",
    "    print(i)\n",
    "    \n",
    "print() \n",
    "# produkt\n",
    "print(list(product('ABC', 'XY')), \"\\n\")\n",
    "\n",
    "# numerowanie elementów listy\n",
    "print(list(enumerate([\"a\", \"b\", \"c\"])))"
   ]
  },
  {
   "cell_type": "markdown",
   "metadata": {},
   "source": [
    "# 3. Klasy czyli obiektowość w Pythonie\n",
    "Python jest językiem do programowania zorientowanego obiektowo (object-oriented programming). Cechy takiego programowania są następujące:\n",
    "\n",
    "* programy są zbudowane z definicji obiektów i definicji funkcji, ponadto większość obliczeń wyrażona jest w postaci operacji na obiektach,\n",
    "* każda definicja obiektu odpowiada obiektowi lub koncepcji w świecie rzeczywistym. Funkcje działające na obiektach odpowiadają sposobowi działania obiektów w świecie rzeczywistym.\n",
    "\n",
    "Instrukcja wykonywalna **class** tworzy obiekt klasy i przypisuje go do nazwy. Zakres instrukcji class staje się przestrzenią nazw atrybutów obiektu klasy. Atrybuty klasy udostępniają stan obiektu i jego zachowanie.\n",
    "Najprostszą formą definicji klasy jest:\n",
    "\n",
    "```python\n",
    "class NazwaKlasy:\n",
    "    class_docstring       # opcjonalnie\n",
    "    instrukcje\n",
    "```\n",
    "\n",
    "Przykład:"
   ]
  },
  {
   "cell_type": "code",
   "execution_count": 91,
   "metadata": {
    "collapsed": false
   },
   "outputs": [
    {
     "name": "stdout",
     "output_type": "stream",
     "text": [
      "<__main__.Point object at 0x000000DBCAD22390>\n"
     ]
    }
   ],
   "source": [
    "class Point:      # instrukcja tworząca obiekt klasy\n",
    "    \"\"\"Klasa odpowiadająca punktom na płaszczyźnie.\"\"\"\n",
    "    pass          # wymagana jakaś instrukcja\n",
    "\n",
    "p = Point()   # tworzenie obiektu instancji klasy\n",
    "# Uwaga: nawiasy pokazują, że jest to wywołanie klasy.\n",
    "print(p)"
   ]
  },
  {
   "cell_type": "markdown",
   "metadata": {},
   "source": [
    "# Obiekty klas\n",
    "Istnieją dwa typy pól (obiektów klasy) — zmienne klas i zmienne obiektów, które rozróżniamy po tym, czy dana zmienna należy do całej klasy, czy też do poszczególnych obiektów.\n",
    "\n",
    "* Zmienne klasy są dzielone, co oznacza, że są dostępne dla wszystkich instancji danej klasy. Istnieje tylko jedna kopia zmiennej klasy, czyli jeśli jeden obiekt zmieni w jakiś sposób tę zmienną, to zmiana ta będzie widziana również przez wszystkie pozostałe instancje."
   ]
  },
  {
   "cell_type": "code",
   "execution_count": 97,
   "metadata": {
    "collapsed": false
   },
   "outputs": [
    {
     "name": "stdout",
     "output_type": "stream",
     "text": [
      "0\n",
      "1\n",
      "1\n",
      "2\n",
      "1\n",
      "2\n",
      "2\n",
      "2\n"
     ]
    }
   ],
   "source": [
    "class Point:\n",
    "    \"\"\"Klasa dla punktów.\"\"\"\n",
    "    ile = 0\n",
    "\n",
    "p1 = Point()\n",
    "print(p1.ile)\n",
    "\n",
    "Point.ile += 1 # zmieniamy zmienną statyczną\n",
    "\n",
    "p2 = Point()\n",
    "print(p2.ile)\n",
    "\n",
    "p1.ile += 1\n",
    "\n",
    "p3 = Point()\n",
    "print(p3.ile)\n",
    "print(p1.ile)\n",
    "print(p2.ile)\n",
    "\n",
    "Point.ile += 1 # ponownie zmieniamy\n",
    "\n",
    "print(p1.ile)\n",
    "print(p2.ile)\n",
    "print(p3.ile)"
   ]
  },
  {
   "cell_type": "markdown",
   "metadata": {},
   "source": [
    "* Zmienne obiektów należą do poszczególnych obiektów danej klasy. Oznacza to, że każdy obiekt posiada własną kopię takiej zmiennej, czyli nie są one dzielone ani w żadnej sposób powiązane ze sobą w różnych instancjach danej klasy."
   ]
  },
  {
   "cell_type": "code",
   "execution_count": 98,
   "metadata": {
    "collapsed": false
   },
   "outputs": [
    {
     "name": "stdout",
     "output_type": "stream",
     "text": [
      "2 5\n",
      "7 1\n",
      "2 5\n"
     ]
    }
   ],
   "source": [
    "class Point:                            # definicja obiektu klasy\n",
    "    \"\"\"Klasa dla punktów.\"\"\"            # łańcuch dokumentacyjny\n",
    "\n",
    "    def set_point(self, x, y):          # definicja metody klasy\n",
    "        \"\"\"Ustaw punkt.\"\"\"\n",
    "        self.x = x            # przypisanie atrybutu do instancji\n",
    "        self.y = y\n",
    "        \n",
    "p1 = Point()\n",
    "p1.set_point(2, 5)\n",
    "print(p1.x, p1.y)\n",
    "\n",
    "p2 = Point()\n",
    "p2.set_point(7, 1)\n",
    "print(p2.x, p2.y)\n",
    "print(p1.x, p1.y)"
   ]
  },
  {
   "cell_type": "markdown",
   "metadata": {},
   "source": [
    "Nazwa **self** nie jest słowem kluczowym, ale odnosi się do argumentu znajdującego się najbardziej na lewo. Nazwa ta automatycznie odnosi się do przetwarzanej instancji. Nazwa **other** jest zwyczajowo nadawana argumentowi drugiemu licząc od lewej, kiedy metoda wykonuje pewne operacje związane z dwoma różnymi instancjami, np. dodawanie, porównywanie."
   ]
  },
  {
   "cell_type": "code",
   "execution_count": 101,
   "metadata": {
    "collapsed": false
   },
   "outputs": [
    {
     "name": "stdout",
     "output_type": "stream",
     "text": [
      "(1.1, 2.6)\n",
      "(1.1, 2.6)\n",
      "Takie same =  True\n",
      "Takie same =  True\n",
      "(8.3, 2.6)\n",
      "Takie same =  False\n"
     ]
    }
   ],
   "source": [
    "class Point:                \n",
    "\n",
    "    def set_point(self, x, y):  \n",
    "        \"\"\"Ustaw punkt.\"\"\"\n",
    "        self.x = x           \n",
    "        self.y = y\n",
    "\n",
    "    def wypisz(self):\n",
    "        \"\"\"Wypisz punkt.\"\"\"\n",
    "        print(\"(%s, %s)\" % (self.x, self.y))\n",
    "\n",
    "    def same_point(self, other):\n",
    "        \"\"\"Porównaj punkty.\"\"\"\n",
    "        return (self.x == other.x) and (self.y == other.y)\n",
    "\n",
    "p1 = Point()\n",
    "p1.set_point(1.1, 2.6)\n",
    "p1.wypisz()\n",
    "\n",
    "p2 = Point()\n",
    "p2.set_point(1.1, 2.6)\n",
    "p2.wypisz()\n",
    "\n",
    "print(\"Takie same = \", p1.same_point(p2))\n",
    "# równoważne\n",
    "print(\"Takie same = \", Point.same_point(p1, p2))\n",
    "\n",
    "p3 = Point()\n",
    "p3.set_point(8.3, 2.6)\n",
    "p3.wypisz()\n",
    "print(\"Takie same = \", p1.same_point(p3))"
   ]
  },
  {
   "cell_type": "markdown",
   "metadata": {},
   "source": [
    "Na obiektach klasy można przeprowadzać dwa rodzaje operacji:\n",
    "\n",
    "* odniesienia do atrybutów:\n",
    "\n",
    "Odniesienie do atrybutu da się wyrazić za pomocą standardowej składni używanej w przypadku odniesień dla wszystkich atrybutów w Pythonie: **obiekt.nazwa**. Prawidłowymi nazwami atrybutów są nazwy, które istniały w przestrzeni nazw klasy w czasie tworzenia jej obiektu. Tak więc, jeśli definicja klasy wygląda następująco:\n",
    "\n",
    "```python\n",
    "class MojaKlasa:\n",
    "  \"Prosta, przykładowa klasa\"\n",
    "  a = 123\n",
    "  def f(x):\n",
    "      print 'Witaj świecie :)'\n",
    "```\n",
    "\n",
    "to **MojaKlasa.a** i **MojaKlasa.f** są prawidłowymi odniesieniami do jej atrybutów, których wartością jest odpowiednio liczba całkowita i obiekt metody. Atrybutom klasy można przypisywać wartości. \n",
    "\n",
    "Przykład:\n"
   ]
  },
  {
   "cell_type": "code",
   "execution_count": 103,
   "metadata": {
    "collapsed": false
   },
   "outputs": [
    {
     "name": "stdout",
     "output_type": "stream",
     "text": [
      "7.8 3.4\n",
      "<__main__.Point object at 0x000000DBCAD22470>\n",
      "(3.4, 5.6)\n"
     ]
    }
   ],
   "source": [
    "class Point: \n",
    "    pass          # wymagana jakaś instrukcja\n",
    "\n",
    "p = Point()   # tworzenie obiektu instancji klasy\n",
    "\n",
    "# Do punktu (instancji) przypisujemy atrybuty korzystając z \n",
    "# notacji z kropką.\n",
    "p.x = 3.4\n",
    "p.y = 5.6\n",
    "x = 7.8\n",
    "\n",
    "# Zmienne x i point.x to dwie różne wartości.\n",
    "# Instancja point jest osobną przestrzenią nazw.\n",
    "print(x, p.x)\n",
    "print(p)                   \n",
    "\n",
    "def wypisz(p1):\n",
    "    \"\"\"Wypisz punkt.\"\"\"\n",
    "    print(\"(%s, %s)\" % (p1.x, p1.y))\n",
    "\n",
    "# Wywołujemy funkcję dla punktu. Do funkcji przekazujemy wartość\n",
    "# zmiennej point, czyli referencję do obiektu.\n",
    "\n",
    "wypisz(p)"
   ]
  },
  {
   "cell_type": "markdown",
   "metadata": {},
   "source": [
    "* konkretyzacja:\n",
    "\n",
    "Konkretyzację klasy przeprowadza się używając notacji wywołania funkcji. Należy tylko udać, że obiekt klasy jest bezparametrową funkcją, która zwraca instancję (konkret) klasy. Przykład:"
   ]
  },
  {
   "cell_type": "code",
   "execution_count": 105,
   "metadata": {
    "collapsed": false
   },
   "outputs": [
    {
     "name": "stdout",
     "output_type": "stream",
     "text": [
      "Witaj świecie :)\n"
     ]
    }
   ],
   "source": [
    "class MojaKlasa:\n",
    "    \"Prosta, przykładowa klasa\"\n",
    "    a = 123\n",
    "    def f(x):\n",
    "        print('Witaj świecie :)')\n",
    "        \n",
    "x = MojaKlasa()\n",
    "x.f()"
   ]
  },
  {
   "cell_type": "markdown",
   "metadata": {},
   "source": [
    "W powyższym przykładzie tworzymy nowy obiekt klasy i wiążemy go z nazwą zmiennej lokalnej x poprzez przypisanie do niej."
   ]
  },
  {
   "cell_type": "markdown",
   "metadata": {},
   "source": [
    "## Metody Specjalne\n",
    "Istnieje wiele metod, które mają specjalne znaczenie dla klas w Pythonie. Oto niektóre z nich:\n",
    "\n",
    "* **\\__init__**:\n",
    "\n",
    "Metoda **\\__init__** jest wywoływana w momencie, kiedy tworzony jest obiekt danej klasy. Jest ona przydatna, kiedy chcemy zainicjalizować obiekt w jakiś sposób. Zwróćmy uwagę na podwójne podkreślniki na początku i na końcu nazwy."
   ]
  },
  {
   "cell_type": "code",
   "execution_count": 108,
   "metadata": {
    "collapsed": false
   },
   "outputs": [
    {
     "name": "stdout",
     "output_type": "stream",
     "text": [
      "(2, 4)\n"
     ]
    },
    {
     "ename": "TypeError",
     "evalue": "__init__() missing 2 required positional arguments: 'x' and 'y'",
     "output_type": "error",
     "traceback": [
      "\u001b[0;31m---------------------------------------------------------------------------\u001b[0m",
      "\u001b[0;31mTypeError\u001b[0m                                 Traceback (most recent call last)",
      "\u001b[0;32m<ipython-input-108-5ea7a064a2c9>\u001b[0m in \u001b[0;36m<module>\u001b[0;34m()\u001b[0m\n\u001b[1;32m     14\u001b[0m \u001b[0mp\u001b[0m\u001b[1;33m.\u001b[0m\u001b[0mwypisz\u001b[0m\u001b[1;33m(\u001b[0m\u001b[1;33m)\u001b[0m\u001b[1;33m\u001b[0m\u001b[0m\n\u001b[1;32m     15\u001b[0m \u001b[1;33m\u001b[0m\u001b[0m\n\u001b[0;32m---> 16\u001b[0;31m \u001b[0mp1\u001b[0m \u001b[1;33m=\u001b[0m \u001b[0mPoint\u001b[0m\u001b[1;33m(\u001b[0m\u001b[1;33m)\u001b[0m \u001b[1;31m# zwraca błąd\u001b[0m\u001b[1;33m\u001b[0m\u001b[0m\n\u001b[0m",
      "\u001b[0;31mTypeError\u001b[0m: __init__() missing 2 required positional arguments: 'x' and 'y'"
     ]
    }
   ],
   "source": [
    "class Point:\n",
    "    \"\"\"Klasa dla punktów.\"\"\"\n",
    "\n",
    "    def __init__(self, x, y):\n",
    "        \"\"\"Ustaw punkt.\"\"\"\n",
    "        self.x = x \n",
    "        self.y = y\n",
    "        \n",
    "    def wypisz(self):\n",
    "        \"\"\"Wypisz punkt.\"\"\"\n",
    "        print(\"(%s, %s)\" % (self.x, self.y))\n",
    "    \n",
    "p = Point(2, 4)\n",
    "p.wypisz()\n",
    "\n",
    "p1 = Point() # zwraca błąd"
   ]
  },
  {
   "cell_type": "markdown",
   "metadata": {},
   "source": [
    "* **\\__del__**\n",
    "\n",
    "Metoda **\\__del__** jest destruktorem, tzn. niszczy obiekt. Działa gdy licznik referencji zejdzie do zera. Nie korzystamy bo garbage collector jest nieprzewidywalny."
   ]
  },
  {
   "cell_type": "code",
   "execution_count": 109,
   "metadata": {
    "collapsed": false
   },
   "outputs": [
    {
     "name": "stdout",
     "output_type": "stream",
     "text": [
      "counter = 0\n",
      "init: counter = 1\n",
      "init: counter = 2\n",
      "init: counter = 3\n",
      "del: counter = 2\n",
      "del: counter = 1\n"
     ]
    }
   ],
   "source": [
    "class Point:\n",
    "    \"\"\"Klasa dla punktów.\"\"\"\n",
    "    counter = 0                     # atrybut klasy\n",
    "\n",
    "    def __init__(self, x=0, y=0):\n",
    "        \"\"\"Konstruktor punktu.\"\"\"\n",
    "        self.x = x\n",
    "        self.y = y\n",
    "        Point.counter = Point.counter + 1\n",
    "        print(\"init: counter =\", Point.counter)\n",
    "\n",
    "    def __del__(self):\n",
    "        \"\"\"Destruktor punktu.\"\"\"\n",
    "        Point.counter = Point.counter -1\n",
    "        print(\"del: counter =\", Point.counter)\n",
    "        \n",
    "print(\"counter =\", Point.counter)\n",
    "p1 = Point(3.4, 5.6)\n",
    "p2 = Point(4.5, 2.1) \n",
    "p3 = Point(2.3, 7.2) \n",
    "\n",
    "del(p1)\n",
    "del(p2)"
   ]
  },
  {
   "cell_type": "markdown",
   "metadata": {},
   "source": [
    "* **\\__str__**\n",
    "\n",
    "Metoda **\\__str__** konwertuje dane na napis (wywoływane przez str(x)):"
   ]
  },
  {
   "cell_type": "code",
   "execution_count": 110,
   "metadata": {
    "collapsed": false
   },
   "outputs": [
    {
     "name": "stdout",
     "output_type": "stream",
     "text": [
      "Wypisujemy punkty: (3.4, 5.6) (4.5, 2.1)\n"
     ]
    }
   ],
   "source": [
    "class Point:\n",
    "    \"\"\"Klasa dla punktów.\"\"\"\n",
    "\n",
    "    def __init__(self, x=0, y=0):\n",
    "        \"\"\"Konstruktor punktu.\"\"\"\n",
    "        self.x = x\n",
    "        self.y = y\n",
    "\n",
    "    def __str__(self):\n",
    "        \"\"\"Postać łańcuchowa punktu.\"\"\"\n",
    "        return(\"(%s, %s)\" % (self.x, self.y))\n",
    "\n",
    "p1 = Point(3.4, 5.6)\n",
    "p2 = Point(4.5, 2.1) \n",
    "print(\"Wypisujemy punkty:\", p1, p2)"
   ]
  },
  {
   "cell_type": "markdown",
   "metadata": {},
   "source": [
    "**\\__add__**, **\\__sub__**, **\\__mul__ etc**. - przeciążanie operatorów"
   ]
  },
  {
   "cell_type": "code",
   "execution_count": 111,
   "metadata": {
    "collapsed": false
   },
   "outputs": [
    {
     "name": "stdout",
     "output_type": "stream",
     "text": [
      "Wypisujemy punkty: (3.4, 5.6) (4.5, 2.1)\n",
      "Dodajemy punkty: (7.9, 7.699999999999999)\n"
     ]
    }
   ],
   "source": [
    "class Point:\n",
    "    \"\"\"Klasa dla punktów.\"\"\"\n",
    "\n",
    "    def __init__(self, x=0, y=0):\n",
    "        \"\"\"Konstruktor punktu.\"\"\"\n",
    "        self.x = x\n",
    "        self.y = y\n",
    "\n",
    "    def __str__(self):\n",
    "        \"\"\"Postać łańcuchowa punktu.\"\"\"\n",
    "        return \"(%s, %s)\" % (self.x, self.y)\n",
    "\n",
    "    def __add__(self, other): \n",
    "        \"\"\"Dodawanie punktów jako wektorów.\"\"\"\n",
    "        return Point(self.x + other.x, self.y + other.y)\n",
    "\n",
    "\n",
    "p1 = Point(3.4, 5.6)\n",
    "p2 = Point(4.5, 2.1)\n",
    "print(\"Wypisujemy punkty:\", p1, p2)\n",
    "print(\"Dodajemy punkty:\", p1 + p2)"
   ]
  },
  {
   "cell_type": "markdown",
   "metadata": {},
   "source": [
    "* **\\__lt__** (<), **\\__gt__** (<=), **\\__eq__** (==), **\\__ne__** (!=,<>), etc ... porównanie"
   ]
  },
  {
   "cell_type": "code",
   "execution_count": 112,
   "metadata": {
    "collapsed": false
   },
   "outputs": [
    {
     "name": "stdout",
     "output_type": "stream",
     "text": [
      "Wypisujemy punkty: (3.4, 5.6) (4.5, 2.1)\n",
      "Sprawdzamy czy p1 < p2: False\n",
      "Sprawdzamy czy p1 < p3: True\n"
     ]
    },
    {
     "name": "stderr",
     "output_type": "stream",
     "text": [
      "Exception ignored in: <bound method Point.__del__ of <__main__.Point object at 0x000000DBCAD3A588>>\n",
      "Traceback (most recent call last):\n",
      "  File \"<ipython-input-109-ee94d9d02f25>\", line 14, in __del__\n",
      "AttributeError: type object 'Point' has no attribute 'counter'\n"
     ]
    }
   ],
   "source": [
    "class Point:\n",
    "    \"\"\"Klasa dla punktów.\"\"\"\n",
    "\n",
    "    def __init__(self, x=0, y=0):\n",
    "        \"\"\"Konstruktor punktu.\"\"\"\n",
    "        self.x = x\n",
    "        self.y = y\n",
    "\n",
    "    def __str__(self):\n",
    "        \"\"\"Postać łańcuchowa punktu.\"\"\"\n",
    "        return \"(%s, %s)\" % (self.x, self.y)\n",
    "\n",
    "    def __lt__(self, other): \n",
    "        \"\"\"Dodawanie punktów jako wektorów.\"\"\"\n",
    "        return (self.x < other.x) and (self.y < other.y)\n",
    "\n",
    "\n",
    "p1 = Point(3.4, 5.6)\n",
    "p2 = Point(4.5, 2.1)\n",
    "print(\"Wypisujemy punkty:\", p1, p2)\n",
    "print(\"Sprawdzamy czy p1 < p2:\", p1 < p2)\n",
    "\n",
    "p3 = Point(4.5, 6.1)\n",
    "print(\"Sprawdzamy czy p1 < p3:\", p1 < p3)"
   ]
  },
  {
   "cell_type": "markdown",
   "metadata": {},
   "source": [
    "* **\\__call__**\n",
    "Przechwytywanie wywołań instancji realizuje metoda **\\__call__**. Dzięki temu klasy mogą emulować funkcje, ale z dodatkowymi możliwościami, jak zachowywanie stanu między wywołaniami."
   ]
  },
  {
   "cell_type": "code",
   "execution_count": 114,
   "metadata": {
    "collapsed": false
   },
   "outputs": [
    {
     "name": "stdout",
     "output_type": "stream",
     "text": [
      "Wywołanie: (1, 2) {}\n",
      "Wywołanie: (1, 2) {'x': 3, 'y': 4}\n",
      "2\n"
     ]
    }
   ],
   "source": [
    "class Printer:\n",
    "    \"\"\"Klasa reprezentująca obiekt wyświetlający.\"\"\"\n",
    "\n",
    "    def __init__(self, counter=0):\n",
    "        \"\"\"Utwórz obiekt.\"\"\"\n",
    "        self.counter = counter  # licznik wywołań funkcji\n",
    "\n",
    "    def __call__(self, *arguments, **keywords):\n",
    "        \"\"\"Obsługa wywołania.\"\"\"\n",
    "        self.counter = self.counter + 1\n",
    "        print(\"Wywołanie:\", arguments, keywords)\n",
    "\n",
    "X = Printer()\n",
    "X(1, 2)                       # Wywołanie: (1, 2) {}\n",
    "X(1, 2, x=3, y=4)             # Wywołanie: (1, 2) {\"x\":3, \"y\":4}\n",
    "print(X.counter)               # odczyt licznika wywołań funkcji"
   ]
  },
  {
   "cell_type": "markdown",
   "metadata": {},
   "source": [
    "Więcej na temat (tych i innych) metod specjalnych można znaleźć [tutaj](https://pl.python.org/docs/ref/node15.html).\n",
    "\n",
    "Przykłady:"
   ]
  },
  {
   "cell_type": "code",
   "execution_count": 117,
   "metadata": {
    "collapsed": false
   },
   "outputs": [
    {
     "name": "stdout",
     "output_type": "stream",
     "text": [
      "(3.4, 5.6)\n",
      "(3.4, 5.6)\n",
      "te same? True\n",
      "te same? True\n",
      "x = 3.4 y = 5.6\n",
      "x = 3.4 y = 5.6\n"
     ]
    }
   ],
   "source": [
    "# Przykład 1\n",
    "\n",
    "class Point:                            # definicja obiektu klasy\n",
    "    \"\"\"Klasa dla punktów.\"\"\"            # łańcuch dokumentacyjny\n",
    "\n",
    "    def set_point(self, x, y):          # definicja metody klasy\n",
    "        \"\"\"Ustaw punkt.\"\"\"\n",
    "        self.x = x            # przypisanie atrybutu do instancji\n",
    "        self.y = y\n",
    "\n",
    "    def wypisz(self):\n",
    "        \"\"\"Wypisz punkt.\"\"\"\n",
    "        print(\"(%s, %s)\" % (self.x, self.y))\n",
    "\n",
    "    def same_point(self, other):\n",
    "        \"\"\"Porównaj punkty.\"\"\"\n",
    "        return (self.x == other.x) and (self.y == other.y)\n",
    "\n",
    "p1 = Point()\n",
    "p1.set_point(3.4, 5.6)       # odpowiada Point.set_point(pt1, 3.4, 5.6)\n",
    "p1.wypisz()\n",
    "p2 = Point()\n",
    "p2.set_point(3.4, 5.6)\n",
    "p2.wypisz()\n",
    "print(\"te same?\", p1.same_point(p2))\n",
    "print(\"te same?\", Point.same_point(p1, p2))    # równoważne\n",
    "\n",
    "# Metodę można utworzyć poza klasą, a następnie trzeba powiązać\n",
    "# ją z klasą (na tym etapie nazwa self jest istotna).\n",
    "def show_point(self):         # tworzymy funkcję\n",
    "    \"\"\"Wypisz punkt.\"\"\"\n",
    "    print(\"x =\", self.x, \"y =\", self.y)\n",
    "\n",
    "Point.show = show_point      # funkcja staje się metodą klasy\n",
    "p1.show()                    # wywołanie metody\n",
    "Point.show(p1)               # równoważne wywołanie"
   ]
  },
  {
   "cell_type": "code",
   "execution_count": 121,
   "metadata": {
    "collapsed": false
   },
   "outputs": [
    {
     "name": "stdout",
     "output_type": "stream",
     "text": [
      "counter = 0\n",
      "init: counter = 1\n",
      "init: counter = 2\n",
      "metoda __str__ (3.4, 5.6) (4.5, 2.1)\n",
      "init: counter = 3\n",
      "metoda __add__ (7.9, 7.699999999999999)\n",
      "del: counter = 2\n",
      "<class '__main__.Point'>\n",
      "dict_keys(['x', 'y'])\n",
      "del: counter = 1\n",
      "del: counter = 0\n",
      "['__add__', '__class__', '__del__', '__delattr__', '__dict__', '__dir__', '__doc__', '__eq__', '__format__', '__ge__', '__getattribute__', '__gt__', '__hash__', '__init__', '__init_subclass__', '__le__', '__lt__', '__module__', '__ne__', '__new__', '__reduce__', '__reduce_ex__', '__repr__', '__setattr__', '__sizeof__', '__str__', '__subclasshook__', '__weakref__', 'counter']\n",
      "dict_keys(['__module__', '__doc__', 'counter', '__init__', '__str__', '__add__', '__del__', '__dict__', '__weakref__'])\n"
     ]
    }
   ],
   "source": [
    "# Przykład 2\n",
    "\n",
    "class Point:\n",
    "    \"\"\"Klasa dla punktów.\"\"\"\n",
    "    counter = 0                 \n",
    "\n",
    "    def __init__(self, x=0, y=0):\n",
    "        \"\"\"Konstruktor punktu.\"\"\"\n",
    "        self.x = x\n",
    "        self.y = y\n",
    "        Point.counter = Point.counter + 1\n",
    "        print(\"init: counter =\", Point.counter)\n",
    "\n",
    "    def __str__(self):\n",
    "        \"\"\"Postać łańcuchowa punktu.\"\"\"\n",
    "        return \"(%s, %s)\" % (self.x, self.y)\n",
    "\n",
    "    def __add__(self, other):\n",
    "        \"\"\"Dodawanie punktów jako wektorów.\"\"\"\n",
    "        return Point(self.x + other.x, self.y + other.y)\n",
    "\n",
    "    def __del__(self):\n",
    "        \"\"\"Destruktor punktu.\"\"\"\n",
    "        Point.counter = Point.counter -1\n",
    "        print(\"del: counter =\", Point.counter)\n",
    "\n",
    "print(\"counter =\", Point.counter)       # na starcie counter=0\n",
    "p1 = Point(3.4, 5.6)                   # counter=1\n",
    "p2 = Point(4.5, 2.1)                   # counter=2\n",
    "print(\"metoda __str__\", p1, p2)\n",
    "print(\"metoda __add__\", p1 + p2)        # counter wzrasta do 3 i od razu wraca do 2\n",
    "\n",
    "# Każda instancja ma łącze do swojej klasy.\n",
    "print(p1.__class__)\n",
    "print(p1.__dict__.keys())               # przestrzeń nazw instancji\n",
    "\n",
    "del p1                                 # counter=1\n",
    "del p2                                 # counter=0\n",
    "print(dir(Point))                       # przestrzeń nazw klasy\n",
    "print(Point.__dict__.keys())            # przestrzeń nazw klasy"
   ]
  },
  {
   "cell_type": "markdown",
   "metadata": {},
   "source": [
    "# 2. Wyjątki\n",
    "\n",
    "Wyjątek jest zdarzeniem, które może modyfikować przebieg sterowania programów. W Pythonie wyjątki wywoływane są automatycznie w momencie wystąpienia błędów (np.: przy dzieleniu przez zero) i mogą być wywoływane oraz przechwytywane przez nasz kod.\n",
    "\n",
    "Najważniejsze powody wykorzystywania wyjątków:\n",
    "\n",
    "* obsługa błędów,\n",
    "* powiadomienia o zdarzeniach (nie każdy wyjątek to błąd),\n",
    "* obsługa przypadków specjalnych,\n",
    "* nietypowy przebieg sterowania (pythonowe \"goto\").\n",
    "\n",
    "Kiedy pojawi się błąd w czasie wykonywania programu, tworzony jest wyjątek (exception). Zwykle wtedy program jest zatrzymywany, a Python wypisuje komunikat o błędzie, np.:"
   ]
  },
  {
   "cell_type": "code",
   "execution_count": 122,
   "metadata": {
    "collapsed": false
   },
   "outputs": [
    {
     "ename": "SyntaxError",
     "evalue": "Missing parentheses in call to 'print' (<ipython-input-122-c036cc07d2bd>, line 2)",
     "output_type": "error",
     "traceback": [
      "\u001b[0;36m  File \u001b[0;32m\"<ipython-input-122-c036cc07d2bd>\"\u001b[0;36m, line \u001b[0;32m2\u001b[0m\n\u001b[0;31m    print 5/0\u001b[0m\n\u001b[0m          ^\u001b[0m\n\u001b[0;31mSyntaxError\u001b[0m\u001b[0;31m:\u001b[0m Missing parentheses in call to 'print'\n"
     ]
    }
   ],
   "source": [
    "# Dzielenie przez zero - ZeroDivisionError.\n",
    "print 5/0"
   ]
  },
  {
   "cell_type": "code",
   "execution_count": 123,
   "metadata": {
    "collapsed": false
   },
   "outputs": [
    {
     "ename": "SyntaxError",
     "evalue": "Missing parentheses in call to 'print' (<ipython-input-123-e94e5c421633>, line 3)",
     "output_type": "error",
     "traceback": [
      "\u001b[0;36m  File \u001b[0;32m\"<ipython-input-123-e94e5c421633>\"\u001b[0;36m, line \u001b[0;32m3\u001b[0m\n\u001b[0;31m    print x[1]\u001b[0m\n\u001b[0m          ^\u001b[0m\n\u001b[0;31mSyntaxError\u001b[0m\u001b[0;31m:\u001b[0m Missing parentheses in call to 'print'\n"
     ]
    }
   ],
   "source": [
    "# Odwołanie się do nieistniejącego elementu listy - IndexError.\n",
    "x = []\n",
    "print x[1]"
   ]
  },
  {
   "cell_type": "code",
   "execution_count": 124,
   "metadata": {
    "collapsed": false
   },
   "outputs": [
    {
     "ename": "SyntaxError",
     "evalue": "Missing parentheses in call to 'print' (<ipython-input-124-ce28bce2852c>, line 3)",
     "output_type": "error",
     "traceback": [
      "\u001b[0;36m  File \u001b[0;32m\"<ipython-input-124-ce28bce2852c>\"\u001b[0;36m, line \u001b[0;32m3\u001b[0m\n\u001b[0;31m    print s['2']\u001b[0m\n\u001b[0m          ^\u001b[0m\n\u001b[0;31mSyntaxError\u001b[0m\u001b[0;31m:\u001b[0m Missing parentheses in call to 'print'\n"
     ]
    }
   ],
   "source": [
    "# Odwołanie się do nieistniejącego klucza w słowniku - KeyError.\n",
    "s = {'1':5}\n",
    "print s['2']"
   ]
  },
  {
   "cell_type": "markdown",
   "metadata": {},
   "source": [
    "## Wybrane wyjątki:\n",
    "\n",
    "* ArithmeticError - klasa bazowa dla wyjątków związanych z błędami arytmetycznymi,\n",
    "* AssertionError - powstaje gdy wyrażenie assert napotka False,\n",
    "* IndexError - powstaje kiedy indeks sekwencji jest poza dozwolonym zakresem,\n",
    "* KeyError - powstaje kiedy słownik (ogólnie mapping) nie posiada żądanego klucza,\n",
    "* NameError - powstaje kiedy lokalna lub globalna nazwa zmiennej nie zostaje znaleziona,\n",
    "* SyntaxError - powstaje kiedy parser napotka błąd składniowy,\n",
    "* TypeError - powstaje kiedy operacja lub funkcja jest zastosowana do obiektu niewłaściwego typu,\n",
    "* ValueError - powstaje kiedy wbudowana operacja lub funkcja otrzymuje argument właściwego typu, ale mający niewłaściwą wartość.\n",
    "\n",
    "## Przechwytywanie wyjątków\n",
    "\n",
    "Jeśli nie chcemy, aby program zatrzymał się po wystąpieniu wyjątku, należy ,,opakować'' nasz kod w instrukcję **try/except/else** w celu samodzielnego przechwycenia wyjątku. Jeżeli zależy nam na wykonaniu pewnych działań końcowych, niezależnych od wystąpienia wyjątku, wówczas używamy instrukcji finally. Przykłady:"
   ]
  },
  {
   "cell_type": "code",
   "execution_count": 149,
   "metadata": {
    "collapsed": false
   },
   "outputs": [
    {
     "name": "stdout",
     "output_type": "stream",
     "text": [
      "1\n",
      "nie było wyjątku\n",
      "kontynuuję\n"
     ]
    }
   ],
   "source": [
    "# x = []\n",
    "x = range(5)\n",
    "\n",
    "try:\n",
    "    print(x[1])\n",
    "except IndexError:\n",
    "    print(\"mam wyjątek\")\n",
    "else:\n",
    "    print(\"nie było wyjątku\")\n",
    "print(\"kontynuuję\")"
   ]
  },
  {
   "cell_type": "markdown",
   "metadata": {},
   "source": [
    "Klauzula else zostanie wykonany, jeśli nie zostanie zgłoszony wyjątek."
   ]
  },
  {
   "cell_type": "markdown",
   "metadata": {},
   "source": [
    "## Jak to działa\n",
    "\n",
    "Na początku wykonywana jest klauzula try (czyli instrukcje pomiędzy try, a except). Jeżeli nie pojawi się żaden wyjątek klauzula except jest pomijana. Wykonanie instrukcji try uważa się za zakończone. Jeżeli podczas wykonywania klauzuli try pojawi się wyjątek, reszta niewykonanych instrukcji jest pomijana. Następnie, w zależności od tego, czy jego typ pasuje do typów wyjątków wymienionych w części except, wykonywany jest kod następujący w tym bloku, a potem interpreter przechodzi do wykonywania instrukcji umieszczonych po całym bloku try...except."
   ]
  },
  {
   "cell_type": "code",
   "execution_count": 131,
   "metadata": {
    "collapsed": false
   },
   "outputs": [
    {
     "name": "stdout",
     "output_type": "stream",
     "text": [
      "zawsze wykonane\n"
     ]
    },
    {
     "ename": "IndexError",
     "evalue": "list index out of range",
     "output_type": "error",
     "traceback": [
      "\u001b[0;31m---------------------------------------------------------------------------\u001b[0m",
      "\u001b[0;31mIndexError\u001b[0m                                Traceback (most recent call last)",
      "\u001b[0;32m<ipython-input-131-7f018654bc95>\u001b[0m in \u001b[0;36m<module>\u001b[0;34m()\u001b[0m\n\u001b[1;32m      2\u001b[0m \u001b[1;31m# x = range(5)\u001b[0m\u001b[1;33m\u001b[0m\u001b[1;33m\u001b[0m\u001b[0m\n\u001b[1;32m      3\u001b[0m \u001b[1;32mtry\u001b[0m\u001b[1;33m:\u001b[0m\u001b[1;33m\u001b[0m\u001b[0m\n\u001b[0;32m----> 4\u001b[0;31m     \u001b[0mprint\u001b[0m\u001b[1;33m(\u001b[0m\u001b[0mx\u001b[0m\u001b[1;33m[\u001b[0m\u001b[1;36m1\u001b[0m\u001b[1;33m]\u001b[0m\u001b[1;33m)\u001b[0m\u001b[1;33m\u001b[0m\u001b[0m\n\u001b[0m\u001b[1;32m      5\u001b[0m \u001b[1;32mfinally\u001b[0m\u001b[1;33m:\u001b[0m\u001b[1;33m\u001b[0m\u001b[0m\n\u001b[1;32m      6\u001b[0m     \u001b[0mprint\u001b[0m\u001b[1;33m(\u001b[0m\u001b[1;34m\"zawsze wykonane\"\u001b[0m\u001b[1;33m)\u001b[0m\u001b[1;33m\u001b[0m\u001b[0m\n",
      "\u001b[0;31mIndexError\u001b[0m: list index out of range"
     ]
    }
   ],
   "source": [
    "x = []\n",
    "# x = range(5)\n",
    "try:\n",
    "    print(x[1])\n",
    "finally:\n",
    "    print(\"zawsze wykonane\")\n",
    "print(\"kontynuuję\")"
   ]
  },
  {
   "cell_type": "markdown",
   "metadata": {},
   "source": [
    "Jeżeli podczas wykonywania bloku try nie wystąpił wyjątek, to będzie wykonany blok finally, a następnie instrukcje pod instrukcją try. Jeżeli podczas wykonywania bloku try wystąpił wyjątek, to będzie wykonany blok finally, ale potem wyjątek będzie przekazany wyżej.\n",
    "\n",
    "Ogólny format instrukcji try/except/else/finally zawiera wiele opcjonalnych bloków z programami obsługi, choć musi pojawić się przynajmniej jeden.\n",
    "\n",
    "```python\n",
    "# Składnia.\n",
    "try:\n",
    "    instrukcje                   # podstawowe działanie instrukcji\n",
    "except Exception1:               # przechwytuje wskazany wyjątek\n",
    "    instrukcje\n",
    "except (Exception2, Exception3): # przechwytuje wymienione wyjątki\n",
    "    instrukcje\n",
    "except Exception4 as Value1:     # przechwytuje wyjątek i jego instancję\n",
    "    instrukcje\n",
    "except (Exception4, Exception5) as Value2: # przechwytuje wyjątki i instancję\n",
    "    instrukcje\n",
    "except:                          # przechwytuje wszystkie (pozostałe) wyjątki\n",
    "    instrukcje\n",
    "else:                            # działania przy braku zgłoszenia wyjątku\n",
    "    instrukcje\n",
    "finally:                         # działania końcowe\n",
    "    instrukcje\n",
    "```\n",
    "\n",
    "Należy ostrożnie korzystać z pustej części except, ponieważ może przechwycić nieoczekiwane wyjątki systemowe niezwiązane z naszym kodem albo wyjątki przeznaczone dla innych programów obsługi. Lepsza jest postać except Exception, która ignoruje wyjątki powiązane z systemowymi wyjściami z programu."
   ]
  },
  {
   "cell_type": "markdown",
   "metadata": {},
   "source": [
    "# Zgłaszanie wyjątków\n",
    "\n",
    "Do jawnego wywoływania wyjątków służy instrukcja raise. Pierwszy argument instrukcji raise służy do podania nazwy wyjątku. Opcjonalny drugi argument jest jego wartością (argumentem wyjątku)."
   ]
  },
  {
   "cell_type": "code",
   "execution_count": 132,
   "metadata": {
    "collapsed": false
   },
   "outputs": [
    {
     "ename": "SyntaxError",
     "evalue": "invalid syntax (<ipython-input-132-8b2994eefd2d>, line 1)",
     "output_type": "error",
     "traceback": [
      "\u001b[0;36m  File \u001b[0;32m\"<ipython-input-132-8b2994eefd2d>\"\u001b[0;36m, line \u001b[0;32m1\u001b[0m\n\u001b[0;31m    raise IndexError, \"To byl wyjatek\"   # stara składnia\u001b[0m\n\u001b[0m                    ^\u001b[0m\n\u001b[0;31mSyntaxError\u001b[0m\u001b[0;31m:\u001b[0m invalid syntax\n"
     ]
    }
   ],
   "source": [
    "raise IndexError, \"To byl wyjatek\"   # stara składnia"
   ]
  },
  {
   "cell_type": "code",
   "execution_count": 133,
   "metadata": {
    "collapsed": false
   },
   "outputs": [
    {
     "ename": "IndexError",
     "evalue": "To byl wyjatek",
     "output_type": "error",
     "traceback": [
      "\u001b[0;31m---------------------------------------------------------------------------\u001b[0m",
      "\u001b[0;31mIndexError\u001b[0m                                Traceback (most recent call last)",
      "\u001b[0;32m<ipython-input-133-6108ec02ad08>\u001b[0m in \u001b[0;36m<module>\u001b[0;34m()\u001b[0m\n\u001b[0;32m----> 1\u001b[0;31m \u001b[1;32mraise\u001b[0m \u001b[0mIndexError\u001b[0m\u001b[1;33m(\u001b[0m\u001b[1;34m\"To byl wyjatek\"\u001b[0m\u001b[1;33m)\u001b[0m  \u001b[1;31m# nowa składnia\u001b[0m\u001b[1;33m\u001b[0m\u001b[0m\n\u001b[0m",
      "\u001b[0;31mIndexError\u001b[0m: To byl wyjatek"
     ]
    }
   ],
   "source": [
    "raise IndexError(\"To byl wyjatek\")  # nowa składnia"
   ]
  },
  {
   "cell_type": "markdown",
   "metadata": {},
   "source": [
    "Do wywołania wyjątku można także wykorzystać instrukcję assert, która jest wykorzystywana głównie przy debugowaniu kodu (wykorzystuje się ją do weryfikowania warunków programu w czasie jego tworzenia)."
   ]
  },
  {
   "cell_type": "code",
   "execution_count": 135,
   "metadata": {
    "collapsed": false
   },
   "outputs": [
    {
     "ename": "AssertionError",
     "evalue": "To byl wyjatek",
     "output_type": "error",
     "traceback": [
      "\u001b[0;31m---------------------------------------------------------------------------\u001b[0m",
      "\u001b[0;31mAssertionError\u001b[0m                            Traceback (most recent call last)",
      "\u001b[0;32m<ipython-input-135-aaeb56ee56a8>\u001b[0m in \u001b[0;36m<module>\u001b[0;34m()\u001b[0m\n\u001b[1;32m      1\u001b[0m \u001b[1;31m# Składnia.\u001b[0m\u001b[1;33m\u001b[0m\u001b[1;33m\u001b[0m\u001b[0m\n\u001b[1;32m      2\u001b[0m \u001b[1;31m# assert warunek, dane\u001b[0m\u001b[1;33m\u001b[0m\u001b[1;33m\u001b[0m\u001b[0m\n\u001b[0;32m----> 3\u001b[0;31m \u001b[1;32massert\u001b[0m \u001b[1;32mFalse\u001b[0m\u001b[1;33m,\u001b[0m \u001b[1;34m\"To byl wyjatek\"\u001b[0m\u001b[1;33m\u001b[0m\u001b[0m\n\u001b[0m\u001b[1;32m      4\u001b[0m \u001b[1;31m# assert True, \"To byl wyjatek\"\u001b[0m\u001b[1;33m\u001b[0m\u001b[1;33m\u001b[0m\u001b[0m\n",
      "\u001b[0;31mAssertionError\u001b[0m: To byl wyjatek"
     ]
    }
   ],
   "source": [
    "# Składnia.\n",
    "# assert warunek, dane\n",
    "assert False, \"To byl wyjatek\"\n",
    "# assert True, \"To byl wyjatek\""
   ]
  },
  {
   "cell_type": "markdown",
   "metadata": {},
   "source": [
    "Wyjątki oparte na łańcuchach znaków zniknęły w Pythonie 2.6+ i 3.x. Obecnie korzysta się z wyjątków opartych na klasach.\n",
    "\n",
    "Zalety wyjątków opartych na klasach:\n",
    "\n",
    "* można je organizować w kategorie,\n",
    "* dołączają informacje o stanie,\n",
    "* obsługują dziedziczenie."
   ]
  },
  {
   "cell_type": "code",
   "execution_count": 139,
   "metadata": {
    "collapsed": false
   },
   "outputs": [
    {
     "name": "stdout",
     "output_type": "stream",
     "text": [
      "Podaj liczbe: 12\n"
     ]
    }
   ],
   "source": [
    "# Nowe podejście - wyjątek to klasa wywiedziona z Exception\n",
    "\n",
    "class BadNumberError(Exception):\n",
    "    pass\n",
    "\n",
    "def read_number():\n",
    "    number = int(input(\"Podaj liczbe: \"))\n",
    "    if number == 13:      # nie podoba nam się liczba 13\n",
    "        raise BadNumberError(\"13 przynosi pecha\")\n",
    "    return number\n",
    "\n",
    "try:\n",
    "    n = read_number()\n",
    "except BadNumberError:\n",
    "    print(\"przechwycenie BadNumberError\")"
   ]
  },
  {
   "cell_type": "markdown",
   "metadata": {},
   "source": [
    "Można zdefiniować własny konstruktor wyjątku (**\\__init__**). Podobnie można określić własny sposób wyświetlania wyjątku (**\\__str__**)."
   ]
  },
  {
   "cell_type": "code",
   "execution_count": 140,
   "metadata": {
    "collapsed": false
   },
   "outputs": [
    {
     "name": "stdout",
     "output_type": "stream",
     "text": [
      "mam wyjątek, value: 2\n",
      "mam wyjątek, value: 2\n"
     ]
    }
   ],
   "source": [
    "class MyError(Exception):\n",
    "\n",
    "    def __init__(self, value):      # nasz konstruktor wyjątku\n",
    "        self.value = value\n",
    "\n",
    "    def __str__(self):              # zmiana sposobu wyświetlania wyjątku\n",
    "        return str(self.value)\n",
    "\n",
    "try:\n",
    "    raise MyError(2)    # instancja\n",
    "except MyError as exception:\n",
    "    print(\"mam wyjątek, value:\", exception.value)\n",
    "    print(\"mam wyjątek, value:\", exception)    # jw, bo jest __str__"
   ]
  },
  {
   "cell_type": "markdown",
   "metadata": {},
   "source": [
    "## Wykorzystanie wyjątków do innych celów\n",
    "\n",
    "Jest wiele innych sposobów wykorzystania wyjątków, oprócz obsługi błędów. Dobrym przykładem jest importowanie modułów Pythona, sprawdzając czy nastąpił wyjątek. Jeśli moduł nie istnieje zostanie rzucony wyjątek **ImportError**."
   ]
  },
  {
   "cell_type": "code",
   "execution_count": 142,
   "metadata": {
    "collapsed": false
   },
   "outputs": [
    {
     "name": "stdout",
     "output_type": "stream",
     "text": [
      "mamy wyjątek - 1\n"
     ]
    }
   ],
   "source": [
    "try:\n",
    "    import aaaa\n",
    "except ImportError:\n",
    "    print(\"mamy wyjątek - 1\")\n",
    "    try:\n",
    "        import numpy\n",
    "    except ImportError:\n",
    "        print(\"mamy wyjątek - 2\")"
   ]
  },
  {
   "cell_type": "markdown",
   "metadata": {},
   "source": [
    "Jako instrukcje **if**, np:"
   ]
  },
  {
   "cell_type": "code",
   "execution_count": 143,
   "metadata": {
    "collapsed": false
   },
   "outputs": [
    {
     "name": "stdout",
     "output_type": "stream",
     "text": [
      "{'Ala': 1, 'ma': 2, 'kota,': 1, 'kot': 1, 'Ale': 1}\n",
      "{'tak': 3, 'nie': 5}\n"
     ]
    }
   ],
   "source": [
    "def word_count(s):\n",
    "    words = s.split()\n",
    "    wdict = {}\n",
    "    for word in words:\n",
    "        if word not in wdict:\n",
    "            wdict[word] = 0\n",
    "        wdict[word] += 1\n",
    "    return wdict\n",
    "\n",
    "print(word_count(\"Ala ma kota, kot ma Ale\"))\n",
    "print(word_count(\"tak nie tak nie tak nie nie nie\"))"
   ]
  },
  {
   "cell_type": "code",
   "execution_count": 144,
   "metadata": {
    "collapsed": false
   },
   "outputs": [
    {
     "name": "stdout",
     "output_type": "stream",
     "text": [
      "{'Ala': 1, 'ma': 2, 'kota,': 1, 'kot': 1, 'Ale': 1}\n",
      "{'tak': 3, 'nie': 5}\n"
     ]
    }
   ],
   "source": [
    "def word_count(s):\n",
    "    words = s.split()\n",
    "    wdict = {}\n",
    "    for word in words:\n",
    "        try:                    # działa szybciej niż instrukcja if\n",
    "            wdict[word] += 1\n",
    "        except KeyError:\n",
    "            wdict[word] = 1\n",
    "    return wdict\n",
    "\n",
    "print(word_count(\"Ala ma kota, kot ma Ale\"))\n",
    "print(word_count(\"tak nie tak nie tak nie nie nie\"))"
   ]
  },
  {
   "cell_type": "code",
   "execution_count": null,
   "metadata": {
    "collapsed": true
   },
   "outputs": [],
   "source": []
  }
 ],
 "metadata": {
  "kernelspec": {
   "display_name": "Python 3",
   "language": "python",
   "name": "python3"
  },
  "language_info": {
   "codemirror_mode": {
    "name": "ipython",
    "version": 3
   },
   "file_extension": ".py",
   "mimetype": "text/x-python",
   "name": "python",
   "nbconvert_exporter": "python",
   "pygments_lexer": "ipython3",
   "version": "3.6.0"
  }
 },
 "nbformat": 4,
 "nbformat_minor": 2
}
