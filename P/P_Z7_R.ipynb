{
 "cells": [
  {
   "cell_type": "markdown",
   "metadata": {},
   "source": [
    "# 1. Wejście i wyjście\n",
    "\n",
    "W Pythonie istnieje kilka sposobów prezentowania wyników działania naszego programu:\n",
    "\n",
    "* dane mogą zostać wypisane na ekran,\n",
    "* zapisane do pliku w celu ponownego użycia.\n",
    "\n",
    "Python posiada wbudowaną funkcję **open**, która służy do otwierania plików z dysku. Zwraca ona obiekt pliku posiadający metody i atrybuty, dzięki którym możemy dostać się do pliku i wykonywać na nim pewne operacje, np. pobranie, dopisanie danych. Funkcja ta posiada dwa argumenty: nazwę (ścieżkę do pliku), tryb (określa czynność np. odczyt z pliku).\n",
    "\n",
    "Najprostszy sposób użycia metody open to:"
   ]
  },
  {
   "cell_type": "code",
   "execution_count": 5,
   "metadata": {
    "collapsed": false
   },
   "outputs": [
    {
     "name": "stdout",
     "output_type": "stream",
     "text": [
      "Al ma kota.\n"
     ]
    }
   ],
   "source": [
    "text = open('plik.txt', ).read()\n",
    "print(text)"
   ]
  },
  {
   "cell_type": "markdown",
   "metadata": {},
   "source": [
    "Jednakże nie jest to metoda bezpieczna. Dobry skrypt powinien zamykać połączenie z plikiem zaraz po zakończeniu operowania na nim. Do tego służy metoda **close**."
   ]
  },
  {
   "cell_type": "code",
   "execution_count": 51,
   "metadata": {
    "collapsed": false
   },
   "outputs": [
    {
     "name": "stdout",
     "output_type": "stream",
     "text": [
      "Ala ma kota.\n",
      "Kot ma mysz.\n",
      "Mysz jest wolna.\n"
     ]
    }
   ],
   "source": [
    "plik = open('plik.txt')\n",
    "try:\n",
    "    tekst = plik.read()\n",
    "finally:\n",
    "    plik.close()\n",
    "\n",
    "print(tekst)"
   ]
  },
  {
   "cell_type": "markdown",
   "metadata": {},
   "source": [
    "Różne tryby metody open:\n",
    "\n",
    "* **r** - czytanie pliku,\n",
    "* **w** - zapisywanie do pliku (kasowanie poprzedniej zawartości, gdy plik nie istnieje tworzy go),\n",
    "* **a** - dopisywanie do pliku (poprzednia zawartość pozostaje, dodanie nowych danych na końcu pliku),\n",
    "* **r+** - czytanie i pisanie (poprzednia zawartość pozostaje),\n",
    "* **w+** - czytanie i pisanie (kasowanie poprzedniej zawartości),\n",
    "* **a+** - czytanie i pisanie (poprzednia zawartość pozostaje),\n",
    "* **b** - dodatek do poprzednich, określa tryb binarny (Windows, Macintosh),\n",
    "* **U** - dodatek do poprzednich (uniwersalny translator nowych wierszy).\n",
    "\n",
    "W systemach Windows i na macintoshach dodanie b do tryb powoduje otwarcie pliku w trybie binarnym, tak więc możemy podać tryby rb, wb i r+b. Windows rozróżnia pliki tekstowe i binarne: znaki końca linii w plikach tekstowych są automatycznie zmieniane, gdy dane są czytane lub pisane.\n",
    "\n",
    "# Odczytywanie danych z pliku\n",
    "\n",
    "Wybrane funkcje:\n",
    "\n",
    "* przeczytanie całego pliku"
   ]
  },
  {
   "cell_type": "code",
   "execution_count": 52,
   "metadata": {
    "collapsed": false
   },
   "outputs": [
    {
     "name": "stdout",
     "output_type": "stream",
     "text": [
      "Ala ma kota.\n",
      "Kot ma mysz.\n",
      "Mysz jest wolna.\n"
     ]
    }
   ],
   "source": [
    "f = open('plik.txt', 'r')\n",
    "try:\n",
    "    tekst = f.read()\n",
    "finally:\n",
    "    f.close()\n",
    "\n",
    "print(tekst)"
   ]
  },
  {
   "cell_type": "markdown",
   "metadata": {},
   "source": [
    "* przeczytanie kilku (n) znaków:"
   ]
  },
  {
   "cell_type": "code",
   "execution_count": 53,
   "metadata": {
    "collapsed": false
   },
   "outputs": [
    {
     "name": "stdout",
     "output_type": "stream",
     "text": [
      "Ala ma \n"
     ]
    }
   ],
   "source": [
    "f = open('plik.txt', 'r')\n",
    "try:\n",
    "    tekst = f.read(7) # czyta 7 znakow\n",
    "finally: \n",
    "    f.close()\n",
    "\n",
    "print(tekst)"
   ]
  },
  {
   "cell_type": "markdown",
   "metadata": {},
   "source": [
    "* czytanie jednej linii (wraz ze znakiem końca linii \\n):"
   ]
  },
  {
   "cell_type": "code",
   "execution_count": 54,
   "metadata": {
    "collapsed": false
   },
   "outputs": [
    {
     "name": "stdout",
     "output_type": "stream",
     "text": [
      "Mysz jest wolna.\n"
     ]
    }
   ],
   "source": [
    "f = open('plik.txt', 'r')\n",
    "try:\n",
    "    tekst = f.readline()\n",
    "    tekst = f.readline()\n",
    "    tekst = f.readline()\n",
    "finally: \n",
    "    f.close()\n",
    "\n",
    "print(tekst)"
   ]
  },
  {
   "cell_type": "markdown",
   "metadata": {},
   "source": [
    "* przeczytanie wszystkich linii i przechowanie ich jako listę stringów z \\n na końcu:"
   ]
  },
  {
   "cell_type": "code",
   "execution_count": 19,
   "metadata": {
    "collapsed": false
   },
   "outputs": [
    {
     "name": "stdout",
     "output_type": "stream",
     "text": [
      "['Ala ma kota.\\n', 'Kot ma mysz.\\n', 'Mysz jest wolna.']\n",
      "\n",
      "Ala ma kota.\n",
      "\n"
     ]
    }
   ],
   "source": [
    "f = open('plik.txt', 'r')\n",
    "try:\n",
    "    tekst = f.readlines()\n",
    "finally: \n",
    "    f.close()\n",
    "\n",
    "print(tekst)\n",
    "\n",
    "print()\n",
    "print(tekst[0])"
   ]
  },
  {
   "cell_type": "markdown",
   "metadata": {},
   "source": [
    "# Zapisywanie danych do pliku"
   ]
  },
  {
   "cell_type": "code",
   "execution_count": 20,
   "metadata": {
    "collapsed": true
   },
   "outputs": [],
   "source": [
    "liczba = 131\n",
    "x = 1.2345\n",
    "napis = \"abcdef\"\n",
    "\n",
    "f = open('plik3.txt', 'w')\n",
    "try:\n",
    "    f.write(\"jeden\\n\")\n",
    "    f.write(str(liczba) + \"\\n\")\n",
    "    f.write(str(x) + \"\\n\")\n",
    "    f.write(napis + \"\\n\")\n",
    "finally: \n",
    "    f.close()"
   ]
  },
  {
   "cell_type": "code",
   "execution_count": 21,
   "metadata": {
    "collapsed": false
   },
   "outputs": [
    {
     "name": "stdout",
     "output_type": "stream",
     "text": [
      "jeden\n",
      "131\n",
      "1.2345\n",
      "abcdef\n",
      "\n"
     ]
    }
   ],
   "source": [
    "f = open('plik3.txt', 'r')\n",
    "try:\n",
    "    tekst = f.read()\n",
    "finally:\n",
    "    f.close()\n",
    "\n",
    "print(tekst)"
   ]
  },
  {
   "cell_type": "markdown",
   "metadata": {},
   "source": [
    "Inny zapis:"
   ]
  },
  {
   "cell_type": "code",
   "execution_count": 22,
   "metadata": {
    "collapsed": true
   },
   "outputs": [],
   "source": [
    "liczba = 535\n",
    "x = 633.647\n",
    "napis = \"ghij\"\n",
    "\n",
    "f = open('plik3.txt', 'w')\n",
    "try:\n",
    "    f.write(\"%d\\n\" % liczba)\n",
    "    f.write(\"%f\\n\" % x)\n",
    "    f.write(\"%s\\n\" % napis)\n",
    "    \n",
    "    f.write(\"%s %s %s\\n\" % (\"a1\",\"a2\",\"a3\"))\n",
    "    f.write(\"%s\\n\" % \" \".join([\"a1\",\"a2\",\"a3\"]))\n",
    "finally: \n",
    "    f.close()"
   ]
  },
  {
   "cell_type": "code",
   "execution_count": 23,
   "metadata": {
    "collapsed": false
   },
   "outputs": [
    {
     "name": "stdout",
     "output_type": "stream",
     "text": [
      "535\n",
      "633.647000\n",
      "ghij\n",
      "a1 a2 a3\n",
      "a1 a2 a3\n",
      "\n"
     ]
    }
   ],
   "source": [
    "f = open('plik3.txt', 'r')\n",
    "try:\n",
    "    tekst = f.read()\n",
    "finally:\n",
    "    f.close()\n",
    "\n",
    "print(tekst)"
   ]
  },
  {
   "cell_type": "markdown",
   "metadata": {},
   "source": [
    "Zapisywanie kilku linii do pliku:"
   ]
  },
  {
   "cell_type": "code",
   "execution_count": 24,
   "metadata": {
    "collapsed": true
   },
   "outputs": [],
   "source": [
    "str = [\"abcdef\\n\", \"nie\\n\", \"tak\\n\"]\n",
    "\n",
    "f = open('plik3.txt', 'w')\n",
    "try:\n",
    "    f.writelines(str)\n",
    "finally: \n",
    "    f.close()"
   ]
  },
  {
   "cell_type": "code",
   "execution_count": 25,
   "metadata": {
    "collapsed": false
   },
   "outputs": [
    {
     "name": "stdout",
     "output_type": "stream",
     "text": [
      "abcdef\n",
      "nie\n",
      "tak\n",
      "\n"
     ]
    }
   ],
   "source": [
    "f = open('plik3.txt', 'r')\n",
    "try:\n",
    "    tekst = f.read()\n",
    "finally:\n",
    "    f.close()\n",
    "\n",
    "print(tekst)"
   ]
  },
  {
   "cell_type": "markdown",
   "metadata": {},
   "source": [
    "# Poruszanie się po pliku\n",
    "Oprócz powyższych metod istnieją jeszcze takie, które pozwalają poruszać się ,,wewnątrz'' pliku, np.:\n",
    "\n",
    " * funkcja **tell()** - zwraca liczbę całkowitą oznaczającą bieżącą pozycję w pliku mierzoną w bajtach, licząc od początku pliku,\n",
    " * funkcja **seek**(przesuniecie, od_czego) - zmienia pozycję w pliku. Nowa pozycja obliczana jest poprzez dodanie ,,przesuniecie'' do punktu odniesienia, a ten z kolei wyznaczony jest przez wartość argumentu ,,od_czego''. Wartość od_czego równa 0 oznacza początek pliku, 1 oznacza bieżącą pozycję, a 2 to koniec pliku. ,,od_czego'' może zostać pominięte i domyślnie przyjmowane jest jako 0, używając jako punktu odniesienia początek pliku."
   ]
  },
  {
   "cell_type": "code",
   "execution_count": 41,
   "metadata": {
    "collapsed": false
   },
   "outputs": [
    {
     "name": "stdout",
     "output_type": "stream",
     "text": [
      "0\n",
      "0\n",
      "b'5'\n",
      "b'd'\n"
     ]
    }
   ],
   "source": [
    "f = open('plik5.txt', 'rb+')\n",
    "try:\n",
    "    print(f.tell())\n",
    "    print(f.tell())\n",
    "    f.seek(5)     # Idź do 5 bajtu w pliku\n",
    "    print(f.read(1))\n",
    "    f.seek(-3, 2) # Idź do 3 bajtu od końca pliku\n",
    "    print(f.read(1))\n",
    "finally: \n",
    "    f.close()"
   ]
  },
  {
   "cell_type": "markdown",
   "metadata": {},
   "source": [
    "## Przykład 1 (kopiowanie zawartości jednego pliku do drugiego):"
   ]
  },
  {
   "cell_type": "code",
   "execution_count": 44,
   "metadata": {
    "collapsed": false
   },
   "outputs": [],
   "source": [
    "def copy_file(infile_name, outfile_name):\n",
    "    infile = open(infile_name, \"r\")\n",
    "    outfile = open(outfile_name, \"w\")\n",
    "    try:\n",
    "        for line in infile:\n",
    "            outfile.write(line)\n",
    "    finally:\n",
    "        infile.close()\n",
    "        outfile.close()\n",
    "        \n",
    "copy_file(\"plik2.txt\", \"plik4.txt\")"
   ]
  },
  {
   "cell_type": "markdown",
   "metadata": {},
   "source": [
    "## Przykład 2 (pobieranie określonego wiersza z pliku):"
   ]
  },
  {
   "cell_type": "code",
   "execution_count": 56,
   "metadata": {
    "collapsed": false
   },
   "outputs": [
    {
     "name": "stdout",
     "output_type": "stream",
     "text": [
      "Kot ma mysz.\n",
      "\n"
     ]
    }
   ],
   "source": [
    "import linecache\n",
    "wiersz = linecache.getline('plik.txt', 2)\n",
    "print(wiersz)"
   ]
  },
  {
   "cell_type": "markdown",
   "metadata": {},
   "source": [
    "# Inny sposób otwierania plików\n",
    "\n",
    "W Pythonie 2.6 i 3.x pojawiła się nowa instrukcja **with** z opcjonalnym **as** związana z wyjątkami. Instrukcja ta jest alternatywą dla zwykłego zastosowania **try finally**."
   ]
  },
  {
   "cell_type": "code",
   "execution_count": 57,
   "metadata": {
    "collapsed": false
   },
   "outputs": [
    {
     "name": "stdout",
     "output_type": "stream",
     "text": [
      "True\n",
      "\n",
      "plik 2\n"
     ]
    }
   ],
   "source": [
    "# Czytanie danych z pliku.\n",
    "# Plik zostanie zamknięty nawet gdy wystąpi wyjątek.\n",
    "with open(\"plik2.txt\", 'r') as f:\n",
    "#     print f.closed\n",
    "    text = f.read()\n",
    "\n",
    "print(f.closed)\n",
    "print()\n",
    "print(text)"
   ]
  },
  {
   "cell_type": "code",
   "execution_count": 58,
   "metadata": {
    "collapsed": true
   },
   "outputs": [],
   "source": [
    "# Zapisywanie do pliku\n",
    "liczba = 234.5\n",
    "\n",
    "with open(\"plik6.txt\", 'w') as f:\n",
    "    f.write(\"%.1f\\n\" % liczba)"
   ]
  },
  {
   "cell_type": "markdown",
   "metadata": {},
   "source": [
    "## Operacje na plikach i katalogach\n",
    "\n",
    "Jednym z podstawowych zadań systemu operacyjnego jest obsługa dyskowego systemu plików. Funkcje, które pozwalają usuwać, przenosić pliki i katalogi znajdują się w modelu standardowym **os**:"
   ]
  },
  {
   "cell_type": "code",
   "execution_count": 59,
   "metadata": {
    "collapsed": true
   },
   "outputs": [],
   "source": [
    "import os"
   ]
  },
  {
   "cell_type": "markdown",
   "metadata": {},
   "source": [
    "Poniżej podamy kilka funkcji pozwalających wykonywać pewne operacje na plikach i katalogach:\n",
    " \n",
    " * jak sprawdzić, w którym znajdujemy się katalogu:"
   ]
  },
  {
   "cell_type": "code",
   "execution_count": 60,
   "metadata": {
    "collapsed": false
   },
   "outputs": [
    {
     "name": "stdout",
     "output_type": "stream",
     "text": [
      "F:\\J_python\n"
     ]
    }
   ],
   "source": [
    "print(os.getcwd())"
   ]
  },
  {
   "cell_type": "markdown",
   "metadata": {},
   "source": [
    "* jak zmienić bieżący katalog:"
   ]
  },
  {
   "cell_type": "code",
   "execution_count": 63,
   "metadata": {
    "collapsed": false
   },
   "outputs": [
    {
     "name": "stdout",
     "output_type": "stream",
     "text": [
      "F:\\\n",
      "F:\\J_python\n"
     ]
    }
   ],
   "source": [
    "os.chdir('../')\n",
    "print(os.getcwd())\n",
    "os.chdir('F:\\J_python')\n",
    "print(os.getcwd())"
   ]
  },
  {
   "cell_type": "markdown",
   "metadata": {},
   "source": [
    "* jak sprawdzić zawartość dowolnego katalogu:"
   ]
  },
  {
   "cell_type": "code",
   "execution_count": 64,
   "metadata": {
    "collapsed": false
   },
   "outputs": [
    {
     "name": "stdout",
     "output_type": "stream",
     "text": [
      "['.ipynb_checkpoints', '01.txt', '1.csv', '1.jpg', '111-checkpoint.ipynb', '111.ipynb', '2.csv', '3dGraph.png', '4_dataDisplay_ipynb.contexts.zip', '4_dataDisplay_ipynb.tasks.zip', 'AD01_Z01-checkpoint.ipynb', 'AD01_Z01.ipynb', 'AD01_Z02-checkpoint.ipynb', 'AD01_Z02.ipynb', 'AD01_Z03-checkpoint.ipynb', 'AD01_Z03.ipynb', 'add_to_python_path.ipynb', 'Analiza 5-checkpoint.ipynb', 'Analiza 5.ipynb', 'Analiza 7.ipynb', 'Analiza 8.ipynb', 'board.c', 'board.pyx', 'Brown word clustering evaluation.ipynb', 'Brown_clustering_Hartigan_1.ipynb', 'Brown_clustering_Hartigan_2.ipynb', 'Brown_clustering_Hartigan_3-Copy1.ipynb', 'Brown_clustering_Hartigan_3.ipynb', 'Brown_ex_1-Copy1.ipynb', 'Brown_ex_1-Copy2.ipynb', 'Brown_ex_1.ipynb', 'Brown_ex_1_old.ipynb', 'Brown_ex_1_temp.ipynb', 'Brown_ex_2.ipynb', 'Brown_ex_3.ipynb', 'Brown_run_1.ipynb', 'brown_test_1.ipynb', 'brown_test_2.ipynb', 'brown_test_3.ipynb', 'BV-checkpoint.ipynb', 'BV.ipynb', 'CEC.ipynb', 'cleaned_loans_2007.csv', 'Cross validation for degree-checkpoint.ipynb', 'Cross validation for degree.ipynb', 'cyton_1.ipynb', 'D10_Z1-checkpoint.ipynb', 'D10_Z1.ipynb', 'D10_Z1_R-checkpoint.ipynb', 'D10_Z1_R.ipynb', 'D10_Z2-checkpoint.ipynb', 'D10_Z2.ipynb', 'D10_Z2_R-checkpoint.ipynb', 'D10_Z2_R.ipynb', 'D11_Z1-checkpoint.ipynb', 'D11_Z1.ipynb', 'D11_Z10-checkpoint.ipynb', 'D11_Z10.ipynb', 'D11_Z10_R-checkpoint.ipynb', 'D11_Z10_R.ipynb', 'D11_Z11-checkpoint.ipynb', 'D11_Z11.ipynb', 'D11_Z12-checkpoint.ipynb', 'D11_Z12.ipynb', 'D11_Z12_R-checkpoint.ipynb', 'D11_Z12_R.ipynb', 'D11_Z13-checkpoint.ipynb', 'D11_Z13.ipynb', 'D11_Z13_R-checkpoint.ipynb', 'D11_Z13_R.ipynb', 'D11_Z14-checkpoint.ipynb', 'D11_Z14.ipynb', 'D11_Z15-checkpoint.ipynb', 'D11_Z15.ipynb', 'D11_Z16-checkpoint.ipynb', 'D11_Z16.ipynb', 'D11_Z16_R-checkpoint.ipynb', 'D11_Z16_R.ipynb', 'D11_Z17-checkpoint.ipynb', 'D11_Z17.ipynb', 'D11_Z17_R-checkpoint.ipynb', 'D11_Z17_R.ipynb', 'D11_Z1_R-checkpoint.ipynb', 'D11_Z1_R.ipynb', 'D11_Z2-checkpoint.ipynb', 'D11_Z2.ipynb', 'D11_Z2_R-checkpoint.ipynb', 'D11_Z2_R.ipynb', 'D11_Z3-checkpoint.ipynb', 'D11_Z3.ipynb', 'D11_Z3_R-checkpoint.ipynb', 'D11_Z3_R.ipynb', 'D11_Z4-checkpoint.ipynb', 'D11_Z4.ipynb', 'D11_Z4_R-checkpoint.ipynb', 'D11_Z4_R-Copy1-checkpoint.ipynb', 'D11_Z4_R-Copy1.ipynb', 'D11_Z4_R.ipynb', 'D11_Z5-checkpoint.ipynb', 'D11_Z5.ipynb', 'D11_Z5_R-checkpoint.ipynb', 'D11_Z5_R.ipynb', 'D11_Z5_R_ipynb.contexts.zip', 'D11_Z5_R_ipynb.tasks.zip', 'D11_Z6-checkpoint.ipynb', 'D11_Z6.ipynb', 'D11_Z6_R-checkpoint.ipynb', 'D11_Z6_R.ipynb', 'D11_Z7-checkpoint.ipynb', 'D11_Z7.ipynb', 'D11_Z7_R-checkpoint.ipynb', 'D11_Z7_R-Copy1-checkpoint.ipynb', 'D11_Z7_R-Copy1.ipynb', 'D11_Z7_R.ipynb', 'D11_Z8-checkpoint.ipynb', 'D11_Z8.ipynb', 'D11_Z8_R-checkpoint.ipynb', 'D11_Z8_R.ipynb', 'D11_Z9-checkpoint.ipynb', 'D11_Z9.ipynb', 'D11_Z9_R-checkpoint.ipynb', 'D11_Z9_R.ipynb', 'D12_Z1_R-checkpoint.ipynb', 'D12_Z1_R.ipynb', 'D12_Z2_R-checkpoint.ipynb', 'D12_Z2_R.ipynb', 'D12_Z3_R-checkpoint.ipynb', 'D12_Z3_R.ipynb', 'D12_Z4_R-checkpoint.ipynb', 'D12_Z4_R.ipynb', 'D12_Z5-checkpoint.ipynb', 'D12_Z5.ipynb', 'D12_Z6-checkpoint.ipynb', 'D12_Z6.ipynb', 'D12_Z6_R-checkpoint.ipynb', 'D12_Z6_R.ipynb', 'D14_Z1-checkpoint.ipynb', 'D14_Z1.ipynb', 'D14_Z10-checkpoint.ipynb', 'D14_Z10.ipynb', 'D14_Z10_R-checkpoint.ipynb', 'D14_Z10_R.ipynb', 'D14_Z11-checkpoint.ipynb', 'D14_Z11.ipynb', 'D14_Z11_a-checkpoint.ipynb', 'D14_Z11_a.ipynb', 'D14_Z11_R-checkpoint.ipynb', 'D14_Z11_R.ipynb', 'D14_Z1_R-checkpoint.ipynb', 'D14_Z1_R.ipynb', 'D14_Z2-checkpoint.ipynb', 'D14_Z2.ipynb', 'D14_Z2_R-checkpoint.ipynb', 'D14_Z2_R.ipynb', 'D14_Z3-checkpoint.ipynb', 'D14_Z3.ipynb', 'D14_Z3_r-checkpoint.ipynb', 'D14_Z3_r.ipynb', 'D14_Z4-checkpoint.ipynb', 'D14_Z4.ipynb', 'D14_Z4_R-checkpoint.ipynb', 'D14_Z4_R.ipynb', 'D14_Z5-checkpoint.ipynb', 'D14_Z5.ipynb', 'D14_Z6-checkpoint.ipynb', 'D14_Z6.ipynb', 'D14_Z6_R-checkpoint.ipynb', 'D14_Z6_R.ipynb', 'D14_Z7-checkpoint.ipynb', 'D14_Z7.ipynb', 'D14_Z7_R-checkpoint.ipynb', 'D14_Z7_R.ipynb', 'D14_Z8-checkpoint.ipynb', 'D14_Z8.ipynb', 'D14_Z8_R-checkpoint.ipynb', 'D14_Z8_R.ipynb', 'D14_Z9-checkpoint.ipynb', 'D14_Z9.ipynb', 'D15_Z1-checkpoint.ipynb', 'D15_Z1.ipynb', 'D15_Z10-checkpoint.ipynb', 'D15_Z10.ipynb', 'D15_Z10_R-checkpoint.ipynb', 'D15_Z10_R.ipynb', 'D15_Z11-checkpoint.ipynb', 'D15_Z11.ipynb', 'D15_Z12-checkpoint.ipynb', 'D15_Z12.ipynb', 'D15_Z12_R-checkpoint.ipynb', 'D15_Z12_R.ipynb', 'D15_Z13-checkpoint.ipynb', 'D15_Z13.ipynb', 'D15_Z13_R-checkpoint.ipynb', 'D15_Z13_R.ipynb', 'D15_Z14-checkpoint.ipynb', 'D15_Z14.ipynb', 'D15_Z15-checkpoint.ipynb', 'D15_Z15.ipynb', 'D15_Z15_R-checkpoint.ipynb', 'D15_Z15_R.ipynb', 'D15_Z16-checkpoint.ipynb', 'D15_Z16.ipynb', 'D15_Z17-checkpoint.ipynb', 'D15_Z17.ipynb', 'D15_Z1_R-checkpoint.ipynb', 'D15_Z1_R.ipynb', 'D15_Z2-checkpoint.ipynb', 'D15_Z2.ipynb', 'D15_Z3-checkpoint.ipynb', 'D15_Z3.ipynb', 'D15_Z3_R-checkpoint.ipynb', 'D15_Z3_R.ipynb', 'D15_Z4-checkpoint.ipynb', 'D15_Z4.ipynb', 'D15_Z4_R-checkpoint.ipynb', 'D15_Z4_R.ipynb', 'D15_Z5-checkpoint.ipynb', 'D15_Z5.ipynb', 'D15_Z5_R-checkpoint.ipynb', 'D15_Z5_R.ipynb', 'D15_Z6-checkpoint.ipynb', 'D15_Z6.ipynb', 'D15_Z7-checkpoint.ipynb', 'D15_Z7.ipynb', 'D15_Z7_R-checkpoint.ipynb', 'D15_Z7_R.ipynb', 'D15_Z8-checkpoint.ipynb', 'D15_Z8.ipynb', 'D15_Z8_R-checkpoint.ipynb', 'D15_Z8_R.ipynb', 'D15_Z9-checkpoint.ipynb', 'D15_Z9.ipynb', 'D15_Z9_R-checkpoint.ipynb', 'D15_Z9_R.ipynb', 'D16_Z1-checkpoint.ipynb', 'D16_Z1.ipynb', 'D16_Z2-checkpoint.ipynb', 'D16_Z2.ipynb', 'D16_Z3-checkpoint.ipynb', 'D16_Z3.ipynb', 'D16_Z4-checkpoint.ipynb', 'D16_Z4.ipynb', 'D16_Z5-checkpoint.ipynb', 'D16_Z5-Copy2-checkpoint.ipynb', 'D16_Z5-Copy2.ipynb', 'D16_Z5.ipynb', 'D16_Z6-checkpoint.ipynb', 'D16_Z6.ipynb', 'D1_Z10-checkpoint.ipynb', 'D1_Z10.ipynb', 'D1_Z10_R-checkpoint.ipynb', 'D1_Z10_R.ipynb', 'D1_Z11-checkpoint.ipynb', 'D1_Z11.ipynb', 'D1_Z11_R-checkpoint.ipynb', 'D1_Z11_R.ipynb', 'D1_Z1_R-checkpoint.ipynb', 'D1_Z1_R.ipynb', 'D1_Z2-checkpoint.ipynb', 'D1_Z2.ipynb', 'D1_Z2_R-checkpoint.ipynb', 'D1_Z2_R.ipynb', 'D1_Z3-checkpoint.ipynb', 'D1_Z3.ipynb', 'D1_Z3_R-checkpoint.ipynb', 'D1_Z3_R.ipynb', 'D1_Z4-checkpoint.ipynb', 'D1_Z4.ipynb', 'D1_Z5-checkpoint.ipynb', 'D1_Z5.ipynb', 'D1_Z6-checkpoint.ipynb', 'D1_Z6.ipynb', 'D1_Z7-checkpoint.ipynb', 'D1_Z7.ipynb', 'D1_Z7_R-checkpoint.ipynb', 'D1_Z7_R.ipynb', 'D1_Z8.ipynb', 'D1_Z8_R-checkpoint.ipynb', 'D1_Z8_R.ipynb', 'D1_Z9-checkpoint.ipynb', 'D1_Z9.ipynb', 'D2_Z1-checkpoint.ipynb', 'D2_Z1.ipynb', 'D2_Z10-checkpoint.ipynb', 'D2_Z10.ipynb', 'D2_Z10_R-checkpoint.ipynb', 'D2_Z10_R.ipynb', 'D2_Z11-checkpoint.ipynb', 'D2_Z11.ipynb', 'D2_Z11_R-checkpoint.ipynb', 'D2_Z11_R.ipynb', 'D2_Z2-checkpoint.ipynb', 'D2_Z2.ipynb', 'D2_Z3-checkpoint.ipynb', 'D2_Z3.ipynb', 'D2_Z3_R-checkpoint.ipynb', 'D2_Z3_R.ipynb', 'D2_Z4-checkpoint.ipynb', 'D2_Z4.ipynb', 'D2_Z4_ipynb.contexts.zip', 'D2_Z4_ipynb.tasks.zip', 'D2_Z5-checkpoint.ipynb', 'D2_Z5.ipynb', 'D2_Z5_R-checkpoint.ipynb', 'D2_Z5_R.ipynb', 'D2_Z6-checkpoint.ipynb', 'D2_Z6-Copy1-checkpoint.ipynb', 'D2_Z6-Copy1.ipynb', 'D2_Z6.ipynb', 'D2_Z6_R-checkpoint.ipynb', 'D2_Z6_R.ipynb', 'D2_Z7-checkpoint.ipynb', 'D2_Z7.ipynb', 'D2_Z7_R-checkpoint.ipynb', 'D2_Z7_R.ipynb', 'D2_Z8-checkpoint.ipynb', 'D2_Z8.ipynb', 'D2_Z8_R-checkpoint.ipynb', 'D2_Z8_R.ipynb', 'D2_Z9-checkpoint.ipynb', 'D2_Z9.ipynb', 'D2_Z9_R-checkpoint.ipynb', 'D2_Z9_R.ipynb', 'D3_Z1-checkpoint.ipynb', 'D3_Z1.ipynb', 'D3_Z10-checkpoint.ipynb', 'D3_Z10.ipynb', 'D3_Z10_R-checkpoint.ipynb', 'D3_Z10_R.ipynb', 'D3_Z11-checkpoint.ipynb', 'D3_Z11.ipynb', 'D3_Z11_R-checkpoint.ipynb', 'D3_Z11_R.ipynb', 'D3_Z12-checkpoint.ipynb', 'D3_Z12.ipynb', 'D3_Z12_R-checkpoint.ipynb', 'D3_Z12_R.ipynb', 'D3_Z19_RR-checkpoint.ipynb', 'D3_Z2-checkpoint.ipynb', 'D3_Z2.ipynb', 'D3_Z2_R-checkpoint.ipynb', 'D3_Z2_R.ipynb', 'D3_Z3-checkpoint.ipynb', 'D3_Z3.ipynb', 'D3_Z3_R-checkpoint.ipynb', 'D3_Z3_R.ipynb', 'D3_Z4-checkpoint.ipynb', 'D3_Z4.ipynb', 'D3_Z4_R-checkpoint.ipynb', 'D3_Z4_R.ipynb', 'D3_Z5-checkpoint.ipynb', 'D3_Z5.ipynb', 'D3_Z5_R-checkpoint.ipynb', 'D3_Z5_R.ipynb', 'D3_Z6-checkpoint.ipynb', 'D3_Z6.ipynb', 'D3_Z6_R-checkpoint.ipynb', 'D3_Z6_R.ipynb', 'D3_Z7-checkpoint.ipynb', 'D3_Z7.ipynb', 'D3_Z7_R-checkpoint.ipynb', 'D3_Z7_R.ipynb', 'D3_Z8-checkpoint.ipynb', 'D3_Z8.ipynb', 'D3_Z8_R-checkpoint.ipynb', 'D3_Z8_R.ipynb', 'D3_Z9-checkpoint.ipynb', 'D3_Z9.ipynb', 'D3_Z9_R-checkpoint.ipynb', 'D3_Z9_R.ipynb', 'D4_Z1-checkpoint.ipynb', 'D4_Z1.ipynb', 'D4_Z1_R-checkpoint.ipynb', 'D4_Z1_R.ipynb', 'D5_Z1-checkpoint.ipynb', 'D5_Z1.ipynb', 'D5_Z10-checkpoint.ipynb', 'D5_Z10.ipynb', 'D5_Z1_R-checkpoint.ipynb', 'D5_Z1_R.ipynb', 'D5_Z2-checkpoint.ipynb', 'D5_Z2.ipynb', 'D5_Z2_R-checkpoint.ipynb', 'D5_Z2_R.ipynb', 'D5_Z3-checkpoint.ipynb', 'D5_Z3.ipynb', 'D5_Z3_R-checkpoint.ipynb', 'D5_Z3_R.ipynb', 'D5_Z4-checkpoint.ipynb', 'D5_Z4.ipynb', 'D5_Z4_R-checkpoint.ipynb', 'D5_Z4_R.ipynb', 'D5_Z5-checkpoint.ipynb', 'D5_Z5.ipynb', 'D5_Z5_R-checkpoint.ipynb', 'D5_Z5_R.ipynb', 'D5_Z6-checkpoint.ipynb', 'D5_Z6.ipynb', 'D5_Z6_R-checkpoint.ipynb', 'D5_Z6_R.ipynb', 'D5_Z7-checkpoint.ipynb', 'D5_Z7.ipynb', 'D5_Z8-checkpoint.ipynb', 'D5_Z8.ipynb', 'D5_Z9-checkpoint.ipynb', 'D5_Z9.ipynb', 'D6_Z1-checkpoint.ipynb', 'D6_Z1.ipynb', 'D6_Z1_R-checkpoint.ipynb', 'D6_Z1_R.ipynb', 'D6_Z2-checkpoint.ipynb', 'D6_Z2-Copy1-checkpoint.ipynb', 'D6_Z2-Copy1.ipynb', 'D6_Z2.ipynb', 'D6_Z2_R-checkpoint.ipynb', 'D6_Z2_R.ipynb', 'D6_Z3-checkpoint.ipynb', 'D6_Z3.ipynb', 'D6_Z3_ipynb.contexts.zip', 'D6_Z3_ipynb.tasks.zip', 'D6_Z3_R-checkpoint.ipynb', 'D6_Z3_R.ipynb', 'D6_Z4-checkpoint.ipynb', 'D6_Z4.ipynb', 'D6_Z4_R-checkpoint.ipynb', 'D6_Z4_R.ipynb', 'D6_Z5-checkpoint.ipynb', 'D6_Z5.ipynb', 'D6_Z5_R-checkpoint.ipynb', 'D6_Z5_R.ipynb', 'D6_Z6-checkpoint.ipynb', 'D6_Z6.ipynb', 'D7_Z1-checkpoint.ipynb', 'D7_Z1.ipynb', 'D7_Z10-checkpoint.ipynb', 'D7_Z10.ipynb', 'D7_Z10_R-checkpoint.ipynb', 'D7_Z10_R.ipynb', 'D7_Z11-checkpoint.ipynb', 'D7_Z11.ipynb', 'D7_Z11_R-checkpoint.ipynb', 'D7_Z11_R.ipynb', 'D7_Z12-checkpoint.ipynb', 'D7_Z12.ipynb', 'D7_Z12_R-checkpoint.ipynb', 'D7_Z12_R.ipynb', 'D7_Z13-checkpoint.ipynb', 'D7_Z13.ipynb', 'D7_Z14-checkpoint.ipynb', 'D7_Z14.ipynb', 'D7_Z14_R-checkpoint.ipynb', 'D7_Z14_R.ipynb', 'D7_Z15-checkpoint.ipynb', 'D7_Z15.ipynb', 'D7_Z16-checkpoint.ipynb', 'D7_Z16.ipynb', 'D7_Z17-checkpoint.ipynb', 'D7_Z17.ipynb', 'D7_Z17_R-checkpoint.ipynb', 'D7_Z17_R.ipynb', 'D7_Z18-checkpoint.ipynb', 'D7_Z18.ipynb', 'D7_Z18_R-checkpoint.ipynb', 'D7_Z18_R.ipynb', 'D7_Z1_R-checkpoint.ipynb', 'D7_Z1_R.ipynb', 'D7_Z2-checkpoint.ipynb', 'D7_Z2.ipynb', 'D7_Z2_R-checkpoint.ipynb', 'D7_Z2_R.ipynb', 'D7_Z3-checkpoint.ipynb', 'D7_Z3.ipynb', 'D7_Z4-checkpoint.ipynb', 'D7_Z4.ipynb', 'D7_Z4_R-checkpoint.ipynb', 'D7_Z4_R.ipynb', 'D7_Z5-checkpoint.ipynb', 'D7_Z5.ipynb', 'D7_Z5_R-checkpoint.ipynb', 'D7_Z5_R.ipynb', 'D7_Z6-checkpoint.ipynb', 'D7_Z6.ipynb', 'D7_Z6_ipynb.contexts.zip', 'D7_Z6_ipynb.tasks.zip', 'D7_Z6_R-checkpoint.ipynb', 'D7_Z6_R.ipynb', 'D7_Z7-checkpoint.ipynb', 'D7_Z7.ipynb', 'D7_Z7_R-checkpoint.ipynb', 'D7_Z7_R.ipynb', 'D7_Z8-checkpoint.ipynb', 'D7_Z8.ipynb', 'D7_Z8_R-checkpoint.ipynb', 'D7_Z8_R.ipynb', 'D7_Z9-checkpoint.ipynb', 'D7_Z9.ipynb', 'D7_Z9_R-checkpoint.ipynb', 'D7_Z9_R.ipynb', 'D8_Z1-checkpoint.ipynb', 'D8_Z1.ipynb', 'D8_Z10-checkpoint.ipynb', 'D8_Z10.ipynb', 'D8_Z10_R-checkpoint.ipynb', 'D8_Z10_R.ipynb', 'D8_Z11-checkpoint.ipynb', 'D8_Z11.ipynb', 'D8_Z11_R-checkpoint.ipynb', 'D8_Z11_R.ipynb', 'D8_Z12-checkpoint.ipynb', 'D8_Z12.ipynb', 'D8_Z12_R-checkpoint.ipynb', 'D8_Z12_R.ipynb', 'D8_Z13-checkpoint.ipynb', 'D8_Z13.ipynb', 'D8_Z13_R-checkpoint.ipynb', 'D8_Z13_R.ipynb', 'D8_Z2-checkpoint.ipynb', 'D8_Z2.ipynb', 'D8_Z2_R-checkpoint.ipynb', 'D8_Z2_R.ipynb', 'D8_Z3-checkpoint.ipynb', 'D8_Z3.ipynb', 'D8_Z4-checkpoint.ipynb', 'D8_Z4.ipynb', 'D8_Z4_R-checkpoint.ipynb', 'D8_Z4_R.ipynb', 'D8_Z5-checkpoint.ipynb', 'D8_Z5.ipynb', 'D8_Z6-checkpoint.ipynb', 'D8_Z6.ipynb', 'D8_Z7-checkpoint.ipynb', 'D8_Z7.ipynb', 'D8_Z8-checkpoint.ipynb', 'D8_Z8.ipynb', 'D8_Z8_R-checkpoint.ipynb', 'D8_Z8_R.ipynb', 'D8_Z9-checkpoint.ipynb', 'D8_Z9.ipynb', 'D8_Z9_R-checkpoint.ipynb', 'D8_Z9_R.ipynb', 'D9_Z1-checkpoint.ipynb', 'D9_Z1.ipynb', 'D9_Z1_R-checkpoint.ipynb', 'D9_Z1_R.ipynb', 'D9_Z2-checkpoint.ipynb', 'D9_Z2.ipynb', 'D9_Z2_R-checkpoint.ipynb', 'D9_Z2_R.ipynb', 'D9_Z3-checkpoint.ipynb', 'D9_Z3.ipynb', 'D9_Z4-checkpoint.ipynb', 'D9_Z4.ipynb', 'D9_Z4_R-checkpoint.ipynb', 'D9_Z4_R.ipynb', 'D9_Z5-checkpoint.ipynb', 'D9_Z5.ipynb', 'D9_Z5_R-checkpoint.ipynb', 'D9_Z5_R.ipynb', 'data', 'data.txt', 'data2.txt', 'data3.txt', 'datatoy', 'Etap_1___klasyfikacja___laborki_checkpoint_ipynb.contexts.zip', 'Etap_1___klasyfikacja___laborki_checkpoint_ipynb.tasks.zip', 'eurowizja.csv', 'Feature_selection-checkpoint.ipynb', 'Feature_selection.ipynb', 'filtered_loans_2007.csv', 'fish.csv', 'food.txt', 'grid-checkpoint.ipynb', 'grid.ipynb', 'Hartigan.ipynb', 'iris.dat', 'K1-checkpoint.ipynb', 'K1.ipynb', 'K2 -checkpoint.ipynb', 'K2 .ipynb', 'keras_1.ipynb', 'lab2-checkpoint.ipynb', 'lab2.ipynb', 'lab3 (1)-checkpoint.ipynb', 'lab3 (1).ipynb', 'lab4-checkpoint.ipynb', 'lab4.ipynb', 'lab5.ipynb', 'lab6-checkpoint.ipynb', 'lab6.ipynb', 'lab7.ipynb', 'lab8.ipynb', 'labels.txt', 'LSTM_1-checkpoint.ipynb', 'LSTM_1.ipynb', 'Miasta.txt', 'ML_2 _materialy-checkpoint.ipynb', 'ML_2 _materialy.ipynb', 'ML_3_materialy-checkpoint.ipynb', 'ML_3_materialy.ipynb', 'ML_3_warsztaty-checkpoint.ipynb', 'ML_3_warsztaty.ipynb', 'ML_3_warsztaty_ipynb.contexts.zip', 'ML_3_warsztaty_ipynb.tasks.zip', 'Modele Języka.ipynb', 'P1_Z1.ipynb', 'P1_Z2.ipynb', 'P1_Z3.ipynb', 'P2_Z1.ipynb', 'P2_Z2.ipynb', 'packages.xml', 'plik.txt', 'plik1.txt', 'plik2.txt', 'plik3.txt', 'plik4.txt', 'plik5.txt', 'plik6.txt', 'plot_eeg.ipynb', 'przyklad.ipynb', 'q.csv', 'qwe.txt', 'read_dic_arpa.ipynb', 'recentProjectDirectories.xml', 'regression_wLegend.png', 'Rela_1-checkpoint.ipynb', 'Rela_1.ipynb', 'Rela_2-checkpoint.ipynb', 'Rela_2.ipynb', 'Rela_2_plot-checkpoint.ipynb', 'Rela_2_plot.ipynb', 'Rela_3_residual-checkpoint.ipynb', 'Rela_3_residual-Copy1-checkpoint.ipynb', 'Rela_3_residual-Copy1.ipynb', 'Rela_3_residual.ipynb', 'reliability-checkpoint.ipynb', 'reliability.ipynb', 'Rozmowa_1.ipynb', 'Rozmowa_2.ipynb', 'Rozmowa_3.ipynb', 'scikit_1.ipynb', 'scikit_2.ipynb', 'seeds.tsv', 'seeds_dataset.txt', 'SIG.png', 'Sinewave.png', 'somefile.png', 'sparse_matrix.ipynb', 'split.ipynb', 'sprawdzam_CEC_python.ipynb', 'ST2-checkpoint.ipynb', 'ST2.ipynb', 'ST7-checkpoint.ipynb', 'ST7.ipynb', 'summer-travel-gps-full.csv', 'test-output', 'Text_1.ipynb', 'Text_2.ipynb', 'Text_3.ipynb', 'Text_4.ipynb', 'Text_5.ipynb', 'Text_6.ipynb', 'topics.txt', 'tree.dot', 'tree.ipynb', 'tree.png', 'Tree_2.ipynb', 'TS8-checkpoint.ipynb', 'TS8.ipynb', 'untitled', 'Untitled-checkpoint.ipynb', 'Untitled.ipynb', 'untitled.txt', 'Untitled1-checkpoint.ipynb', 'Untitled1.ipynb', 'Untitled10-checkpoint.ipynb', 'Untitled10.ipynb', 'Untitled10_ipynb.contexts.zip', 'Untitled10_ipynb.tasks.zip', 'Untitled11-checkpoint.ipynb', 'Untitled11.ipynb', 'Untitled12-checkpoint.ipynb', 'Untitled12.ipynb', 'Untitled13-checkpoint.ipynb', 'Untitled13.ipynb', 'Untitled14-checkpoint.ipynb', 'Untitled14.ipynb', 'Untitled15-checkpoint.ipynb', 'Untitled15.ipynb', 'Untitled16-checkpoint.ipynb', 'Untitled16.ipynb', 'Untitled17-checkpoint.ipynb', 'Untitled17.ipynb', 'Untitled18-checkpoint.ipynb', 'Untitled18.ipynb', 'Untitled19-checkpoint.ipynb', 'Untitled19.ipynb', 'Untitled2-checkpoint.ipynb', 'Untitled2-Copy1-checkpoint.ipynb', 'Untitled2-Copy1.ipynb', 'Untitled2.ipynb', 'Untitled20-checkpoint.ipynb', 'Untitled20.ipynb', 'Untitled21-checkpoint.ipynb', 'Untitled21.ipynb', 'Untitled22-checkpoint.ipynb', 'Untitled22.ipynb', 'Untitled23-checkpoint.ipynb', 'Untitled23.ipynb', 'Untitled24-checkpoint.ipynb', 'Untitled24.ipynb', 'Untitled25-checkpoint.ipynb', 'Untitled25.ipynb', 'Untitled26-checkpoint.ipynb', 'Untitled26.ipynb', 'Untitled27-checkpoint.ipynb', 'Untitled27.ipynb', 'Untitled28-checkpoint.ipynb', 'Untitled28.ipynb', 'Untitled29-checkpoint.ipynb', 'Untitled29.ipynb', 'Untitled3-checkpoint.ipynb', 'Untitled3.ipynb', 'Untitled30-checkpoint.ipynb', 'Untitled30.ipynb', 'Untitled31-checkpoint.ipynb', 'Untitled31.ipynb', 'Untitled32-checkpoint.ipynb', 'Untitled32.ipynb', 'Untitled33-checkpoint.ipynb', 'Untitled33.ipynb', 'Untitled34-checkpoint.ipynb', 'Untitled34.ipynb', 'Untitled35-checkpoint.ipynb', 'Untitled35.ipynb', 'Untitled36-checkpoint.ipynb', 'Untitled36.ipynb', 'Untitled37-checkpoint.ipynb', 'Untitled37.ipynb', 'Untitled38-checkpoint.ipynb', 'Untitled38.ipynb', 'Untitled39-checkpoint.ipynb', 'Untitled39.ipynb', 'Untitled4-checkpoint.ipynb', 'Untitled4.ipynb', 'Untitled40-checkpoint.ipynb', 'Untitled40.ipynb', 'Untitled41-checkpoint.ipynb', 'Untitled41.ipynb', 'Untitled42-checkpoint.ipynb', 'Untitled42.ipynb', 'Untitled43-checkpoint.ipynb', 'Untitled43.ipynb', 'Untitled44-checkpoint.ipynb', 'Untitled44.ipynb', 'Untitled45-checkpoint.ipynb', 'Untitled45.ipynb', 'Untitled46-checkpoint.ipynb', 'Untitled46.ipynb', 'Untitled47.ipynb', 'Untitled48-checkpoint.ipynb', 'Untitled48.ipynb', 'Untitled49-checkpoint.ipynb', 'Untitled49.ipynb', 'Untitled5-checkpoint.ipynb', 'Untitled5.ipynb', 'Untitled50.ipynb', 'Untitled51.ipynb', 'Untitled52.ipynb', 'Untitled53.ipynb', 'Untitled54.ipynb', 'Untitled55.ipynb', 'Untitled56.ipynb', 'Untitled57.ipynb', 'Untitled58.ipynb', 'Untitled59.ipynb', 'Untitled6-checkpoint.ipynb', 'Untitled6.ipynb', 'Untitled60.ipynb', 'Untitled61.ipynb', 'Untitled7-checkpoint.ipynb', 'Untitled7.ipynb', 'Untitled8-checkpoint.ipynb', 'Untitled8.ipynb', 'Untitled9-checkpoint.ipynb', 'Untitled9.ipynb', 'vaw_python-checkpoint.ipynb', 'vaw_python.ipynb', 'web_traffic.tsv', 'yarn.txt', 'Z1-checkpoint.ipynb', 'Z1.ipynb', 'Z10-checkpoint.ipynb', 'Z10.ipynb', 'Z12-checkpoint.ipynb', 'Z12.ipynb', 'Z13-checkpoint.ipynb', 'Z13.ipynb', 'Z14-checkpoint.ipynb', 'Z14.ipynb', 'Z16-checkpoint.ipynb', 'Z16.ipynb', 'Z17-checkpoint.ipynb', 'Z17.ipynb', 'Z18-checkpoint.ipynb', 'Z18-Copy1-checkpoint.ipynb', 'Z18-Copy1.ipynb', 'Z18.ipynb', 'Z19-checkpoint.ipynb', 'Z19.ipynb', 'Z1_ipynb.contexts.zip', 'Z1_ipynb.tasks.zip', 'Z2-checkpoint.ipynb', 'Z2-Copy1-checkpoint.ipynb', 'Z2-Copy1.ipynb', 'Z2.ipynb', 'Z20-checkpoint.ipynb', 'Z20.ipynb', 'Z21-checkpoint.ipynb', 'Z21.ipynb', 'Z25-checkpoint.ipynb', 'Z25.ipynb', 'Z26-checkpoint.ipynb', 'Z26.ipynb', 'Z26a-checkpoint.ipynb', 'Z26a.ipynb', 'Z26b-checkpoint.ipynb', 'Z26b.ipynb', 'Z27-checkpoint.ipynb', 'Z27.ipynb', 'Z28-checkpoint.ipynb', 'Z28.ipynb', 'Z29-checkpoint.ipynb', 'Z29-Copy1-checkpoint.ipynb', 'Z29-Copy1.ipynb', 'Z29.ipynb', 'Z2_ipynb.contexts.zip', 'Z2_ipynb.tasks.zip', 'Z3-checkpoint.ipynb', 'Z3.ipynb', 'Z30-checkpoint.ipynb', 'Z30.ipynb', 'Z33-checkpoint.ipynb', 'Z33.ipynb', 'Z34-checkpoint.ipynb', 'Z34.ipynb', 'Z35-checkpoint.ipynb', 'Z35.ipynb', 'Z4-checkpoint.ipynb', 'Z4.ipynb', 'Z5-checkpoint.ipynb', 'Z5.ipynb', 'Z9-checkpoint.ipynb', 'Z9.ipynb', 'zlecenie_1-checkpoint.ipynb', 'zlecenie_1.ipynb', 'ZZ6-checkpoint.ipynb', 'ZZ6.ipynb', 'ZZ7-checkpoint.ipynb', 'ZZ7.ipynb', '_viminfo']\n",
      "\n"
     ]
    },
    {
     "ename": "PermissionError",
     "evalue": "[WinError 21] Urządzenie nie jest gotowe: 'e:\\\\programy'",
     "output_type": "error",
     "traceback": [
      "\u001b[0;31m---------------------------------------------------------------------------\u001b[0m",
      "\u001b[0;31mPermissionError\u001b[0m                           Traceback (most recent call last)",
      "\u001b[0;32m<ipython-input-64-3bbae9c39310>\u001b[0m in \u001b[0;36m<module>\u001b[0;34m()\u001b[0m\n\u001b[1;32m      1\u001b[0m \u001b[0mprint\u001b[0m\u001b[1;33m(\u001b[0m\u001b[0mos\u001b[0m\u001b[1;33m.\u001b[0m\u001b[0mlistdir\u001b[0m\u001b[1;33m(\u001b[0m\u001b[1;34m'.'\u001b[0m\u001b[1;33m)\u001b[0m\u001b[1;33m)\u001b[0m\u001b[1;33m\u001b[0m\u001b[0m\n\u001b[1;32m      2\u001b[0m \u001b[0mprint\u001b[0m\u001b[1;33m(\u001b[0m\u001b[1;33m)\u001b[0m\u001b[1;33m\u001b[0m\u001b[0m\n\u001b[0;32m----> 3\u001b[0;31m \u001b[0mprint\u001b[0m\u001b[1;33m(\u001b[0m\u001b[0mos\u001b[0m\u001b[1;33m.\u001b[0m\u001b[0mlistdir\u001b[0m\u001b[1;33m(\u001b[0m\u001b[1;34mr'e:\\programy'\u001b[0m\u001b[1;33m)\u001b[0m\u001b[1;33m)\u001b[0m\u001b[1;33m\u001b[0m\u001b[0m\n\u001b[0m",
      "\u001b[0;31mPermissionError\u001b[0m: [WinError 21] Urządzenie nie jest gotowe: 'e:\\\\programy'"
     ]
    }
   ],
   "source": [
    "print(os.listdir('.'))\n",
    "print()\n",
    "print(os.listdir(r'e:\\programy'))"
   ]
  },
  {
   "cell_type": "markdown",
   "metadata": {},
   "source": [
    "* jak znaleźć pliki z rozszerzeniem ,,exe'':"
   ]
  },
  {
   "cell_type": "code",
   "execution_count": 69,
   "metadata": {
    "collapsed": false
   },
   "outputs": [
    {
     "name": "stdout",
     "output_type": "stream",
     "text": [
      "['bfsvc.exe', 'explorer.exe', 'HelpPane.exe', 'hh.exe', 'notepad.exe', 'regedit.exe', 'splwow64.exe', 'TWUNK_16.EXE', 'TWUNK_32.EXE', 'winhlp32.exe', 'write.exe']\n"
     ]
    }
   ],
   "source": [
    "import fnmatch\n",
    "# fnmatch(nazwa, wzorzec) - zwraca prawdę, wtedy i tylko wtedy, \n",
    "# gdy nazwa odpowiada wzorcowi\n",
    "\n",
    "print([x for x in os.listdir(r'C:\\Windows') if fnmatch.fnmatch(x,'*.exe')])"
   ]
  },
  {
   "cell_type": "markdown",
   "metadata": {},
   "source": [
    "* jak otrzymać katalog i nazwę pliku ze ścieżki path:"
   ]
  },
  {
   "cell_type": "code",
   "execution_count": 71,
   "metadata": {
    "collapsed": false
   },
   "outputs": [
    {
     "name": "stdout",
     "output_type": "stream",
     "text": [
      "('C:\\\\Python24\\nazwa_katalogu', 'plik.txt')\n",
      "C:\\Python24\\nazwa_katalogu\n",
      "plik.txt\n"
     ]
    }
   ],
   "source": [
    "print(os.path.split('C:\\Python24\\nazwa_katalogu\\plik.txt'))\n",
    "print(os.path.split(r'C:\\Python24\\nazwa_katalogu\\plik.txt')[0])\n",
    "print(os.path.split('C:\\Python24\\nazwa_katalogu\\plik.txt')[1])\n"
   ]
  },
  {
   "cell_type": "markdown",
   "metadata": {},
   "source": [
    "* jak połączyć ciąg katalogów w jedną ścieżkę:"
   ]
  },
  {
   "cell_type": "code",
   "execution_count": 72,
   "metadata": {
    "collapsed": false
   },
   "outputs": [
    {
     "name": "stdout",
     "output_type": "stream",
     "text": [
      "C:Python24\\nazwa_katalogu\\plik.txt\n"
     ]
    }
   ],
   "source": [
    "print(os.path.join('C:','Python24','nazwa_katalogu','plik.txt'))"
   ]
  },
  {
   "cell_type": "markdown",
   "metadata": {},
   "source": [
    "* jak srawdzić czy dany plik istnieje:"
   ]
  },
  {
   "cell_type": "code",
   "execution_count": 73,
   "metadata": {
    "collapsed": false
   },
   "outputs": [
    {
     "name": "stdout",
     "output_type": "stream",
     "text": [
      "False\n",
      "True\n"
     ]
    }
   ],
   "source": [
    "print(os.path.exists('e:'))\n",
    "print(os.path.exists('f:'))"
   ]
  },
  {
   "cell_type": "markdown",
   "metadata": {},
   "source": [
    "* jak stworzyć nowy katalog:"
   ]
  },
  {
   "cell_type": "code",
   "execution_count": 74,
   "metadata": {
    "collapsed": true
   },
   "outputs": [],
   "source": [
    "os.mkdir('nowy')"
   ]
  },
  {
   "cell_type": "markdown",
   "metadata": {},
   "source": [
    "* ak zmienić nazwę pliku lub katalogu:"
   ]
  },
  {
   "cell_type": "code",
   "execution_count": 75,
   "metadata": {
    "collapsed": true
   },
   "outputs": [],
   "source": [
    "os.rename('nowy','nowy_1')"
   ]
  },
  {
   "cell_type": "markdown",
   "metadata": {},
   "source": [
    "* jak sprawdzić, czy dany obiekt jest plikiem:"
   ]
  },
  {
   "cell_type": "code",
   "execution_count": 77,
   "metadata": {
    "collapsed": false
   },
   "outputs": [
    {
     "name": "stdout",
     "output_type": "stream",
     "text": [
      "False\n",
      "True\n"
     ]
    }
   ],
   "source": [
    "print(os.path.isfile('e:'))\n",
    "print(os.path.isfile('./plik1.txt'))"
   ]
  },
  {
   "cell_type": "markdown",
   "metadata": {},
   "source": [
    "* jak sprawdzić, czy dany obiekt jest katalogiem:"
   ]
  },
  {
   "cell_type": "code",
   "execution_count": 78,
   "metadata": {
    "collapsed": false
   },
   "outputs": [
    {
     "name": "stdout",
     "output_type": "stream",
     "text": [
      "False\n"
     ]
    }
   ],
   "source": [
    "print(os.path.isdir('e:'))"
   ]
  },
  {
   "cell_type": "markdown",
   "metadata": {},
   "source": [
    "* jak usunąć plik lub katalog z dysku:"
   ]
  },
  {
   "cell_type": "code",
   "execution_count": 80,
   "metadata": {
    "collapsed": false
   },
   "outputs": [
    {
     "ename": "FileNotFoundError",
     "evalue": "[WinError 3] System nie może odnaleźć określonej ścieżki: './wyk6/plik4.txt'",
     "output_type": "error",
     "traceback": [
      "\u001b[0;31m---------------------------------------------------------------------------\u001b[0m",
      "\u001b[0;31mFileNotFoundError\u001b[0m                         Traceback (most recent call last)",
      "\u001b[0;32m<ipython-input-80-c83bc276a0b6>\u001b[0m in \u001b[0;36m<module>\u001b[0;34m()\u001b[0m\n\u001b[0;32m----> 1\u001b[0;31m \u001b[0mos\u001b[0m\u001b[1;33m.\u001b[0m\u001b[0mremove\u001b[0m\u001b[1;33m(\u001b[0m\u001b[1;34m'./wyk6/plik4.txt'\u001b[0m\u001b[1;33m)\u001b[0m\u001b[1;33m\u001b[0m\u001b[0m\n\u001b[0m\u001b[1;32m      2\u001b[0m \u001b[0mos\u001b[0m\u001b[1;33m.\u001b[0m\u001b[0mrmdir\u001b[0m\u001b[1;33m(\u001b[0m\u001b[1;34m'nowy_1'\u001b[0m\u001b[1;33m)\u001b[0m\u001b[1;33m\u001b[0m\u001b[0m\n",
      "\u001b[0;31mFileNotFoundError\u001b[0m: [WinError 3] System nie może odnaleźć określonej ścieżki: './wyk6/plik4.txt'"
     ]
    }
   ],
   "source": [
    "os.remove('./wyk6/plik4.txt')\n",
    "os.rmdir('nowy_1')"
   ]
  },
  {
   "cell_type": "markdown",
   "metadata": {},
   "source": [
    "# Zad.\n",
    "\n",
    "Napisz funkcję, która będzie zwracała:\n",
    "\n",
    "* liczbę wierszy,\n",
    "* liczbę wyrazów w każdej linii oraz obliczy średnią długość słowa w poszczególnych wierszach,\n",
    "* liczbę zdań w pliku.\n",
    "\n",
    "Funkcja powinna przyjmować jeden argument: nazwę/ścieżkę do pliku."
   ]
  },
  {
   "cell_type": "code",
   "execution_count": 110,
   "metadata": {
    "collapsed": false
   },
   "outputs": [
    {
     "name": "stdout",
     "output_type": "stream",
     "text": [
      "Nam strzelać nie kazano. - Wstąpiłem na działo \n",
      "I spojrzałem na pole: dwieście harmat grzmiało, \n",
      "Artyleryi ruskiej ciągną się szeregi \n",
      "Prosto, długo, daleko, jako morza brzegi. \n",
      "I widziałem ich wodza: przybiegł, mieczem skinął \n",
      "I, jak ptak, jedno skrzydło wojska swego zwinął. \n",
      "Wylewa się spod skrzydła ścisniona piechota \n",
      "Długą czarną kolumną, jako lawa błota, \n",
      "Nasypana iskrami bagnetów. Jak sępy, \n",
      "Czarne chorągwie na śmierc prowadzą zastępy. \n",
      "Przeciw nim sterczy biała, wąska, zaostrzona, \n",
      "Jak głaz, bodzący morze, reduta Ordona. \n",
      "\n"
     ]
    }
   ],
   "source": [
    "f = open('1.txt', 'r')\n",
    "try:\n",
    "    tekst = f.read()\n",
    "finally:\n",
    "    f.close()\n",
    "\n",
    "print(tekst)"
   ]
  },
  {
   "cell_type": "code",
   "execution_count": 111,
   "metadata": {
    "collapsed": false
   },
   "outputs": [
    {
     "name": "stdout",
     "output_type": "stream",
     "text": [
      "12\n"
     ]
    }
   ],
   "source": [
    "f = open('1.txt', 'r')\n",
    "try:\n",
    "    tekst = f.readlines()\n",
    "finally: \n",
    "    f.close()\n",
    "print(len(tekst))"
   ]
  },
  {
   "cell_type": "code",
   "execution_count": 114,
   "metadata": {
    "collapsed": false
   },
   "outputs": [
    {
     "name": "stdout",
     "output_type": "stream",
     "text": [
      "9\n",
      "8\n",
      "6\n",
      "7\n",
      "8\n",
      "9\n",
      "7\n",
      "7\n",
      "6\n",
      "7\n",
      "7\n",
      "7\n"
     ]
    }
   ],
   "source": [
    "f = open('1.txt', 'r')\n",
    "try:\n",
    "    tekst = f.readlines()\n",
    "finally: \n",
    "    f.close()\n",
    "for i in tekst:\n",
    "    print(len(i.split(\" \")))"
   ]
  },
  {
   "cell_type": "code",
   "execution_count": 115,
   "metadata": {
    "collapsed": false
   },
   "outputs": [
    {
     "name": "stdout",
     "output_type": "stream",
     "text": [
      "4.444444444444445\n",
      "5.25\n",
      "5.5\n",
      "5.285714285714286\n",
      "5.375\n",
      "4.666666666666667\n",
      "5.571428571428571\n",
      "4.857142857142857\n",
      "5.5\n",
      "5.714285714285714\n",
      "5.857142857142857\n",
      "5.0\n"
     ]
    }
   ],
   "source": [
    "f = open('1.txt', 'r')\n",
    "try:\n",
    "    tekst = f.readlines()\n",
    "finally: \n",
    "    f.close()\n",
    "for i in tekst:\n",
    "    l1=list(map(len, i.split(\" \")))\n",
    "    print(sum(l1)/len(l1))\n",
    "    "
   ]
  },
  {
   "cell_type": "markdown",
   "metadata": {},
   "source": [
    "# Zad.\n",
    "\n",
    "Dany jest plik tekstowy o następującej zawartości:\n",
    "\n",
    "\n",
    "```python\n",
    "kanapka 2.50\n",
    "szarlotka 1.50\n",
    "woda_mineralna 1.50\n",
    "```\n",
    "\n",
    "Napisz funkcję, która obliczy łączną cenę koszyka towarów. Argumentem jest nazwa pliku, wartością jest łączna cena."
   ]
  },
  {
   "cell_type": "code",
   "execution_count": null,
   "metadata": {
    "collapsed": true
   },
   "outputs": [],
   "source": []
  },
  {
   "cell_type": "markdown",
   "metadata": {},
   "source": [
    "# Zad. \n",
    "\n",
    "Dany jest plik tekstowy o następującej zawartości\n",
    "\n",
    "```python\n",
    "kanapka 2.50\n",
    "szarlotka 1.50\n",
    "woda_mineralna 1.50\n",
    "```\n",
    "\n",
    "ym razem nazwy towarów mogą być wielowyrazowe, ale cena jest zawsze poprzedzona znakiem dwukropka.\n",
    "\n",
    "Napisz następujące funkcje\n",
    "\n",
    "* obliczanie ceny koszyka\n",
    "* dodawanie nowej pozycji do koszyka (na koniec)\n",
    "* usuwanie wybranej pozycji z koszyka (podajemy numer linii do usunięcia)\n",
    "\n"
   ]
  },
  {
   "cell_type": "code",
   "execution_count": null,
   "metadata": {
    "collapsed": true
   },
   "outputs": [],
   "source": []
  },
  {
   "cell_type": "markdown",
   "metadata": {
    "collapsed": true
   },
   "source": [
    "# 2. Wyrażenia regularne\n",
    "\n",
    "Wyrażenia regularne wykorzystywane są w praktyce do przetwarzania tekstów (wyszukiwania określonych znaków, łańcuchów). Wyrażenie regularne (ang. regular expression) stanowi wzorzec napisu. W oparciu o nie, możemy automatycznie odnaleźć w tekście każdy napis pasujący do wzorca (ang. matching string, lub krócej match). Funkcje obsługujące wyrażenia regularne w Pythonie znajdują się w module **re**."
   ]
  },
  {
   "cell_type": "code",
   "execution_count": 81,
   "metadata": {
    "collapsed": true
   },
   "outputs": [],
   "source": [
    "import re"
   ]
  },
  {
   "cell_type": "markdown",
   "metadata": {},
   "source": [
    "# Najważniejsze metody modułu re:\n",
    "\n",
    " * **re.search(pattern, str)**\n",
    "\n",
    "Szuka dopasowania wyrażenia regularnego pattern w całym łańcuchu str i zwraca obiekt klasy MatchObject."
   ]
  },
  {
   "cell_type": "code",
   "execution_count": 95,
   "metadata": {
    "collapsed": false
   },
   "outputs": [
    {
     "name": "stdout",
     "output_type": "stream",
     "text": [
      "Wlazł kot na płot i nie mruga.\n",
      "Smutna to blablalaaaa, niedługa?\n",
      "<_sre.SRE_Match object; span=(6, 9), match='kot'>\n"
     ]
    }
   ],
   "source": [
    "lancuch=\"\"\"Wlazł kot na płot i nie mruga.\n",
    "Smutna to blablalaaaa, niedługa?\"\"\"\n",
    "\n",
    "print(lancuch)\n",
    "kot = re.search(\"kot\", lancuch)\n",
    "print(kot)"
   ]
  },
  {
   "cell_type": "markdown",
   "metadata": {},
   "source": [
    "W zmiennej kot mamy teraz zapamiętany wynik wyszukiwania wzorca \"kot\" w napisie lancuch w postaci obiektu klasy MatchObject, który posiada m.in. metody **start** i **end** zwracające początek i koniec pasującego do wzorca fragmentu napisu, który z kolei zwracany jest przez metodę **group** wywołaną z parametrem 0 (kolejne liczby naturalne zwracają kolejne grupy wyrażenia regularnego):"
   ]
  },
  {
   "cell_type": "code",
   "execution_count": 96,
   "metadata": {
    "collapsed": false
   },
   "outputs": [
    {
     "name": "stdout",
     "output_type": "stream",
     "text": [
      "6 9 kot\n"
     ]
    }
   ],
   "source": [
    "print(kot.start(), kot.end(), kot.group())"
   ]
  },
  {
   "cell_type": "markdown",
   "metadata": {},
   "source": [
    "* **re.match(pattern, str)**\n",
    "\n",
    "Szuka dopasowania wyrażenia regularnego pattern, ale tylko na początku łańcucha str, czym różni się od funkcji search:"
   ]
  },
  {
   "cell_type": "code",
   "execution_count": 97,
   "metadata": {
    "collapsed": false
   },
   "outputs": [
    {
     "name": "stdout",
     "output_type": "stream",
     "text": [
      "None\n",
      "0 5 Wlazł\n"
     ]
    }
   ],
   "source": [
    "print(re.match(\"kot\", lancuch))\n",
    "w = re.match(\"Wlazł\", lancuch)\n",
    "print(w.start(), w.end(), w.group())"
   ]
  },
  {
   "cell_type": "markdown",
   "metadata": {},
   "source": [
    "* **re.findall(pattern, str)**\n",
    "\n",
    "Funkcja findall pozwala znaleźć wszystkie wystąpienia wzorca w tekście i zwraca ich listę:"
   ]
  },
  {
   "cell_type": "code",
   "execution_count": 98,
   "metadata": {
    "collapsed": false
   },
   "outputs": [
    {
     "name": "stdout",
     "output_type": "stream",
     "text": [
      "['nie', 'nie']\n"
     ]
    }
   ],
   "source": [
    "print(re.findall(\"nie\", lancuch))"
   ]
  },
  {
   "cell_type": "markdown",
   "metadata": {},
   "source": [
    "* **re.finditer(pattern, str)**\n",
    "\n",
    "Zwraca iterator zwracający kolejne obiekty dopasowania wzorca pattern w łańcuchu str:"
   ]
  },
  {
   "cell_type": "code",
   "execution_count": 99,
   "metadata": {
    "collapsed": false
   },
   "outputs": [
    {
     "name": "stdout",
     "output_type": "stream",
     "text": [
      "07-16: carefully\n",
      "40-47: quickly\n"
     ]
    }
   ],
   "source": [
    "text = \"He was carefully disguised but captured quickly by police.\"\n",
    "for m in re.finditer(r\"\\w+ly\", text):\n",
    "    print('%02d-%02d: %s' % (m.start(), m.end(), m.group(0)))"
   ]
  },
  {
   "cell_type": "markdown",
   "metadata": {},
   "source": [
    "* **re.split(pattern, str)**\n",
    "\n",
    "Zwraca listę stringów powstałą z podzielenia łańcucha str na każdym dopasowania wyrażenia regularnego pattern:"
   ]
  },
  {
   "cell_type": "code",
   "execution_count": 100,
   "metadata": {
    "collapsed": false
   },
   "outputs": [
    {
     "name": "stdout",
     "output_type": "stream",
     "text": [
      "['34', '523', '876', '098']\n"
     ]
    }
   ],
   "source": [
    "print(re.split(\" - \",\"34 - 523 - 876 - 098\"))"
   ]
  },
  {
   "cell_type": "markdown",
   "metadata": {},
   "source": [
    "* **re.sub(pattern, repl, str)**\n",
    "Zwraca kopię łańcucha str, gdzie wszystkie dopasowania wyrażenia regularnego pattern zamienione zostały na repl:"
   ]
  },
  {
   "cell_type": "code",
   "execution_count": 101,
   "metadata": {
    "collapsed": false
   },
   "outputs": [
    {
     "name": "stdout",
     "output_type": "stream",
     "text": [
      "Wlazł kot na płot i nie mruga.\n",
      "Smutna to blablalaaaa, niedługa?\n",
      "\n",
      "Wlazł kotek na płotek i nie mruga.\n",
      "Smutna to blablalaaaa, niedługa?\n"
     ]
    }
   ],
   "source": [
    "l2 = re.sub(\"ot\",\"otek\", lancuch)\n",
    "print(lancuch)\n",
    "print()\n",
    "print(l2)"
   ]
  },
  {
   "cell_type": "markdown",
   "metadata": {},
   "source": [
    "## Przyspieszanie wyszukiwania\n",
    "\n",
    "Jeżeli pewnego wzorca mamy zamiar używać wielokrotnie, wygodnie jest go skompilować. Funkcje modułu re dostępne są wtedy jako metody skompilowanego wyrażenia. Poprawia to także szybkość wyszukiwania."
   ]
  },
  {
   "cell_type": "code",
   "execution_count": 102,
   "metadata": {
    "collapsed": false
   },
   "outputs": [
    {
     "name": "stdout",
     "output_type": "stream",
     "text": [
      "['0%']\n",
      "['6%']\n",
      "['100%']\n",
      "Cukier ma 90% cukru.\n",
      "['Cukier ma ', ' cukru.']\n"
     ]
    }
   ],
   "source": [
    "procenty = re.compile(r\"\\b\\d+%\")\n",
    "print(procenty.findall(\"Woda ma 0% cukru.\"))\n",
    "print(procenty.findall(\"Śmietana ma 6% cukru.\"))\n",
    "print(procenty.findall(\"Cukier ma 100% cukru.\"))\n",
    "print(procenty.sub(\"90%\",\"Cukier ma 100% cukru.\"))\n",
    "print(procenty.split(\"Cukier ma 100% cukru.\"))"
   ]
  },
  {
   "cell_type": "markdown",
   "metadata": {},
   "source": [
    "## Obiekty dopasowania\n",
    "\n",
    "W przypadku dopasowania zwracany jest tzw. obiekt dopasowania (ang. match object). Obiekty dopasowania posiadają m.in. następujące metody:\n",
    "\n",
    "* group(n) - zwraca tekst dopasowania dla grupy n,\n",
    "* groups() - zwraca krotkę zawierającą dopasowania wszystkich grup, począwszy od 1. grupy,\n",
    "* start(n) - zwraca indeks początkowy dla grupy n,\n",
    "* end(n) - zwraca indeks końcowy dla grupy n,\n",
    "* span(n) - zwraca dla grupy n krotkę (indeks początkowy, indeks końcowy).\n",
    "\n",
    "Najważniejsza z powyższych jest funkcja group. Dla grupy 0 funkcja zwraca całe dopasowane wyrażenie regularne. Dla grup 1,2,... funkcja zwraca dopasowania w kolejnych nawiasach (nawiasy nieprzechwytujące nie są brane pod uwagę)."
   ]
  },
  {
   "cell_type": "code",
   "execution_count": 103,
   "metadata": {
    "collapsed": false
   },
   "outputs": [
    {
     "name": "stdout",
     "output_type": "stream",
     "text": [
      "342.79\n",
      "342\n",
      "79\n",
      "0 3\n",
      "4 6\n",
      "(4, 6)\n"
     ]
    }
   ],
   "source": [
    "pattern = r'(\\d+).(\\d*)'\n",
    "str = '342.79+12.56'\n",
    "\n",
    "m = re.match(pattern, str)\n",
    "\n",
    "print(m.group(0))           # 342.79, cale dopasowanie\n",
    "print(m.group(1))           # 342, dopasowanie (\\d+)\n",
    "print(m.group(2))           # 79, dopasowanie (\\d*)\n",
    "print(m.start(1), m.end(1)) \n",
    "print(m.start(2), m.end(2))\n",
    "print(m.span(2))"
   ]
  },
  {
   "cell_type": "markdown",
   "metadata": {},
   "source": [
    "## Znaki specjalne\n",
    "\n",
    "Większość znaków może być używana jako literały. Istnieją jednak znaki specjalne, które muszą być poprzedzone ukośnikiem \\, aby można było ich używać jako literałów. Wspomniane znaki specjalne to: \\, **.**, **^**, **$**, **?**, **+**, *****, **{**, **}**, **[**, **]**, **|**.\n",
    "\n",
    "## Surowe ciągi znaków\n",
    "\n",
    "Surowe ciągi znaków (ang. raw strings) ułatwiają pisanie wyrażeń regularnych w Pythonie, zmniejszając potrzebę użycia znaków ukośnika (backslash'a). Łańcuch znaków poprzedza się literą r, która wyłącza specjalne znaczenie ukośnika. Dobrą praktyką jest zawsze definiowanie wzorców jako surowych łańcuchów.\n",
    "Przykłady:"
   ]
  },
  {
   "cell_type": "code",
   "execution_count": 104,
   "metadata": {
    "collapsed": false
   },
   "outputs": [
    {
     "name": "stdout",
     "output_type": "stream",
     "text": [
      "ab*\n",
      "ab*\n",
      "\\w+\\s+\n",
      "\\w+\\s+\n"
     ]
    }
   ],
   "source": [
    "print(\"ab*\")    # zwykły łańcuch\n",
    "print(r\"ab*\")   # surowy łańcuch\n",
    "\n",
    "print(\"\\\\w+\\\\s+\")    # zwykły łańcuch\n",
    "print(r\"\\w+\\s+\")    # surowy łańcuch"
   ]
  },
  {
   "cell_type": "markdown",
   "metadata": {},
   "source": [
    "## Klasy znaków\n",
    "\n",
    "Klasa znaków to jeden lub większa liczba znaków ujętych w nawiasy kwadratowe. Klasa znaków jest wyrażeniem. Jeśli nie jest podany po niej kwantyfikator, zostanie dopasowany dokładnie jeden znak spośród znaków zdefiniowanych w klasie znaków. Oto niektóre z nich:\n",
    "\n",
    "* . - dowolny znak z wyjątkiem znaku nowej linii,\n",
    "* \\d - dowolna cyfra,\n",
    "* \\D - dowolna znak nie będący cyfrą,\n",
    "* \\s - dowolny biały znak (spacja, tabulator, itd.),\n",
    "* \\S - dowolny znak nie będący białym znakiem,\n",
    "* \\w - dowolny znak alfanumeryczny (litera lub cyfra),\n",
    "* \\W - dowolny znak nie będący znakiem alfanumerycznym.\n",
    "\n",
    "## Kwantyfikatory wyrażeń regularnych\n",
    "\n",
    "Kwantyfikatory określają ilość powtórzeń znaków lub sekwencji we wzorcach. Domyślnie kwantyfikatory są zachłanne, tzn. starają się dopasować maksymalną możliwą ilość znaków w tekście. Oto niektóre z nich:\n",
    "\n",
    "* \\* - 0 lub więcej wystąpień,\n",
    "* \\+ - 1 lub więcej wystąpień,\n",
    "* ? - 0 lub 1 wystąpienie,\n",
    "* {n} - dokładnie n wystąpień,\n",
    "* {n,} - co najmniej n wystąpień,\n",
    "* {,n} - co najwyżej n wystąpień,\n",
    "* {m,n} - od m do n wystąpień,\n",
    "* [...] - jeden znak spośród zbioru znaków,\n",
    "* [^...] - jeden znak spoza zbioru znaków,\n",
    "* A|B - dopasowanie A lub B, operator alternatywy.\n",
    "\n",
    "## Kwantyfikatory niezachłanne\n",
    "\n",
    "Dodanie znaku zapytania po kwantyfikatorze przekształca go w kwantyfikator niezachłanny (leniwy):\n",
    "\n",
    "* \\*? - 0 lub więcej wystąpień,\n",
    "* \\+? - 1 lub więcej wystąpień,\n",
    "* ?? - 0 lub 1 wystąpienie,\n",
    "* {m,n}? - od m do n wystąpień. Kwantyfikator niezachłanny stara się dopasować minimalną możliwą ilość tekstu.\n",
    "\n",
    "## Asercje\n",
    "\n",
    "Asercje (kotwice) pozwalają wyznaczyć miejsce w tekście, w którym musi pojawić się dopasowanie:\n",
    "\n",
    "* ^ - początek tekstu,\n",
    "* $ - koniec tekstu,\n",
    "* \\A - początek tekstu,\n",
    "* \\Z - koniec tekstu,\n",
    "* \\b - pusty string na początku lub końcu słowa (dopasowuje granicę słowa albo początek lub koniec tekstu),\n",
    "* \\B - pusty string, lecz nie na początku lub końcu słowa (dopasowanie wewnątrz słowa)."
   ]
  },
  {
   "cell_type": "code",
   "execution_count": 105,
   "metadata": {
    "collapsed": false
   },
   "outputs": [
    {
     "name": "stdout",
     "output_type": "stream",
     "text": [
      "['2006-08-12']\n"
     ]
    }
   ],
   "source": [
    "# szukamy daty\n",
    "print(re.findall(r\"\\b\\d{4}-\\d{2}-\\d{2}\\b\",\"Zdarzyło się to 2006-08-12.\"))"
   ]
  },
  {
   "cell_type": "code",
   "execution_count": 106,
   "metadata": {
    "collapsed": false
   },
   "outputs": [
    {
     "name": "stdout",
     "output_type": "stream",
     "text": [
      "['7', '3,3', '-112.30']\n"
     ]
    }
   ],
   "source": [
    "# szykamy liczb\n",
    "print(re.findall(r\"-?\\b\\d+(?:[,\\.]\\d*)?\\b\",\"7 ludzi ma 3,3 psy warte -112.30 zł\"))"
   ]
  },
  {
   "cell_type": "code",
   "execution_count": 108,
   "metadata": {
    "collapsed": false
   },
   "outputs": [
    {
     "name": "stdout",
     "output_type": "stream",
     "text": [
      "14.00 ludzi ma 6.00 psy warte -224.40 zł\n"
     ]
    }
   ],
   "source": [
    "# podwajamy wszystkie liczby w łańcuchu\n",
    "print(re.sub(r\"-?\\b\\d+(?:[,\\.]\\d*)?\\b\", \\\n",
    "       lambda m: \"%.2f\"%(float(m.group(0))*2), \\\n",
    "       \"7 ludzi ma 3 psy warte -112.20 zł\"))"
   ]
  },
  {
   "cell_type": "markdown",
   "metadata": {},
   "source": [
    "Pozostałe opcje sterujące wyrażeniami regularnymi:\n",
    "\n",
    "* **IGNORECASE** – ignoruje przy porównywaniu wielkość liter,\n",
    "* **MULTILINE** – sprawia, że znaki $ i ^ oznaczają nie tylko początek (koniec) napisu, ale też początek (koniec) wiersza,\n",
    "* **DOTALL** – sprawia, że kropka obejmuje też znaki końca wiersza,\n",
    "* **VERBOSE** – ignoruje białe znaki we wzorcu i pozwala umieszczać w nim komentarze (opcja stosowana wyłącznie dla poprawienia przejrzystości kodu źródłowego).\n",
    "\n",
    "Kilka opcji łączymy ze sobą operatorem sumy bitowej ,,|'':"
   ]
  },
  {
   "cell_type": "code",
   "execution_count": 109,
   "metadata": {
    "collapsed": false
   },
   "outputs": [
    {
     "name": "stdout",
     "output_type": "stream",
     "text": [
      "Wlazł kot na płot i nie mruga.\n",
      "Smutna to blablalaaaa, niedługa?\n",
      "\n",
      "['Wlazł', 'Smutna']\n"
     ]
    }
   ],
   "source": [
    "print(lancuch)\n",
    "print()\n",
    "print(re.findall(r\"^\\w+\", lancuch, re.IGNORECASE|re.MULTILINE))"
   ]
  },
  {
   "cell_type": "markdown",
   "metadata": {},
   "source": [
    "# Zad.\n",
    "Stwórz wyrażenie regularne, które pozwoli wyszukać w dowolnym tekście wszystkie zawarte w nim adresy e-mail. Pamiętaj o znakach, które muszą być w każdym poprawnym adresie e-mail, oraz o znakach, które mogą w nim wystąpić."
   ]
  },
  {
   "cell_type": "code",
   "execution_count": 4,
   "metadata": {
    "collapsed": false
   },
   "outputs": [
    {
     "name": "stdout",
     "output_type": "stream",
     "text": [
      "['krzysztof.jakub.bartosz[at]gmail.com', 'Jakub.Byszewski[at]im.uj.edu.pl', 'Slawomir.Cynk[at]uj.edu.pl', 'Marcin.Dumnicki[at]im.uj.edu.pl', 'Zenon.Jablonski[at]im.uj.edu.pl', 'Piotr.Jucha[at]im.uj.edu.pl', 'Lukasz.Kosinski[at]im.uj.edu.pl', 'Piotr.Koscielniak[at]im.uj.edu.pl', 'Marcin.Kulczycki[at]im.uj.edu.pl', 'dominik.kwietniak[at]im.uj.edu.pl', 'Marcin.Mazur[at]im.uj.edu.pl', 'vmityu[at]yahoo.com', 'Piotr.Niemiec[at]im.uj.edu.pl', 'Leszek.Pieniazek[at]im.uj.edu.pl', 'Slawomir.Rams[at]im.uj.edu.pl', 'wojciech.slomczynski[at]im.uj.edu.pl', 'Maciej.Ulas[at]im.uj.edu.pl', 'Pawel.Wilczynski[at]im.uj.edu.pl', 'Pawel.Zapalowski[at]im.uj.edu.pl', 'Dariusz.Zawisza[at]im.uj.edu.pl', 'kwojtek.jakub.bartosz[at]gmail.com', 'Dariusz.Zawisza[at]gmail.com', 'Jan.kowalski[at]gmail.com', 'Zenon.wisniewski[at]gmail.com', 'Marta.klisko[at]gmail.com', 'Joanna.Orewczyk[at]im.uj.edu.pl', 'jacek.tabor[at]ii.uj.edu.pl']\n"
     ]
    }
   ],
   "source": [
    "import re\n",
    "f = open('4.txt', 'r')\n",
    "try:\n",
    "    tekst = f.read()\n",
    "finally:\n",
    "    f.close()\n",
    "#print(tekst)\n",
    "#mails = re.compile(r\"(6[a-zA-Z0-9_.+-]+\\[at\\][a-zA-Z0-9-]+\\.[a-zA-Z0-9-.]+)\")\n",
    "mails = re.compile(r\"\\w+\\.?\\w+\\.?\\w+\\[at\\]\\w+\\.[a-zA-Z0-9-.]+\")\n",
    "print(mails.findall(tekst))"
   ]
  },
  {
   "cell_type": "markdown",
   "metadata": {},
   "source": [
    "# Zad.\n",
    "\n",
    "Typowym błędem przy szybkim wpisywaniu tekstu jest pisanie drugiej litery wyrazu dużą literą, np. SZczecin (zamiast Szczecin) czy POlska (zamiast Polska). Napisz program, wykorzystujący funkcję sub i wyrażenia regularne, który poprawi wszystkie takie błędy w tekście wprowadzonym przez użytkownika. Wyrazy dłuższe niż dwie litery mają być poprawiane automatycznie, natomiast o podmianę wyrazu dwuliterowego (np. IT na It) program ma pytać użytkownika za każdym razem, gdy na taki natrafi."
   ]
  },
  {
   "cell_type": "code",
   "execution_count": 8,
   "metadata": {
    "collapsed": false
   },
   "outputs": [
    {
     "name": "stdout",
     "output_type": "stream",
     "text": [
      "['POlska', 'LUdzi', 'IT']\n"
     ]
    }
   ],
   "source": [
    "text= \"POlska to piękny kraj dla LUdzi pracujących w IT\"\n",
    "print(re.findall(r\"[A-Z][A-Z]\\w*\",text))"
   ]
  },
  {
   "cell_type": "code",
   "execution_count": 18,
   "metadata": {
    "collapsed": false
   },
   "outputs": [
    {
     "name": "stdout",
     "output_type": "stream",
     "text": [
      "Czy zamienić ITy\n",
      "Polska to piękny kraj dla Ludzi pracujących w It\n"
     ]
    }
   ],
   "source": [
    "def con(m):\n",
    "    if(len(m.group())>2): \n",
    "        return((m.group()).title())\n",
    "    else:\n",
    "        y_n = input(\"Czy zamienić \" + (m.group()) )\n",
    "        if( y_n == 'y'):\n",
    "            return((m.group()).title())\n",
    "        else:\n",
    "            return(m.group())\n",
    "print(re.sub(r\"[A-Z][A-Z]\\w*\", con, text))"
   ]
  },
  {
   "cell_type": "code",
   "execution_count": 17,
   "metadata": {
    "collapsed": false
   },
   "outputs": [
    {
     "name": "stdout",
     "output_type": "stream",
     "text": [
      "Polska to piękny kraj dla Ludzi pracujących w It\n"
     ]
    }
   ],
   "source": [
    "#print(re.sub(r\"[A-Z][A-Z]\\w*\", lambda m : m.group(0).title(), text))"
   ]
  },
  {
   "cell_type": "markdown",
   "metadata": {},
   "source": [
    "# Zad\n",
    "\n",
    "Napisz program, który wczytuje plik i zapisuje jego zawartość w nowym pliku ale w odwrotnej kolejności występowania wierszy (czyli pierwsza linia w starym pliku będzie ostatnią w nowym pliku)."
   ]
  },
  {
   "cell_type": "code",
   "execution_count": 4,
   "metadata": {
    "collapsed": false
   },
   "outputs": [
    {
     "name": "stdout",
     "output_type": "stream",
     "text": [
      "Jak głaz, bodzący morze, reduta Ordona. \n",
      "Przeciw nim sterczy biała, wąska, zaostrzona, \n",
      "Czarne chorągwie na śmierc prowadzą zastępy. \n",
      "Nasypana iskrami bagnetów. Jak sępy, \n",
      "Długą czarną kolumną, jako lawa błota, \n",
      "Wylewa się spod skrzydła ścisniona piechota \n",
      "I, jak ptak, jedno skrzydło wojska swego zwinął. \n",
      "I widziałem ich wodza: przybiegł, mieczem skinął \n",
      "Prosto, długo, daleko, jako morza brzegi. \n",
      "Artyleryi ruskiej ciągną się szeregi \n",
      "I spojrzałem na pole: dwieście harmat grzmiało, \n",
      "Nam strzelać nie kazano. - Wstąpiłem na działo \n",
      "\n"
     ]
    }
   ],
   "source": [
    "f = open('1.txt', 'r')\n",
    "try:\n",
    "    tekst = f.readlines()\n",
    "finally: \n",
    "    f.close()\n",
    "\n",
    "f = open('reversed_1.txt', 'w')\n",
    "try:\n",
    "    for i in reversed(tekst):\n",
    "        f.write(i)\n",
    "finally: \n",
    "    f.close()\n",
    "    \n",
    "f = open('reversed_1.txt', 'r')\n",
    "try:\n",
    "    tekst = f.read()\n",
    "finally:\n",
    "    f.close()\n",
    "\n",
    "print(tekst)  "
   ]
  },
  {
   "cell_type": "markdown",
   "metadata": {},
   "source": [
    "# Zad\n",
    "\n",
    "W pliku 'dane.txt' są dane z brakującymi wartościami. Każda wartość oddzielona jest przecinkiem. Proszę napisać program, który będzie czytał dane z pliku 'dane.txt' i zapisywał je do innego pliku ale tak aby wartości były oddzielone spacjami, a w miejsce brakujących danych wstawiał '0'."
   ]
  },
  {
   "cell_type": "code",
   "execution_count": 5,
   "metadata": {
    "collapsed": false
   },
   "outputs": [
    {
     "name": "stdout",
     "output_type": "stream",
     "text": [
      "7, 3.2, 4.7, 1.4\n",
      "6.4, 3.2, 4.5, 1.5\n",
      "6.9, 000, 4.9, 1.5\n",
      "000, 2.3, 4, \n",
      "6.5, 2.8, 4.6, 1.5\n",
      "5.7, 000, 4.5, 1.3\n",
      "6.3, 3.3, 4.7, \n",
      "4.9, 000, 3.3, 1\n",
      "6.6, 000, 4.6, 1.3\n",
      "5.2, 2.7, 3.9, 1.4\n",
      "5, 000, 3.5, 1\n",
      "5.9, 3, 4.2, 1.5\n",
      "6, 2.2, 4, 1\n",
      "000, 2.9, 4.7, 1.4\n",
      "5.6, 2.9, 3.6, 1.3\n",
      "6.7, 000, 000, 1.4\n",
      "5.6, 3, 4.5, 1.5\n",
      "5.8, 2.7, 4.1, 1\n",
      "6.2, 000, 4.5, 1.5\n",
      "5.6, 2.5, 000, 1.1\n",
      "5.9, 3.2, 4.8, 1.8\n",
      "6.1, 2.8, 4, 1.3\n",
      "000, 2.5, 4.9, 1.5\n",
      "6.1, 2.8, 000, 1.2\n",
      "6.4, 2.9, 4.3, 1.3\n",
      "6.6, 3, 4.4, 1.4\n",
      "6.8, 2.8, 4.8, 1.4\n",
      "000, 3, 5, 1.7\n",
      "6, 2.9, 4.5, 1.5\n",
      "5.7, 2.6, 3.5, 1\n",
      "000, 000, 3.8, 1.1\n",
      "5.5, 2.4, 3.7, 1\n",
      "5.8, 000, 3.9, 1.2\n",
      "6, 2.7, 5.1, 1.6\n",
      "000, 3, 4.5, 1.5\n",
      "6, 3.4, 4.5, 1.6\n",
      "6.7, 3.1, 4.7, 1.5\n",
      "6.3, 000, 4.4, \n",
      "5.6, 3, 4.1, 1.3\n",
      "5.5, 000, 4, 1.3\n",
      "5.5, 2.6, 000, 1.2\n",
      "6.1, 3, 4.6, 1.4\n",
      "5.8, 2.6, 4, 1.2\n",
      "5, 2.3, 000, 1\n",
      "000, 2.7, 4.2, 1.3\n",
      "5.7, 3, 4.2, \n",
      "5.7, 000, 4.2, 1.3\n",
      "6.2, 2.9, 4.3, 1.3\n",
      "5.1, 000, 3, 1.1\n",
      "000, 2.8, 000, 1.3\n",
      "\n"
     ]
    }
   ],
   "source": [
    "f = open('dane.txt', 'r')\n",
    "try:\n",
    "    tekst = f.readlines()\n",
    "finally: \n",
    "    f.close()\n",
    "    \n",
    "f = open('dane_1.txt', 'w')\n",
    "try:\n",
    "    for i in tekst:\n",
    "        l=i.split(\",\")\n",
    "        for li,j in enumerate(l):\n",
    "            if(j==\"\"):\n",
    "                f.write(\"000\")\n",
    "            else:\n",
    "                f.write(j)\n",
    "            if(li<len(l)-1):    \n",
    "                f.write(\", \")\n",
    "finally: \n",
    "    f.close()\n",
    "    \n",
    "f = open('dane_1.txt', 'r')\n",
    "try:\n",
    "    tekst = f.read()\n",
    "finally:\n",
    "    f.close()\n",
    "\n",
    "print(tekst)            \n"
   ]
  },
  {
   "cell_type": "code",
   "execution_count": null,
   "metadata": {
    "collapsed": true
   },
   "outputs": [],
   "source": []
  }
 ],
 "metadata": {
  "kernelspec": {
   "display_name": "Python 3",
   "language": "python",
   "name": "python3"
  },
  "language_info": {
   "codemirror_mode": {
    "name": "ipython",
    "version": 3
   },
   "file_extension": ".py",
   "mimetype": "text/x-python",
   "name": "python",
   "nbconvert_exporter": "python",
   "pygments_lexer": "ipython3",
   "version": "3.6.0"
  }
 },
 "nbformat": 4,
 "nbformat_minor": 2
}
