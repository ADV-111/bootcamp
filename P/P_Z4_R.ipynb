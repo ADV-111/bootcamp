{
 "cells": [
  {
   "cell_type": "markdown",
   "metadata": {},
   "source": [
    "# 1. Słowniki\n",
    "\n",
    "Słowniki (ang. dictionary) to najbardziej zaawansowana struktura danych. W odróżnieniu od sekwencji, które są indeksowane liczbami, słowniki są indeksowane kluczami, które mogą być obiektami dowolnego typu, np.: napisy, liczby. \n",
    "\n",
    "Słownik składa się zatem ze zbioru kluczy i zbioru wartości (klucz: wartość), gdzie każdemu kluczowi przypisana jest pojedyncza wartość. Słowniki nie są sekwencjami, ale odwzorowaniami (mapping). Wartości (obiekty) są przechowywane po kluczu, a nie po ich pozycji względnej. \n",
    "\n",
    "W języku Python do tworzenia słowników używamy nawiasów klamrowych **{}**, np.:"
   ]
  },
  {
   "cell_type": "code",
   "execution_count": 1,
   "metadata": {
    "collapsed": false
   },
   "outputs": [
    {
     "name": "stdout",
     "output_type": "stream",
     "text": [
      "{'imie': 'Jan', 'nazwisko': 'Kowalski', 'wiek': 23}\n"
     ]
    }
   ],
   "source": [
    "osoba = {\"imie\":'Jan', \"nazwisko\":'Kowalski', \"wiek\":23}\n",
    "print(osoba)"
   ]
  },
  {
   "cell_type": "markdown",
   "metadata": {},
   "source": [
    "Klucz musi być niezmienny (immutable), zwykle są to liczby lub stringi:"
   ]
  },
  {
   "cell_type": "code",
   "execution_count": 3,
   "metadata": {
    "collapsed": false
   },
   "outputs": [
    {
     "name": "stdout",
     "output_type": "stream",
     "text": [
      "{1: 12, 4: (4-2j)}\n"
     ]
    }
   ],
   "source": [
    "liczby = {1:12, 4:4-2j}\n",
    "print(liczby)"
   ]
  },
  {
   "cell_type": "markdown",
   "metadata": {},
   "source": [
    "Specyficzny słownik zwraca funkcja **vars()**. Zawiera on wszystkie dostępne aktualnie zmienne:"
   ]
  },
  {
   "cell_type": "code",
   "execution_count": 3,
   "metadata": {
    "collapsed": false
   },
   "outputs": [
    {
     "data": {
      "text/plain": [
       "{'In': ['',\n",
       "  'osoba = {\"imie\":\\'Jan\\', \"nazwisko\":\\'Kowalski\\', \"wiek\":23}\\nprint(osoba)',\n",
       "  'liczby = {1:12, 4:4-2j}\\nprint(liczby)',\n",
       "  'vars()'],\n",
       " 'Out': {},\n",
       " '_': '',\n",
       " '__': '',\n",
       " '___': '',\n",
       " '__builtin__': <module 'builtins' (built-in)>,\n",
       " '__builtins__': <module 'builtins' (built-in)>,\n",
       " '__doc__': 'Automatically created module for IPython interactive environment',\n",
       " '__loader__': None,\n",
       " '__name__': '__main__',\n",
       " '__package__': None,\n",
       " '__spec__': None,\n",
       " '_dh': ['F:\\\\J_python'],\n",
       " '_i': 'liczby = {1:12, 4:4-2j}\\nprint(liczby)',\n",
       " '_i1': 'osoba = {\"imie\":\\'Jan\\', \"nazwisko\":\\'Kowalski\\', \"wiek\":23}\\nprint(osoba)',\n",
       " '_i2': 'liczby = {1:12, 4:4-2j}\\nprint(liczby)',\n",
       " '_i3': 'vars()',\n",
       " '_ih': ['',\n",
       "  'osoba = {\"imie\":\\'Jan\\', \"nazwisko\":\\'Kowalski\\', \"wiek\":23}\\nprint(osoba)',\n",
       "  'liczby = {1:12, 4:4-2j}\\nprint(liczby)',\n",
       "  'vars()'],\n",
       " '_ii': 'osoba = {\"imie\":\\'Jan\\', \"nazwisko\":\\'Kowalski\\', \"wiek\":23}\\nprint(osoba)',\n",
       " '_iii': '',\n",
       " '_oh': {},\n",
       " '_sh': <module 'IPython.core.shadowns' from 'D:\\\\Anaconda3\\\\lib\\\\site-packages\\\\IPython\\\\core\\\\shadowns.py'>,\n",
       " 'exit': <IPython.core.autocall.ZMQExitAutocall at 0x64f93abba8>,\n",
       " 'get_ipython': <bound method InteractiveShell.get_ipython of <ipykernel.zmqshell.ZMQInteractiveShell object at 0x00000064F934F978>>,\n",
       " 'liczby': {1: 12, 4: (4-2j)},\n",
       " 'osoba': {'imie': 'Jan', 'nazwisko': 'Kowalski', 'wiek': 23},\n",
       " 'quit': <IPython.core.autocall.ZMQExitAutocall at 0x64f93abba8>}"
      ]
     },
     "execution_count": 3,
     "metadata": {},
     "output_type": "execute_result"
    }
   ],
   "source": [
    "vars()"
   ]
  },
  {
   "cell_type": "markdown",
   "metadata": {},
   "source": [
    "Aby ustalić ilość kluczy pamiętanych w słowniku używamy funkcji **len**:"
   ]
  },
  {
   "cell_type": "code",
   "execution_count": 4,
   "metadata": {
    "collapsed": false
   },
   "outputs": [
    {
     "name": "stdout",
     "output_type": "stream",
     "text": [
      "3\n"
     ]
    }
   ],
   "source": [
    "osoba = {\"imie\":'Jan', \"nazwisko\":'Kowalski', \"wiek\":23}\n",
    "print(len(osoba))"
   ]
  },
  {
   "cell_type": "markdown",
   "metadata": {},
   "source": [
    "Aby otrzymać wartość podanego klucza używamy nawiasów kwadratowych:"
   ]
  },
  {
   "cell_type": "code",
   "execution_count": 6,
   "metadata": {
    "collapsed": false
   },
   "outputs": [
    {
     "name": "stdout",
     "output_type": "stream",
     "text": [
      "Jan\n",
      "(4-2j)\n"
     ]
    }
   ],
   "source": [
    "osoba = {\"imie\":'Jan', \"nazwisko\":'Kowalski', \"wiek\":23}\n",
    "liczby = {1:12, 4:4-2j}\n",
    "\n",
    "print(osoba['imie'])\n",
    "print(liczby[4]) # 4 nie oznacza piątego elementu słownika"
   ]
  },
  {
   "cell_type": "markdown",
   "metadata": {},
   "source": [
    "## Dodawanie elementów\n",
    "Żeby dodać nowy element do słownika należy użyć nowego (nie istniejącego klucza):"
   ]
  },
  {
   "cell_type": "code",
   "execution_count": 8,
   "metadata": {
    "collapsed": false
   },
   "outputs": [
    {
     "name": "stdout",
     "output_type": "stream",
     "text": [
      "{'imie': 'Jan', 'nazwisko': 'Kowalski', 'wiek': 23}\n",
      "{'imie': 'Jan', 'nazwisko': 'Kowalski', 'wiek': 23, 'plec': 'M'}\n"
     ]
    }
   ],
   "source": [
    "osoba = {\"imie\":'Jan', \"nazwisko\":'Kowalski', \"wiek\":23}\n",
    "print(osoba)\n",
    "osoba['plec'] = 'M'\n",
    "print(osoba)"
   ]
  },
  {
   "cell_type": "markdown",
   "metadata": {},
   "source": [
    "## Modyfikacja słownika\n",
    "Aby zmodyfikować istniejącą wartość w słowniku należy odwołać się do niej i nadać jej nową wartość:"
   ]
  },
  {
   "cell_type": "code",
   "execution_count": 9,
   "metadata": {
    "collapsed": false
   },
   "outputs": [
    {
     "name": "stdout",
     "output_type": "stream",
     "text": [
      "{'imie': 'Jan', 'nazwisko': 'Kowalski', 'wiek': 23}\n",
      "{'imie': 'Jan', 'nazwisko': 'Kowalski', 'wiek': 25}\n"
     ]
    }
   ],
   "source": [
    "osoba = {\"imie\":'Jan', \"nazwisko\":'Kowalski', \"wiek\":23}\n",
    "print(osoba)\n",
    "\n",
    "osoba['wiek'] = 25\n",
    "print(osoba)"
   ]
  },
  {
   "cell_type": "markdown",
   "metadata": {},
   "source": [
    "## Kopiowanie słowników\n",
    "Przypisanie istniejącego słownika do jakieś zmiennej nie tworzy drugiego słownika o tych samych elementach, tylko tworzy drugie odwołanie do wartości przypisywanego słownika:"
   ]
  },
  {
   "cell_type": "code",
   "execution_count": 10,
   "metadata": {
    "collapsed": false
   },
   "outputs": [
    {
     "name": "stdout",
     "output_type": "stream",
     "text": [
      "{'imie': 'Jan', 'nazwisko': 'Kowalski', 'wiek': 23}\n",
      "{'imie': 'Jan', 'nazwisko': 'Kowalski', 'wiek': 23}\n",
      "\n",
      "{'imie': 'Tomasz', 'nazwisko': 'Kowalski', 'wiek': 23}\n",
      "{'imie': 'Tomasz', 'nazwisko': 'Kowalski', 'wiek': 23}\n"
     ]
    }
   ],
   "source": [
    "osoba = {\"imie\":'Jan', \"nazwisko\":'Kowalski', \"wiek\":23}\n",
    "print(osoba)\n",
    "o = osoba\n",
    "print(osoba)\n",
    "print()\n",
    "o['imie'] = 'Tomasz'\n",
    "print(osoba)\n",
    "print(o)"
   ]
  },
  {
   "cell_type": "markdown",
   "metadata": {},
   "source": [
    "Zatem operacje przypisania nie tworzy kopii tylko kolejny odnośnik do tych samych wartości. Aby skopiować zawartość jednego słownika do drugiego używamy metody **copy**:"
   ]
  },
  {
   "cell_type": "code",
   "execution_count": 11,
   "metadata": {
    "collapsed": false
   },
   "outputs": [
    {
     "name": "stdout",
     "output_type": "stream",
     "text": [
      "{'imie': 'Jan', 'nazwisko': 'Kowalski', 'wiek': 23}\n",
      "{'imie': 'Jan', 'nazwisko': 'Kowalski', 'wiek': 23}\n",
      "{'imie': 'Tomasz', 'nazwisko': 'Kowalski', 'wiek': 23}\n",
      "{'imie': 'Jan', 'nazwisko': 'Kowalski', 'wiek': 23}\n"
     ]
    }
   ],
   "source": [
    "from copy import copy\n",
    "osoba = {\"imie\":'Jan', \"nazwisko\":'Kowalski', \"wiek\":23}\n",
    "print(osoba)\n",
    "o = copy(osoba)\n",
    "print(osoba)\n",
    "o['imie'] = 'Tomasz'\n",
    "print(o)\n",
    "print(osoba)"
   ]
  },
  {
   "cell_type": "markdown",
   "metadata": {},
   "source": [
    "## Usuwanie elementów\n",
    "Do usuwania poszczególnych elementów słownika lub całego słownika używamy funkcji **del**:"
   ]
  },
  {
   "cell_type": "code",
   "execution_count": 10,
   "metadata": {
    "collapsed": false
   },
   "outputs": [
    {
     "name": "stdout",
     "output_type": "stream",
     "text": [
      "{'imie': 'Jan', 'nazwisko': 'Kowalski'}\n"
     ]
    },
    {
     "ename": "NameError",
     "evalue": "name 'osoba' is not defined",
     "output_type": "error",
     "traceback": [
      "\u001b[0;31m---------------------------------------------------------------------------\u001b[0m",
      "\u001b[0;31mNameError\u001b[0m                                 Traceback (most recent call last)",
      "\u001b[0;32m<ipython-input-10-435df0eb992a>\u001b[0m in \u001b[0;36m<module>\u001b[0;34m()\u001b[0m\n\u001b[1;32m      3\u001b[0m \u001b[0mprint\u001b[0m\u001b[1;33m(\u001b[0m\u001b[0mosoba\u001b[0m\u001b[1;33m)\u001b[0m\u001b[1;33m\u001b[0m\u001b[0m\n\u001b[1;32m      4\u001b[0m \u001b[1;32mdel\u001b[0m \u001b[0mosoba\u001b[0m\u001b[1;33m\u001b[0m\u001b[0m\n\u001b[0;32m----> 5\u001b[0;31m \u001b[0mprint\u001b[0m\u001b[1;33m(\u001b[0m\u001b[0mosoba\u001b[0m\u001b[1;33m)\u001b[0m\u001b[1;33m\u001b[0m\u001b[0m\n\u001b[0m",
      "\u001b[0;31mNameError\u001b[0m: name 'osoba' is not defined"
     ]
    }
   ],
   "source": [
    "osoba = {\"imie\":'Jan', \"nazwisko\":'Kowalski', \"wiek\":23}\n",
    "del osoba['wiek']\n",
    "print(osoba)\n",
    "del osoba\n",
    "print(osoba)"
   ]
  },
  {
   "cell_type": "markdown",
   "metadata": {},
   "source": [
    "## Wybrane funkcje\n",
    "\n",
    "* aktualizacja słownika w oparciu o inny słownik:"
   ]
  },
  {
   "cell_type": "code",
   "execution_count": 12,
   "metadata": {
    "collapsed": false
   },
   "outputs": [
    {
     "name": "stdout",
     "output_type": "stream",
     "text": [
      "{'imie': 'Katarzyna', 'nazwisko': 'Nowak', 'wiek': 23, 'plec': 'K'}\n"
     ]
    }
   ],
   "source": [
    "osoba = {\"imie\":'Jan', \"nazwisko\":'Kowalski', \"wiek\":23}\n",
    "os1 = {\"imie\":'Katarzyna', \"nazwisko\":'Nowak', \"plec\":'K'}\n",
    "osoba.update(os1)\n",
    "print(osoba)"
   ]
  },
  {
   "cell_type": "markdown",
   "metadata": {},
   "source": [
    "* odczytanie i usunięcie określonej wartości:"
   ]
  },
  {
   "cell_type": "code",
   "execution_count": 13,
   "metadata": {
    "collapsed": false
   },
   "outputs": [
    {
     "name": "stdout",
     "output_type": "stream",
     "text": [
      "Jan\n",
      "{'nazwisko': 'Kowalski', 'wiek': 23}\n"
     ]
    }
   ],
   "source": [
    "osoba = {\"imie\":'Jan', \"nazwisko\":'Kowalski', \"wiek\":23}\n",
    "\n",
    "print(osoba.pop('imie'))\n",
    "print(osoba)"
   ]
  },
  {
   "cell_type": "markdown",
   "metadata": {},
   "source": [
    "* sprawdzenie czy określony klucz istnieje w słowniku"
   ]
  },
  {
   "cell_type": "code",
   "execution_count": 14,
   "metadata": {
    "collapsed": false
   },
   "outputs": [
    {
     "name": "stdout",
     "output_type": "stream",
     "text": [
      "True\n",
      "False\n",
      "True\n"
     ]
    }
   ],
   "source": [
    "osoba = {\"imie\":'Jan', \"nazwisko\":'Kowalski', \"wiek\":23}\n",
    "\n",
    "print('imie' in osoba)\n",
    "print('wzrost' in osoba)\n",
    "print('wzrost' not in osoba)"
   ]
  },
  {
   "cell_type": "markdown",
   "metadata": {},
   "source": [
    "* lista kluczy występujących w słowniku:"
   ]
  },
  {
   "cell_type": "code",
   "execution_count": 14,
   "metadata": {
    "collapsed": false
   },
   "outputs": [
    {
     "name": "stdout",
     "output_type": "stream",
     "text": [
      "dict_keys(['imie', 'nazwisko', 'wiek'])\n"
     ]
    }
   ],
   "source": [
    "osoba = {\"imie\":'Jan', \"nazwisko\":'Kowalski', \"wiek\":23}\n",
    "\n",
    "print(osoba.keys())"
   ]
  },
  {
   "cell_type": "markdown",
   "metadata": {
    "collapsed": true
   },
   "source": [
    "* lista wartości występujących w słowniku:"
   ]
  },
  {
   "cell_type": "code",
   "execution_count": 15,
   "metadata": {
    "collapsed": false
   },
   "outputs": [
    {
     "name": "stdout",
     "output_type": "stream",
     "text": [
      "dict_values(['Jan', 'Kowalski', 23])\n"
     ]
    }
   ],
   "source": [
    "osoba = {\"imie\":'Jan', \"nazwisko\":'Kowalski', \"wiek\":23}\n",
    "\n",
    "print(osoba.values())"
   ]
  },
  {
   "cell_type": "markdown",
   "metadata": {},
   "source": [
    "* lista krotek (key, value):"
   ]
  },
  {
   "cell_type": "code",
   "execution_count": 15,
   "metadata": {
    "collapsed": false
   },
   "outputs": [
    {
     "name": "stdout",
     "output_type": "stream",
     "text": [
      "dict_items([('imie', 'Jan'), ('nazwisko', 'Kowalski'), ('wiek', 23)])\n"
     ]
    }
   ],
   "source": [
    "osoba = {\"imie\":'Jan', \"nazwisko\":'Kowalski', \"wiek\":23}\n",
    "\n",
    "print(osoba.items())"
   ]
  },
  {
   "cell_type": "code",
   "execution_count": 16,
   "metadata": {
    "collapsed": false
   },
   "outputs": [
    {
     "name": "stdout",
     "output_type": "stream",
     "text": [
      "imie Jan\n",
      "nazwisko Kowalski\n",
      "wiek 23\n"
     ]
    }
   ],
   "source": [
    "for i, j in osoba.items():\n",
    "    print(\"%s %s\" % (i, j))"
   ]
  },
  {
   "cell_type": "code",
   "execution_count": 24,
   "metadata": {
    "collapsed": false
   },
   "outputs": [
    {
     "name": "stdout",
     "output_type": "stream",
     "text": [
      "dict_items([('imie', 'Jan'), ('nazwisko', 'Kowalski'), ('wiek', 23)]) \n",
      "\n"
     ]
    }
   ],
   "source": [
    "print(osoba.items(), \"\\n\")"
   ]
  },
  {
   "cell_type": "code",
   "execution_count": 17,
   "metadata": {
    "collapsed": false
   },
   "outputs": [
    {
     "name": "stdout",
     "output_type": "stream",
     "text": [
      "imie Jan\n",
      "nazwisko Kowalski\n",
      "wiek 23\n"
     ]
    }
   ],
   "source": [
    "for i, j in osoba.items():\n",
    "    print(\"%s %s\" % (i, j))"
   ]
  },
  {
   "cell_type": "markdown",
   "metadata": {},
   "source": [
    "# Zad.\n",
    "\n",
    "Sporządź skrypt zawierający słownik stolic krajów UE oraz możliwość interaktywnego wynajdywania nazwy stolicy wg nazwy państwa. "
   ]
  },
  {
   "cell_type": "code",
   "execution_count": 17,
   "metadata": {
    "collapsed": false
   },
   "outputs": [
    {
     "data": {
      "text/plain": [
       "'Rzym'"
      ]
     },
     "execution_count": 17,
     "metadata": {},
     "output_type": "execute_result"
    }
   ],
   "source": [
    "map_of_Europe={\n",
    "\"Albania\":'Tirana',\n",
    "\"Andora\":'Andora',\n",
    "\"Austria\":'Wiedeń ',\n",
    "\"Belgia\":'Bruksela',\n",
    "\"Białoruś\":'Mińsk',\n",
    "\"Bośnia i Hercegowina\":'Sarajewo',\n",
    "\"Bułgaria\":'Sofia',\n",
    "\"Chorwacja\":'Zagrzeb',\n",
    "\"Cypr\":'Nikozja',\n",
    "\"Czarnogóra\":'Podgorica',\n",
    "\"Czechy\":'Praga',\n",
    "\"Dania\":'Kopenhaga ',\n",
    "\"Estonia\":'Tallin',\n",
    "\"Finlandia\":'Helsinki',\n",
    "\"Francja\":'Paryż',\n",
    "\"Grecja\":'Ateny',\n",
    "\"Gruzja\":'Tbilisi',\n",
    "\"Hiszpania\":'Madryt',\n",
    "\"Holandia\":'Amsterdam',\n",
    "\"Irlandia\":'Dublin',\n",
    "\"Islandia\":'Rejkiawik',\n",
    "\"Kazachstan\":'Ałma-Ata',\n",
    "\"Kosowo\":'Prisztina',\n",
    "\"Lichtenstein\":'Vaduz',\n",
    "\"Litwa\":'Wilno',\n",
    "\"Luksemburg\":'Luksemburg',\n",
    "\"Łotwa\":'Ryga',\n",
    "\"Macedonia\":'Skopie',\n",
    "\"Malta\":'Valletta',\n",
    "\"Mołdawia\":'Kiszyniów',\n",
    "\"Monako\":'Monako',\n",
    "\"Niemcy\":'Berlin',\n",
    "\"Norwegia\":'Oslo',\n",
    "\"Polska\":'Warszawa',\n",
    "\"Portugalia\":'Lizbona',\n",
    "\"Rosja\":'Moskwa',\n",
    "\"Rumunia\":'Bukareszt',\n",
    "\"San Marino\":'San Marino',\n",
    "\"Serbia\":'Belgrad',\n",
    "\"Słowacja\":'Bratysława',\n",
    "\"Słowenia\":'Lublana',\n",
    "\"Szwecja\":'Sztokholm',\n",
    "\"Turcja\":'Ankara',\n",
    "\"Ukraina\":'Kijów',\n",
    "\"Watykan\":'Watykan',\n",
    "\"Węgry\":'Budapeszt',\n",
    "\"Wielka Brytania\":'Londyn',\n",
    "\"Włochy\":'Rzym'}\n",
    "\n",
    "map_of_Europe[\"Włochy\"]"
   ]
  },
  {
   "cell_type": "markdown",
   "metadata": {},
   "source": [
    "# Zad.\n",
    "\n",
    "Napisz funkcję, który wczyta od użytkownika login i hasło. Jeżeli w słowniku haseł znajduje się odpowiedni login i hasło, program powinien wyświetlić ,,Autoryzacja pomyślna\", w pozostałych przypadkach wypisze: ,,Błąd logowania''. "
   ]
  },
  {
   "cell_type": "code",
   "execution_count": 18,
   "metadata": {
    "collapsed": false
   },
   "outputs": [
    {
     "name": "stdout",
     "output_type": "stream",
     "text": [
      "Podaj login:Ja\n",
      "Podaj hasło:Ty\n",
      "Błąd logowania\n"
     ]
    }
   ],
   "source": [
    "base={\n",
    "\"Ja\":'Admin1',\n",
    "\"Ty\":'Admin1',\n",
    "\"On\":'Admin1'}\n",
    "\n",
    "login=input(\"Podaj login:\")\n",
    "password=input(\"Podaj hasło:\")\n",
    "\n",
    "if(login in base and base[login] == password):\n",
    "    print(\"Autoryzacja pomyślna\")\n",
    "else:    \n",
    "    print(\"Błąd logowania\")\n"
   ]
  },
  {
   "cell_type": "markdown",
   "metadata": {},
   "source": [
    "# 2. Zbiory\n",
    "\n",
    "W Pythonie są dostępne dwa rodzaje wbudowanych zbiorów: set (mutable) i frozenset (immutable, hashable)."
   ]
  },
  {
   "cell_type": "code",
   "execution_count": 18,
   "metadata": {
    "collapsed": false
   },
   "outputs": [
    {
     "name": "stdout",
     "output_type": "stream",
     "text": [
      "{1, 2, 3} \n",
      " frozenset({4, 5, 6}) \n",
      " set()\n"
     ]
    }
   ],
   "source": [
    "s1 = set([1, 2, 3])\n",
    "s2 = frozenset([4, 5, 6])\n",
    "s3 = set() # zbiór pusty\n",
    "\n",
    "print(s1, \"\\n\", s2, \"\\n\", s3)"
   ]
  },
  {
   "cell_type": "markdown",
   "metadata": {},
   "source": [
    "## Podstawowe operacje na zbiorach (mutable):\n",
    "* dodawanie elementu:"
   ]
  },
  {
   "cell_type": "code",
   "execution_count": 22,
   "metadata": {
    "collapsed": false
   },
   "outputs": [
    {
     "name": "stdout",
     "output_type": "stream",
     "text": [
      "{1, 2, 3, -1}\n",
      "{1, 2, 3, 10, -1}\n"
     ]
    }
   ],
   "source": [
    "s = set([2, 3, -1, 1, 1])\n",
    "print(s)\n",
    "\n",
    "s.add(10)\n",
    "print(s)"
   ]
  },
  {
   "cell_type": "markdown",
   "metadata": {},
   "source": [
    "* usuwanie elementu:"
   ]
  },
  {
   "cell_type": "code",
   "execution_count": 23,
   "metadata": {
    "collapsed": false
   },
   "outputs": [
    {
     "name": "stdout",
     "output_type": "stream",
     "text": [
      "{1, 2, 4, 7}\n",
      "{1, 2, 7}\n",
      "{1, 2}\n"
     ]
    }
   ],
   "source": [
    "s = set([2, 7, 1, 4, 2])\n",
    "\n",
    "print(s)\n",
    "\n",
    "s.discard(4)\n",
    "print(s)\n",
    "\n",
    "s.remove(7)\n",
    "print(s)"
   ]
  },
  {
   "cell_type": "markdown",
   "metadata": {},
   "source": [
    "* czyszczenie zbioru (usuwanie wszystkich elementów):"
   ]
  },
  {
   "cell_type": "code",
   "execution_count": 24,
   "metadata": {
    "collapsed": false
   },
   "outputs": [
    {
     "name": "stdout",
     "output_type": "stream",
     "text": [
      "{1, 2, 3, -1}\n",
      "set()\n"
     ]
    }
   ],
   "source": [
    "s = set([2, 3, -1, 1])\n",
    "print(s)\n",
    "\n",
    "s.clear()\n",
    "print(s)"
   ]
  },
  {
   "cell_type": "markdown",
   "metadata": {},
   "source": [
    "* pobieranie i usuwanie pierwszego elementu:"
   ]
  },
  {
   "cell_type": "code",
   "execution_count": 25,
   "metadata": {
    "collapsed": false
   },
   "outputs": [
    {
     "name": "stdout",
     "output_type": "stream",
     "text": [
      "{1, 2, 4, 7}\n",
      "\n",
      "1\n",
      "{2, 4, 7}\n",
      "2\n",
      "{4, 7}\n"
     ]
    }
   ],
   "source": [
    "s = set([2, 7, 1, 4])\n",
    "print(s)\n",
    "print()\n",
    "\n",
    "print(s.pop())\n",
    "print(s)\n",
    "print(s.pop())\n",
    "print(s)"
   ]
  },
  {
   "cell_type": "markdown",
   "metadata": {},
   "source": [
    "* update-owanie zbioru"
   ]
  },
  {
   "cell_type": "code",
   "execution_count": 26,
   "metadata": {
    "collapsed": false
   },
   "outputs": [
    {
     "name": "stdout",
     "output_type": "stream",
     "text": [
      "{1, 2, 4, 7} \n",
      " {-1, -4, -2, 7} \n",
      "\n",
      "{1, 2, 4, 7, -2, -4, -1} \n",
      "\n"
     ]
    }
   ],
   "source": [
    "s1 = set([2, 7, 1, 4])\n",
    "s2 = set([-2, 7, -1, -4])\n",
    "\n",
    "print(s1, \"\\n\", s2, \"\\n\")\n",
    "\n",
    "s1.update(s2) # dodaje do zbioru s1 elementy ze zbioru s2\n",
    "# s1.update(s2) <=> s1 |= s2\n",
    "print(s1, \"\\n\")"
   ]
  },
  {
   "cell_type": "code",
   "execution_count": 27,
   "metadata": {
    "collapsed": false
   },
   "outputs": [
    {
     "name": "stdout",
     "output_type": "stream",
     "text": [
      "{1, 2, 4, 7} \n",
      " {-1, -4, -2, 7} \n",
      "\n",
      "\n",
      "{7} \n",
      "\n"
     ]
    }
   ],
   "source": [
    "s1 = set([2, 7, 1, 4])\n",
    "s2 = set([-2, 7, -1, -4])\n",
    "print(s1, \"\\n\", s2, \"\\n\")\n",
    "print()\n",
    "\n",
    "s1 = set([2, 7, 1, 4])\n",
    "s1.intersection_update(s2) # zwraca zbiór s1 po usunięciu z niego elementów, \n",
    "                           # które nie występują w zbiorze s2\n",
    "# s1.intersection_update(s2) <=> s1 &= s2\n",
    "print(s1, \"\\n\")"
   ]
  },
  {
   "cell_type": "code",
   "execution_count": 43,
   "metadata": {
    "collapsed": false
   },
   "outputs": [
    {
     "name": "stdout",
     "output_type": "stream",
     "text": [
      "{1, 2, 4, 7} \n",
      " {-1, -4, -2, 7} \n",
      "\n",
      "{1, 2, 4} \n",
      "\n"
     ]
    }
   ],
   "source": [
    "s1 = set([2, 7, 1, 4])\n",
    "s2 = set([-2, 7, -1, -4])\n",
    "\n",
    "print(s1, \"\\n\", s2, \"\\n\")\n",
    "\n",
    "s1.difference_update(s2) # zwraca zbiór s1 po usunięciu z niego elementów, \n",
    "                         # które występują w zbiorze s2\n",
    "# s1.difference_update(s2) <=> s1 -= s2\n",
    "print(s1, \"\\n\")"
   ]
  },
  {
   "cell_type": "code",
   "execution_count": 45,
   "metadata": {
    "collapsed": false
   },
   "outputs": [
    {
     "name": "stdout",
     "output_type": "stream",
     "text": [
      "{1, 2, 4, 7} \n",
      " {-1, -4, -2, 7} \n",
      "\n",
      "{1, 2, 4, -2, -4, -1} \n",
      "\n"
     ]
    }
   ],
   "source": [
    "s1 = set([2, 7, 1, 4])\n",
    "s2 = set([-2, 7, -1, -4])\n",
    "\n",
    "print(s1, \"\\n\", s2, \"\\n\")\n",
    "\n",
    "s1 = set([2, 7, 1, 4])\n",
    "s1.symmetric_difference_update(s2) # zwraca zbiór s1 po wypełnieniu go elementami \n",
    "# przynależącymi do dokładnie jednego ze zbiorów s1 lub s2\n",
    "# s1.symmetric_difference_update(s2) <=> s1 ^= s2\n",
    "print(s1, \"\\n\")"
   ]
  },
  {
   "cell_type": "markdown",
   "metadata": {},
   "source": [
    "# Zbiory niezmiennicze - frozenset\n",
    "\n",
    "Zbiory niezmienne mogą być kluczami w słownikach, zaś zmiennicze nie:"
   ]
  },
  {
   "cell_type": "code",
   "execution_count": 28,
   "metadata": {
    "collapsed": false
   },
   "outputs": [
    {
     "name": "stdout",
     "output_type": "stream",
     "text": [
      "{frozenset({4, 5, 6}): 3}\n"
     ]
    },
    {
     "ename": "TypeError",
     "evalue": "unhashable type: 'set'",
     "output_type": "error",
     "traceback": [
      "\u001b[0;31m---------------------------------------------------------------------------\u001b[0m",
      "\u001b[0;31mTypeError\u001b[0m                                 Traceback (most recent call last)",
      "\u001b[0;32m<ipython-input-28-a3428be1a0c9>\u001b[0m in \u001b[0;36m<module>\u001b[0;34m()\u001b[0m\n\u001b[1;32m      5\u001b[0m \u001b[0mprint\u001b[0m\u001b[1;33m(\u001b[0m\u001b[0mx\u001b[0m\u001b[1;33m)\u001b[0m\u001b[1;33m\u001b[0m\u001b[0m\n\u001b[1;32m      6\u001b[0m \u001b[1;33m\u001b[0m\u001b[0m\n\u001b[0;32m----> 7\u001b[0;31m \u001b[0my\u001b[0m \u001b[1;33m=\u001b[0m \u001b[1;33m{\u001b[0m\u001b[0ms1\u001b[0m\u001b[1;33m:\u001b[0m \u001b[1;36m4\u001b[0m\u001b[1;33m}\u001b[0m\u001b[1;33m\u001b[0m\u001b[0m\n\u001b[0m",
      "\u001b[0;31mTypeError\u001b[0m: unhashable type: 'set'"
     ]
    }
   ],
   "source": [
    "s1 = set([1, 2, 3])\n",
    "s2 = frozenset([4, 5, 6])\n",
    "\n",
    "x = {s2: 3}\n",
    "print(x)\n",
    "\n",
    "y = {s1: 4}"
   ]
  },
  {
   "cell_type": "markdown",
   "metadata": {},
   "source": [
    "Zbiory niezmienne mogą być elementami innych zbiorów, zaś zmiennicze nie:"
   ]
  },
  {
   "cell_type": "code",
   "execution_count": 29,
   "metadata": {
    "collapsed": false
   },
   "outputs": [
    {
     "name": "stdout",
     "output_type": "stream",
     "text": [
      "{frozenset({4, 5, 6})}\n"
     ]
    },
    {
     "ename": "TypeError",
     "evalue": "unhashable type: 'set'",
     "output_type": "error",
     "traceback": [
      "\u001b[0;31m---------------------------------------------------------------------------\u001b[0m",
      "\u001b[0;31mTypeError\u001b[0m                                 Traceback (most recent call last)",
      "\u001b[0;32m<ipython-input-29-a2d24c0075bd>\u001b[0m in \u001b[0;36m<module>\u001b[0;34m()\u001b[0m\n\u001b[1;32m      6\u001b[0m \u001b[0mprint\u001b[0m\u001b[1;33m(\u001b[0m\u001b[0ms3\u001b[0m\u001b[1;33m)\u001b[0m\u001b[1;33m\u001b[0m\u001b[0m\n\u001b[1;32m      7\u001b[0m \u001b[1;33m\u001b[0m\u001b[0m\n\u001b[0;32m----> 8\u001b[0;31m \u001b[0ms3\u001b[0m\u001b[1;33m.\u001b[0m\u001b[0madd\u001b[0m\u001b[1;33m(\u001b[0m\u001b[0ms1\u001b[0m\u001b[1;33m)\u001b[0m\u001b[1;33m\u001b[0m\u001b[0m\n\u001b[0m\u001b[1;32m      9\u001b[0m \u001b[0mprint\u001b[0m\u001b[1;33m(\u001b[0m\u001b[0ms3\u001b[0m\u001b[1;33m)\u001b[0m\u001b[1;33m\u001b[0m\u001b[0m\n",
      "\u001b[0;31mTypeError\u001b[0m: unhashable type: 'set'"
     ]
    }
   ],
   "source": [
    "s1 = set([1, 2, 3])\n",
    "s2 = frozenset([4, 5, 6])\n",
    "s3 = set()\n",
    "\n",
    "s3.add(s2)\n",
    "print(s3)\n",
    "\n",
    "s3.add(s1)\n",
    "print(s3)"
   ]
  },
  {
   "cell_type": "markdown",
   "metadata": {},
   "source": [
    "## Porównywanie zbiorów\n",
    "Porównywanie dwóch zbiorów ma sens, gdy jeden zawiera się w drugim. W przeciwnym razie wyjdzie False.\n",
    "\n",
    "* Dwa zbiory są równe wtedy i tylko wtedy, gdy każdy z elementów każdego ze zbiorów należy do zbioru drugiego (każdy ze zbiorów jest podzbiorem drugiego):"
   ]
  },
  {
   "cell_type": "code",
   "execution_count": 32,
   "metadata": {
    "collapsed": false
   },
   "outputs": [
    {
     "name": "stdout",
     "output_type": "stream",
     "text": [
      "True\n",
      "True\n"
     ]
    }
   ],
   "source": [
    "s1 = set([1, 2, 4])\n",
    "s2 = set([2, 1, 4])\n",
    "s3 = frozenset([1, 2, 4])\n",
    "\n",
    "print(s1==s2)\n",
    "print(s1==s3)"
   ]
  },
  {
   "cell_type": "markdown",
   "metadata": {},
   "source": [
    "* Zbiór jest mniejszy od drugiego zbioru wtedy i tylko wtedy, gdy jest jego podzbiorem właściwym (jest jego podzbiorem, jednak nie jest mu równy):"
   ]
  },
  {
   "cell_type": "code",
   "execution_count": 49,
   "metadata": {
    "collapsed": false
   },
   "outputs": [
    {
     "name": "stdout",
     "output_type": "stream",
     "text": [
      "True\n",
      "False\n",
      "True\n"
     ]
    }
   ],
   "source": [
    "s1 = set([1, 2])\n",
    "s2 = set([1, 2, 4])\n",
    "s3 = frozenset([1, 2, 4])\n",
    "\n",
    "print(s1 < s2)\n",
    "print(s2 < s3)\n",
    "print(s2 <= s3)"
   ]
  },
  {
   "cell_type": "markdown",
   "metadata": {},
   "source": [
    "* Zbiór jest większy od drugiego zbioru wtedy i tylko wtedy, gdy jest jego nadzbiorem właściwym (jest jego nadzbiorem, jednak nie jest mu równy):"
   ]
  },
  {
   "cell_type": "code",
   "execution_count": 50,
   "metadata": {
    "collapsed": false
   },
   "outputs": [
    {
     "name": "stdout",
     "output_type": "stream",
     "text": [
      "True\n",
      "False\n",
      "True\n"
     ]
    }
   ],
   "source": [
    "s1 = set([1, 2, 5])\n",
    "s2 = set([1, 2])\n",
    "s3 = frozenset([1, 2])\n",
    "\n",
    "print(s1 > s2)\n",
    "print(s2 > s3)\n",
    "print(s2 >= s3)"
   ]
  },
  {
   "cell_type": "markdown",
   "metadata": {},
   "source": [
    "## Operacje na zbiorach (set i frozenset)\n",
    "\n",
    "* liczebność (liczba elementów):"
   ]
  },
  {
   "cell_type": "code",
   "execution_count": 33,
   "metadata": {
    "collapsed": false
   },
   "outputs": [
    {
     "name": "stdout",
     "output_type": "stream",
     "text": [
      "4\n",
      "3\n"
     ]
    }
   ],
   "source": [
    "s1 = set([1, 2, 4, 2, 1, 5])\n",
    "s2 = frozenset([1, 2, 5])\n",
    "\n",
    "print(len(s1))\n",
    "print(len(s2))"
   ]
  },
  {
   "cell_type": "markdown",
   "metadata": {},
   "source": [
    "* należenie do zbioru:"
   ]
  },
  {
   "cell_type": "code",
   "execution_count": 34,
   "metadata": {
    "collapsed": false
   },
   "outputs": [
    {
     "name": "stdout",
     "output_type": "stream",
     "text": [
      "True\n",
      "True\n",
      "False\n"
     ]
    }
   ],
   "source": [
    "s1 = set([1, 2, 4, 2, 1, 5])\n",
    "s2 = frozenset([1, 2, 5])\n",
    "\n",
    "print(2 in s1)\n",
    "print(2 in s2)\n",
    "print(3 in s2)"
   ]
  },
  {
   "cell_type": "markdown",
   "metadata": {},
   "source": [
    "* nienależenie do zbioru:"
   ]
  },
  {
   "cell_type": "code",
   "execution_count": 54,
   "metadata": {
    "collapsed": false
   },
   "outputs": [
    {
     "name": "stdout",
     "output_type": "stream",
     "text": [
      "True\n",
      "True\n",
      "False\n"
     ]
    }
   ],
   "source": [
    "s1 = set([1, 2, 4, 2, 1, 5])\n",
    "s2 = frozenset([1, 2, 5])\n",
    "\n",
    "print(3 not in s1)\n",
    "print(3 not in s2)\n",
    "print(2 not in s1)"
   ]
  },
  {
   "cell_type": "markdown",
   "metadata": {},
   "source": [
    "* dany zbiór jest podzbiorem innego:"
   ]
  },
  {
   "cell_type": "code",
   "execution_count": 35,
   "metadata": {
    "collapsed": false
   },
   "outputs": [
    {
     "name": "stdout",
     "output_type": "stream",
     "text": [
      "True\n",
      "False\n",
      "True\n",
      "True\n"
     ]
    }
   ],
   "source": [
    "s1 = set([1, 2, 4, 2, 1, 5])\n",
    "s2 = frozenset([1, 2, 5])\n",
    "\n",
    "print(set([1, 4]) <= s1) # set([1, 4]) <= s1 <=> set([1, 4]).issubset(s1)\n",
    "print(set([1, 4]) <= s2)\n",
    "print(set([1, 5]) <= s1)\n",
    "print(set([1, 5]).issubset(s2))"
   ]
  },
  {
   "cell_type": "markdown",
   "metadata": {},
   "source": [
    "* dany zbiór jest nadzbiorem innego:"
   ]
  },
  {
   "cell_type": "code",
   "execution_count": 56,
   "metadata": {
    "collapsed": false
   },
   "outputs": [
    {
     "name": "stdout",
     "output_type": "stream",
     "text": [
      "True\n",
      "False\n",
      "True\n",
      "True\n"
     ]
    }
   ],
   "source": [
    "s1 = set([1, 2, 4, 2, 1, 5])\n",
    "s2 = frozenset([1, 2, 5])\n",
    "\n",
    "print(s1 >= set([1, 4])) # s1 >= set([1, 4]) <=> s1.issuperset(set([1, 4]))\n",
    "print(s2 >= set([1, 4]))\n",
    "print(s2 >= set([1, 5]))\n",
    "print(s2.issuperset(set([1, 5])))"
   ]
  },
  {
   "cell_type": "markdown",
   "metadata": {},
   "source": [
    "* łączenie dwóch (suma) zbiorów:"
   ]
  },
  {
   "cell_type": "code",
   "execution_count": 36,
   "metadata": {
    "collapsed": false
   },
   "outputs": [
    {
     "name": "stdout",
     "output_type": "stream",
     "text": [
      "{1, 2, 3, 4, 5}\n",
      "{1, 2, 4, 5}\n",
      "<class 'set'>\n",
      "<class 'frozenset'>\n"
     ]
    }
   ],
   "source": [
    "s1 = set([1, 2, 4, 2, 1, 5])\n",
    "s2 = frozenset([1, 3, 5])\n",
    "\n",
    "print(s1.union(s2)) # s1.union(s2) <=> s1 | s2 \n",
    "print(s1)\n",
    "\n",
    "# Przy mieszanych set instances wynik jest typu pierwszego\n",
    "print(type(s1.union(s2)))\n",
    "print(type(s2.union(s1)))"
   ]
  },
  {
   "cell_type": "markdown",
   "metadata": {},
   "source": [
    "* część wspólną (iloczyn) dwóch zbiorów:"
   ]
  },
  {
   "cell_type": "code",
   "execution_count": 58,
   "metadata": {
    "collapsed": false
   },
   "outputs": [
    {
     "name": "stdout",
     "output_type": "stream",
     "text": [
      "{1, 5}\n",
      "{1, 2, 4, 5}\n",
      "<class 'set'>\n",
      "<class 'frozenset'>\n"
     ]
    }
   ],
   "source": [
    "s1 = set([1, 2, 4, 2, 1, 5])\n",
    "s2 = frozenset([1, 3, 5])\n",
    "\n",
    "print(s1.intersection(s2)) # s1.intersection(s2) <=> s1 & s2 \n",
    "print(s1)\n",
    "\n",
    "# Przy mieszanych set instances wynik jest typu pierwszego\n",
    "print(type(s1 & s2))\n",
    "print(type(s2 & s1))"
   ]
  },
  {
   "cell_type": "markdown",
   "metadata": {},
   "source": [
    "* różnica dwóch zbiorów:"
   ]
  },
  {
   "cell_type": "code",
   "execution_count": 60,
   "metadata": {
    "collapsed": false
   },
   "outputs": [
    {
     "name": "stdout",
     "output_type": "stream",
     "text": [
      "{2, 4}\n",
      "{1, 2, 4, 5}\n",
      "<class 'set'>\n",
      "<class 'frozenset'>\n"
     ]
    }
   ],
   "source": [
    "s1 = set([1, 2, 4, 2, 1, 5])\n",
    "s2 = frozenset([1, 3, 5])\n",
    "\n",
    "print(s1.difference(s2)) # s1.difference(s2) <=> s1 - s2 \n",
    "print(s1)\n",
    "\n",
    "# Przy mieszanych set instances wynik jest typu pierwszego\n",
    "print(type(s1 - s2))\n",
    "print(type(s2 - s1))"
   ]
  },
  {
   "cell_type": "markdown",
   "metadata": {},
   "source": [
    "* różnica symetryczna dwóch zbiorów"
   ]
  },
  {
   "cell_type": "code",
   "execution_count": 62,
   "metadata": {
    "collapsed": false
   },
   "outputs": [
    {
     "name": "stdout",
     "output_type": "stream",
     "text": [
      "{2, 3, 4}\n",
      "{1, 2, 4, 5}\n",
      "{2, 3, 4}\n"
     ]
    }
   ],
   "source": [
    "s1 = set([1, 2, 4, 2, 1, 5])\n",
    "s2 = frozenset([1, 3, 5])\n",
    "\n",
    "print(s1.symmetric_difference(s2)) \n",
    "# s1.symmetric_difference(s2) <=> s1 ^ s2 <=> s1-s2|s2-s1 \n",
    "print(s1)\n",
    "print(s1-s2|s2-s1)"
   ]
  },
  {
   "cell_type": "markdown",
   "metadata": {},
   "source": [
    "## Zbiory można wykorzystać do odfiltrowania duplikatów z listy"
   ]
  },
  {
   "cell_type": "code",
   "execution_count": 37,
   "metadata": {
    "collapsed": false
   },
   "outputs": [
    {
     "name": "stdout",
     "output_type": "stream",
     "text": [
      "[1, 2, 2, 2, 3, 3]\n",
      "[1, 2, 3]\n"
     ]
    }
   ],
   "source": [
    "l = [1, 2, 2, 2, 3, 3]\n",
    "print(l)\n",
    "l = list(set(l)) \n",
    "print(l)"
   ]
  },
  {
   "cell_type": "markdown",
   "metadata": {},
   "source": [
    "## Jak dostać się do elementów zbioru:"
   ]
  },
  {
   "cell_type": "code",
   "execution_count": 66,
   "metadata": {
    "collapsed": false
   },
   "outputs": [
    {
     "name": "stdout",
     "output_type": "stream",
     "text": [
      "{1, 2, 4, 5}\n",
      "1\n",
      "2\n",
      "4 \n",
      "\n",
      "1\n",
      "2\n",
      "4\n",
      "5\n"
     ]
    }
   ],
   "source": [
    "s = set([1, 2, 4, 2, 1, 5])\n",
    "print(s)\n",
    "i = iter(s)\n",
    "print(next(i))\n",
    "print(next(i))\n",
    "\n",
    "# lub \n",
    "\n",
    "l = list(s)\n",
    "print(l[2], \"\\n\")\n",
    "\n",
    "# lub\n",
    "\n",
    "for x in s:\n",
    "    print(x)"
   ]
  },
  {
   "cell_type": "markdown",
   "metadata": {},
   "source": [
    "## Przykład użycia zbioru:\n",
    "\n",
    "Symulacja losowania lotto:"
   ]
  },
  {
   "cell_type": "code",
   "execution_count": 68,
   "metadata": {
    "collapsed": false
   },
   "outputs": [
    {
     "name": "stdout",
     "output_type": "stream",
     "text": [
      "5\n",
      "8\n",
      "41\n",
      "42\n",
      "16\n",
      "27\n"
     ]
    }
   ],
   "source": [
    "from random import choice\n",
    "wyn = set()\n",
    "while len(wyn) < 6:\n",
    "    wyn.add(choice(range(1,50)))\n",
    "for x in wyn:\n",
    "    print(x,)"
   ]
  },
  {
   "cell_type": "markdown",
   "metadata": {},
   "source": [
    "# Zad.\n",
    "\n",
    "Napisz funkcje, która pobiera jako argument łańcuch znaków i zwraca jako wynik zbiór składający się z małych liter występujących w łańcuchu podanym jako argument."
   ]
  },
  {
   "cell_type": "code",
   "execution_count": 30,
   "metadata": {
    "collapsed": false
   },
   "outputs": [
    {
     "data": {
      "text/plain": [
       "{' ', 'a', 'k', 'l', 'm', 'o', 't'}"
      ]
     },
     "execution_count": 30,
     "metadata": {},
     "output_type": "execute_result"
    }
   ],
   "source": [
    "napis=\"Ala ma kota\"\n",
    "set(napis.lower()) "
   ]
  },
  {
   "cell_type": "markdown",
   "metadata": {},
   "source": [
    "# Zad.\n",
    "Zczytaj dwa napisy oraz wypisz wszytkie znaki (bez powtórzeń), które:\n",
    "\n",
    "* występują w pierwszym napisie ale nie wsytępuja w drugim\n",
    "* występują w obu napisach\n",
    "* występują w conajmniej jednym napisie\n"
   ]
  },
  {
   "cell_type": "code",
   "execution_count": null,
   "metadata": {
    "collapsed": true
   },
   "outputs": [],
   "source": []
  },
  {
   "cell_type": "markdown",
   "metadata": {
    "collapsed": true
   },
   "source": [
    "# Zad\n",
    "\n",
    "Napisz funkcję, która stworzy listę będącą sumą dwóch list x, y taką, że lista wyników będzie miała unikalne wartości z obu list, np\n",
    "```python\n",
    ">>> suma_list([1, 2, 3, 3, 4], [3, 4, 6, 0])\n",
    "[0, 1, 2, 3, 4, 6]\n",
    "```"
   ]
  },
  {
   "cell_type": "code",
   "execution_count": 19,
   "metadata": {
    "collapsed": false
   },
   "outputs": [
    {
     "data": {
      "text/plain": [
       "[0, 1, 2, 3, 4, 6]"
      ]
     },
     "execution_count": 19,
     "metadata": {},
     "output_type": "execute_result"
    }
   ],
   "source": [
    "list1 = [1, 2, 3, 3, 4]\n",
    "list2 = [3, 4, 6, 0]\n",
    "list(set(list1+list2))"
   ]
  },
  {
   "cell_type": "markdown",
   "metadata": {},
   "source": [
    "# Zad \n",
    "\n",
    "Korzystając z poznanych funkcji (funkcjonałów) proszę napisać własne funkcje max i min zwracające odpowiednio największą i najmniejszą wartość listy, np. dla danych [2, 2, 11, 4, 9] funkcja powinna zwrócić wartość 11. "
   ]
  },
  {
   "cell_type": "code",
   "execution_count": 20,
   "metadata": {
    "collapsed": false
   },
   "outputs": [
    {
     "data": {
      "text/plain": [
       "5"
      ]
     },
     "execution_count": 20,
     "metadata": {},
     "output_type": "execute_result"
    }
   ],
   "source": [
    "list_1 = [5, 2, 3, 1, 4]\n",
    "def max_in_list(l):\n",
    "    l.sort( reverse=True)\n",
    "    return(l[0])\n",
    "max_in_list(list_1)"
   ]
  },
  {
   "cell_type": "code",
   "execution_count": null,
   "metadata": {
    "collapsed": true
   },
   "outputs": [],
   "source": []
  }
 ],
 "metadata": {
  "kernelspec": {
   "display_name": "Python 3",
   "language": "python",
   "name": "python3"
  },
  "language_info": {
   "codemirror_mode": {
    "name": "ipython",
    "version": 3
   },
   "file_extension": ".py",
   "mimetype": "text/x-python",
   "name": "python",
   "nbconvert_exporter": "python",
   "pygments_lexer": "ipython3",
   "version": "3.6.0"
  }
 },
 "nbformat": 4,
 "nbformat_minor": 2
}
