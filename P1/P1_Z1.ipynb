{
 "cells": [
  {
   "cell_type": "markdown",
   "metadata": {},
   "source": [
    "# 1. Warunki\n",
    "Python używa zmiennych logicznych w celu oceny warunków. \n",
    "Wartości logiczne prawda (True) i fałsz (False) są zwracane, gdy wyrażenie jest porównywane i oceniane. \n",
    "\n",
    "Na przykład:"
   ]
  },
  {
   "cell_type": "code",
   "execution_count": 1,
   "metadata": {
    "collapsed": false
   },
   "outputs": [
    {
     "name": "stdout",
     "output_type": "stream",
     "text": [
      "True\n",
      "False\n",
      "True\n"
     ]
    }
   ],
   "source": [
    "x = 2\n",
    "print(x == 2)\n",
    "print(x == 3)\n",
    "print(x < 3) "
   ]
  },
  {
   "cell_type": "markdown",
   "metadata": {},
   "source": [
    "# 1.1 Instrukcje Warunkowe\n",
    "Aby uzależnić wykonanie instrukcji od rezultatu porównania, używamy instrukcji warunkowej (Uwaga: W trybie interaktywnym, na końcu każdej instrukcji złożonej - np. IF - konieczne jest dwukrotne wciśnięcie klawisza Enter):"
   ]
  },
  {
   "cell_type": "code",
   "execution_count": 3,
   "metadata": {
    "collapsed": false
   },
   "outputs": [
    {
     "name": "stdout",
     "output_type": "stream",
     "text": [
      "OK\n"
     ]
    }
   ],
   "source": [
    "x=2\n",
    "\n",
    "if x==2: \n",
    "    print(\"OK\")"
   ]
  },
  {
   "cell_type": "markdown",
   "metadata": {},
   "source": [
    "Przykład bardziej skomplikowany:"
   ]
  },
  {
   "cell_type": "code",
   "execution_count": 5,
   "metadata": {
    "collapsed": false
   },
   "outputs": [
    {
     "name": "stdout",
     "output_type": "stream",
     "text": [
      "2\n"
     ]
    }
   ],
   "source": [
    "a = 2\n",
    "b = 4\n",
    "if a > b:\n",
    "    print(b)\n",
    "else:\n",
    "    print(a)"
   ]
  },
  {
   "cell_type": "markdown",
   "metadata": {},
   "source": [
    "W powyższym przykładzie użyliśmy pełnej instrukcji warunkowej <b>IF/ELSE</b>. Istnieje jeszcze bardziej bogatsza instrukcja warunkowa tzw. instrukcja wyboru wielokrotnego <b>IF/ELIF/ELSE</b>:"
   ]
  },
  {
   "cell_type": "code",
   "execution_count": 12,
   "metadata": {
    "collapsed": false
   },
   "outputs": [
    {
     "name": "stdout",
     "output_type": "stream",
     "text": [
      "Ten program porównuje dwie liczby\n",
      "Podaj pierwszą z dwóch liczb:2\n",
      "Podaj drugą z dwóch liczb:5\n",
      "Liczba 2 w stosunku do 5 jest:\n",
      "mniejsza\n"
     ]
    }
   ],
   "source": [
    "print(\"Ten program porównuje dwie liczby\")\n",
    "x = input(\"Podaj pierwszą z dwóch liczb:\")                                 \n",
    "y = input(\"Podaj drugą z dwóch liczb:\")                                    \n",
    "print(\"Liczba\",x,\"w stosunku do\",y,\"jest:\",)\n",
    "if x==y:\n",
    "    print(\"taka sama\")\n",
    "elif x>y:\n",
    "    print(\"większa\")\n",
    "else:\n",
    "    print(\"mniejsza\")"
   ]
  },
  {
   "cell_type": "markdown",
   "metadata": {},
   "source": [
    "# Operatory logiczne\n",
    "Operatory logiczne, takie jak: <b>and</b> i <b>or</b> umożliwiają budowanie złożonych wyrażeń logicznych, na przykład:"
   ]
  },
  {
   "cell_type": "code",
   "execution_count": 14,
   "metadata": {
    "collapsed": false
   },
   "outputs": [
    {
     "name": "stdout",
     "output_type": "stream",
     "text": [
      "Your name is John, and you are also 23 years old.\n",
      "Your name is either John or Rick.\n"
     ]
    }
   ],
   "source": [
    "name = \"John\"\n",
    "age = 23\n",
    "if name == \"John\" and age == 23:\n",
    "    print(\"Your name is John, and you are also 23 years old.\")\n",
    "\n",
    "if name == \"John\" or name == \"Rick\":\n",
    "    print(\"Your name is either John or Rick.\")"
   ]
  },
  {
   "cell_type": "markdown",
   "metadata": {},
   "source": [
    "# Operator ,,in''\n",
    "Operator <b>in</b> może być używany w celu sprawdzenia, czy określony ,,obiekt'' istnieje w obrębie iterowalnego kontenera obiektów, np. listy:"
   ]
  },
  {
   "cell_type": "code",
   "execution_count": 16,
   "metadata": {
    "collapsed": false
   },
   "outputs": [
    {
     "name": "stdout",
     "output_type": "stream",
     "text": [
      "Your name is either John or Rick.\n"
     ]
    }
   ],
   "source": [
    "if name in [\"John\", \"Rick\"]:\n",
    "    print(\"Your name is either John or Rick.\")"
   ]
  },
  {
   "cell_type": "markdown",
   "metadata": {},
   "source": [
    "Instrukcje warunkowe możemy zagnieżdżać, np.:"
   ]
  },
  {
   "cell_type": "code",
   "execution_count": 21,
   "metadata": {
    "collapsed": false
   },
   "outputs": [
    {
     "name": "stdout",
     "output_type": "stream",
     "text": [
      "Ten program przewidzi Twoją długość życia\n",
      "Czy palisz papierosy?Tak\n",
      "A czy się zaciągasz?Tak\n",
      "Nie pożyjesz długo!\n"
     ]
    }
   ],
   "source": [
    "print(\"Ten program przewidzi Twoją długość życia\")\n",
    "odp = input(\"Czy palisz papierosy?\")\n",
    "if odp == \"Tak\" or odp == \"TAK\" or odp == \"tak\" or odp == \"no pewnie\":\n",
    "    odp = input(\"A czy się zaciągasz?\")\n",
    "    if odp == \"Tak\" or odp == \"TAK\" or odp == \"tak\" or odp == \"no pewnie\":\n",
    "        print(\"Nie pożyjesz długo!\")\n",
    "    else:\n",
    "        print(\"To pożyjesz długo!\")\n",
    "else:\n",
    "    print(\"To pożyjesz bardzo długo!\")"
   ]
  },
  {
   "cell_type": "markdown",
   "metadata": {},
   "source": [
    "# 2. Pętle\n",
    "W Pythonie istnieją dwa typy pętli: <b>for<b> i <b>while<b>."
   ]
  },
  {
   "cell_type": "markdown",
   "metadata": {},
   "source": [
    "# 2.1 Pętle iterowane po elementach sekwencji\n",
    "\n",
    "Typowa pętla po liczbach:"
   ]
  },
  {
   "cell_type": "code",
   "execution_count": 23,
   "metadata": {
    "collapsed": false
   },
   "outputs": [
    {
     "name": "stdout",
     "output_type": "stream",
     "text": [
      "3\n",
      "4\n",
      "5\n",
      "6\n",
      "7\n",
      "8\n",
      "9\n"
     ]
    }
   ],
   "source": [
    "for x in range(3,10):\n",
    "      print(x)"
   ]
  },
  {
   "cell_type": "markdown",
   "metadata": {},
   "source": [
    "Funkcja <b>range</b> tworzy listę wartości całkowitych: \n",
    "\n",
    "- od zera do podanej wartości (jeżeli podamy 1 argument) \n",
    "- od - do (jeżeli podamy 2 argumenty)\n",
    "- możemy podać też trzeci parametr określający przyrost (normalnie +1).\n"
   ]
  },
  {
   "cell_type": "code",
   "execution_count": 25,
   "metadata": {
    "collapsed": false
   },
   "outputs": [
    {
     "name": "stdout",
     "output_type": "stream",
     "text": [
      "range(0, 10)\n",
      "range(3, 10)\n",
      "range(1, 10, 2)\n",
      "range(4, 0, -1)\n"
     ]
    }
   ],
   "source": [
    "print(range(10))\n",
    "print(range(3, 10))\n",
    "print(range(1,10,2))\n",
    "print(range(4,0,-1))"
   ]
  },
  {
   "cell_type": "markdown",
   "metadata": {},
   "source": [
    "Pętla <b>for</b> może też iterować inne typy danych, np napisy, listy:"
   ]
  },
  {
   "cell_type": "code",
   "execution_count": 30,
   "metadata": {
    "collapsed": false
   },
   "outputs": [
    {
     "name": "stdout",
     "output_type": "stream",
     "text": [
      "Z\n",
      "d\n",
      "r\n",
      "a\n",
      "b\n",
      "n\n",
      "i\n",
      "a\n",
      "m\n",
      "y\n",
      " \n",
      "l\n",
      "i\n",
      "t\n",
      "e\n",
      "r\n",
      "k\n",
      "i\n",
      "\n",
      "2\n",
      "3\n",
      "5\n",
      "7\n",
      "\n",
      "apple\n",
      "orange\n",
      "peach\n"
     ]
    }
   ],
   "source": [
    "bar = \"Zdrabniamy literki\"\n",
    "for i in bar:\n",
    "    print(i) \n",
    "print()\n",
    "\n",
    "x = [2, 3, 5, 7]\n",
    "for i in x:\n",
    "    print(i) \n",
    "print()\n",
    "\n",
    "for e in ['apple', 'orange', 'peach']:\n",
    "    print(e)"
   ]
  },
  {
   "cell_type": "markdown",
   "metadata": {},
   "source": [
    "W takiej pętli nie mamy dostępu do indeksu elementu w liście, ale możemy taki uzyskać, odpowiednio mapując kolekcję za pomocą <b>enumerate</b> (generator):"
   ]
  },
  {
   "cell_type": "code",
   "execution_count": 32,
   "metadata": {
    "collapsed": false
   },
   "outputs": [
    {
     "name": "stdout",
     "output_type": "stream",
     "text": [
      "[(0, 'apple'), (1, 'orange'), (2, 'peach')] \n",
      "\n",
      "0 apple\n",
      "1 orange\n",
      "2 peach\n"
     ]
    }
   ],
   "source": [
    "print(list(enumerate(['apple', 'orange', 'peach'])), \"\\n\")\n",
    "\n",
    "for i, x in enumerate(['apple', 'orange', 'peach']):\n",
    "    print(i, x)"
   ]
  },
  {
   "cell_type": "markdown",
   "metadata": {},
   "source": [
    "## W for może wystąpić dowolny typ sekwencyjny:\n",
    "* str, list, tuple, range, bytes, bytearray\n",
    "* krotka tworzona operatorem ,: 1,2,3 albo (3,) albo ()\n",
    "* Łańcuchy: 'ala', ”makota”\n",
    "* Operacje na sekwencjach:\n",
    "  * Operacje:\n",
    "    * x in s, x not in s\n",
    "    * s + t\n",
    "    * s * n\n",
    "    * s[i], s[i:j], s[i:j:k]\n",
    "\n",
    "  * Operacje:\n",
    "    * len(s)\n",
    "    * min(s), max(s)\n",
    "    * s.index(x[, i[, j]])\n",
    "    * s.count(x)"
   ]
  },
  {
   "cell_type": "markdown",
   "metadata": {},
   "source": [
    "# 2.2 Pętla while\n",
    "\n",
    "Pętla **while** powtarza instrukcje znajdujące się w jej wnętrzu tak długo, dopóki podany warunek logiczny jest spełniony. \n",
    "\n",
    "Na przykład:"
   ]
  },
  {
   "cell_type": "code",
   "execution_count": 33,
   "metadata": {
    "collapsed": false
   },
   "outputs": [
    {
     "name": "stdout",
     "output_type": "stream",
     "text": [
      "[1, 2, 3, 4, 5]\n",
      "[1, 2, 3, 4]\n",
      "[1, 2, 3]\n",
      "[1, 2]\n",
      "[1]\n",
      "[]\n",
      "\n",
      "Jestem w while.\n",
      "Jestem w while.\n",
      "Jestem w while.\n",
      "Jestem w while.\n",
      "Jestem w while.\n"
     ]
    }
   ],
   "source": [
    "x=[1,2,3,4,5,6]\n",
    "while x:\n",
    "    x=x[:len(x)-1] # funkcja len() zwraca długość listy (liczbę elementów)\n",
    "    print(x)\n",
    "\n",
    "print() \n",
    "\n",
    "# lub \n",
    "\n",
    "licznik = 10\n",
    "\n",
    "while licznik < 15:\n",
    "    licznik += 1\n",
    "    print(\"Jestem w while.\")"
   ]
  },
  {
   "cell_type": "markdown",
   "metadata": {},
   "source": [
    "# 2.3 Instrukcje \"break\" and \"continue\""
   ]
  },
  {
   "cell_type": "markdown",
   "metadata": {},
   "source": [
    "Polecenie **break** służy do wyjścia z pętli **for** lub **while**, podczas gdy instrukcja **continue** jest używana, aby pominąć bieżący blok (jedną iterację pętli), i kontynuować dalszy przebieg pętli for lub while. \n",
    "\n",
    "Na przykład:"
   ]
  },
  {
   "cell_type": "code",
   "execution_count": 36,
   "metadata": {
    "collapsed": false
   },
   "outputs": [
    {
     "name": "stdout",
     "output_type": "stream",
     "text": [
      "0\n",
      "1\n",
      "2\n",
      "3\n",
      "4\n",
      "\n",
      "\n",
      "1\n",
      "3\n",
      "5\n",
      "7\n",
      "9\n"
     ]
    }
   ],
   "source": [
    "count = 0\n",
    "while True:\n",
    "    print(count) \n",
    "    count += 1 # count = count + 1\n",
    "    if count >= 5:\n",
    "        break\n",
    "\n",
    "print(\"\\n\")\n",
    "        \n",
    "for x in range(10):\n",
    "    # Check if x is even\n",
    "    if x % 2 == 0:\n",
    "        continue\n",
    "    print(x) "
   ]
  },
  {
   "cell_type": "markdown",
   "metadata": {},
   "source": [
    "W przeciwieństwie do innych języków, jak np C, C++, Java, pętla w Pythonie mogą również zawierać blok else, wykonywany po ostatnim obiegu pętli:"
   ]
  },
  {
   "cell_type": "code",
   "execution_count": 37,
   "metadata": {
    "collapsed": false
   },
   "outputs": [
    {
     "name": "stdout",
     "output_type": "stream",
     "text": [
      "1\n",
      "2\n",
      "3\n",
      "4\n",
      "KONIEC\n",
      "\n",
      "6\n",
      "5\n",
      "4\n",
      "3\n",
      "2\n",
      "1\n",
      "0\n",
      "koniec\n"
     ]
    }
   ],
   "source": [
    "for i in range(1, 5):\n",
    "    print(i)\n",
    "else:\n",
    "    print('KONIEC')\n",
    "    \n",
    "print() \n",
    "\n",
    "x=7\n",
    "while x:\n",
    "    x-=1\n",
    "    print(x)\n",
    "else:\n",
    "    print(\"koniec\")"
   ]
  },
  {
   "cell_type": "markdown",
   "metadata": {},
   "source": [
    "# 3. Formatowanie liczb"
   ]
  },
  {
   "cell_type": "markdown",
   "metadata": {},
   "source": [
    "Celem pętli często jest wyświetlenie kolumny liczb. Aby liczby wyświetlane były w należyty sposób i w pożądanym miejscu używamy operatora formatowania **%** w połączeniu z ciągiem formatującym. \n",
    "\n",
    "Ciąg formatujący składa się ze znaku **%**, po którym następują opcje formatowania, ilość znaków przeznaczonych do wyświetlenia oraz typ danej do wyświetlenia (przy czym tylko trzeci element – tj. typ danych jest wymagany).\n",
    "\n",
    "Typ danej sygnalizujemy pojedynczą literą. I tak:\n",
    "* litera s oznacza napis (konwertuje każdy typ danych na tekst), np.:"
   ]
  },
  {
   "cell_type": "code",
   "execution_count": 39,
   "metadata": {
    "collapsed": false
   },
   "outputs": [
    {
     "name": "stdout",
     "output_type": "stream",
     "text": [
      "10\n",
      "range(0, 6)\n",
      "txt\n",
      "      test\n",
      "test      \n",
      "xylop\n"
     ]
    }
   ],
   "source": [
    "# stary sposób\n",
    "\n",
    "print(\"%s\" % 10)\n",
    "print(\"%s\" % range(6))\n",
    "print(\"%s\" % \"txt\")\n",
    "print('%10s' % 'test')\n",
    "print('%-10s' % 'test')\n",
    "print('%.5s' % 'xylophone')"
   ]
  },
  {
   "cell_type": "code",
   "execution_count": 40,
   "metadata": {
    "collapsed": false
   },
   "outputs": [
    {
     "name": "stdout",
     "output_type": "stream",
     "text": [
      "10\n",
      "range(0, 6)\n",
      "txt\n",
      "      test\n",
      "test      \n",
      "xylop\n"
     ]
    }
   ],
   "source": [
    "# nowy\n",
    "\n",
    "print(\"{}\".format(10))\n",
    "print(\"{}\".format(range(6)))\n",
    "print(\"{}\".format(\"txt\"))\n",
    "print('{:>10}'.format('test'))\n",
    "print('{:10}'.format('test'))\n",
    "print('{:.5}'.format('xylophone'))"
   ]
  },
  {
   "cell_type": "markdown",
   "metadata": {},
   "source": [
    "Poniższe sposoby nie są dostępne w starym sposobie formatowania."
   ]
  },
  {
   "cell_type": "code",
   "execution_count": 41,
   "metadata": {
    "collapsed": false
   },
   "outputs": [
    {
     "name": "stdout",
     "output_type": "stream",
     "text": [
      "test______\n",
      "   test   \n",
      " zip  \n"
     ]
    }
   ],
   "source": [
    "print('{:_<10}'.format('test'))\n",
    "print('{:^10}'.format('test'))\n",
    "print('{:^6}'.format('zip'))"
   ]
  },
  {
   "cell_type": "markdown",
   "metadata": {},
   "source": [
    "* litera **c** oznacza pojedynczy znak w kodzie ASCII, np.:"
   ]
  },
  {
   "cell_type": "code",
   "execution_count": 44,
   "metadata": {
    "collapsed": false
   },
   "outputs": [
    {
     "name": "stdout",
     "output_type": "stream",
     "text": [
      "A\n",
      "M\n",
      "!\n"
     ]
    }
   ],
   "source": [
    "print(\"%c\" % \"A\")\n",
    "print(\"%c\" % 77)\n",
    "print(\"%c\" % 33)"
   ]
  },
  {
   "cell_type": "markdown",
   "metadata": {},
   "source": [
    "* litera **d** oznacza dziesiętną liczbę całkowitą (konwertuje kompatybilny typ danych na liczbę całkowitą), np.:"
   ]
  },
  {
   "cell_type": "code",
   "execution_count": 46,
   "metadata": {
    "collapsed": false
   },
   "outputs": [
    {
     "name": "stdout",
     "output_type": "stream",
     "text": [
      "255\n",
      "2\n",
      "255\n",
      "2\n"
     ]
    }
   ],
   "source": [
    "print(\"%d\" % 0xff)\n",
    "print(\"%d\" % 2)\n",
    "print('{:d}'.format(0xff))\n",
    "print('{:d}'.format(2))"
   ]
  },
  {
   "cell_type": "markdown",
   "metadata": {},
   "source": [
    "* litera **x** oznacza szesnastkową liczbę całkowitą (konwertuje kompatybilny typ danych na liczbę całkowitą), np.:"
   ]
  },
  {
   "cell_type": "code",
   "execution_count": 48,
   "metadata": {
    "collapsed": false
   },
   "outputs": [
    {
     "name": "stdout",
     "output_type": "stream",
     "text": [
      "ff\n",
      "2\n",
      "ff\n",
      "2\n"
     ]
    }
   ],
   "source": [
    "print(\"%x\" % 0xff)\n",
    "print(\"%x\" % 2)\n",
    "\n",
    "print('{:x}'.format(0xff))\n",
    "print('{:x}'.format(2))"
   ]
  },
  {
   "cell_type": "markdown",
   "metadata": {},
   "source": [
    "* litera **o** oznacza ósemkową liczbę całkowitą (konwertuje kompatybilny typ danych na liczbę całkowitą), np.:"
   ]
  },
  {
   "cell_type": "code",
   "execution_count": 50,
   "metadata": {
    "collapsed": false
   },
   "outputs": [
    {
     "name": "stdout",
     "output_type": "stream",
     "text": [
      "377\n",
      "26\n",
      "115\n",
      "377\n",
      "26\n",
      "115\n"
     ]
    }
   ],
   "source": [
    "print(\"%o\" % 0xff)\n",
    "print(\"%o\" % 22)\n",
    "print(\"%o\" % 77)\n",
    "\n",
    "print('{:o}'.format(0xff))\n",
    "print('{:o}'.format(22))\n",
    "print('{:o}'.format(77))"
   ]
  },
  {
   "cell_type": "markdown",
   "metadata": {},
   "source": [
    "* litera **e** oznacza liczbę zmiennopozycyjną w postaci wykładniczej, np.:"
   ]
  },
  {
   "cell_type": "code",
   "execution_count": 51,
   "metadata": {
    "collapsed": false
   },
   "outputs": [
    {
     "name": "stdout",
     "output_type": "stream",
     "text": [
      "1.000000e+00\n",
      "1.230000e+00\n",
      "1.230000e+02\n",
      "1.000000e+00\n",
      "1.230000e+00\n",
      "1.230000e+02\n"
     ]
    }
   ],
   "source": [
    "print(\"%e\" % 1)\n",
    "print(\"%e\" % 1.23)\n",
    "print(\"%e\" % 123)\n",
    "\n",
    "print('{:e}'.format(1))\n",
    "print('{:e}'.format(1.23))\n",
    "print('{:e}'.format(123))"
   ]
  },
  {
   "cell_type": "markdown",
   "metadata": {},
   "source": [
    "* litera **f** oznacza liczbę zmiennopozycyjną w postaci ułamka dziesiętnego, np.:"
   ]
  },
  {
   "cell_type": "code",
   "execution_count": 52,
   "metadata": {
    "collapsed": false
   },
   "outputs": [
    {
     "name": "stdout",
     "output_type": "stream",
     "text": [
      "123.000000\n",
      "1.230000\n",
      "123.000000\n",
      "1.230000\n"
     ]
    }
   ],
   "source": [
    "print(\"%f\" % 123)\n",
    "print(\"%f\" % 1.23)\n",
    "\n",
    "print('{:f}'.format(123))\n",
    "print('{:f}'.format(1.23))"
   ]
  },
  {
   "cell_type": "markdown",
   "metadata": {},
   "source": [
    "# Ustalenie długości pola do wyświetlenia tekstu\n",
    "\n",
    "Aby przekonać się na czym polega zaleta formatowania, wyświetlmy tabelę kwadratów i sześcianów wybranych liczb:"
   ]
  },
  {
   "cell_type": "code",
   "execution_count": 54,
   "metadata": {
    "collapsed": false
   },
   "outputs": [
    {
     "name": "stdout",
     "output_type": "stream",
     "text": [
      "5 25 125\n",
      "15 225 3375\n",
      "25 625 15625\n",
      "35 1225 42875\n",
      "45 2025 91125\n",
      "55 3025 166375\n",
      "65 4225 274625\n",
      "75 5625 421875\n",
      "85 7225 614125\n",
      "95 9025 857375\n"
     ]
    }
   ],
   "source": [
    "for x in range(5, 100, 10):\n",
    "      print(x, x**2, x**3)"
   ]
  },
  {
   "cell_type": "markdown",
   "metadata": {},
   "source": [
    "Spróbujmy ustalić w formacie długość pola do wyświetlenia każdej liczby na 4, jej kwadratu na 6, a sześcianu na 8:"
   ]
  },
  {
   "cell_type": "code",
   "execution_count": 55,
   "metadata": {
    "collapsed": false
   },
   "outputs": [
    {
     "name": "stdout",
     "output_type": "stream",
     "text": [
      "   5    25     125\n",
      "  15   225    3375\n",
      "  25   625   15625\n",
      "  35  1225   42875\n",
      "  45  2025   91125\n",
      "  55  3025  166375\n",
      "  65  4225  274625\n",
      "  75  5625  421875\n",
      "  85  7225  614125\n",
      "  95  9025  857375\n",
      "\n",
      "   5    25     125\n",
      "  15   225    3375\n",
      "  25   625   15625\n",
      "  35  1225   42875\n",
      "  45  2025   91125\n",
      "  55  3025  166375\n",
      "  65  4225  274625\n",
      "  75  5625  421875\n",
      "  85  7225  614125\n",
      "  95  9025  857375\n"
     ]
    }
   ],
   "source": [
    "for x in range(5, 100, 10):\n",
    "      print(\"%4d%6d%8d\" % (x, x**2, x**3))\n",
    "\n",
    "print()\n",
    "\n",
    "for x in range(5, 100, 10):\n",
    "      print(\"{:4d}{:6d}{:8d}\".format(x, x**2, x**3))"
   ]
  },
  {
   "cell_type": "markdown",
   "metadata": {},
   "source": [
    "Formatując liczby zmiennopozycyjne możemy także ustalić nie tylko całkowitą długość, ale także liczbę wyświetlanych miejsc po przecinku. Na przykład:"
   ]
  },
  {
   "cell_type": "code",
   "execution_count": 56,
   "metadata": {
    "collapsed": false
   },
   "outputs": [
    {
     "name": "stdout",
     "output_type": "stream",
     "text": [
      "123.0607\n",
      "1.23434\n",
      "123.0607\n",
      "1.23434\n"
     ]
    }
   ],
   "source": [
    "print(\"%.4f\"% 123.060723)\n",
    "print(\"%3.5f\" % 1.2343355)\n",
    "\n",
    "print('{:.4f}'.format(123.060723))\n",
    "print('{:3.5f}'.format(1.2343355))"
   ]
  },
  {
   "cell_type": "markdown",
   "metadata": {},
   "source": [
    "# Wybrane opcje formatowania\n",
    "* opcja **+** wymusza wyświetlanie znaku liczby, także dla liczb nieujemnych:"
   ]
  },
  {
   "cell_type": "code",
   "execution_count": 61,
   "metadata": {
    "collapsed": false
   },
   "outputs": [
    {
     "name": "stdout",
     "output_type": "stream",
     "text": [
      "-10\n",
      "-9\n",
      "-8\n",
      "-7\n",
      "-6\n",
      "-5\n",
      "-4\n",
      "-3\n",
      "-2\n",
      "-1\n",
      "+0\n",
      "+1\n",
      "+2\n",
      "+3\n",
      "+4\n",
      "+5\n",
      "+6\n",
      "+7\n",
      "+8\n",
      "+9\n",
      "+10\n",
      "\n",
      "-10\n",
      "-9\n",
      "-8\n",
      "-7\n",
      "-6\n",
      "-5\n",
      "-4\n",
      "-3\n",
      "-2\n",
      "-1\n",
      "+0\n",
      "+1\n",
      "+2\n",
      "+3\n",
      "+4\n",
      "+5\n",
      "+6\n",
      "+7\n",
      "+8\n",
      "+9\n",
      "+10\n"
     ]
    }
   ],
   "source": [
    "for x in range (-10, 11):\n",
    "    print(\"%+d\" % x)\n",
    "        \n",
    "print()\n",
    "        \n",
    "for x in range (-10, 11):\n",
    "    print((\"{:+d}\").format(x))"
   ]
  },
  {
   "cell_type": "markdown",
   "metadata": {},
   "source": [
    "* opcja **#** spowoduje, że liczby np. ósemkowe i szesnastkowe będą poprzedzane właściwym prefiksem:"
   ]
  },
  {
   "cell_type": "code",
   "execution_count": 64,
   "metadata": {
    "collapsed": false
   },
   "outputs": [
    {
     "name": "stdout",
     "output_type": "stream",
     "text": [
      "  5   0o5  0x5\n",
      " 15  0o17  0xf\n",
      " 25  0o31 0x19\n",
      " 35  0o43 0x23\n",
      " 45  0o55 0x2d\n",
      " 55  0o67 0x37\n",
      " 65 0o101 0x41\n",
      " 75 0o113 0x4b\n",
      " 85 0o125 0x55\n",
      " 95 0o137 0x5f\n",
      "\n",
      "  5   0o5  0x5\n",
      " 15  0o17  0xf\n",
      " 25  0o31 0x19\n",
      " 35  0o43 0x23\n",
      " 45  0o55 0x2d\n",
      " 55  0o67 0x37\n",
      " 65 0o101 0x41\n",
      " 75 0o113 0x4b\n",
      " 85 0o125 0x55\n",
      " 95 0o137 0x5f\n"
     ]
    }
   ],
   "source": [
    "for x in range(5, 100, 10):\n",
    "      print(\"%3d%#6o%#5x\" % (x, x, x))\n",
    "        \n",
    "print()\n",
    "\n",
    "for x in range(5, 100, 10):\n",
    "      print((\"{:3d}{:#6o}{:#5x}\").format(x, x, x))"
   ]
  },
  {
   "cell_type": "markdown",
   "metadata": {},
   "source": [
    "* opcja **-** spowoduje, że liczby będą wyrównywane do lewej, a nie prawej krawędzi swojego pola:"
   ]
  },
  {
   "cell_type": "code",
   "execution_count": 66,
   "metadata": {
    "collapsed": false
   },
   "outputs": [
    {
     "name": "stdout",
     "output_type": "stream",
     "text": [
      "5  0o5   0x5  \n",
      "15 0o17  0xf  \n",
      "25 0o31  0x19 \n",
      "35 0o43  0x23 \n",
      "45 0o55  0x2d \n",
      "55 0o67  0x37 \n",
      "65 0o101 0x41 \n",
      "75 0o113 0x4b \n",
      "85 0o125 0x55 \n",
      "95 0o137 0x5f \n",
      "\n",
      "5  0o5   0x5  \n",
      "15 0o17  0xf  \n",
      "25 0o31  0x19 \n",
      "35 0o43  0x23 \n",
      "45 0o55  0x2d \n",
      "55 0o67  0x37 \n",
      "65 0o101 0x41 \n",
      "75 0o113 0x4b \n",
      "85 0o125 0x55 \n",
      "95 0o137 0x5f \n"
     ]
    }
   ],
   "source": [
    "for x in range(5, 100, 10):\n",
    "    print(\"%-3d%#-6o%#-5x\" % (x, x, x))\n",
    "        \n",
    "print() \n",
    "\n",
    "for x in range(5, 100, 10):\n",
    "    print((\"{:<3d}{:<#6o}{:<#5x}\").format(x, x, x))"
   ]
  },
  {
   "cell_type": "markdown",
   "metadata": {},
   "source": [
    "* opcja **0** spowoduje, że pole przeznaczone na liczby będzie wypełniane nie spacjami, lecz zerami:"
   ]
  },
  {
   "cell_type": "code",
   "execution_count": 68,
   "metadata": {
    "collapsed": false
   },
   "outputs": [
    {
     "name": "stdout",
     "output_type": "stream",
     "text": [
      "005 0o05 0x05\n",
      "015 0o17 0x0f\n",
      "025 0o31 0x19\n",
      "035 0o43 0x23\n",
      "045 0o55 0x2d\n",
      "055 0o67 0x37\n",
      "065 0o101 0x41\n",
      "075 0o113 0x4b\n",
      "085 0o125 0x55\n",
      "095 0o137 0x5f\n",
      "\n",
      "005 0o05 0x05\n",
      "015 0o17 0x0f\n",
      "025 0o31 0x19\n",
      "035 0o43 0x23\n",
      "045 0o55 0x2d\n",
      "055 0o67 0x37\n",
      "065 0o101 0x41\n",
      "075 0o113 0x4b\n",
      "085 0o125 0x55\n",
      "095 0o137 0x5f\n"
     ]
    }
   ],
   "source": [
    "for x in range(5, 100, 10):\n",
    "    print(\"%03d %#04o %#04x\" % (x, x, x))\n",
    "        \n",
    "print()\n",
    "\n",
    "for x in range(5, 100, 10):\n",
    "    print((\"{:03d} {:#04o} {:#04x}\").format(x, x, x))"
   ]
  },
  {
   "cell_type": "markdown",
   "metadata": {},
   "source": [
    "Inne:"
   ]
  },
  {
   "cell_type": "code",
   "execution_count": 70,
   "metadata": {
    "collapsed": false
   },
   "outputs": [
    {
     "name": "stdout",
     "output_type": "stream",
     "text": [
      "+42\n",
      "+42\n",
      "Gib = 2.718\n",
      "Gib = 2.718\n",
      " 2.72\n",
      " 2.72\n",
      "-  23\n",
      "+  23\n",
      "   test   \n",
      "     +2.72\n",
      "     +2.72\n"
     ]
    }
   ],
   "source": [
    "print('%+d' % (42))\n",
    "print((\"{:+d}\").format(42))\n",
    "\n",
    "print('%.*s = %.*f' % (3, 'Gibberish', 3, 2.7182))\n",
    "print('{:.{prec}} = {:.{prec}f}'.format('Gibberish', 2.7182, prec=3))\n",
    "\n",
    "print('%*.*f' % (5, 2, 2.7182))\n",
    "print('{:{width}.{prec}f}'.format(2.7182, width=5, prec=2))\n",
    "\n",
    "print('{:=5d}'.format(-23)) # tylko w nowej wersji \n",
    "print('{:=+5d}'.format(23))\n",
    "print('{:{align}{width}}'.format('test', align='^', width='10'))\n",
    "print('{:{}{}{}.{}}'.format(2.7182818284, '>', '+', 10, 3))\n",
    "print('{:{}{sign}{}.{}}'.format(2.7182818284, '>', 10, 3, sign='+'))"
   ]
  },
  {
   "cell_type": "markdown",
   "metadata": {},
   "source": [
    "# Przykład użycia pętli:"
   ]
  },
  {
   "cell_type": "code",
   "execution_count": 84,
   "metadata": {
    "collapsed": false
   },
   "outputs": [
    {
     "name": "stdout",
     "output_type": "stream",
     "text": [
      "Podaj dwie liczby naturalne:\n",
      "Pierwsza:24\n",
      "Druga:3\n",
      "NWD liczb 24 i 3 wynosi 3, a ich NWW wynosi 24\n"
     ]
    }
   ],
   "source": [
    "# Wyliczanie NWD i NWW\n",
    "# 1. wprowadzanie liczb\n",
    "print(\"Podaj dwie liczby naturalne:\")\n",
    "a = int(input(\"Pierwsza:\"))\n",
    "b = int(input(\"Druga:\"))\n",
    "# 2. ustalenie która jest mniejsza\n",
    "if a > b:\n",
    "    w = a\n",
    "    m = b\n",
    "else:\n",
    "    w = b\n",
    "    m = a\n",
    "# 3. pętla główna\n",
    "r = w % m\n",
    "while r:\n",
    "    w = m\n",
    "    m = r\n",
    "    r = w % m\n",
    "# 4. wyświetlenie rezultatów\n",
    "print(\"NWD liczb %i i %i wynosi %i, a ich NWW wynosi %i\" % (a,b,m,a*b/m))"
   ]
  },
  {
   "cell_type": "markdown",
   "metadata": {},
   "source": [
    "# 4. Funkcje"
   ]
  },
  {
   "cell_type": "markdown",
   "metadata": {},
   "source": [
    "Definicja funkcji musi zawierać:\n",
    "\n",
    "* nagłówek funkcji:\n",
    "  * nazwę funkcji, która pozwoli zidentyfikować funkcję w pozostałej części programu,\n",
    "  * listę argumentów\n",
    "* ciało funkcji, zawierające instrukcje, które zostaną wykonane w momencie wywołania (użycia) funkcji\n",
    "  * jeżeli funkcja ma zwracać jakiś rezultat, musi zawierać instrukcję ,,return''\n",
    "\n",
    "W języku Python składnia definicji funkcji jest następująca:"
   ]
  },
  {
   "cell_type": "code",
   "execution_count": 85,
   "metadata": {
    "collapsed": true
   },
   "outputs": [],
   "source": [
    "def nazwa_funkcji (lista_parametrow):\n",
    "    instrukcje_do_wykonania"
   ]
  },
  {
   "cell_type": "markdown",
   "metadata": {},
   "source": [
    "Przykład funkcji:"
   ]
  },
  {
   "cell_type": "code",
   "execution_count": 87,
   "metadata": {
    "collapsed": false
   },
   "outputs": [
    {
     "name": "stdout",
     "output_type": "stream",
     "text": [
      "To jest użycie funkcji\n",
      "tak\n"
     ]
    }
   ],
   "source": [
    "# Przykład 1\n",
    "def wypisz(lancuch):\n",
    "    print(lancuch)\n",
    "    \n",
    "wypisz(\"To jest użycie funkcji\")\n",
    "x = \"tak\"\n",
    "wypisz(x)"
   ]
  },
  {
   "cell_type": "code",
   "execution_count": 93,
   "metadata": {
    "collapsed": false
   },
   "outputs": [
    {
     "name": "stdout",
     "output_type": "stream",
     "text": [
      "12\n",
      "1\n"
     ]
    }
   ],
   "source": [
    "# Przykład 2 - zwraca wynik\n",
    "def suma(x, y):\n",
    "    return x+y\n",
    "\n",
    "print(suma(4,8))\n",
    "x = suma(2, -1)\n",
    "print(x)"
   ]
  },
  {
   "cell_type": "markdown",
   "metadata": {},
   "source": [
    "Funkcje, podobnie jak zmienną, można usuwać. Do tego służy instrukcja ,,**del**''. Na przykład:"
   ]
  },
  {
   "cell_type": "code",
   "execution_count": 94,
   "metadata": {
    "collapsed": false
   },
   "outputs": [
    {
     "name": "stdout",
     "output_type": "stream",
     "text": [
      "5\n"
     ]
    },
    {
     "ename": "NameError",
     "evalue": "name 'x' is not defined",
     "output_type": "error",
     "traceback": [
      "\u001b[0;31m---------------------------------------------------------------------------\u001b[0m",
      "\u001b[0;31mNameError\u001b[0m                                 Traceback (most recent call last)",
      "\u001b[0;32m<ipython-input-94-6e10d40c8d1f>\u001b[0m in \u001b[0;36m<module>\u001b[0;34m()\u001b[0m\n\u001b[1;32m      5\u001b[0m \u001b[1;32mdel\u001b[0m\u001b[1;33m(\u001b[0m\u001b[0mx\u001b[0m\u001b[1;33m)\u001b[0m\u001b[1;33m\u001b[0m\u001b[0m\n\u001b[1;32m      6\u001b[0m \u001b[1;33m\u001b[0m\u001b[0m\n\u001b[0;32m----> 7\u001b[0;31m \u001b[0mprint\u001b[0m\u001b[1;33m(\u001b[0m\u001b[0mx\u001b[0m\u001b[1;33m)\u001b[0m\u001b[1;33m\u001b[0m\u001b[0m\n\u001b[0m",
      "\u001b[0;31mNameError\u001b[0m: name 'x' is not defined"
     ]
    }
   ],
   "source": [
    "# przykład 1\n",
    "x=5\n",
    "print(x)\n",
    "\n",
    "del(x)\n",
    "\n",
    "print(x)"
   ]
  },
  {
   "cell_type": "code",
   "execution_count": 95,
   "metadata": {
    "collapsed": false
   },
   "outputs": [
    {
     "name": "stdout",
     "output_type": "stream",
     "text": [
      "3.0\n"
     ]
    },
    {
     "ename": "NameError",
     "evalue": "name 'pierw' is not defined",
     "output_type": "error",
     "traceback": [
      "\u001b[0;31m---------------------------------------------------------------------------\u001b[0m",
      "\u001b[0;31mNameError\u001b[0m                                 Traceback (most recent call last)",
      "\u001b[0;32m<ipython-input-95-a515dbca6044>\u001b[0m in \u001b[0;36m<module>\u001b[0;34m()\u001b[0m\n\u001b[1;32m      7\u001b[0m \u001b[1;32mdel\u001b[0m \u001b[0mpierw\u001b[0m\u001b[1;33m\u001b[0m\u001b[0m\n\u001b[1;32m      8\u001b[0m \u001b[1;33m\u001b[0m\u001b[0m\n\u001b[0;32m----> 9\u001b[0;31m \u001b[0mprint\u001b[0m\u001b[1;33m(\u001b[0m\u001b[0mpierw\u001b[0m\u001b[1;33m(\u001b[0m\u001b[1;36m4\u001b[0m\u001b[1;33m)\u001b[0m\u001b[1;33m)\u001b[0m\u001b[1;33m\u001b[0m\u001b[0m\n\u001b[0m",
      "\u001b[0;31mNameError\u001b[0m: name 'pierw' is not defined"
     ]
    }
   ],
   "source": [
    "# przykład 2\n",
    "def pierw(n):\n",
    "    return n**0.5\n",
    "\n",
    "print(pierw(9))\n",
    "\n",
    "del pierw\n",
    "\n",
    "print(pierw(4))\n"
   ]
  },
  {
   "cell_type": "markdown",
   "metadata": {},
   "source": [
    "# 4.1 Domyślne wartości parametrów\n",
    "\n",
    "W sytuacji nie podania wartości dla wszystkich parametrów zdefiniowanych w nagłówku funkcji spowoduje wystąpienie/pojawienie się błędu. Możemy tego uniknąć, podając domyślne wartości argumentów, np.:"
   ]
  },
  {
   "cell_type": "code",
   "execution_count": 100,
   "metadata": {
    "collapsed": false
   },
   "outputs": [
    {
     "name": "stdout",
     "output_type": "stream",
     "text": [
      "7\n"
     ]
    },
    {
     "ename": "TypeError",
     "evalue": "suma() missing 1 required positional argument: 'y'",
     "output_type": "error",
     "traceback": [
      "\u001b[0;31m---------------------------------------------------------------------------\u001b[0m",
      "\u001b[0;31mTypeError\u001b[0m                                 Traceback (most recent call last)",
      "\u001b[0;32m<ipython-input-100-b6913f0798ac>\u001b[0m in \u001b[0;36m<module>\u001b[0;34m()\u001b[0m\n\u001b[1;32m      3\u001b[0m \u001b[1;33m\u001b[0m\u001b[0m\n\u001b[1;32m      4\u001b[0m \u001b[0mprint\u001b[0m\u001b[1;33m(\u001b[0m\u001b[0msuma\u001b[0m\u001b[1;33m(\u001b[0m\u001b[1;36m3\u001b[0m\u001b[1;33m,\u001b[0m \u001b[1;36m4\u001b[0m\u001b[1;33m)\u001b[0m\u001b[1;33m)\u001b[0m\u001b[1;33m\u001b[0m\u001b[0m\n\u001b[0;32m----> 5\u001b[0;31m \u001b[0mprint\u001b[0m\u001b[1;33m(\u001b[0m\u001b[0msuma\u001b[0m\u001b[1;33m(\u001b[0m\u001b[1;36m3\u001b[0m\u001b[1;33m)\u001b[0m\u001b[1;33m)\u001b[0m\u001b[1;33m\u001b[0m\u001b[0m\n\u001b[0m",
      "\u001b[0;31mTypeError\u001b[0m: suma() missing 1 required positional argument: 'y'"
     ]
    }
   ],
   "source": [
    "def suma(x, y):\n",
    "    return x+y\n",
    "\n",
    "print(suma(3, 4))\n",
    "print(suma(3))"
   ]
  },
  {
   "cell_type": "code",
   "execution_count": 101,
   "metadata": {
    "collapsed": false
   },
   "outputs": [
    {
     "name": "stdout",
     "output_type": "stream",
     "text": [
      "7\n",
      "4\n"
     ]
    }
   ],
   "source": [
    "def suma(x, y=1):\n",
    "    return x+y\n",
    "\n",
    "print(suma(3, 4))\n",
    "print(suma(3))"
   ]
  },
  {
   "cell_type": "code",
   "execution_count": 102,
   "metadata": {
    "collapsed": false
   },
   "outputs": [
    {
     "name": "stdout",
     "output_type": "stream",
     "text": [
      "developers \n"
     ]
    }
   ],
   "source": [
    "def say(message, times=1):\n",
    "    print((message + ' ') * times)\n",
    "    \n",
    "say('developers')"
   ]
  },
  {
   "cell_type": "markdown",
   "metadata": {},
   "source": [
    "Parametry znajdujące się na początku listy i na właściwych sobie pozycjach, nie muszą mieć podanej nazwy:"
   ]
  },
  {
   "cell_type": "code",
   "execution_count": 103,
   "metadata": {
    "collapsed": false
   },
   "outputs": [
    {
     "name": "stdout",
     "output_type": "stream",
     "text": [
      "developers developers developers \n"
     ]
    }
   ],
   "source": [
    "say('developers', 3)"
   ]
  },
  {
   "cell_type": "code",
   "execution_count": 104,
   "metadata": {
    "collapsed": false
   },
   "outputs": [
    {
     "name": "stdout",
     "output_type": "stream",
     "text": [
      "developers developers developers \n"
     ]
    }
   ],
   "source": [
    "say('developers', times=3)"
   ]
  },
  {
   "cell_type": "markdown",
   "metadata": {},
   "source": [
    "Parametry znajdujące się po parametrach wymienionych z nazwy, nawet na właściwych sobie pozycjach, muszą mieć podaną nazwę:"
   ]
  },
  {
   "cell_type": "code",
   "execution_count": 106,
   "metadata": {
    "collapsed": false
   },
   "outputs": [
    {
     "ename": "SyntaxError",
     "evalue": "positional argument follows keyword argument (<ipython-input-106-829c8b000357>, line 1)",
     "output_type": "error",
     "traceback": [
      "\u001b[0;36m  File \u001b[0;32m\"<ipython-input-106-829c8b000357>\"\u001b[0;36m, line \u001b[0;32m1\u001b[0m\n\u001b[0;31m    say(times=3, 'developers')\u001b[0m\n\u001b[0m                ^\u001b[0m\n\u001b[0;31mSyntaxError\u001b[0m\u001b[0;31m:\u001b[0m positional argument follows keyword argument\n"
     ]
    }
   ],
   "source": [
    "say(times=3, 'developers')"
   ]
  },
  {
   "cell_type": "code",
   "execution_count": 107,
   "metadata": {
    "collapsed": false
   },
   "outputs": [
    {
     "name": "stdout",
     "output_type": "stream",
     "text": [
      "developers developers developers \n"
     ]
    }
   ],
   "source": [
    "say(times=3, message='developers')"
   ]
  },
  {
   "cell_type": "markdown",
   "metadata": {},
   "source": [
    "# 4.2 Wiele rezultatów\n",
    "Jeżeli chcemy aby funkcja zwracała więcej niż jedną zmienną to stosujemy krotkę ,,(zmienna_1, ..., zmienna_n)'':"
   ]
  },
  {
   "cell_type": "code",
   "execution_count": 108,
   "metadata": {
    "collapsed": false
   },
   "outputs": [
    {
     "name": "stdout",
     "output_type": "stream",
     "text": [
      "(6, -2)\n",
      "(6, -2)\n"
     ]
    }
   ],
   "source": [
    "def f1(a,b):\n",
    "    return a+b,a-b\n",
    "\n",
    "def f2(a,b):\n",
    "    return (a+b,a-b)\n",
    "\n",
    "print(f1(2, 4))\n",
    "print(f2(2, 4))"
   ]
  },
  {
   "cell_type": "markdown",
   "metadata": {},
   "source": [
    "# 4.3 Zmienne lokalne, a globalne\n",
    "\n",
    "Zmienne lokalne (utworzone wewnątrz funkcji) nie są dostępne poza nią:"
   ]
  },
  {
   "cell_type": "code",
   "execution_count": 111,
   "metadata": {
    "collapsed": false
   },
   "outputs": [
    {
     "name": "stdout",
     "output_type": "stream",
     "text": [
      "9\n"
     ]
    },
    {
     "ename": "NameError",
     "evalue": "name 'a' is not defined",
     "output_type": "error",
     "traceback": [
      "\u001b[0;31m---------------------------------------------------------------------------\u001b[0m",
      "\u001b[0;31mNameError\u001b[0m                                 Traceback (most recent call last)",
      "\u001b[0;32m<ipython-input-111-e8508247322e>\u001b[0m in \u001b[0;36m<module>\u001b[0;34m()\u001b[0m\n\u001b[1;32m      5\u001b[0m \u001b[1;33m\u001b[0m\u001b[0m\n\u001b[1;32m      6\u001b[0m \u001b[0mprint\u001b[0m\u001b[1;33m(\u001b[0m\u001b[0mfun\u001b[0m\u001b[1;33m(\u001b[0m\u001b[1;36m3\u001b[0m\u001b[1;33m)\u001b[0m\u001b[1;33m)\u001b[0m\u001b[1;33m\u001b[0m\u001b[0m\n\u001b[0;32m----> 7\u001b[0;31m \u001b[0mprint\u001b[0m\u001b[1;33m(\u001b[0m\u001b[0ma\u001b[0m\u001b[1;33m)\u001b[0m\u001b[1;33m\u001b[0m\u001b[0m\n\u001b[0m",
      "\u001b[0;31mNameError\u001b[0m: name 'a' is not defined"
     ]
    }
   ],
   "source": [
    "del a\n",
    "def fun(x):\n",
    "    a = 2\n",
    "    return x**2\n",
    "\n",
    "print(fun(3))\n",
    "print(a)"
   ]
  },
  {
   "cell_type": "markdown",
   "metadata": {},
   "source": [
    "lecz można je zdefiniować jako zmienne globalne za pomocą operatora **global**:"
   ]
  },
  {
   "cell_type": "code",
   "execution_count": 112,
   "metadata": {
    "collapsed": false
   },
   "outputs": [
    {
     "name": "stdout",
     "output_type": "stream",
     "text": [
      "9\n",
      "2\n"
     ]
    }
   ],
   "source": [
    "def fun(x):\n",
    "    global a\n",
    "    a = 2\n",
    "    return x**2\n",
    "\n",
    "print(fun(3))\n",
    "print(a)"
   ]
  },
  {
   "cell_type": "markdown",
   "metadata": {},
   "source": [
    "# 4.4 Funkcje z nieznaną liczbą parametrów\n",
    "\n",
    "Jeżeli w momencie definiowania funkcji nie jesteśmy w stanie określić liczby argumentów, które będą do niej przekazywane, poprzedzamy nazwę parametru formalnego oznaczającego wszystkie pozostałe argumenty funkcji gwiazdką:"
   ]
  },
  {
   "cell_type": "code",
   "execution_count": 115,
   "metadata": {
    "collapsed": false
   },
   "outputs": [
    {
     "name": "stdout",
     "output_type": "stream",
     "text": [
      "pierwsza zmienna: yasoob\n",
      "pozostałe zmienne : python\n",
      "pozostałe zmienne : eggs\n",
      "pozostałe zmienne : test\n"
     ]
    }
   ],
   "source": [
    "def test_var_args(x, *argv):\n",
    "    print(\"pierwsza zmienna:\", x)\n",
    "    for arg in argv:\n",
    "        print(\"pozostałe zmienne :\", arg)\n",
    "\n",
    "test_var_args('yasoob','python','eggs','test')"
   ]
  },
  {
   "cell_type": "markdown",
   "metadata": {},
   "source": [
    "Żeby przekazać do funkcji wartości argumentów wraz z ich nazwami należy użyć dwóch gwiazdek:"
   ]
  },
  {
   "cell_type": "code",
   "execution_count": 119,
   "metadata": {
    "collapsed": false
   },
   "outputs": [
    {
     "name": "stdout",
     "output_type": "stream",
     "text": [
      "imie = Jan\n",
      "nazwisko = Kowalski\n"
     ]
    }
   ],
   "source": [
    "def fun(**x):\n",
    "    if x is not None:\n",
    "        for key, value in x.items():\n",
    "            print(\"%s = %s\" %(key,value))\n",
    "\n",
    "fun(imie=\"Jan\", nazwisko=\"Kowalski\")"
   ]
  },
  {
   "cell_type": "code",
   "execution_count": 121,
   "metadata": {
    "collapsed": false
   },
   "outputs": [
    {
     "name": "stdout",
     "output_type": "stream",
     "text": [
      "(4, 22)\n"
     ]
    }
   ],
   "source": [
    "def suma(*x, **y):\n",
    "    s1=s2=0\n",
    "    for i in x:\n",
    "        s1+=i\n",
    "    for i in y:\n",
    "        s2+=y[i]\n",
    "    return s1,s2 \n",
    "\n",
    "print(suma(1, 2, 3, -5, 3, x=4, y=5, z=6, v=7))"
   ]
  },
  {
   "cell_type": "markdown",
   "metadata": {},
   "source": [
    "# 4.5 Funkcje rekurencyjne\n",
    "\n",
    "Funkcje rekurencyjne to funkcje, które odwołują się do samych siebie. Dobrym przykładem funkcji rekurencyjnej jest silnia:"
   ]
  },
  {
   "cell_type": "code",
   "execution_count": 122,
   "metadata": {
    "collapsed": false
   },
   "outputs": [
    {
     "name": "stdout",
     "output_type": "stream",
     "text": [
      "1\n",
      "1\n",
      "6\n",
      "120\n"
     ]
    }
   ],
   "source": [
    "def silnia(n):\n",
    "    if n>1:\n",
    "        return n*silnia(n-1)\n",
    "    else:\n",
    "        return 1\n",
    "    \n",
    "print(silnia(0))\n",
    "print(silnia(1))\n",
    "print(silnia(3))\n",
    "print(silnia(5))"
   ]
  },
  {
   "cell_type": "markdown",
   "metadata": {},
   "source": [
    "Nie zawsze jednak funkcja w postaci rekurencyjnej jest jednak użyteczna. Przykładem nieefektywności rekursji jest funkcja wyliczająca n-ty element ciągu Fibonacciego:"
   ]
  },
  {
   "cell_type": "code",
   "execution_count": 125,
   "metadata": {
    "collapsed": false
   },
   "outputs": [
    {
     "name": "stdout",
     "output_type": "stream",
     "text": [
      "1\n",
      "2\n",
      "6765\n",
      "9227465\n"
     ]
    }
   ],
   "source": [
    "def fib(n):\n",
    "    if n<2:\n",
    "        return n\n",
    "    else:\n",
    "        return fib(n-1)+fib(n-2)\n",
    "    \n",
    "print(fib(1))\n",
    "print(fib(3))\n",
    "print(fib(20))\n",
    "print(fib(35))\n",
    "# print(fib(50))"
   ]
  },
  {
   "cell_type": "markdown",
   "metadata": {},
   "source": [
    "Dlaczego funkcja liczy tak powoli? Każde wywołanie funkcji powoduje jej ponowne dwukrotne wywołanie dla n>=2. A zatem, dla n=50, liczba wywołań funkcji wyniesie około 249 razy. Nawet jeśli pojedyncze wywołanie funkcji zabiera tylko jedną dziesięciomilionową sekundy, to wykonanie 249 wywołań zajmie komputerowi prawie dwa lata.\n",
    "Tę samą funkcję da się przedstawić w szybkiej wersji iteracyjnej:"
   ]
  },
  {
   "cell_type": "code",
   "execution_count": 127,
   "metadata": {
    "collapsed": false
   },
   "outputs": [
    {
     "name": "stdout",
     "output_type": "stream",
     "text": [
      "1\n",
      "2\n",
      "6765\n",
      "12586269025\n"
     ]
    }
   ],
   "source": [
    "def fib(n):\n",
    "    if n<2:\n",
    "        return n\n",
    "    a, b = 0, 1             # 0 podstawiamy pod a, 1 pod b\n",
    "    for x in range(1, n):\n",
    "        a, b = b, a+b       # b podstawiamy pod a, sumę pod b\n",
    "    return b\n",
    "\n",
    "print(fib(1))\n",
    "print(fib(3))\n",
    "print(fib(20))\n",
    "print(fib(50))"
   ]
  },
  {
   "cell_type": "code",
   "execution_count": null,
   "metadata": {
    "collapsed": true
   },
   "outputs": [],
   "source": []
  }
 ],
 "metadata": {
  "kernelspec": {
   "display_name": "Python 3",
   "language": "python",
   "name": "python3"
  },
  "language_info": {
   "codemirror_mode": {
    "name": "ipython",
    "version": 3
   },
   "file_extension": ".py",
   "mimetype": "text/x-python",
   "name": "python",
   "nbconvert_exporter": "python",
   "pygments_lexer": "ipython3",
   "version": "3.6.0"
  }
 },
 "nbformat": 4,
 "nbformat_minor": 2
}
