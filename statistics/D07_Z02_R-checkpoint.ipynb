{
 "cells": [
  {
   "cell_type": "code",
   "execution_count": 1,
   "metadata": {},
   "outputs": [
    {
     "name": "stderr",
     "output_type": "stream",
     "text": [
      "C:\\Users\\przem85\\AppData\\Local\\conda\\conda\\envs\\tensorflow\\lib\\site-packages\\statsmodels\\compat\\pandas.py:56: FutureWarning: The pandas.core.datetools module is deprecated and will be removed in a future version. Please use the pandas.tseries module instead.\n",
      "  from pandas.core import datetools\n"
     ]
    }
   ],
   "source": [
    "import numpy as np\n",
    "import matplotlib.pyplot as plt\n",
    "import scipy.stats as stats\n",
    "import pandas as pd\n",
    "# additional packages\n",
    "from statsmodels.stats.diagnostic import lillifors"
   ]
  },
  {
   "cell_type": "markdown",
   "metadata": {},
   "source": [
    "# Badanie założenia o normalności rozkładu"
   ]
  },
  {
   "cell_type": "markdown",
   "metadata": {},
   "source": [
    "Wylosujmy próbki z rozkładu normalnego, jednostajnego i t-studenta, a następnie sprawdźmy jak zadziałają testy na tych próbkach."
   ]
  },
  {
   "cell_type": "code",
   "execution_count": 2,
   "metadata": {},
   "outputs": [],
   "source": [
    "n=1000\n",
    "ud=stats.uniform(-1,2)\n",
    "nd=stats.norm()\n",
    "td=stats.t(7)\n",
    "data_u=ud.rvs(n)\n",
    "data_n=nd.rvs(n)\n",
    "data_t=td.rvs(n)\n",
    "fewData_u = data_u[:100]\n",
    "fewData_n = data_n[:100]\n",
    "fewData_t = data_t[:100]"
   ]
  },
  {
   "cell_type": "code",
   "execution_count": 3,
   "metadata": {},
   "outputs": [
    {
     "name": "stdout",
     "output_type": "stream",
     "text": [
      "p-values for all 1000 data points: ----------------\n",
      "Omnibus               4.121314e-153\n",
      "Shapiro-Wilk           5.069696e-17\n",
      "Lilliefors             1.376849e-09\n",
      "Kolmogorov-Smirnov     9.480265e-04\n",
      "dtype: float64\n",
      "p-values for the first 100 data points: ----------------\n",
      "Omnibus               0.000009\n",
      "Shapiro-Wilk          0.001131\n",
      "Lilliefors            0.118536\n",
      "Kolmogorov-Smirnov    0.539718\n",
      "dtype: float64\n"
     ]
    },
    {
     "name": "stderr",
     "output_type": "stream",
     "text": [
      "C:\\Users\\przem85\\AppData\\Local\\conda\\conda\\envs\\tensorflow\\lib\\site-packages\\ipykernel_launcher.py:16: DeprecationWarning: `lillifors` is deprecated, use `lilliefors` instead!\n",
      "Use lilliefors, lillifors will be removed in 0.9 \n",
      "(Note: misspelling missing 'e')\n",
      "  app.launch_new_instance()\n",
      "C:\\Users\\przem85\\AppData\\Local\\conda\\conda\\envs\\tensorflow\\lib\\site-packages\\ipykernel_launcher.py:17: DeprecationWarning: `lillifors` is deprecated, use `lilliefors` instead!\n",
      "Use lilliefors, lillifors will be removed in 0.9 \n",
      "(Note: misspelling missing 'e')\n"
     ]
    }
   ],
   "source": [
    "data = data_u\n",
    "fewData = fewData_u\n",
    "\n",
    "pVals = pd.Series()\n",
    "pFewVals = pd.Series()\n",
    "# The scipy normaltest is based on D-Agostino and Pearsons test that\n",
    "# combines skew and kurtosis to produce an omnibus test of normality.\n",
    "_, pVals['Omnibus']    = stats.normaltest(data)\n",
    "_, pFewVals['Omnibus'] = stats.normaltest(fewData)\n",
    "\n",
    "# Shapiro-Wilk test\n",
    "_, pVals['Shapiro-Wilk']    = stats.shapiro(data)\n",
    "_, pFewVals['Shapiro-Wilk'] = stats.shapiro(fewData)\n",
    "\n",
    "# Or you can check for normality with Lilliefors-test\n",
    "_, pVals['Lilliefors']    = lillifors(data)\n",
    "_, pFewVals['Lilliefors'] = lillifors(fewData)\n",
    "\n",
    "# Alternatively with original Kolmogorov-Smirnov test\n",
    "_, pVals['Kolmogorov-Smirnov']    = stats.kstest((data-np.mean(data))/np.std(data,ddof=1), 'norm')\n",
    "_, pFewVals['Kolmogorov-Smirnov'] = stats.kstest((fewData-np.mean(fewData))/np.std(fewData,ddof=1), 'norm')\n",
    "\n",
    "print('p-values for all {0} data points: ----------------'.format(len(data)))\n",
    "print(pVals)\n",
    "print('p-values for the first 100 data points: ----------------')\n",
    "print(pFewVals)\n",
    "\n",
    "if pVals['Omnibus'] > 0.05:\n",
    "    print('Data are normally distributed')"
   ]
  },
  {
   "cell_type": "code",
   "execution_count": 13,
   "metadata": {},
   "outputs": [
    {
     "name": "stdout",
     "output_type": "stream",
     "text": [
      "p-values for all 1000 data points: ----------------\n",
      "Omnibus               0.000275\n",
      "Shapiro-Wilk          0.000787\n",
      "Lilliefors            0.068749\n",
      "Kolmogorov-Smirnov    0.425216\n",
      "dtype: float64\n",
      "p-values for the first 100 data points: ----------------\n",
      "Omnibus               0.000153\n",
      "Shapiro-Wilk          0.002102\n",
      "Lilliefors            0.008564\n",
      "Kolmogorov-Smirnov    0.205809\n",
      "dtype: float64\n"
     ]
    }
   ],
   "source": [
    "data = data_t\n",
    "fewData = fewData_t\n",
    "\n",
    "pVals = pd.Series()\n",
    "pFewVals = pd.Series()\n",
    "# The scipy normaltest is based on D-Agostino and Pearsons test that\n",
    "# combines skew and kurtosis to produce an omnibus test of normality.\n",
    "_, pVals['Omnibus']    = stats.normaltest(data)\n",
    "_, pFewVals['Omnibus'] = stats.normaltest(fewData)\n",
    "\n",
    "# Shapiro-Wilk test\n",
    "_, pVals['Shapiro-Wilk']    = stats.shapiro(data)\n",
    "_, pFewVals['Shapiro-Wilk'] = stats.shapiro(fewData)\n",
    "\n",
    "# Or you can check for normality with Lilliefors-test\n",
    "_, pVals['Lilliefors']    = lillifors(data)\n",
    "_, pFewVals['Lilliefors'] = lillifors(fewData)\n",
    "\n",
    "# Alternatively with original Kolmogorov-Smirnov test\n",
    "_, pVals['Kolmogorov-Smirnov']    = stats.kstest((data-np.mean(data))/np.std(data,ddof=1), 'norm')\n",
    "_, pFewVals['Kolmogorov-Smirnov'] = stats.kstest((fewData-np.mean(fewData))/np.std(fewData,ddof=1), 'norm')\n",
    "\n",
    "print('p-values for all {0} data points: ----------------'.format(len(data)))\n",
    "print(pVals)\n",
    "print('p-values for the first 100 data points: ----------------')\n",
    "print(pFewVals)\n",
    "\n",
    "if pVals['Omnibus'] > 0.05:\n",
    "    print('Data are normally distributed')"
   ]
  },
  {
   "cell_type": "code",
   "execution_count": 14,
   "metadata": {},
   "outputs": [
    {
     "name": "stdout",
     "output_type": "stream",
     "text": [
      "p-values for all 1000 data points: ----------------\n",
      "Omnibus               0.625743\n",
      "Shapiro-Wilk          0.361100\n",
      "Lilliefors            0.509441\n",
      "Kolmogorov-Smirnov    0.871876\n",
      "dtype: float64\n",
      "p-values for the first 100 data points: ----------------\n",
      "Omnibus               0.980083\n",
      "Shapiro-Wilk          0.898918\n",
      "Lilliefors            0.461451\n",
      "Kolmogorov-Smirnov    0.865898\n",
      "dtype: float64\n",
      "Data are normally distributed\n"
     ]
    }
   ],
   "source": [
    "data = data_n\n",
    "fewData = fewData_n\n",
    "\n",
    "pVals = pd.Series()\n",
    "pFewVals = pd.Series()\n",
    "# The scipy normaltest is based on D-Agostino and Pearsons test that\n",
    "# combines skew and kurtosis to produce an omnibus test of normality.\n",
    "_, pVals['Omnibus']    = stats.normaltest(data)\n",
    "_, pFewVals['Omnibus'] = stats.normaltest(fewData)\n",
    "\n",
    "# Shapiro-Wilk test\n",
    "_, pVals['Shapiro-Wilk']    = stats.shapiro(data)\n",
    "_, pFewVals['Shapiro-Wilk'] = stats.shapiro(fewData)\n",
    "\n",
    "# Or you can check for normality with Lilliefors-test\n",
    "_, pVals['Lilliefors']    = lillifors(data)\n",
    "_, pFewVals['Lilliefors'] = lillifors(fewData)\n",
    "\n",
    "# Alternatively with original Kolmogorov-Smirnov test\n",
    "_, pVals['Kolmogorov-Smirnov']    = stats.kstest((data-np.mean(data))/np.std(data,ddof=1), 'norm')\n",
    "_, pFewVals['Kolmogorov-Smirnov'] = stats.kstest((fewData-np.mean(fewData))/np.std(fewData,ddof=1), 'norm')\n",
    "\n",
    "print('p-values for all {0} data points: ----------------'.format(len(data)))\n",
    "print(pVals)\n",
    "print('p-values for the first 100 data points: ----------------')\n",
    "print(pFewVals)\n",
    "\n",
    "if pVals['Omnibus'] > 0.05:\n",
    "    print('Data are normally distributed')"
   ]
  },
  {
   "cell_type": "markdown",
   "metadata": {},
   "source": [
    "# Zadanie\n",
    "Wylosujmy po 100 próbek z rozkładu normalnego, jednostajnego i t-studenta zawierających 1000 punktów, a następnie sprawdźmy na ilu z nich testy normalności się pomylą.\n",
    "\n",
    "Wykonaj analogiczne zadanie dla 100 próbek o liczności 100."
   ]
  },
  {
   "cell_type": "code",
   "execution_count": 5,
   "metadata": {},
   "outputs": [
    {
     "data": {
      "text/plain": [
       "(506, 13)"
      ]
     },
     "execution_count": 5,
     "metadata": {},
     "output_type": "execute_result"
    }
   ],
   "source": [
    "from sklearn import datasets\n",
    "boston = datasets.load_boston()\n",
    "data=boston.data[:,0]\n",
    "boston.data.shape"
   ]
  },
  {
   "cell_type": "code",
   "execution_count": 6,
   "metadata": {},
   "outputs": [
    {
     "name": "stdout",
     "output_type": "stream",
     "text": [
      "p-values for all 506 data points: ----------------\n",
      "Omnibus               3.762668e-123\n",
      "Shapiro-Wilk           1.180973e-36\n",
      "Lilliefors            2.873782e-166\n",
      "Kolmogorov-Smirnov     0.000000e+00\n",
      "dtype: float64\n"
     ]
    },
    {
     "name": "stderr",
     "output_type": "stream",
     "text": [
      "C:\\Users\\przem85\\AppData\\Local\\conda\\conda\\envs\\tensorflow\\lib\\site-packages\\ipykernel_launcher.py:14: DeprecationWarning: `lillifors` is deprecated, use `lilliefors` instead!\n",
      "Use lilliefors, lillifors will be removed in 0.9 \n",
      "(Note: misspelling missing 'e')\n",
      "  \n"
     ]
    }
   ],
   "source": [
    "data = boston.data[:,0]\n",
    "\n",
    "\n",
    "pVals = pd.Series()\n",
    "pFewVals = pd.Series()\n",
    "# The scipy normaltest is based on D-Agostino and Pearsons test that\n",
    "# combines skew and kurtosis to produce an omnibus test of normality.\n",
    "_, pVals['Omnibus']    = stats.normaltest(data)\n",
    "\n",
    "# Shapiro-Wilk test\n",
    "_, pVals['Shapiro-Wilk']    = stats.shapiro(data)\n",
    "\n",
    "# Or you can check for normality with Lilliefors-test\n",
    "_, pVals['Lilliefors']    = lillifors(data)\n",
    "\n",
    "# Alternatively with original Kolmogorov-Smirnov test\n",
    "_, pVals['Kolmogorov-Smirnov']    = stats.kstest((data-np.mean(data))/np.std(data,ddof=1), 'norm')\n",
    "\n",
    "print('p-values for all {0} data points: ----------------'.format(len(data)))\n",
    "print(pVals)\n",
    "\n",
    "if pVals['Omnibus'] > 0.05:\n",
    "    print('Data are normally distributed')"
   ]
  },
  {
   "cell_type": "code",
   "execution_count": null,
   "metadata": {
    "collapsed": true
   },
   "outputs": [],
   "source": []
  }
 ],
 "metadata": {
  "kernelspec": {
   "display_name": "Python 3",
   "language": "python",
   "name": "python3"
  },
  "language_info": {
   "codemirror_mode": {
    "name": "ipython",
    "version": 3
   },
   "file_extension": ".py",
   "mimetype": "text/x-python",
   "name": "python",
   "nbconvert_exporter": "python",
   "pygments_lexer": "ipython3",
   "version": "3.5.4"
  }
 },
 "nbformat": 4,
 "nbformat_minor": 2
}
