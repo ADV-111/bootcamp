{
 "cells": [
  {
   "cell_type": "markdown",
   "metadata": {},
   "source": [
    "# Zadanie\n",
    "Wygenerujmy $100$ elementową próbkę z rozkładu normalnego ze średnią $7$ i odchyleniem standardowym $3$. "
   ]
  },
  {
   "cell_type": "code",
   "execution_count": 1,
   "metadata": {
    "collapsed": true
   },
   "outputs": [],
   "source": [
    "import numpy as np\n",
    "import matplotlib.pyplot as plt\n",
    "import scipy.stats as stats\n",
    "import seaborn as sns"
   ]
  },
  {
   "cell_type": "code",
   "execution_count": 2,
   "metadata": {
    "collapsed": true
   },
   "outputs": [],
   "source": [
    "np.random.seed(12345)\n",
    "data = stats.norm(7,3).rvs(100)\n",
    "n=data.size"
   ]
  },
  {
   "cell_type": "markdown",
   "metadata": {},
   "source": [
    "## Średnia z próbki jest bliska ale różna od rzeczywistej średniej."
   ]
  },
  {
   "cell_type": "code",
   "execution_count": 3,
   "metadata": {},
   "outputs": [
    {
     "name": "stdout",
     "output_type": "stream",
     "text": [
      "Real mean: 7.000; Sample mean: 7.101\n",
      "Real SD: 3.000; Sample SD: 3.121\n"
     ]
    }
   ],
   "source": [
    "meanVal = np.mean(data)\n",
    "n=data.size\n",
    "stdVal = np.std(data, ddof=1)\n",
    "print('Real mean: {0:5.3f}; Sample mean: {1:5.3f}'.format(7, meanVal))\n",
    "print('Real SD: {0:5.3f}; Sample SD: {1:5.3f}'.format(3, stdVal))"
   ]
  },
  {
   "cell_type": "markdown",
   "metadata": {},
   "source": [
    "Zapomnijmy, o tym, że wiemy z jakiego rozkładu pochodzi próbka i wykonajmy <tt>one sample t-test</tt> dwoma sposobami."
   ]
  },
  {
   "cell_type": "code",
   "execution_count": 20,
   "metadata": {
    "collapsed": true
   },
   "outputs": [],
   "source": [
    "checkVal=7.8"
   ]
  },
  {
   "cell_type": "markdown",
   "metadata": {},
   "source": [
    "## Wyliczmy wartość statystyki\n",
    "$$\n",
    "t=\\frac{\\bar X - \\mu_0}{S} \\sqrt{n-1}\n",
    "$$\n",
    "lub równoważnie \n",
    "$$\n",
    "t=\\frac{\\bar X - \\mu_0}{SE(x)} \n",
    "$$\n"
   ]
  },
  {
   "cell_type": "code",
   "execution_count": 21,
   "metadata": {},
   "outputs": [
    {
     "name": "stdout",
     "output_type": "stream",
     "text": [
      "tVal_1 for 7.8: 2.24024278\n",
      "tVal_2 for 7.8: 2.24024278\n"
     ]
    }
   ],
   "source": [
    "tVal_1 = (checkVal-meanVal) / stats.sem(data)\n",
    "print('tVal_1 for {0}: {1:5.8f}'.format(checkVal, tVal_1))\n",
    "tVal_2 = (checkVal-meanVal)/np.std(data, ddof=0)*np.sqrt(n-1)\n",
    "print('tVal_2 for {0}: {1:5.8f}'.format(checkVal, tVal_2))"
   ]
  },
  {
   "cell_type": "markdown",
   "metadata": {},
   "source": [
    "## Wyznaczmy p-value"
   ]
  },
  {
   "cell_type": "code",
   "execution_count": 22,
   "metadata": {},
   "outputs": [
    {
     "name": "stdout",
     "output_type": "stream",
     "text": [
      "t-statistic=2.24024278, p=1.9727\n"
     ]
    }
   ],
   "source": [
    "X=stats.t(n-1)\n",
    "p = X.sf(-tVal_2)+X.cdf(tVal_2)\n",
    "print('t-statistic={0:1.8f}, p={1:6.4f}'.format(float(tVal_1), p))"
   ]
  },
  {
   "cell_type": "markdown",
   "metadata": {},
   "source": [
    "Wykonajmy analogiczny test za pomoca funkcji <tt>ttest_1samp</tt>"
   ]
  },
  {
   "cell_type": "code",
   "execution_count": 23,
   "metadata": {},
   "outputs": [
    {
     "name": "stdout",
     "output_type": "stream",
     "text": [
      "t-statistic=-2.24024278, p=0.0273\n"
     ]
    }
   ],
   "source": [
    "# Compare this with the output of the t-test\n",
    "(tstatistic, pVal) = stats.ttest_1samp(data, checkVal)\n",
    "print('t-statistic={0:1.8f}, p={1:6.4f}'.format(float(tstatistic), pVal))"
   ]
  },
  {
   "cell_type": "markdown",
   "metadata": {},
   "source": [
    "Narysuj gęstość rozkłądu normalnego. Zaznacz prawdziwą średnią i średią z próbki. Na odzielnym rysunku narysuj gęstość roakładu t-studentsa i zazncza obszar, który wyznacza p-wartość. "
   ]
  },
  {
   "cell_type": "code",
   "execution_count": 24,
   "metadata": {},
   "outputs": [
    {
     "name": "stderr",
     "output_type": "stream",
     "text": [
      "C:\\Users\\admin\\Anaconda3\\lib\\site-packages\\matplotlib\\axes\\_axes.py:6462: UserWarning: The 'normed' kwarg is deprecated, and has been replaced by the 'density' kwarg.\n",
      "  warnings.warn(\"The 'normed' kwarg is deprecated, and has been \"\n"
     ]
    },
    {
     "data": {
      "image/png": "[encoded data removed]",
      "text/plain": [
       "<Figure size 432x288 with 2 Axes>"
      ]
     },
     "metadata": {},
     "output_type": "display_data"
    }
   ],
   "source": [
    "tVal=tVal_1\n",
    "# Prepare the plot\n",
    "fig, axs = plt.subplots(1,2)\n",
    "# Left plot ------------------------------------\n",
    "# Plot the histogram of the data, superposed with the normal fit\n",
    "xval = np.linspace(-5,20, 100)\n",
    "yval = stats.norm(meanVal,stdVal).pdf(xval)\n",
    "\n",
    "axs[0].hist(data, normed=True, color='#eeefff')\n",
    "axs[0].plot(xval, yval, 'g', label='normal-fit')\n",
    "axs[0].set_title('Recorded data')\n",
    "axs[0].legend()\n",
    "#Mark the mean value, as well as the value of interest \n",
    "axs[0].plot(checkVal, 0, marker='d', color='r', ms=15)\n",
    "axs[0].plot(meanVal, 0, marker='d', color='y', ms=15)\n",
    "axs[0].set_xlabel('Value [x]')\n",
    "axs[0].set_ylabel('Density(x)')\n",
    "\n",
    "# Right plot ------------------------------------\n",
    "# The corrsponding t-distribution\n",
    "xv2 = np.linspace(-4,4, 100)\n",
    "yv2 = stats.t(len(data)-1).pdf(xv2)\n",
    "tFill = yv2.copy()\n",
    "tFill[(xv2>-np.abs(tstatistic)) & (xv2<np.abs(tstatistic))] = 0\n",
    "axs[1].plot(xv2, yv2, label='df=n-1')\n",
    "axs[1].fill_between(xv2, tFill, color='r', alpha=0.3, lw=0)\n",
    "axs[1].plot(tVal, 0, 'rd', ms=15)\n",
    "axs[1].plot(0, 0, 'yd', ms=15)\n",
    "axs[1].set_xlabel('t-statistic')\n",
    "axs[1].set_title('t-distribution PDF')\n",
    "axs[1].legend()\n",
    "plt.show()"
   ]
  },
  {
   "cell_type": "markdown",
   "metadata": {},
   "source": [
    "# Zadanie\n",
    "Zweryfikuj hipotezę:\n",
    "\n",
    "$H_0$: $\\mu=7$ przy hipotezie alternatywnej $H_1$: $\\mu <7$"
   ]
  },
  {
   "cell_type": "markdown",
   "metadata": {},
   "source": [
    "### Możemy to zrobić ręcznie"
   ]
  },
  {
   "cell_type": "code",
   "execution_count": 30,
   "metadata": {},
   "outputs": [
    {
     "name": "stdout",
     "output_type": "stream",
     "text": [
      "( -inf , -1.660)\n"
     ]
    }
   ],
   "source": [
    "t = (checkVal-meanVal) / stats.sem(data)\n",
    "alpha=0.05\n",
    "L=-np.infty\n",
    "R=-X.ppf(1-alpha)\n",
    "print(r'( %3.3f , %3.3f)' % (L,R))"
   ]
  },
  {
   "cell_type": "code",
   "execution_count": 31,
   "metadata": {},
   "outputs": [
    {
     "name": "stdout",
     "output_type": "stream",
     "text": [
      "Wartość statystyki nie należy do przedziału krytycznego więc nie ma podstaw by odrzucić hipotezę H_0\n"
     ]
    }
   ],
   "source": [
    "if t < R:\n",
    "    print(\"Wartość statystyki należy do przedziału krytycznego więc odrzucamy hipotezę H_0\")\n",
    "else:\n",
    "    print(\"Wartość statystyki nie należy do przedziału krytycznego więc nie ma podstaw by odrzucić hipotezę H_0\")"
   ]
  },
  {
   "cell_type": "code",
   "execution_count": 32,
   "metadata": {},
   "outputs": [
    {
     "name": "stdout",
     "output_type": "stream",
     "text": [
      "0.37364205914399573\n"
     ]
    }
   ],
   "source": [
    "p = X.cdf(t)\n",
    "print(p)"
   ]
  },
  {
   "cell_type": "code",
   "execution_count": 33,
   "metadata": {},
   "outputs": [
    {
     "name": "stdout",
     "output_type": "stream",
     "text": [
      "Nie ma podstaw by odrzucić hipotezę zerową H_0\n"
     ]
    }
   ],
   "source": [
    "if(p < alpha):\n",
    "    print(\"Odrzucam hipotezę zerową H_0\")\n",
    "else:        \n",
    "    print(\"Nie ma podstaw by odrzucić hipotezę zerową H_0\")"
   ]
  },
  {
   "cell_type": "code",
   "execution_count": 34,
   "metadata": {},
   "outputs": [
    {
     "name": "stdout",
     "output_type": "stream",
     "text": [
      "t-statistic=-0.32312231, p=0.3736\n"
     ]
    }
   ],
   "source": [
    "print('t-statistic={0:1.8f}, p={1:6.4f}'.format(float(t), p))"
   ]
  },
  {
   "cell_type": "markdown",
   "metadata": {},
   "source": [
    "### Wykonaj zadanie za pomocą <tt>ttest_1samp</tt>"
   ]
  },
  {
   "cell_type": "code",
   "execution_count": 38,
   "metadata": {},
   "outputs": [
    {
     "name": "stdout",
     "output_type": "stream",
     "text": [
      "t-statistic=0.32312231, p=0.3736\n"
     ]
    }
   ],
   "source": [
    "# Compare this with the output of the t-test\n",
    "\n",
    "(tstatistic, pVal) = stats.ttest_1samp(data, checkVal)\n",
    "\n",
    "print('t-statistic={0:1.8f}, p={1:6.4f}'.format(float(tstatistic), pVal/2))"
   ]
  },
  {
   "cell_type": "code",
   "execution_count": null,
   "metadata": {
    "collapsed": true
   },
   "outputs": [],
   "source": []
  },
  {
   "cell_type": "code",
   "execution_count": null,
   "metadata": {
    "collapsed": true
   },
   "outputs": [],
   "source": []
  }
 ],
 "metadata": {
  "kernelspec": {
   "display_name": "Python 3",
   "language": "python",
   "name": "python3"
  },
  "language_info": {
   "codemirror_mode": {
    "name": "ipython",
    "version": 3
   },
   "file_extension": ".py",
   "mimetype": "text/x-python",
   "name": "python",
   "nbconvert_exporter": "python",
   "pygments_lexer": "ipython3",
   "version": "3.6.3"
  }
 },
 "nbformat": 4,
 "nbformat_minor": 2
}
