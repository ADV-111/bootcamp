{
 "cells": [
  {
   "cell_type": "code",
   "execution_count": 9,
   "metadata": {},
   "outputs": [],
   "source": [
    "import numpy as np\n",
    "import tensorflow as tf\n",
    "data = np.loadtxt(\"life_satisfaction.csv\",\n",
    "                  dtype=np.float32,\n",
    "                  delimiter=\",\",\n",
    "                  skiprows=1,\n",
    "                  usecols=[1, 2])\n",
    "X_train = data[:, 0:1] / 10000 # feature scaling\n",
    "y_train = data[:, 1:2]\n",
    "\n",
    "learning_rate = 0.01"
   ]
  },
  {
   "cell_type": "code",
   "execution_count": 10,
   "metadata": {},
   "outputs": [
    {
     "data": {
      "image/png": "[encoded data removed]",
      "text/plain": [
       "<matplotlib.figure.Figure at 0x16f27ce2208>"
      ]
     },
     "metadata": {},
     "output_type": "display_data"
    }
   ],
   "source": [
    "import matplotlib.pyplot as plt\n",
    "\n",
    "plt.rcParams['axes.labelsize'] = 14\n",
    "plt.rcParams['xtick.labelsize'] = 12\n",
    "plt.rcParams['ytick.labelsize'] = 12\n",
    "\n",
    "def plot_life_satisfaction(X_train, y_train):\n",
    "    plt.plot(X_train * 10000, y_train, \"bo\")\n",
    "    plt.axis([0, 60000, 0, 10])\n",
    "    plt.xlabel(\"GDP per capita ($)\")\n",
    "    plt.ylabel(\"Life Satisfaction\")\n",
    "    plt.grid()\n",
    "\n",
    "plt.figure(figsize=(10,5))\n",
    "plot_life_satisfaction(X_train, y_train)\n",
    "plt.show()"
   ]
  },
  {
   "cell_type": "code",
   "execution_count": 11,
   "metadata": {
    "collapsed": true
   },
   "outputs": [],
   "source": [
    "def plot_life_satisfaction_with_linear_model(X_train, y_train, w, b):\n",
    "    plot_life_satisfaction(X_train, y_train)\n",
    "    plt.plot([0, 60000], [b, w[0][0] * (60000 / 10000) + b])"
   ]
  },
  {
   "cell_type": "code",
   "execution_count": 14,
   "metadata": {},
   "outputs": [],
   "source": [
    "graph = tf.Graph()\n",
    "with graph.as_default():\n",
    "    X = tf.constant(X_train, dtype=tf.float32, name=\"X\")\n",
    "    y = tf.constant(y_train, dtype=tf.float32, name=\"y\")\n",
    "\n",
    "    b = tf.Variable(0.0, name=\"b\")\n",
    "    w = tf.Variable(tf.zeros([1, 1]), name=\"w\")\n",
    "    y_pred = tf.add(tf.matmul(X, w), b, name=\"y_pred\")  # X @ w + b\n",
    "    \n",
    "    mse = tf.reduce_mean(tf.square(y_pred - y), name=\"mse\")\n",
    "\n",
    "    gradients_w, gradients_b = tf.gradients(mse, [w, b])  # <= IT'S AUTODIFF MAGIC!\n",
    "\n",
    "    tweak_w_op = tf.assign(w, w - learning_rate * gradients_w)\n",
    "    tweak_b_op = tf.assign(b, b - learning_rate * gradients_b)\n",
    "    training_op = tf.group(tweak_w_op, tweak_b_op)\n",
    "\n",
    "    init = tf.global_variables_initializer()"
   ]
  },
  {
   "cell_type": "code",
   "execution_count": 15,
   "metadata": {},
   "outputs": [
    {
     "name": "stdout",
     "output_type": "stream",
     "text": [
      "Iteration     0, MSE: 42.8410\n",
      "Iteration   100, MSE: 1.8935\n",
      "Iteration   200, MSE: 1.1304\n",
      "Iteration   300, MSE: 0.7073\n",
      "Iteration   400, MSE: 0.4727\n",
      "Iteration   500, MSE: 0.3426\n",
      "Iteration   600, MSE: 0.2705\n",
      "Iteration   700, MSE: 0.2305\n",
      "Iteration   800, MSE: 0.2083\n",
      "Iteration   900, MSE: 0.1960\n",
      "Iteration  1000, MSE: 0.1892\n",
      "Iteration  1100, MSE: 0.1855\n",
      "Iteration  1200, MSE: 0.1834\n",
      "Iteration  1300, MSE: 0.1822\n",
      "Iteration  1400, MSE: 0.1816\n",
      "Iteration  1500, MSE: 0.1812\n",
      "Iteration  1600, MSE: 0.1810\n",
      "Iteration  1700, MSE: 0.1809\n",
      "Iteration  1800, MSE: 0.1808\n",
      "Iteration  1900, MSE: 0.1808\n"
     ]
    },
    {
     "data": {
      "image/png": "[encoded data removed]",
      "text/plain": [
       "<matplotlib.figure.Figure at 0x16f27d34a90>"
      ]
     },
     "metadata": {},
     "output_type": "display_data"
    }
   ],
   "source": [
    "n_iterations = 2000\n",
    "\n",
    "with tf.Session(graph=graph) as sess:\n",
    "    init.run()\n",
    "    for iteration in range(n_iterations):\n",
    "        if iteration % 100 == 0:\n",
    "            print(\"Iteration {:5}, MSE: {:.4f}\".format(iteration, mse.eval()))\n",
    "        training_op.run()\n",
    "    w_val, b_val = sess.run([w, b])\n",
    "    \n",
    "plt.figure(figsize=(10, 5))\n",
    "plot_life_satisfaction_with_linear_model(X_train, y_train, w_val, b_val)\n",
    "plt.show()    "
   ]
  },
  {
   "cell_type": "code",
   "execution_count": 16,
   "metadata": {
    "collapsed": true
   },
   "outputs": [],
   "source": [
    "graph = tf.Graph()\n",
    "with graph.as_default():\n",
    "    X = tf.constant(X_train, dtype=tf.float32, name=\"X\")\n",
    "    y = tf.constant(y_train, dtype=tf.float32, name=\"y\")\n",
    "\n",
    "    b = tf.Variable(0.0, name=\"b\")\n",
    "    w = tf.Variable(tf.zeros([1, 1]), name=\"w\")\n",
    "    y_pred = tf.add(tf.matmul(X, w), b, name=\"y_pred\")  # X @ w + b\n",
    "    \n",
    "    mse = tf.reduce_mean(tf.square(y_pred - y), name=\"mse\")\n",
    "\n",
    "    optimizer = tf.train.GradientDescentOptimizer(learning_rate=learning_rate)\n",
    "    training_op = optimizer.minimize(mse)  # <= MOAR AUTODIFF MAGIC!\n",
    "\n",
    "    init = tf.global_variables_initializer()"
   ]
  },
  {
   "cell_type": "code",
   "execution_count": 18,
   "metadata": {},
   "outputs": [
    {
     "name": "stdout",
     "output_type": "stream",
     "text": [
      "Iteration     0, MSE: 42.8410\n",
      "Iteration   100, MSE: 1.8935\n",
      "Iteration   200, MSE: 1.1304\n",
      "Iteration   300, MSE: 0.7073\n",
      "Iteration   400, MSE: 0.4727\n",
      "Iteration   500, MSE: 0.3426\n",
      "Iteration   600, MSE: 0.2705\n",
      "Iteration   700, MSE: 0.2305\n",
      "Iteration   800, MSE: 0.2083\n",
      "Iteration   900, MSE: 0.1960\n",
      "Iteration  1000, MSE: 0.1892\n",
      "Iteration  1100, MSE: 0.1855\n",
      "Iteration  1200, MSE: 0.1834\n",
      "Iteration  1300, MSE: 0.1822\n",
      "Iteration  1400, MSE: 0.1816\n",
      "Iteration  1500, MSE: 0.1812\n",
      "Iteration  1600, MSE: 0.1810\n",
      "Iteration  1700, MSE: 0.1809\n",
      "Iteration  1800, MSE: 0.1808\n",
      "Iteration  1900, MSE: 0.1808\n"
     ]
    },
    {
     "data": {
      "image/png": "[encoded data removed]",
      "text/plain": [
       "<matplotlib.figure.Figure at 0x16f27ef80b8>"
      ]
     },
     "metadata": {},
     "output_type": "display_data"
    }
   ],
   "source": [
    "n_iterations = 2000\n",
    "\n",
    "with tf.Session(graph=graph) as sess:\n",
    "    init.run()\n",
    "    for iteration in range(n_iterations):\n",
    "        if iteration % 100 == 0:\n",
    "            print(\"Iteration {:5}, MSE: {:.4f}\".format(iteration, mse.eval()))\n",
    "        training_op.run()\n",
    "    w_val, b_val = sess.run([w, b])\n",
    "    \n",
    "plt.figure(figsize=(10, 5))\n",
    "plot_life_satisfaction_with_linear_model(X_train, y_train, w_val, b_val)\n",
    "plt.show()      "
   ]
  },
  {
   "cell_type": "code",
   "execution_count": 21,
   "metadata": {},
   "outputs": [],
   "source": [
    "learning_rate = 0.01\n",
    "momentum = 0.8\n",
    "\n",
    "graph = tf.Graph()\n",
    "with graph.as_default():\n",
    "    X = tf.constant(X_train, dtype=tf.float32, name=\"X\")\n",
    "    y = tf.constant(y_train, dtype=tf.float32, name=\"y\")\n",
    "\n",
    "    b = tf.Variable(0.0, name=\"b\")\n",
    "    w = tf.Variable(tf.zeros([1, 1]), name=\"w\")\n",
    "    y_pred = tf.add(tf.matmul(X, w), b, name=\"y_pred\")  # X @ w + b\n",
    "    \n",
    "    mse = tf.reduce_mean(tf.square(y_pred - y), name=\"mse\")\n",
    "\n",
    "    optimizer = tf.train.MomentumOptimizer(learning_rate, momentum)\n",
    "    training_op = optimizer.minimize(mse)\n",
    "\n",
    "    init = tf.global_variables_initializer()"
   ]
  },
  {
   "cell_type": "code",
   "execution_count": 22,
   "metadata": {},
   "outputs": [
    {
     "name": "stdout",
     "output_type": "stream",
     "text": [
      "Iteration     0, MSE: 42.8410\n",
      "Iteration   100, MSE: 0.3305\n",
      "Iteration   200, MSE: 0.1870\n",
      "Iteration   300, MSE: 0.1810\n",
      "Iteration   400, MSE: 0.1808\n"
     ]
    }
   ],
   "source": [
    "n_iterations = 500\n",
    "\n",
    "with tf.Session(graph=graph) as sess:\n",
    "    init.run()\n",
    "    for iteration in range(n_iterations):\n",
    "        if iteration % 100 == 0:\n",
    "            print(\"Iteration {:5}, MSE: {:.4f}\".format(iteration, mse.eval()))\n",
    "        training_op.run()\n",
    "    w_val, b_val = sess.run([w, b])"
   ]
  },
  {
   "cell_type": "code",
   "execution_count": 23,
   "metadata": {},
   "outputs": [
    {
     "data": {
      "image/png": "[encoded data removed]",
      "text/plain": [
       "<matplotlib.figure.Figure at 0x16f290ccc18>"
      ]
     },
     "metadata": {},
     "output_type": "display_data"
    }
   ],
   "source": [
    "plt.figure(figsize=(10, 5))\n",
    "plot_life_satisfaction_with_linear_model(X_train, y_train, w_val, b_val)\n",
    "plt.show()"
   ]
  },
  {
   "cell_type": "code",
   "execution_count": 25,
   "metadata": {},
   "outputs": [
    {
     "data": {
      "text/plain": [
       "['b', 'w']"
      ]
     },
     "execution_count": 25,
     "metadata": {},
     "output_type": "execute_result"
    }
   ],
   "source": [
    "coll = graph.get_collection(tf.GraphKeys.TRAINABLE_VARIABLES)\n",
    "[var.op.name for var in coll]"
   ]
  },
  {
   "cell_type": "markdown",
   "metadata": {},
   "source": [
    "Making Predictions Outside of TensorFlow"
   ]
  },
  {
   "cell_type": "code",
   "execution_count": 26,
   "metadata": {},
   "outputs": [
    {
     "data": {
      "text/plain": [
       "5.9328389406204227"
      ]
     },
     "execution_count": 26,
     "metadata": {},
     "output_type": "execute_result"
    }
   ],
   "source": [
    "cyprus_gdp_per_capita = 22000\n",
    "cyprus_life_satisfaction = w_val[0][0] * cyprus_gdp_per_capita / 10000 + b_val\n",
    "cyprus_life_satisfaction"
   ]
  },
  {
   "cell_type": "markdown",
   "metadata": {},
   "source": [
    "Using placeholders"
   ]
  },
  {
   "cell_type": "code",
   "execution_count": 46,
   "metadata": {
    "collapsed": true
   },
   "outputs": [],
   "source": [
    "graph = tf.Graph()\n",
    "with graph.as_default():\n",
    "    X = tf.placeholder(tf.float32, shape=[None, 1], name=\"X\") # <= None allows for any\n",
    "    y = tf.placeholder(tf.float32, shape=[None, 1], name=\"y\") #    training batch size\n",
    "\n",
    "    b = tf.Variable(0.0, name=\"b\")\n",
    "    w = tf.Variable(tf.zeros([1, 1]), name=\"w\")\n",
    "    y_pred = tf.add(tf.matmul(X, w), b, name=\"y_pred\")  # X @ w + b\n",
    "    \n",
    "    mse = tf.reduce_mean(tf.square(y_pred - y), name=\"mse\")\n",
    "\n",
    "    optimizer = tf.train.MomentumOptimizer(learning_rate, momentum)\n",
    "    training_op = optimizer.minimize(mse)\n",
    "\n",
    "    init = tf.global_variables_initializer()\n",
    "    #saver = tf.train.Saver() # <= At the very end of the construction phase\n",
    "    \n",
    "summary_writer = tf.summary.FileWriter(\"tf_logs2/run_number_1_solution/\", graph=graph)    "
   ]
  },
  {
   "cell_type": "code",
   "execution_count": 47,
   "metadata": {
    "scrolled": true
   },
   "outputs": [
    {
     "name": "stdout",
     "output_type": "stream",
     "text": [
      "Iteration     0, MSE: 42.8410\n",
      "Iteration   100, MSE: 0.3305\n",
      "Iteration   200, MSE: 0.1870\n",
      "Iteration   300, MSE: 0.1810\n",
      "Iteration   400, MSE: 0.1808\n"
     ]
    }
   ],
   "source": [
    "n_iterations = 500\n",
    "\n",
    "X_test = np.array([[22000]], dtype=np.float32) / 10000\n",
    "\n",
    "with tf.Session(graph=graph) as sess:\n",
    "    init.run()\n",
    "    for iteration in range(n_iterations):\n",
    "        feed_dict = {X: X_train, y: y_train}\n",
    "        if iteration % 100 == 0:\n",
    "            print(\"Iteration {:5}, MSE: {:.4f}\".format(\n",
    "                iteration, \n",
    "                mse.eval(feed_dict))) # <= FEED TRAINING DATA\n",
    "        training_op.run(feed_dict)    # <= FEED TRAINING DATA\n",
    "    #saver.save(sess, \"tf_logs/my_life_satisfaction_model\") \n",
    "    #file_writer = tf.summary.FileWriter('tf_logs/run_number_1_solution/', sess.graph)\n",
    "    # make the prediction:\n",
    "    y_pred_val = y_pred.eval(feed_dict={X: X_test}) # <= FEED TEST DATA"
   ]
  },
  {
   "cell_type": "code",
   "execution_count": 48,
   "metadata": {},
   "outputs": [
    {
     "data": {
      "text/plain": [
       "array([[ 5.93283892]], dtype=float32)"
      ]
     },
     "execution_count": 48,
     "metadata": {},
     "output_type": "execute_result"
    }
   ],
   "source": [
    "y_pred_val"
   ]
  },
  {
   "cell_type": "code",
   "execution_count": 40,
   "metadata": {},
   "outputs": [],
   "source": [
    "#with tf.Session(graph=graph) as sess:\n",
    "#    saver.restore(sess, \"tf_logs/my_life_satisfaction_model\")\n",
    "#    # make the prediction:\n",
    "#    y_pred_val = y_pred.eval(feed_dict={X: X_test})"
   ]
  },
  {
   "cell_type": "code",
   "execution_count": 42,
   "metadata": {},
   "outputs": [],
   "source": [
    "filenames = [\"life_satisfaction.csv\"]\n",
    "n_epochs = 500\n",
    "batch_size = 5\n",
    "\n",
    "graph = tf.Graph()\n",
    "with graph.as_default():\n",
    "    with tf.name_scope(\"reader\"):\n",
    "        reader = tf.TextLineReader(skip_header_lines=1)\n",
    "\n",
    "        filename_queue = tf.train.string_input_producer(filenames, num_epochs=n_epochs)\n",
    "        record_id, record = reader.read(filename_queue)\n",
    "\n",
    "        record_defaults = [[''], [0.0], [0.0]]\n",
    "        country, gdp_per_capita, life_satisfaction = tf.decode_csv(record, record_defaults=record_defaults)\n",
    "\n",
    "        X_batch, y_batch = tf.train.batch([gdp_per_capita, life_satisfaction], batch_size=batch_size)\n",
    "        X_batch_reshaped = tf.reshape(X_batch, [-1, 1])\n",
    "        y_batch_reshaped = tf.reshape(y_batch, [-1, 1])\n",
    "\n",
    "    with tf.name_scope(\"linear_model\"):\n",
    "        X = tf.placeholder_with_default(X_batch_reshaped, shape=[None, 1], name=\"X\")\n",
    "        y = tf.placeholder_with_default(y_batch_reshaped, shape=[None, 1], name=\"y\")\n",
    "\n",
    "        b = tf.Variable(0.0, name=\"b\")\n",
    "        w = tf.Variable(tf.zeros([1, 1]), name=\"w\")\n",
    "        y_pred = tf.add(tf.matmul(X / 10000, w), b, name=\"y_pred\")  # X @ w + b\n",
    "    \n",
    "    with tf.name_scope(\"train\"):\n",
    "        mse = tf.reduce_mean(tf.square(y_pred - y), name=\"mse\")\n",
    "        global_step = tf.Variable(0, trainable=False, name='global_step')\n",
    "        optimizer = tf.train.MomentumOptimizer(learning_rate, momentum)\n",
    "        training_op = optimizer.minimize(mse, global_step=global_step)\n",
    "        \n",
    "    init = tf.group(tf.global_variables_initializer(), tf.local_variables_initializer())\n",
    "    saver = tf.train.Saver()"
   ]
  },
  {
   "cell_type": "code",
   "execution_count": 44,
   "metadata": {
    "collapsed": true
   },
   "outputs": [],
   "source": [
    "summary_writer = tf.summary.FileWriter(\"tf_logs1/run_number_2_solution/\", graph=graph)"
   ]
  },
  {
   "cell_type": "code",
   "execution_count": null,
   "metadata": {
    "collapsed": true
   },
   "outputs": [],
   "source": []
  }
 ],
 "metadata": {
  "kernelspec": {
   "display_name": "Python 3",
   "language": "python",
   "name": "python3"
  },
  "language_info": {
   "codemirror_mode": {
    "name": "ipython",
    "version": 3
   },
   "file_extension": ".py",
   "mimetype": "text/x-python",
   "name": "python",
   "nbconvert_exporter": "python",
   "pygments_lexer": "ipython3",
   "version": "3.5.4"
  }
 },
 "nbformat": 4,
 "nbformat_minor": 2
}
