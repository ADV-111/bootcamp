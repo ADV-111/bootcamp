{
 "cells": [
  {
   "cell_type": "markdown",
   "metadata": {},
   "source": [
    "# Regresja liniowa"
   ]
  },
  {
   "cell_type": "code",
   "execution_count": null,
   "metadata": {
    "collapsed": true
   },
   "outputs": [],
   "source": [
    "import numpy as np\n",
    "import pandas as pd\n",
    "import scipy.stats as stats\n",
    "import sklearn.linear_model as lm\n",
    "import matplotlib.pyplot as plt"
   ]
  },
  {
   "cell_type": "markdown",
   "metadata": {},
   "source": [
    "Proszę narysować wykres dowolnej funkcji na odcinku $[0,3]$.\n",
    "\n",
    "Będzie to model, który będziemy chcieli znaleźć."
   ]
  },
  {
   "cell_type": "code",
   "execution_count": 2,
   "metadata": {},
   "outputs": [],
   "source": [
    "f = lambda x: ((x*2-1)*(x**2-2)*(x-2)+3)\n",
    "x_tr = np.linspace(0, 3, 200)\n",
    "y_tr = f(x_tr)\n",
    "plt.figure(figsize=(6,6));\n",
    "axes = plt.gca()\n",
    "axes.set_xlim([0,3])\n",
    "axes.set_ylim([0,8])\n",
    "plt.plot(x_tr[:200], y_tr[:200], '--k');\n",
    "plt.show()"
   ]
  },
  {
   "cell_type": "markdown",
   "metadata": {},
   "source": [
    "Proszę wylosować kilka punktów z otoczenia funkcji $f(x)$.\n",
    "\n",
    "Na ich podstawie będziemy wykonywać naszej presykcji."
   ]
  },
  {
   "cell_type": "markdown",
   "metadata": {},
   "source": [
    "Definiujemy naszą funkcję regresji"
   ]
  },
  {
   "cell_type": "code",
   "execution_count": 3,
   "metadata": {
    "collapsed": true
   },
   "outputs": [],
   "source": [
    "f_lr_1 = lambda x: 2 * x +1"
   ]
  },
  {
   "cell_type": "code",
   "execution_count": 7,
   "metadata": {},
   "outputs": [
    {
     "data": {
      "image/png": "[encoded data removed]",
      "text/plain": [
       "<Figure size 432x432 with 1 Axes>"
      ]
     },
     "metadata": {},
     "output_type": "display_data"
    }
   ],
   "source": [
    "x_f_lr = np.linspace(0., 3, 200)\n",
    "y_f_lr = f_lr_1(x_tr)\n",
    "plt.figure(figsize=(6,6));\n",
    "axes = plt.gca()\n",
    "axes.set_xlim([0,3])\n",
    "axes.set_ylim([0,8])\n",
    "plt.plot(x_f_lr, y_f_lr, 'g');\n",
    "plt.plot(x_tr[:200], y_tr[:200], '--k');\n",
    "plt.show()"
   ]
  },
  {
   "cell_type": "code",
   "execution_count": null,
   "metadata": {
    "collapsed": true
   },
   "outputs": [],
   "source": [
    "f_lr_2 = lambda x: p2[0][2]*pow(x,2) + p2[0][1] * x + p2[0][0] "
   ]
  },
  {
   "cell_type": "code",
   "execution_count": null,
   "metadata": {},
   "outputs": [],
   "source": []
  },
  {
   "cell_type": "markdown",
   "metadata": {},
   "source": [
    "# Zadanie\n",
    "Nauczmy prosty model regresji\n",
    "\n",
    "$$\n",
    "y=a_1\\cdot x + a_2 \\cdot x^2 + a_3 \\cdot x ^3 + b\n",
    "$$\n",
    "\n",
    "na naszych danych.\n",
    "\n",
    "Oraz narysujmy prostą regresji."
   ]
  },
  {
   "cell_type": "code",
   "execution_count": null,
   "metadata": {},
   "outputs": [],
   "source": [
    "M3 = np.vstack( (np.ones_like(x), x, x**2, x**3) ).T\n",
    "p3 = np.linalg.lstsq(M3, y)\n",
    "f_lr_3 = lambda x: p3[0][3]*pow(x,3) + p3[0][2]*pow(x,2) + p3[0][1] * x + p3[0][0] \n",
    "\n",
    "x_f_lr = np.linspace(0., 3, 200)\n",
    "y_f_lr = f_lr_3(x_tr)\n",
    "plt.figure(figsize=(6,6));\n",
    "axes = plt.gca()\n",
    "axes.set_xlim([0,3])\n",
    "axes.set_ylim([0,8])\n",
    "plt.plot(x_f_lr, y_f_lr, 'g');\n",
    "plt.plot(x, y, 'ok', ms=10);\n",
    "plt.show()"
   ]
  },
  {
   "cell_type": "markdown",
   "metadata": {},
   "source": [
    "# Zadanie\n",
    "Nauczmy prosty model regresji\n",
    "\n",
    "$$\n",
    "y=a_1\\cdot x + a_2 \\cdot x^2 + a_3 \\cdot x ^3 + a_4 \\cdot x ^4 + b\n",
    "$$\n",
    "\n",
    "na naszych danych.\n",
    "\n",
    "Oraz narysujmy prostą regresji."
   ]
  },
  {
   "cell_type": "code",
   "execution_count": null,
   "metadata": {},
   "outputs": [],
   "source": [
    "M4 = np.vstack( (np.ones_like(x), x, x**2, x**3, x**4) ).T\n",
    "p4 = np.linalg.lstsq(M4, y)\n",
    "f_lr_4 = lambda x: p4[0][4]*pow(x,4) + p4[0][3]*pow(x,3) + p4[0][2]*pow(x,2) + p4[0][1] * x + p4[0][0] \n",
    "\n",
    "x_f_lr = np.linspace(0., 3, 200)\n",
    "y_f_lr = f_lr_4(x_tr)\n",
    "plt.figure(figsize=(6,6));\n",
    "axes = plt.gca()\n",
    "axes.set_xlim([0,3])\n",
    "axes.set_ylim([0,8])\n",
    "plt.plot(x_f_lr, y_f_lr, 'g');\n",
    "plt.plot(x, y, 'ok', ms=10);\n",
    "plt.show()"
   ]
  },
  {
   "cell_type": "markdown",
   "metadata": {},
   "source": [
    "# Zadanie\n",
    "Nauczmy prosty model regresji\n",
    "\n",
    "$$\n",
    "y=a_1\\cdot x + a_2 \\cdot x^2 + a_3 \\cdot x ^3 + a_4 \\cdot x ^4 + a_5 \\cdot x^5 + b\n",
    "$$\n",
    "\n",
    "na naszych danych.\n",
    "\n",
    "Oraz narysujmy prostą regresji."
   ]
  },
  {
   "cell_type": "code",
   "execution_count": null,
   "metadata": {},
   "outputs": [],
   "source": [
    "M5 = np.vstack( (np.ones_like(x), x, x**2, x**3, x**4, x**5) ).T\n",
    "p5 = np.linalg.lstsq(M5, y)\n",
    "f_lr_5 = lambda x: p5[0][5]*pow(x,5) + p5[0][4]*pow(x,4) + p5[0][3]*pow(x,3) + p5[0][2]*pow(x,2) + p5[0][1] * x + p5[0][0] \n",
    "\n",
    "x_f_lr = np.linspace(0., 3, 200)\n",
    "y_f_lr = f_lr_5(x_tr)\n",
    "plt.figure(figsize=(6,6));\n",
    "axes = plt.gca()\n",
    "axes.set_xlim([0,3])\n",
    "axes.set_ylim([0,8])\n",
    "plt.plot(x_f_lr, y_f_lr, 'g');\n",
    "plt.plot(x, y, 'ok', ms=10);\n",
    "plt.show()"
   ]
  },
  {
   "cell_type": "markdown",
   "metadata": {},
   "source": [
    "# Zadanie\n",
    "Narysuj wszystkie wyniki na jednym wykresie.\n",
    "\n",
    "## Która z krzywych jest najleprza?"
   ]
  },
  {
   "cell_type": "code",
   "execution_count": null,
   "metadata": {},
   "outputs": [],
   "source": [
    "M4_2 = np.vstack( (np.ones_like(x), x, x**3, x**4) ).T\n",
    "p4_2 = np.linalg.lstsq(M4_2, y)\n",
    "f_lr_4_2 = lambda x: p4_2[0][3]*pow(x,4) + p4_2[0][2]*pow(x,3) + p4_2[0][1] * x + p4_2[0][0] \n"
   ]
  },
  {
   "cell_type": "code",
   "execution_count": null,
   "metadata": {},
   "outputs": [],
   "source": [
    "M5 = np.vstack( (np.ones_like(x), x, x**2, x**3, x**4, x**5) ).T\n",
    "p5 = np.linalg.lstsq(M5, y)\n",
    "f_lr_5 = lambda x: p5[0][5]*pow(x,5) + p5[0][4]*pow(x,4) + p5[0][3]*pow(x,3) + p5[0][2]*pow(x,2) + p5[0][1] * x + p5[0][0] \n",
    "\n",
    "x_f_lr = np.linspace(0., 3, 200)\n",
    "y_f_lr = f_lr_5(x_tr)\n",
    "plt.figure(figsize=(6,6));\n",
    "axes = plt.gca()\n",
    "axes.set_xlim([0,3])\n",
    "axes.set_ylim([0,8])\n",
    "# plt.plot(x_f_lr, y_f_lr, 'g');\n",
    "# plt.plot(x_f_lr, f_lr_1(x_tr), 'k');\n",
    "# plt.plot(x_f_lr, f_lr_2(x_tr), 'r');\n",
    "plt.plot(x_f_lr, f_lr_4_2(x_tr), 'r');\n",
    "plt.plot(x_f_lr, f_lr_3(x_tr), 'b');\n",
    "plt.plot(x_f_lr, f_lr_4(x_tr), 'y');\n",
    "plt.plot(x_f_lr, f_lr_5(x_tr), 'c');\n",
    "plt.plot(x, y, 'ok', ms=10);\n",
    "plt.show()"
   ]
  },
  {
   "cell_type": "markdown",
   "metadata": {},
   "source": [
    "# Zadanie\n",
    "Musimy mieć jakąś miarę oceny."
   ]
  },
  {
   "cell_type": "code",
   "execution_count": null,
   "metadata": {
    "collapsed": true
   },
   "outputs": [],
   "source": [
    "import statsmodels.api as sm\n",
    "Res1 = sm.OLS(y, M1).fit()\n",
    "Res2 = sm.OLS(y, M2).fit()\n",
    "Res3 = sm.OLS(y, M3).fit()\n",
    "Res4 = sm.OLS(y, M4).fit()\n",
    "Res5 = sm.OLS(y, M5).fit()\n",
    "Res4_2 = sm.OLS(y, M4_2).fit()\n"
   ]
  },
  {
   "cell_type": "code",
   "execution_count": null,
   "metadata": {},
   "outputs": [],
   "source": [
    "print(Res1.summary2())\n",
    "print(Res2.summary2())\n",
    "print(Res3.summary2())\n",
    "print(Res4.summary2())\n",
    "print(Res5.summary2())\n"
   ]
  },
  {
   "cell_type": "code",
   "execution_count": null,
   "metadata": {},
   "outputs": [],
   "source": [
    "print(Res4_2.summary2())"
   ]
  },
  {
   "cell_type": "markdown",
   "metadata": {},
   "source": [
    "# Zadanie\n",
    "Analogiczne wyniki możemy izusklać za pomocą prostego kodu."
   ]
  },
  {
   "cell_type": "code",
   "execution_count": null,
   "metadata": {
    "collapsed": true
   },
   "outputs": [],
   "source": [
    "import statsmodels.formula.api as smf\n",
    "# Turn the data into a pandas DataFrame, so that we\n",
    "# can address them in the formulas with their name\n",
    "df = pd.DataFrame({'x':x, 'y':y})\n",
    "\n",
    "# Fit the models, and show the results\n",
    "Res1F = smf.ols('y~x', df).fit()\n",
    "Res2F = smf.ols('y ~ x+I(x**2)', df).fit()"
   ]
  },
  {
   "cell_type": "code",
   "execution_count": null,
   "metadata": {},
   "outputs": [],
   "source": [
    "print(Res1F.summary())\n",
    "print(\".....................................\")\n",
    "print(\".....................................\")\n",
    "print(\".....................................\")\n",
    "print(Res2F.summary())"
   ]
  },
  {
   "cell_type": "code",
   "execution_count": null,
   "metadata": {
    "collapsed": true
   },
   "outputs": [],
   "source": []
  }
 ],
 "metadata": {
  "kernelspec": {
   "display_name": "Python 3",
   "language": "python",
   "name": "python3"
  },
  "language_info": {
   "codemirror_mode": {
    "name": "ipython",
    "version": 3
   },
   "file_extension": ".py",
   "mimetype": "text/x-python",
   "name": "python",
   "nbconvert_exporter": "python",
   "pygments_lexer": "ipython3",
   "version": "3.6.3"
  }
 },
 "nbformat": 4,
 "nbformat_minor": 2
}
