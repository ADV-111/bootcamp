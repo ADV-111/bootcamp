{
 "cells": [
  {
   "cell_type": "markdown",
   "metadata": {},
   "source": [
    "# LSI - Latent Semantic Indexing\n",
    "\n",
    "Czyli wykrycie w tekście znaczeń poprzez rozkład macierzy TfIdf przy użyciu SVD."
   ]
  },
  {
   "cell_type": "markdown",
   "metadata": {},
   "source": [
    "Wymiar danych tekstowych jest równy rozmiarowi słownika. Słowa są od siebie zależne (wystepowanie jak i ich kolejność). Warto zastanowić się nad redukcją wymiarowości.\n",
    "\n",
    "\n",
    "# Zad (dla chętnych)\n",
    "Wiemy że częste słowa to zwykle stopwordsy które warto usunąć. Można usunąć także rzadkie słowa. Proszę spróbować zrobić tak dla wybranej książki z nltk i zobaczyć jak zmniejszyła się wielkość słownika."
   ]
  },
  {
   "cell_type": "code",
   "execution_count": null,
   "metadata": {
    "collapsed": true
   },
   "outputs": [],
   "source": []
  },
  {
   "cell_type": "markdown",
   "metadata": {},
   "source": [
    "# Zad\n",
    "\n",
    "Wykonajmy transformatę **Tf-Idf**"
   ]
  },
  {
   "cell_type": "code",
   "execution_count": 1,
   "metadata": {
    "collapsed": true
   },
   "outputs": [],
   "source": [
    "corpus = [\"Romeo and Juliet\",\n",
    "         \"Juliet: O happy dagger\",\n",
    "         \"Romeo died by dagger\",\n",
    "         \"'Live free or die', that’s the New-Hampshire’s motto\",\n",
    "         \"Did you know, New-Hampshire is in New-England\"]\n",
    "\n",
    "query = [\"dies\", \"dagger\"]"
   ]
  },
  {
   "cell_type": "code",
   "execution_count": 5,
   "metadata": {},
   "outputs": [
    {
     "name": "stdout",
     "output_type": "stream",
     "text": [
      "{'romeo': 10, 'juliet': 5, 'happi': 4, 'dagger': 1, 'die': 2, \"'live\": 0, 'free': 3, '’': 11, 'new-hampshir': 9, 'motto': 7, 'know': 6, 'new-england': 8}\n",
      "(5, 12)\n",
      "[[0.         0.         0.         0.         0.         0.70710678\n",
      "  0.         0.         0.         0.         0.70710678 0.        ]\n",
      " [0.         0.53177225 0.         0.         0.659118   0.53177225\n",
      "  0.         0.         0.         0.         0.         0.        ]\n",
      " [0.         0.57735027 0.57735027 0.         0.         0.\n",
      "  0.         0.         0.         0.         0.57735027 0.        ]\n",
      " [0.34706676 0.         0.28001128 0.34706676 0.         0.\n",
      "  0.         0.34706676 0.         0.28001128 0.         0.69413353]\n",
      " [0.         0.         0.         0.         0.         0.\n",
      "  0.61418897 0.         0.61418897 0.49552379 0.         0.        ]]\n"
     ]
    }
   ],
   "source": [
    "from nltk.corpus import stopwords\n",
    "import string\n",
    "from nltk.stem import PorterStemmer\n",
    "from nltk.tokenize import word_tokenize\n",
    "from sklearn.feature_extraction.text import TfidfVectorizer\n",
    "\n",
    "def my_tokenizer(sent):\n",
    "    tokens = word_tokenize(sent)\n",
    "    stemmer = PorterStemmer()\n",
    "    res = [stemmer.stem(word) for word in tokens]\n",
    "    return res \n",
    "\n",
    "\n",
    "vectorizer = TfidfVectorizer(tokenizer=my_tokenizer, stop_words=stopwords.words('english') + list(string.punctuation))\n",
    "vectorizer.fit(corpus)\n",
    "print(vectorizer.vocabulary_)\n",
    "tfidf_matrix = vectorizer.transform(corpus).todense()\n",
    "print(tfidf_matrix.shape)\n",
    "print(tfidf_matrix)\n"
   ]
  },
  {
   "cell_type": "markdown",
   "metadata": {},
   "source": [
    "# Zad \n",
    "Ograniczmy się do 2 pierszych komponentów i narysujmy na płaszczyźnie nasze **zdania**."
   ]
  },
  {
   "cell_type": "code",
   "execution_count": 3,
   "metadata": {},
   "outputs": [
    {
     "data": {
      "text/plain": [
       "array([[ 0.7837973 , -0.14464289],\n",
       "       [ 0.71446947, -0.16344513],\n",
       "       [ 0.76523246,  0.09759731],\n",
       "       [ 0.17293299,  0.76587814],\n",
       "       [ 0.0323669 ,  0.71112885]])"
      ]
     },
     "execution_count": 3,
     "metadata": {},
     "output_type": "execute_result"
    }
   ],
   "source": [
    "from sklearn.decomposition import TruncatedSVD\n",
    "\n",
    "svd = TruncatedSVD(n_components=2) \n",
    "svd.fit(tfidf_matrix)\n",
    "\n",
    "docs_red = svd.transform(tfidf_matrix) \n",
    "\n",
    "docs_red # przeanalizujemy podobienstwo"
   ]
  },
  {
   "cell_type": "code",
   "execution_count": 4,
   "metadata": {},
   "outputs": [
    {
     "data": {
      "image/png": "[encoded data removed]",
      "text/plain": [
       "<Figure size 432x288 with 1 Axes>"
      ]
     },
     "metadata": {},
     "output_type": "display_data"
    }
   ],
   "source": [
    "import matplotlib.pyplot as plt\n",
    "\n",
    "\n",
    "plt.plot(docs_red[:, 0], docs_red[:, 1], 'x')\n",
    "labels = [1,2,3,4,5]\n",
    "for label, x, y in zip(labels, docs_red[:, 0], docs_red[:, 1]):\n",
    "    plt.annotate(\n",
    "        label,\n",
    "        xy=(x, y), xytext=(-20, 20),\n",
    "        textcoords='offset points', ha='right', va='bottom',\n",
    "        bbox=dict(boxstyle='round,pad=0.5', fc='yellow', alpha=0.5),\n",
    "        arrowprops=dict(arrowstyle = '->', connectionstyle='arc3,rad=0'))\n",
    "plt.show()"
   ]
  },
  {
   "cell_type": "markdown",
   "metadata": {},
   "source": [
    "Jeśli nawet dokumenty nie mają wspólnych słów to mogą znaleźć się blisko siebie w zredukowanej przestrzeni (jeśli tylko mają coś wspólnego z trzecim dokumentem).\n",
    "\n",
    "# Zad \n",
    "W zredukowanej przestrzeni można również zaznaczyć query a nawet pojedyncze słowa. Wystarczy potraktować słowo jako dokument i zrzutować. Proszę zaznaczyć słowa."
   ]
  },
  {
   "cell_type": "code",
   "execution_count": 15,
   "metadata": {},
   "outputs": [
    {
     "name": "stdout",
     "output_type": "stream",
     "text": [
      "[[ 0.28152494  0.23559612]\n",
      " [ 0.47190249 -0.02659373]]\n"
     ]
    }
   ],
   "source": [
    "query = [\"dies\", \"dagger\"]\n",
    "query_red = svd.transform( vectorizer.transform(query).todense() ) \n",
    "print(query_red)"
   ]
  },
  {
   "cell_type": "code",
   "execution_count": 25,
   "metadata": {},
   "outputs": [
    {
     "data": {
      "image/png": "[encoded data removed]",
      "text/plain": [
       "<Figure size 432x288 with 1 Axes>"
      ]
     },
     "metadata": {},
     "output_type": "display_data"
    }
   ],
   "source": [
    "\n",
    "plt.plot(query_red[:, 0], query_red[:, 1], 'x')\n",
    "plt.plot(docs_red[:, 0], docs_red[:, 1], 'x')\n",
    "labels = [1,2,3,4,5]\n",
    "for label, x, y in zip(labels, docs_red[:, 0], docs_red[:, 1]):\n",
    "    plt.annotate(\n",
    "        label,\n",
    "        xy=(x, y), xytext=(-20, 20),\n",
    "        textcoords='offset points', ha='right', va='bottom',\n",
    "        bbox=dict(boxstyle='round,pad=0.5', fc='yellow', alpha=0.5),\n",
    "        arrowprops=dict(arrowstyle = '->', connectionstyle='arc3,rad=0'))\n",
    "labels = [\"dies\", \"dagger\"]\n",
    "for label, x, y in zip(labels, query_red[:, 0], query_red[:, 1]):\n",
    "    plt.annotate(\n",
    "        label,\n",
    "        xy=(x, y), xytext=(-20, 20),\n",
    "        textcoords='offset points', ha='right', va='bottom',\n",
    "        bbox=dict(boxstyle='round,pad=0.5', fc='yellow', alpha=0.5),\n",
    "        arrowprops=dict(arrowstyle = '->', connectionstyle='arc3,rad=0'))\n",
    "plt.show()"
   ]
  },
  {
   "cell_type": "markdown",
   "metadata": {},
   "source": [
    "# Zad\n",
    "Można też zaznaczyć wszystkie słowa z korpusu"
   ]
  },
  {
   "cell_type": "code",
   "execution_count": null,
   "metadata": {},
   "outputs": [],
   "source": []
  },
  {
   "cell_type": "markdown",
   "metadata": {
    "collapsed": true
   },
   "source": [
    "# Wstęp do modelowania tematów\n",
    "\n",
    "Co tak naprawdę opisują nasze kierunki? Są to pewne kombinacje słów (atrybutów). Im większy współczynnik przy słowie tym ważniejsze słowo. \n",
    "\n",
    "Kierunki będziemy traktować jako tematy, które charakteryzują się pewnymi słowami\n"
   ]
  },
  {
   "cell_type": "markdown",
   "metadata": {},
   "source": [
    "# Zad. (z neta, gdzieś znalezione) \n",
    "Proszę wypisać słowa i ich wagi dla danego kierunku w kolejności malejącej. \n",
    "\n",
    "* Robimy ręcznie rozkład SVD\n",
    "* Wagi słów znajdują się w kolejnych współrzędnych wektorów własnych (components_)"
   ]
  },
  {
   "cell_type": "code",
   "execution_count": 8,
   "metadata": {},
   "outputs": [
    {
     "name": "stdout",
     "output_type": "stream",
     "text": [
      "[[0.         0.         0.         0.         0.         0.70710678\n",
      "  0.         0.         0.         0.         0.70710678 0.        ]\n",
      " [0.         0.53177225 0.         0.         0.659118   0.53177225\n",
      "  0.         0.         0.         0.         0.         0.        ]\n",
      " [0.         0.57735027 0.57735027 0.         0.         0.\n",
      "  0.         0.         0.         0.         0.57735027 0.        ]\n",
      " [0.34706676 0.         0.28001128 0.34706676 0.         0.\n",
      "  0.         0.34706676 0.         0.28001128 0.         0.69413353]\n",
      " [0.         0.         0.         0.         0.         0.\n",
      "  0.61418897 0.         0.61418897 0.49552379 0.         0.        ]]\n",
      "[[0.         0.         0.         0.         0.         0.70710678\n",
      "  0.         0.         0.         0.         0.70710678 0.        ]\n",
      " [0.         0.53177225 0.         0.         0.659118   0.53177225\n",
      "  0.         0.         0.         0.         0.         0.        ]\n",
      " [0.         0.57735027 0.57735027 0.         0.         0.\n",
      "  0.         0.         0.         0.         0.57735027 0.        ]\n",
      " [0.34706676 0.         0.28001128 0.34706676 0.         0.\n",
      "  0.         0.34706676 0.         0.28001128 0.         0.69413353]\n",
      " [0.         0.         0.         0.         0.         0.\n",
      "  0.61418897 0.         0.61418897 0.49552379 0.         0.        ]]\n",
      "[1.31959804 1.07211692 0.94354211 0.81622723 0.74345661]\n"
     ]
    }
   ],
   "source": [
    "A = (vectorizer.transform(corpus)).todense()\n",
    "print(A)\n",
    "\n",
    "import numpy as np \n",
    "print(A)\n",
    "U,s,VT = np.linalg.svd(A)\n",
    "print(s)"
   ]
  },
  {
   "cell_type": "code",
   "execution_count": 12,
   "metadata": {},
   "outputs": [
    {
     "name": "stdout",
     "output_type": "stream",
     "text": [
      "-------\n",
      "romeo*-0.5719940579364199 + juliet*-0.5364627090685581 + happi*-0.2704353932634657 + dagger*-0.4719024938383854 + die*-0.28152494125131045 + 'live*-0.03446732389948646 + free*-0.03446732389948636 + ’*-0.06893464779897274 + new-hampshir*-0.03701849964280702 + motto*-0.03446732389948637 + know*-0.011416152239167221 + new-england*-0.011416152239167221 + \n",
      "\n",
      "-------\n",
      "romeo*0.039958891153991434 + juliet*0.1645970476390291 + happi*0.09372401070355682 + dagger*0.026593726917503144 + die*-0.2355961199665075 + 'live*-0.231253546447042 + free*-0.23125354644704194 + ’*-0.46250709289408387 + new-hampshir*-0.4931430996876587 + motto*-0.23125354644704194 + know*-0.37998461462891564 + new-england*-0.37998461462891564 + \n",
      "\n"
     ]
    }
   ],
   "source": [
    "#wypiszmy z czego składają się poszczególne kierunki\n",
    "\n",
    "\n",
    "# print(corpus)\n",
    "# print(vectorizer.vocabulary_)\n",
    "# print(VT)\n",
    "n_elements = 2\n",
    "for i in range(n_elements):\n",
    "    s = \"\"\n",
    "    for val in vectorizer.vocabulary_:\n",
    "#         print(val, \" \",words_red[i,vectorizer.vocabulary_[val]], \" \", i)\n",
    "        s = s + val + \"*\" + str(VT[i,vectorizer.vocabulary_[val]]) + \" + \" \n",
    "    print(\"-------\")\n",
    "    print(s)\n",
    "    print()\n",
    "# print(vectorizer.vocabulary_.keys())\n",
    "# print(vectorizer.vocabulary_.values())"
   ]
  },
  {
   "cell_type": "code",
   "execution_count": null,
   "metadata": {
    "collapsed": true
   },
   "outputs": [],
   "source": []
  }
 ],
 "metadata": {
  "kernelspec": {
   "display_name": "Python 3",
   "language": "python",
   "name": "python3"
  },
  "language_info": {
   "codemirror_mode": {
    "name": "ipython",
    "version": 3
   },
   "file_extension": ".py",
   "mimetype": "text/x-python",
   "name": "python",
   "nbconvert_exporter": "python",
   "pygments_lexer": "ipython3",
   "version": "3.6.7"
  }
 },
 "nbformat": 4,
 "nbformat_minor": 2
}
