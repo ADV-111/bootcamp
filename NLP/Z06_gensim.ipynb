{
 "cells": [
  {
   "cell_type": "markdown",
   "metadata": {},
   "source": [
    "# Zobaczymy jak dokonywać transformacji tekstu. \n",
    "\n",
    "# Zad\n",
    "\n",
    "Na początek wczytujemy korpus z dysku. Użyjemy przykłady stworzonego w poprzednim notebook-u."
   ]
  },
  {
   "cell_type": "code",
   "execution_count": 14,
   "metadata": {},
   "outputs": [
    {
     "name": "stdout",
     "output_type": "stream",
     "text": [
      "Used files generated from first tutorial\n"
     ]
    }
   ],
   "source": [
    "from gensim import corpora, models, similarities, matutils\n",
    "import os \n",
    "if (os.path.exists(\"tmp/deerwester.dict\")):\n",
    "    dictionary = corpora.Dictionary.load('tmp/deerwester.dict')\n",
    "    corpus = corpora.MmCorpus('tmp/deerwester.mm')\n",
    "    print(\"Used files generated from first tutorial\")\n",
    "else:\n",
    "    print(\"Please run first tutorial to generate data set\")\n",
    "\n"
   ]
  },
  {
   "cell_type": "code",
   "execution_count": 15,
   "metadata": {},
   "outputs": [
    {
     "name": "stdout",
     "output_type": "stream",
     "text": [
      "[(0, 1.0), (1, 1.0), (2, 1.0)]\n",
      "[(0, 1.0), (3, 1.0), (4, 1.0), (5, 1.0), (6, 1.0), (7, 1.0)]\n",
      "[(2, 1.0), (5, 1.0), (7, 1.0), (8, 1.0)]\n",
      "[(1, 1.0), (5, 2.0), (8, 1.0)]\n",
      "[(3, 1.0), (6, 1.0), (7, 1.0)]\n",
      "[(9, 1.0)]\n",
      "[(9, 1.0), (10, 1.0)]\n",
      "[(9, 1.0), (10, 1.0), (11, 1.0)]\n",
      "[(4, 1.0), (10, 1.0), (11, 1.0)]\n"
     ]
    }
   ],
   "source": [
    "for d in corpus:\n",
    "    print(d)"
   ]
  },
  {
   "cell_type": "code",
   "execution_count": 29,
   "metadata": {},
   "outputs": [
    {
     "name": "stdout",
     "output_type": "stream",
     "text": [
      "[[1. 1. 0. 0. 0. 0. 0. 0. 0.]\n",
      " [1. 0. 0. 1. 0. 0. 0. 0. 0.]\n",
      " [1. 0. 1. 0. 0. 0. 0. 0. 0.]\n",
      " [0. 1. 0. 0. 1. 0. 0. 0. 0.]\n",
      " [0. 1. 0. 0. 0. 0. 0. 0. 1.]\n",
      " [0. 1. 1. 2. 0. 0. 0. 0. 0.]\n",
      " [0. 1. 0. 0. 1. 0. 0. 0. 0.]\n",
      " [0. 1. 1. 0. 1. 0. 0. 0. 0.]\n",
      " [0. 0. 1. 1. 0. 0. 0. 0. 0.]\n",
      " [0. 0. 0. 0. 0. 1. 1. 1. 0.]\n",
      " [0. 0. 0. 0. 0. 0. 1. 1. 1.]\n",
      " [0. 0. 0. 0. 0. 0. 0. 1. 1.]]\n"
     ]
    }
   ],
   "source": [
    "scipy_csc_matrix = matutils.corpus2csc(corpus)\n",
    "print(scipy_csc_matrix.todense())"
   ]
  },
  {
   "cell_type": "markdown",
   "metadata": {},
   "source": [
    "# Dokonujemy transformacji tfidf. \n",
    "\n",
    "Zaczynamy od policzenia wszyskich potrzebnych częstości na korpusie treningowym."
   ]
  },
  {
   "cell_type": "code",
   "execution_count": 30,
   "metadata": {
    "collapsed": true
   },
   "outputs": [],
   "source": [
    "tfidf = models.TfidfModel(corpus) # step 1 -- initialize a model"
   ]
  },
  {
   "cell_type": "markdown",
   "metadata": {},
   "source": [
    "Możemy teraz przekonwertować dowolny dokument."
   ]
  },
  {
   "cell_type": "code",
   "execution_count": 31,
   "metadata": {},
   "outputs": [
    {
     "name": "stdout",
     "output_type": "stream",
     "text": [
      "[(0, 0.7071067811865476), (1, 0.7071067811865476)]\n"
     ]
    }
   ],
   "source": [
    "doc_bow = [(0, 1), (1, 1)]\n",
    "print(tfidf[doc_bow]) # step 2 -- use the model to transform vectors"
   ]
  },
  {
   "cell_type": "markdown",
   "metadata": {},
   "source": [
    "Możemy również przetransformować cały korpus."
   ]
  },
  {
   "cell_type": "code",
   "execution_count": 41,
   "metadata": {},
   "outputs": [
    {
     "name": "stdout",
     "output_type": "stream",
     "text": [
      "[(0, 0.5773502691896257), (1, 0.5773502691896257), (2, 0.5773502691896257)]\n",
      "[(0, 0.44424552527467476), (3, 0.44424552527467476), (4, 0.44424552527467476), (5, 0.3244870206138555), (6, 0.44424552527467476), (7, 0.3244870206138555)]\n",
      "[(2, 0.5710059809418182), (5, 0.4170757362022777), (7, 0.4170757362022777), (8, 0.5710059809418182)]\n",
      "[(1, 0.49182558987264147), (5, 0.7184811607083769), (8, 0.49182558987264147)]\n",
      "[(3, 0.6282580468670046), (6, 0.6282580468670046), (7, 0.45889394536615247)]\n",
      "[(9, 1.0)]\n",
      "[(9, 0.7071067811865475), (10, 0.7071067811865475)]\n",
      "[(9, 0.5080429008916749), (10, 0.5080429008916749), (11, 0.695546419520037)]\n",
      "[(4, 0.6282580468670046), (10, 0.45889394536615247), (11, 0.6282580468670046)]\n"
     ]
    }
   ],
   "source": [
    "corpus_tfidf = tfidf[corpus]\n",
    "for doc in corpus_tfidf:\n",
    "    print(doc)"
   ]
  },
  {
   "cell_type": "code",
   "execution_count": 44,
   "metadata": {},
   "outputs": [
    {
     "name": "stdout",
     "output_type": "stream",
     "text": [
      "[[0.57735027 0.44424553 0.         0.         0.         0.\n",
      "  0.         0.         0.        ]\n",
      " [0.57735027 0.         0.         0.49182559 0.         0.\n",
      "  0.         0.         0.        ]\n",
      " [0.57735027 0.         0.57100598 0.         0.         0.\n",
      "  0.         0.         0.        ]\n",
      " [0.         0.44424553 0.         0.         0.62825805 0.\n",
      "  0.         0.         0.        ]\n",
      " [0.         0.44424553 0.         0.         0.         0.\n",
      "  0.         0.         0.62825805]\n",
      " [0.         0.32448702 0.41707574 0.71848116 0.         0.\n",
      "  0.         0.         0.        ]\n",
      " [0.         0.44424553 0.         0.         0.62825805 0.\n",
      "  0.         0.         0.        ]\n",
      " [0.         0.32448702 0.41707574 0.         0.45889395 0.\n",
      "  0.         0.         0.        ]\n",
      " [0.         0.         0.57100598 0.49182559 0.         0.\n",
      "  0.         0.         0.        ]\n",
      " [0.         0.         0.         0.         0.         1.\n",
      "  0.70710678 0.5080429  0.        ]\n",
      " [0.         0.         0.         0.         0.         0.\n",
      "  0.70710678 0.5080429  0.45889395]\n",
      " [0.         0.         0.         0.         0.         0.\n",
      "  0.         0.69554642 0.62825805]]\n"
     ]
    }
   ],
   "source": [
    "scipy_csc_matrix = matutils.corpus2csc(corpus_tfidf)\n",
    "print(scipy_csc_matrix.todense())"
   ]
  },
  {
   "cell_type": "markdown",
   "metadata": {},
   "source": [
    "Możemy dokonać transformacji LSI"
   ]
  },
  {
   "cell_type": "code",
   "execution_count": 6,
   "metadata": {},
   "outputs": [],
   "source": [
    "lsi = models.LsiModel(corpus_tfidf, id2word=dictionary, num_topics=2) # initialize an LSI transformation\n",
    "corpus_lsi = lsi[corpus_tfidf] # create a double wrapper over the original corpus: bow->tfidf->fold-in-lsi\n"
   ]
  },
  {
   "cell_type": "markdown",
   "metadata": {},
   "source": [
    "Wypiszemy jak wyglądają wybrane kierunki."
   ]
  },
  {
   "cell_type": "code",
   "execution_count": 49,
   "metadata": {},
   "outputs": [
    {
     "data": {
      "text/plain": [
       "[(0,\n",
       "  '0.703*\"trees\" + 0.538*\"graph\" + 0.402*\"minors\" + 0.187*\"survey\" + 0.061*\"system\" + 0.060*\"response\" + 0.060*\"time\" + 0.058*\"user\" + 0.049*\"computer\" + 0.035*\"interface\"'),\n",
       " (1,\n",
       "  '0.460*\"system\" + 0.373*\"user\" + 0.332*\"eps\" + 0.328*\"interface\" + 0.320*\"time\" + 0.320*\"response\" + 0.293*\"computer\" + 0.280*\"human\" + 0.171*\"survey\" + -0.161*\"trees\"')]"
      ]
     },
     "execution_count": 49,
     "metadata": {},
     "output_type": "execute_result"
    }
   ],
   "source": [
    "lsi.print_topics(2)"
   ]
  },
  {
   "cell_type": "markdown",
   "metadata": {},
   "source": [
    "### PYTANIE: z jakimi słowami wiąże się pierwszy temat a z jakimi drugi?"
   ]
  },
  {
   "cell_type": "markdown",
   "metadata": {},
   "source": [
    "Zobaczmy jak wygląda reprezentacja naszych dokumentów."
   ]
  },
  {
   "cell_type": "code",
   "execution_count": 10,
   "metadata": {},
   "outputs": [
    {
     "name": "stdout",
     "output_type": "stream",
     "text": [
      "[(0, 0.0660078339608997), (1, 0.5200703306361851)]\n",
      "[(0, 0.19667592859141994), (1, 0.7609563167700065)]\n",
      "[(0, 0.08992639972445954), (1, 0.7241860626752517)]\n",
      "[(0, 0.07585847652177766), (1, 0.6320551586003433)]\n",
      "[(0, 0.10150299184979737), (1, 0.5737308483002969)]\n",
      "[(0, 0.7032108939378323), (1, -0.16115180214025335)]\n",
      "[(0, 0.8774787673119846), (1, -0.16758906864658824)]\n",
      "[(0, 0.909862468681859), (1, -0.14086553628718393)]\n",
      "[(0, 0.6165825350569281), (1, 0.053929075663898124)]\n"
     ]
    }
   ],
   "source": [
    "for doc in corpus_lsi: # both bow->tfidf and tfidf->lsi transformations are actually executed here, on the fly\n",
    "    print(doc)"
   ]
  },
  {
   "cell_type": "code",
   "execution_count": 45,
   "metadata": {},
   "outputs": [
    {
     "name": "stdout",
     "output_type": "stream",
     "text": [
      "[[ 0.06600783  0.19667593  0.0899264   0.07585848  0.10150299  0.70321089\n",
      "   0.87747877  0.90986247  0.61658254]\n",
      " [ 0.52007033  0.76095632  0.72418606  0.63205516  0.57373085 -0.1611518\n",
      "  -0.16758907 -0.14086554  0.05392908]]\n"
     ]
    }
   ],
   "source": [
    "scipy_csc_matrix = matutils.corpus2csc(corpus_lsi)\n",
    "print(scipy_csc_matrix.todense())"
   ]
  },
  {
   "cell_type": "markdown",
   "metadata": {
    "collapsed": true
   },
   "source": [
    "# Zad \n",
    "\n",
    "Które zdania pasują do pierwszego a które do drugiego tematu\n",
    "\n"
   ]
  },
  {
   "cell_type": "code",
   "execution_count": null,
   "metadata": {
    "collapsed": true
   },
   "outputs": [],
   "source": []
  }
 ],
 "metadata": {
  "kernelspec": {
   "display_name": "Python 3",
   "language": "python",
   "name": "python3"
  },
  "language_info": {
   "codemirror_mode": {
    "name": "ipython",
    "version": 3
   },
   "file_extension": ".py",
   "mimetype": "text/x-python",
   "name": "python",
   "nbconvert_exporter": "python",
   "pygments_lexer": "ipython3",
   "version": "3.6.7"
  }
 },
 "nbformat": 4,
 "nbformat_minor": 2
}
