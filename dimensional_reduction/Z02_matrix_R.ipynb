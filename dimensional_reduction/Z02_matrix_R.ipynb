{
 "cells": [
  {
   "cell_type": "markdown",
   "metadata": {},
   "source": [
    "# Interpretacja geometryczna mnożenia macierzy"
   ]
  },
  {
   "cell_type": "markdown",
   "metadata": {},
   "source": [
    "# Zad\n",
    "Wygeneruj dane w $R^2$"
   ]
  },
  {
   "cell_type": "code",
   "execution_count": 2,
   "metadata": {},
   "outputs": [
    {
     "name": "stdout",
     "output_type": "stream",
     "text": [
      "[[0.  0. ]\n",
      " [0.  1. ]\n",
      " [0.  2. ]\n",
      " [0.  3. ]\n",
      " [0.  4. ]\n",
      " [0.  5. ]\n",
      " [0.5 5. ]\n",
      " [1.  5. ]]\n"
     ]
    }
   ],
   "source": [
    "import numpy as np\n",
    "import matplotlib.pyplot as plt\n",
    "\n",
    "x = np.array([[0,0],[0,1],[0,2],[0,3],[0,4],[0,5],[0.5,5],[1,5]])\n",
    "print(x)\n"
   ]
  },
  {
   "cell_type": "code",
   "execution_count": 3,
   "metadata": {},
   "outputs": [
    {
     "data": {
      "image/png": "[encoded data removed]",
      "text/plain": [
       "<Figure size 432x288 with 1 Axes>"
      ]
     },
     "metadata": {},
     "output_type": "display_data"
    }
   ],
   "source": [
    "plt.scatter(x[:,0],x[:,1])\n",
    "plt.xlim(-1,21)\n",
    "plt.ylim(-1,21)\n",
    "plt.grid()\n",
    "plt.show()"
   ]
  },
  {
   "cell_type": "markdown",
   "metadata": {},
   "source": [
    "# Zad \n",
    "Przetestuj poniższą funkcję i przeanalizuj jej działanie."
   ]
  },
  {
   "cell_type": "code",
   "execution_count": 4,
   "metadata": {
    "collapsed": true
   },
   "outputs": [],
   "source": [
    "def plot_transform_xa(x,a):\n",
    "    \"\"\"\n",
    "    wizualizacja mnozenia macierzy a * x\n",
    "    \"\"\"\n",
    "    \n",
    "    print(a)\n",
    "    y = np.dot(x,a)\n",
    "    \n",
    "    plt.figure(figsize=(15,3.4))\n",
    "    \n",
    "    plt.subplot(1,4,1)\n",
    "    \n",
    "    plt.scatter(x[:,0],x[:,1])\n",
    "    plt.xlim(-21,21)\n",
    "    plt.ylim(-21,21)\n",
    "\n",
    "    plt.subplot(1,4,2)\n",
    "    plt.scatter(y[:,0],y[:,1])\n",
    "    plt.xlim(-21,21)\n",
    "    plt.ylim(-21,21)\n",
    "\n",
    "    plt.subplot(1,4,3)\n",
    "    plt.xlim(-6,6)\n",
    "    plt.ylim(-6,6)\n",
    "    plt.arrow(0, 0, 0, 1, head_width=0.2, head_length=0.2, fc='red', ec='red')\n",
    "    plt.arrow(0, 0, 1, 0, head_width=0.2, head_length=0.2, fc='red', ec='red')\n",
    " \n",
    "    plt.subplot(1,4,4)\n",
    "    plt.xlim(-6,6)\n",
    "    plt.ylim(-6,6)\n",
    "\n",
    "    #plt.arrow(0, 0, a[0,0],a[1,0], head_width=0.2, head_length=0.2, fc='red', ec='red')\n",
    "    #plt.arrow(0, 0, a[0,1],a[1,1], head_width=0.2, head_length=0.2, fc='red', ec='red')\n",
    "\n",
    "    plt.arrow(0, 0, a[0,0],a[0,1], head_width=0.2, head_length=0.2, fc='red', ec='red')\n",
    "    plt.arrow(0, 0, a[1,0],a[1,1], head_width=0.2, head_length=0.2, fc='red', ec='red')\n",
    "    \n",
    "    plt.show()"
   ]
  },
  {
   "cell_type": "code",
   "execution_count": 5,
   "metadata": {},
   "outputs": [
    {
     "name": "stdout",
     "output_type": "stream",
     "text": [
      "[[4 0]\n",
      " [0 4]]\n"
     ]
    },
    {
     "data": {
      "image/png": "[encoded data removed]",
      "text/plain": [
       "<Figure size 1080x244.8 with 4 Axes>"
      ]
     },
     "metadata": {},
     "output_type": "display_data"
    }
   ],
   "source": [
    "a = np.diag([4,4])\n",
    "plot_transform_xa(x,a)"
   ]
  },
  {
   "cell_type": "markdown",
   "metadata": {},
   "source": [
    "Co tu widzimy?\n",
    "- wiersze x - obserwacje - punkty w naszej przestrzeni\n",
    "- wiersz ax - obserwacje przetworzone\n",
    "- pierwsze strzałki - reprezentują układ współrzędnych\n",
    "- drugie strzałki - nowy układ współrzędnych"
   ]
  },
  {
   "cell_type": "markdown",
   "metadata": {},
   "source": [
    "# Zad\n",
    "Wykonaj mnożnie zbioru danych przez macierz\n",
    "\n",
    "$$\n",
    "\\begin{bmatrix}\n",
    "    4  &  0 \\\\\n",
    "    0  &  2 \n",
    "\\end{bmatrix}\n",
    "$$\n",
    "\n",
    "oraz\n",
    "\n",
    "$$\n",
    "\\begin{bmatrix}\n",
    "    2  &  0 \\\\\n",
    "    0  &  4 \n",
    "\\end{bmatrix}\n",
    "$$"
   ]
  },
  {
   "cell_type": "code",
   "execution_count": 6,
   "metadata": {},
   "outputs": [
    {
     "name": "stdout",
     "output_type": "stream",
     "text": [
      "[[4 0]\n",
      " [0 2]]\n"
     ]
    },
    {
     "data": {
      "image/png": "[encoded data removed]",
      "text/plain": [
       "<Figure size 1080x244.8 with 4 Axes>"
      ]
     },
     "metadata": {},
     "output_type": "display_data"
    }
   ],
   "source": [
    "a = np.diag([4,2])\n",
    "plot_transform_xa(x,a)"
   ]
  },
  {
   "cell_type": "code",
   "execution_count": 7,
   "metadata": {},
   "outputs": [
    {
     "name": "stdout",
     "output_type": "stream",
     "text": [
      "[[2 0]\n",
      " [0 4]]\n"
     ]
    },
    {
     "data": {
      "image/png": "[encoded data removed]",
      "text/plain": [
       "<Figure size 1080x244.8 with 4 Axes>"
      ]
     },
     "metadata": {},
     "output_type": "display_data"
    }
   ],
   "source": [
    "a = np.diag([2,4])\n",
    "plot_transform_xa(x,a)"
   ]
  },
  {
   "cell_type": "markdown",
   "metadata": {},
   "source": [
    "# Wniosek: macierze diagonalne to macierze skalujące.\n",
    "\n",
    "$y^i = x^i * a_{ii}$ - i-ta kolumna wyniku mnożenia to i-ta kolumna x razy i-ty element diagonali a."
   ]
  },
  {
   "cell_type": "markdown",
   "metadata": {},
   "source": [
    "# Zad\n",
    "Co się stanie jak na przekątnej będą zera?\n",
    "\n",
    "$$\n",
    "\\begin{bmatrix}\n",
    "    2  &  0 \\\\\n",
    "    0  &  0 \n",
    "\\end{bmatrix}\n",
    "$$\n",
    "\n",
    "oraz\n",
    "\n",
    "$$\n",
    "\\begin{bmatrix}\n",
    "    0  &  0 \\\\\n",
    "    0  &  3 \n",
    "\\end{bmatrix}\n",
    "$$"
   ]
  },
  {
   "cell_type": "code",
   "execution_count": 8,
   "metadata": {},
   "outputs": [
    {
     "name": "stdout",
     "output_type": "stream",
     "text": [
      "[[2 0]\n",
      " [0 0]]\n"
     ]
    },
    {
     "data": {
      "image/png": "[encoded data removed]",
      "text/plain": [
       "<Figure size 1080x244.8 with 4 Axes>"
      ]
     },
     "metadata": {},
     "output_type": "display_data"
    }
   ],
   "source": [
    "a = np.diag([2,0])\n",
    "plot_transform_xa(x,a)"
   ]
  },
  {
   "cell_type": "code",
   "execution_count": 9,
   "metadata": {},
   "outputs": [
    {
     "name": "stdout",
     "output_type": "stream",
     "text": [
      "[[0 0]\n",
      " [0 3]]\n"
     ]
    },
    {
     "data": {
      "image/png": "[encoded data removed]",
      "text/plain": [
       "<Figure size 1080x244.8 with 4 Axes>"
      ]
     },
     "metadata": {},
     "output_type": "display_data"
    }
   ],
   "source": [
    "a = np.diag([0,3])\n",
    "plot_transform_xa(x,a)"
   ]
  },
  {
   "cell_type": "markdown",
   "metadata": {},
   "source": [
    "### Wniosek: Znikają wymiary, które zostały \"wyzerowane\" - czyli rzutujemy na PODPRZESTRZEŃ (na mniejszą liczbę wymiarów)"
   ]
  },
  {
   "cell_type": "markdown",
   "metadata": {},
   "source": [
    "# Macirz obrotu\n",
    "\n",
    "Macierz obrotu o kąt"
   ]
  },
  {
   "cell_type": "code",
   "execution_count": 10,
   "metadata": {},
   "outputs": [
    {
     "data": {
      "text/plain": [
       "array([[ 0.8660254, -0.5      ],\n",
       "       [ 0.5      ,  0.8660254]])"
      ]
     },
     "execution_count": 10,
     "metadata": {},
     "output_type": "execute_result"
    }
   ],
   "source": [
    "t = np.pi/6 \n",
    "\n",
    "a = np.array([[np.cos(t),-np.sin(t)],[np.sin(t),np.cos(t)]])\n",
    "a"
   ]
  },
  {
   "cell_type": "markdown",
   "metadata": {},
   "source": [
    "# Zad\n",
    "Wykonaj mnożnie zbioru danych przez macierz obrotu."
   ]
  },
  {
   "cell_type": "code",
   "execution_count": 11,
   "metadata": {},
   "outputs": [
    {
     "name": "stdout",
     "output_type": "stream",
     "text": [
      "[[ 0.8660254 -0.5      ]\n",
      " [ 0.5        0.8660254]]\n"
     ]
    },
    {
     "data": {
      "image/png": "[encoded data removed]",
      "text/plain": [
       "<Figure size 1080x244.8 with 4 Axes>"
      ]
     },
     "metadata": {},
     "output_type": "display_data"
    }
   ],
   "source": [
    "plot_transform_xa(x,a) "
   ]
  },
  {
   "cell_type": "markdown",
   "metadata": {},
   "source": [
    "Własności macierzy obrotu:\n",
    "    \n",
    "* macierz ORTOGONALNĄ\n",
    "* wyznacznik równa się 1"
   ]
  },
  {
   "cell_type": "code",
   "execution_count": 12,
   "metadata": {},
   "outputs": [
    {
     "data": {
      "text/plain": [
       "array([[ 1.00000000e+00, -7.43708407e-18],\n",
       "       [-7.43708407e-18,  1.00000000e+00]])"
      ]
     },
     "execution_count": 12,
     "metadata": {},
     "output_type": "execute_result"
    }
   ],
   "source": [
    "np.dot(a,a.T) # DIAGONALNA (Z DOKŁADNOŚCI DO NUMERYKI) - A nazywa się macierzą ORTOGONALNĄ"
   ]
  },
  {
   "cell_type": "code",
   "execution_count": 13,
   "metadata": {},
   "outputs": [
    {
     "data": {
      "text/plain": [
       "1.0"
      ]
     },
     "execution_count": 13,
     "metadata": {},
     "output_type": "execute_result"
    }
   ],
   "source": [
    "np.linalg.det(a) # wyznacznik rowny 1"
   ]
  },
  {
   "cell_type": "markdown",
   "metadata": {},
   "source": [
    "# Mnożenie przez dowolną macierz"
   ]
  },
  {
   "cell_type": "code",
   "execution_count": 14,
   "metadata": {},
   "outputs": [],
   "source": [
    "a = np.array([[3, 2], [1, 2]])\n"
   ]
  },
  {
   "cell_type": "markdown",
   "metadata": {},
   "source": [
    "# Zad\n",
    "Wykonaj mnożnie zbioru danych przez macierz obrotu."
   ]
  },
  {
   "cell_type": "code",
   "execution_count": 15,
   "metadata": {},
   "outputs": [
    {
     "name": "stdout",
     "output_type": "stream",
     "text": [
      "[[3 2]\n",
      " [1 2]]\n"
     ]
    },
    {
     "data": {
      "image/png": "[encoded data removed]",
      "text/plain": [
       "<Figure size 1080x244.8 with 4 Axes>"
      ]
     },
     "metadata": {},
     "output_type": "display_data"
    }
   ],
   "source": [
    "plot_transform_xa(x,a)"
   ]
  },
  {
   "cell_type": "markdown",
   "metadata": {},
   "source": [
    "# Złożenie macierzy skalującej z zerem i macierzy obrotu:"
   ]
  },
  {
   "cell_type": "code",
   "execution_count": 16,
   "metadata": {},
   "outputs": [],
   "source": [
    "t = np.pi/4\n",
    "a = np.dot(np.array([[0,0],[0,3]]),np.array([[np.cos(t),-np.sin(t)],[np.sin(t),np.cos(t)]]))\n"
   ]
  },
  {
   "cell_type": "markdown",
   "metadata": {},
   "source": [
    "# Zad\n",
    "Wykonaj mnożnie zbioru danych przez złożenie macierzy skalującej z zerem i macierzy obrotu."
   ]
  },
  {
   "cell_type": "code",
   "execution_count": 17,
   "metadata": {},
   "outputs": [
    {
     "name": "stdout",
     "output_type": "stream",
     "text": [
      "[[0.         0.        ]\n",
      " [2.12132034 2.12132034]]\n"
     ]
    },
    {
     "data": {
      "image/png": "[encoded data removed]",
      "text/plain": [
       "<Figure size 1080x244.8 with 4 Axes>"
      ]
     },
     "metadata": {},
     "output_type": "display_data"
    }
   ],
   "source": [
    "plot_transform_xa(x,a)"
   ]
  },
  {
   "cell_type": "markdown",
   "metadata": {},
   "source": [
    "## Podsumowanie:\n",
    "\n",
    "Przemnożenie przez macierz to REPREZENTACJA NASZYCH DANYCH W INNYM UKŁADZIE WSPÓŁRZĘDNYCH  - inaczej zrzutowanie naszych punktów do nowej przestrzeni (liniowej)."
   ]
  },
  {
   "cell_type": "code",
   "execution_count": null,
   "metadata": {
    "collapsed": true
   },
   "outputs": [],
   "source": []
  }
 ],
 "metadata": {
  "kernelspec": {
   "display_name": "Python 3",
   "language": "python",
   "name": "python3"
  },
  "language_info": {
   "codemirror_mode": {
    "name": "ipython",
    "version": 3
   },
   "file_extension": ".py",
   "mimetype": "text/x-python",
   "name": "python",
   "nbconvert_exporter": "python",
   "pygments_lexer": "ipython3",
   "version": "3.6.7"
  }
 },
 "nbformat": 4,
 "nbformat_minor": 2
}
