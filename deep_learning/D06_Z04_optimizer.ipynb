{
 "cells": [
  {
   "cell_type": "code",
   "execution_count": 1,
   "metadata": {},
   "outputs": [
    {
     "name": "stdout",
     "output_type": "stream",
     "text": [
      "1.15.0\n"
     ]
    },
    {
     "name": "stderr",
     "output_type": "stream",
     "text": [
      "Using TensorFlow backend.\n"
     ]
    },
    {
     "name": "stdout",
     "output_type": "stream",
     "text": [
      "2.3.1\n"
     ]
    }
   ],
   "source": [
    "import tensorflow as tf\n",
    "print(tf.__version__)\n",
    "import keras\n",
    "print(keras.__version__)\n",
    "# from tensorflow import keras as keras "
   ]
  },
  {
   "cell_type": "markdown",
   "metadata": {},
   "source": [
    "# Zad\n",
    "Porównaj wyniki działań różnych optymalizacji\n",
    "* \n",
    "```python\n",
    "sgd = keras.optimizers.SGD(lr=0.01, decay=1e-6, momentum=0.9, nesterov=True)\n",
    "```\n",
    "* \n",
    "```python\n",
    "sgd = keras.optimizers.SGD(lr=0.01, decay=1e-6, momentum=0.9, nesterov=True)\n",
    "```\n",
    "* \n",
    "```python\n",
    "RMSprop = keras.optimizers.RMSprop(learning_rate=0.001, rho=0.9)\n",
    "```\n",
    "* \n",
    "```python\n",
    "Adagrad = keras.optimizers.Adagrad(learning_rate=0.01)\n",
    "```\n",
    "* \n",
    "```python\n",
    "Adadelta = keras.optimizers.Adadelta(learning_rate=1.0, rho=0.95)\n",
    "```\n",
    "* \n",
    "```python\n",
    "Adam = keras.optimizers.Adam(learning_rate=0.001, beta_1=0.9, beta_2=0.999, amsgrad=False)\n",
    "```\n",
    "* \n",
    "```python\n",
    "Adam = keras.optimizers.Adam(learning_rate=0.0001, beta_1=0.9, beta_2=0.999, amsgrad=False)\n",
    "```\n",
    "\n",
    "https://keras.io/optimizers/"
   ]
  },
  {
   "cell_type": "code",
   "execution_count": 2,
   "metadata": {},
   "outputs": [
    {
     "name": "stderr",
     "output_type": "stream",
     "text": [
      "C:\\ProgramData\\Anaconda3\\lib\\site-packages\\ipykernel_launcher.py:6: ParserWarning: Falling back to the 'python' engine because the 'c' engine does not support regex separators (separators > 1 char and different from '\\s+' are interpreted as regex); you can avoid this warning by specifying engine='python'.\n",
      "  \n",
      "C:\\ProgramData\\Anaconda3\\lib\\site-packages\\ipykernel_launcher.py:7: ParserWarning: Falling back to the 'python' engine because the 'c' engine does not support regex separators (separators > 1 char and different from '\\s+' are interpreted as regex); you can avoid this warning by specifying engine='python'.\n",
      "  import sys\n"
     ]
    },
    {
     "data": {
      "text/html": [
       "<div>\n",
       "<style scoped>\n",
       "    .dataframe tbody tr th:only-of-type {\n",
       "        vertical-align: middle;\n",
       "    }\n",
       "\n",
       "    .dataframe tbody tr th {\n",
       "        vertical-align: top;\n",
       "    }\n",
       "\n",
       "    .dataframe thead th {\n",
       "        text-align: right;\n",
       "    }\n",
       "</style>\n",
       "<table border=\"1\" class=\"dataframe\">\n",
       "  <thead>\n",
       "    <tr style=\"text-align: right;\">\n",
       "      <th></th>\n",
       "      <th>age</th>\n",
       "      <th>workclass</th>\n",
       "      <th>fnlwgt</th>\n",
       "      <th>education</th>\n",
       "      <th>education_num</th>\n",
       "      <th>marital_status</th>\n",
       "      <th>occupation</th>\n",
       "      <th>relationship</th>\n",
       "      <th>race</th>\n",
       "      <th>sex</th>\n",
       "      <th>capital_gain</th>\n",
       "      <th>capital_loss</th>\n",
       "      <th>hours_per_week</th>\n",
       "      <th>native_country</th>\n",
       "      <th>wage_class</th>\n",
       "    </tr>\n",
       "  </thead>\n",
       "  <tbody>\n",
       "    <tr>\n",
       "      <th>0</th>\n",
       "      <td>39</td>\n",
       "      <td>State-gov</td>\n",
       "      <td>77516</td>\n",
       "      <td>Bachelors</td>\n",
       "      <td>13</td>\n",
       "      <td>Never-married</td>\n",
       "      <td>Adm-clerical</td>\n",
       "      <td>Not-in-family</td>\n",
       "      <td>White</td>\n",
       "      <td>Male</td>\n",
       "      <td>2174</td>\n",
       "      <td>0</td>\n",
       "      <td>40</td>\n",
       "      <td>United-States</td>\n",
       "      <td>&lt;=50K</td>\n",
       "    </tr>\n",
       "    <tr>\n",
       "      <th>1</th>\n",
       "      <td>50</td>\n",
       "      <td>Self-emp-not-inc</td>\n",
       "      <td>83311</td>\n",
       "      <td>Bachelors</td>\n",
       "      <td>13</td>\n",
       "      <td>Married-civ-spouse</td>\n",
       "      <td>Exec-managerial</td>\n",
       "      <td>Husband</td>\n",
       "      <td>White</td>\n",
       "      <td>Male</td>\n",
       "      <td>0</td>\n",
       "      <td>0</td>\n",
       "      <td>13</td>\n",
       "      <td>United-States</td>\n",
       "      <td>&lt;=50K</td>\n",
       "    </tr>\n",
       "    <tr>\n",
       "      <th>2</th>\n",
       "      <td>38</td>\n",
       "      <td>Private</td>\n",
       "      <td>215646</td>\n",
       "      <td>HS-grad</td>\n",
       "      <td>9</td>\n",
       "      <td>Divorced</td>\n",
       "      <td>Handlers-cleaners</td>\n",
       "      <td>Not-in-family</td>\n",
       "      <td>White</td>\n",
       "      <td>Male</td>\n",
       "      <td>0</td>\n",
       "      <td>0</td>\n",
       "      <td>40</td>\n",
       "      <td>United-States</td>\n",
       "      <td>&lt;=50K</td>\n",
       "    </tr>\n",
       "    <tr>\n",
       "      <th>3</th>\n",
       "      <td>53</td>\n",
       "      <td>Private</td>\n",
       "      <td>234721</td>\n",
       "      <td>11th</td>\n",
       "      <td>7</td>\n",
       "      <td>Married-civ-spouse</td>\n",
       "      <td>Handlers-cleaners</td>\n",
       "      <td>Husband</td>\n",
       "      <td>Black</td>\n",
       "      <td>Male</td>\n",
       "      <td>0</td>\n",
       "      <td>0</td>\n",
       "      <td>40</td>\n",
       "      <td>United-States</td>\n",
       "      <td>&lt;=50K</td>\n",
       "    </tr>\n",
       "    <tr>\n",
       "      <th>4</th>\n",
       "      <td>28</td>\n",
       "      <td>Private</td>\n",
       "      <td>338409</td>\n",
       "      <td>Bachelors</td>\n",
       "      <td>13</td>\n",
       "      <td>Married-civ-spouse</td>\n",
       "      <td>Prof-specialty</td>\n",
       "      <td>Wife</td>\n",
       "      <td>Black</td>\n",
       "      <td>Female</td>\n",
       "      <td>0</td>\n",
       "      <td>0</td>\n",
       "      <td>40</td>\n",
       "      <td>Cuba</td>\n",
       "      <td>&lt;=50K</td>\n",
       "    </tr>\n",
       "  </tbody>\n",
       "</table>\n",
       "</div>"
      ],
      "text/plain": [
       "   age         workclass  fnlwgt  education  education_num  \\\n",
       "0   39         State-gov   77516  Bachelors             13   \n",
       "1   50  Self-emp-not-inc   83311  Bachelors             13   \n",
       "2   38           Private  215646    HS-grad              9   \n",
       "3   53           Private  234721       11th              7   \n",
       "4   28           Private  338409  Bachelors             13   \n",
       "\n",
       "       marital_status         occupation   relationship   race     sex  \\\n",
       "0       Never-married       Adm-clerical  Not-in-family  White    Male   \n",
       "1  Married-civ-spouse    Exec-managerial        Husband  White    Male   \n",
       "2            Divorced  Handlers-cleaners  Not-in-family  White    Male   \n",
       "3  Married-civ-spouse  Handlers-cleaners        Husband  Black    Male   \n",
       "4  Married-civ-spouse     Prof-specialty           Wife  Black  Female   \n",
       "\n",
       "   capital_gain  capital_loss  hours_per_week native_country wage_class  \n",
       "0          2174             0              40  United-States      <=50K  \n",
       "1             0             0              13  United-States      <=50K  \n",
       "2             0             0              40  United-States      <=50K  \n",
       "3             0             0              40  United-States      <=50K  \n",
       "4             0             0              40           Cuba      <=50K  "
      ]
     },
     "execution_count": 2,
     "metadata": {},
     "output_type": "execute_result"
    }
   ],
   "source": [
    "# Wczytaj dane treningowe i testowe\n",
    "import numpy as np\n",
    "import matplotlib.pyplot as plt\n",
    "import pandas as pd\n",
    "\n",
    "train_set = pd.read_csv('Dane/adult/adult.data', sep=\", \",header = None)\n",
    "test_set = pd.read_csv('Dane/adult/adult.test', sep=\", \",skiprows = 1, header = None) # Make sure to skip a row for the test set\n",
    "\n",
    "col_labels = ['age', 'workclass', 'fnlwgt', 'education', 'education_num', 'marital_status', 'occupation', \n",
    "              'relationship', 'race', 'sex', 'capital_gain', 'capital_loss', 'hours_per_week', 'native_country',\n",
    "             'wage_class']\n",
    "train_set.columns = col_labels\n",
    "test_set.columns = col_labels\n",
    "\n",
    "train = train_set.replace('?', np.nan).dropna()\n",
    "test = test_set.replace('?', np.nan).dropna()\n",
    "\n",
    "train_set.head()\n"
   ]
  },
  {
   "cell_type": "code",
   "execution_count": 3,
   "metadata": {},
   "outputs": [],
   "source": [
    "\n",
    "\n",
    "\n",
    "\n",
    "dataset = pd.concat([train,test])\n",
    "\n",
    "dataset['wage_class'] = dataset.wage_class.replace({'<=50K.': 0,'<=50K':0, '>50K.':1, '>50K':1})\n",
    "\n",
    "dataset.drop([\"fnlwgt\"],axis=1,inplace=True)\n",
    "\n",
    "dataset.drop([\"education\"],axis=1,inplace=True)\n",
    "\n",
    "x = dataset.groupby('native_country')[\"wage_class\"].mean()\n",
    "\n",
    "d = dict(pd.cut(x[x.index!=\" United-States\"],5,labels=range(5)))\n",
    "\n",
    "dataset['native_country'] = dataset['native_country'].replace(d)\n",
    "\n",
    "dataset = pd.get_dummies(dataset,drop_first=True)\n",
    "\n",
    "train = dataset.iloc[:train.shape[0]]\n",
    "test = dataset.iloc[train.shape[0]:]\n",
    "\n",
    "X_train = train.drop(\"wage_class\",axis=1)\n",
    "y_train = train.wage_class\n",
    "\n",
    "X_test = test.drop(\"wage_class\",axis=1)\n",
    "y_test = test.wage_class\n",
    "\n",
    "# from sklearn.preprocessing import StandardScaler\n",
    "# sc = StandardScaler()\n",
    "# X_train = sc.fit_transform(X_train)\n",
    "# X_test = sc.transform(X_test)\n",
    "\n",
    "# print(X_train.shape)\n",
    "# X_test.shape"
   ]
  },
  {
   "cell_type": "code",
   "execution_count": 1,
   "metadata": {},
   "outputs": [],
   "source": [
    "# X_train"
   ]
  },
  {
   "cell_type": "markdown",
   "metadata": {},
   "source": [
    "# SGD"
   ]
  },
  {
   "cell_type": "code",
   "execution_count": 5,
   "metadata": {},
   "outputs": [
    {
     "name": "stdout",
     "output_type": "stream",
     "text": [
      "WARNING:tensorflow:From C:\\ProgramData\\Anaconda3\\lib\\site-packages\\tensorflow_core\\python\\ops\\resource_variable_ops.py:1630: calling BaseResourceVariable.__init__ (from tensorflow.python.ops.resource_variable_ops) with constraint is deprecated and will be removed in a future version.\n",
      "Instructions for updating:\n",
      "If using Keras pass *_constraint arguments to layers.\n",
      "Model: \"sequential_1\"\n",
      "_________________________________________________________________\n",
      "Layer (type)                 Output Shape              Param #   \n",
      "=================================================================\n",
      "dense_1 (Dense)              (None, 100)               4200      \n",
      "_________________________________________________________________\n",
      "dense_2 (Dense)              (None, 50)                5050      \n",
      "_________________________________________________________________\n",
      "dense_3 (Dense)              (None, 10)                510       \n",
      "_________________________________________________________________\n",
      "dense_4 (Dense)              (None, 1)                 11        \n",
      "=================================================================\n",
      "Total params: 9,771\n",
      "Trainable params: 9,771\n",
      "Non-trainable params: 0\n",
      "_________________________________________________________________\n"
     ]
    }
   ],
   "source": [
    "from keras.models import Sequential\n",
    "from keras.layers import Dense\n",
    "\n",
    "from keras.callbacks import History\n",
    "\n",
    "history_sgd = History()\n",
    "model = Sequential()\n",
    "model.add(Dense(100,activation=\"sigmoid\",input_shape=(X_train.shape[1],)))\n",
    "model.add(Dense(50,activation=\"sigmoid\"))\n",
    "model.add(Dense(10,activation=\"sigmoid\"))\n",
    "model.add(Dense(1,activation=\"sigmoid\"))\n",
    "model.summary()"
   ]
  },
  {
   "cell_type": "code",
   "execution_count": 10,
   "metadata": {},
   "outputs": [],
   "source": [
    "sgd = keras.optimizers.SGD(lr=0.01, decay=1e-6, momentum=0.9, nesterov=True)\n",
    "model.compile(loss=\"binary_crossentropy\",optimizer=sgd, metrics=[\"accuracy\"])"
   ]
  },
  {
   "cell_type": "code",
   "execution_count": 11,
   "metadata": {},
   "outputs": [
    {
     "name": "stdout",
     "output_type": "stream",
     "text": [
      "Train on 30162 samples, validate on 15060 samples\n",
      "Epoch 1/100\n",
      "30162/30162 [==============================] - 3s 104us/step - loss: 0.4453 - accuracy: 0.7776 - val_loss: 0.4393 - val_accuracy: 0.7748\n",
      "Epoch 2/100\n",
      "30162/30162 [==============================] - 3s 104us/step - loss: 0.4522 - accuracy: 0.7757 - val_loss: 0.4364 - val_accuracy: 0.7756\n",
      "Epoch 3/100\n",
      "30162/30162 [==============================] - 3s 101us/step - loss: 0.4657 - accuracy: 0.7748 - val_loss: 0.4899 - val_accuracy: 0.7754\n",
      "Epoch 4/100\n",
      "30162/30162 [==============================] - 3s 105us/step - loss: 0.4795 - accuracy: 0.7736 - val_loss: 0.4695 - val_accuracy: 0.7757\n",
      "Epoch 5/100\n",
      "30162/30162 [==============================] - 3s 103us/step - loss: 0.4645 - accuracy: 0.7739 - val_loss: 0.4794 - val_accuracy: 0.7774\n",
      "Epoch 6/100\n",
      "30162/30162 [==============================] - 3s 110us/step - loss: 0.4808 - accuracy: 0.7726 - val_loss: 0.4943 - val_accuracy: 0.7749\n",
      "Epoch 7/100\n",
      "30162/30162 [==============================] - 3s 91us/step - loss: 0.4899 - accuracy: 0.7739 - val_loss: 0.5293 - val_accuracy: 0.7757\n",
      "Epoch 8/100\n",
      "30162/30162 [==============================] - 3s 97us/step - loss: 0.4790 - accuracy: 0.7736 - val_loss: 0.5522 - val_accuracy: 0.7756\n",
      "Epoch 9/100\n",
      "30162/30162 [==============================] - 3s 90us/step - loss: 0.4853 - accuracy: 0.7730 - val_loss: 0.4892 - val_accuracy: 0.7749\n",
      "Epoch 10/100\n",
      "30162/30162 [==============================] - 3s 90us/step - loss: 0.4816 - accuracy: 0.7743 - val_loss: 0.4963 - val_accuracy: 0.7749\n",
      "Epoch 11/100\n",
      "30162/30162 [==============================] - 3s 91us/step - loss: 0.4914 - accuracy: 0.7739 - val_loss: 0.5551 - val_accuracy: 0.7755\n",
      "Epoch 12/100\n",
      "30162/30162 [==============================] - 3s 107us/step - loss: 0.5046 - accuracy: 0.7740 - val_loss: 0.4877 - val_accuracy: 0.7749\n",
      "Epoch 13/100\n",
      "30162/30162 [==============================] - 3s 102us/step - loss: 0.4934 - accuracy: 0.7744 - val_loss: 0.5304 - val_accuracy: 0.7749\n",
      "Epoch 14/100\n",
      "30162/30162 [==============================] - 3s 97us/step - loss: 0.5035 - accuracy: 0.7724 - val_loss: 0.4748 - val_accuracy: 0.7754\n",
      "Epoch 15/100\n",
      "30162/30162 [==============================] - 3s 96us/step - loss: 0.5004 - accuracy: 0.7734 - val_loss: 0.4685 - val_accuracy: 0.7749\n",
      "Epoch 16/100\n",
      "30162/30162 [==============================] - 3s 96us/step - loss: 0.4940 - accuracy: 0.7729 - val_loss: 0.5245 - val_accuracy: 0.7755\n",
      "Epoch 17/100\n",
      "30162/30162 [==============================] - 3s 106us/step - loss: 0.5102 - accuracy: 0.7732 - val_loss: 0.4922 - val_accuracy: 0.7755\n",
      "Epoch 18/100\n",
      "30162/30162 [==============================] - 3s 99us/step - loss: 0.4950 - accuracy: 0.7745 - val_loss: 0.5247 - val_accuracy: 0.7748\n",
      "Epoch 19/100\n",
      "30162/30162 [==============================] - 3s 100us/step - loss: 0.5056 - accuracy: 0.7727 - val_loss: 0.4952 - val_accuracy: 0.7755\n",
      "Epoch 20/100\n",
      "30162/30162 [==============================] - 3s 99us/step - loss: 0.5131 - accuracy: 0.7746 - val_loss: 0.4879 - val_accuracy: 0.7755\n",
      "Epoch 21/100\n",
      "30162/30162 [==============================] - 3s 105us/step - loss: 0.5065 - accuracy: 0.7739 - val_loss: 0.4902 - val_accuracy: 0.7755\n",
      "Epoch 22/100\n",
      "30162/30162 [==============================] - 3s 98us/step - loss: 0.5058 - accuracy: 0.7731 - val_loss: 0.4917 - val_accuracy: 0.7755\n",
      "Epoch 23/100\n",
      "30162/30162 [==============================] - 3s 108us/step - loss: 0.4982 - accuracy: 0.7733 - val_loss: 0.5087 - val_accuracy: 0.7755\n",
      "Epoch 24/100\n",
      "30162/30162 [==============================] - 3s 99us/step - loss: 0.5025 - accuracy: 0.7739 - val_loss: 0.5187 - val_accuracy: 0.7756\n",
      "Epoch 25/100\n",
      "30162/30162 [==============================] - 3s 100us/step - loss: 0.5033 - accuracy: 0.7735 - val_loss: 0.5076 - val_accuracy: 0.7748\n",
      "Epoch 26/100\n",
      "30162/30162 [==============================] - 3s 98us/step - loss: 0.5137 - accuracy: 0.7736 - val_loss: 0.5182 - val_accuracy: 0.7748\n",
      "Epoch 27/100\n",
      "30162/30162 [==============================] - 3s 108us/step - loss: 0.5205 - accuracy: 0.7737 - val_loss: 0.5132 - val_accuracy: 0.7748\n",
      "Epoch 28/100\n",
      "30162/30162 [==============================] - 3s 99us/step - loss: 0.5067 - accuracy: 0.7737 - val_loss: 0.5108 - val_accuracy: 0.7748\n",
      "Epoch 29/100\n",
      "30162/30162 [==============================] - 3s 97us/step - loss: 0.5081 - accuracy: 0.7739 - val_loss: 0.5100 - val_accuracy: 0.7756\n",
      "Epoch 30/100\n",
      "30162/30162 [==============================] - 3s 107us/step - loss: 0.5086 - accuracy: 0.7737 - val_loss: 0.4491 - val_accuracy: 0.7756\n",
      "Epoch 31/100\n",
      "30162/30162 [==============================] - 3s 94us/step - loss: 0.4983 - accuracy: 0.7738 - val_loss: 0.5036 - val_accuracy: 0.7748\n",
      "Epoch 32/100\n",
      "30162/30162 [==============================] - 3s 99us/step - loss: 0.5054 - accuracy: 0.7738 - val_loss: 0.4856 - val_accuracy: 0.7756\n",
      "Epoch 33/100\n",
      "30162/30162 [==============================] - 3s 99us/step - loss: 0.4953 - accuracy: 0.7730 - val_loss: 0.5154 - val_accuracy: 0.7756\n",
      "Epoch 34/100\n",
      "30162/30162 [==============================] - 3s 101us/step - loss: 0.5223 - accuracy: 0.7746 - val_loss: 0.5210 - val_accuracy: 0.7757\n",
      "Epoch 35/100\n",
      "30162/30162 [==============================] - 3s 95us/step - loss: 0.5211 - accuracy: 0.7725 - val_loss: 0.5157 - val_accuracy: 0.7756\n",
      "Epoch 36/100\n",
      "30162/30162 [==============================] - 3s 102us/step - loss: 0.5202 - accuracy: 0.7746 - val_loss: 0.5156 - val_accuracy: 0.7755\n",
      "Epoch 37/100\n",
      "30162/30162 [==============================] - 3s 101us/step - loss: 0.5197 - accuracy: 0.7737 - val_loss: 0.5145 - val_accuracy: 0.7756\n",
      "Epoch 38/100\n",
      "30162/30162 [==============================] - 3s 95us/step - loss: 0.5193 - accuracy: 0.7741 - val_loss: 0.5144 - val_accuracy: 0.7755\n",
      "Epoch 39/100\n",
      "30162/30162 [==============================] - 3s 109us/step - loss: 0.5187 - accuracy: 0.7732 - val_loss: 0.5139 - val_accuracy: 0.7755\n",
      "Epoch 40/100\n",
      "30162/30162 [==============================] - 3s 96us/step - loss: 0.5179 - accuracy: 0.7735 - val_loss: 0.5133 - val_accuracy: 0.7755\n",
      "Epoch 41/100\n",
      "30162/30162 [==============================] - 3s 106us/step - loss: 0.5176 - accuracy: 0.7737 - val_loss: 0.5132 - val_accuracy: 0.7749\n",
      "Epoch 42/100\n",
      "30162/30162 [==============================] - 3s 99us/step - loss: 0.5071 - accuracy: 0.7738 - val_loss: 0.4968 - val_accuracy: 0.7748\n",
      "Epoch 43/100\n",
      "30162/30162 [==============================] - 3s 107us/step - loss: 0.4945 - accuracy: 0.7740 - val_loss: 0.4729 - val_accuracy: 0.7754\n",
      "Epoch 44/100\n",
      "30162/30162 [==============================] - 3s 98us/step - loss: 0.5130 - accuracy: 0.7729 - val_loss: 0.5195 - val_accuracy: 0.7750\n",
      "Epoch 45/100\n",
      "30162/30162 [==============================] - 3s 101us/step - loss: 0.5146 - accuracy: 0.7738 - val_loss: 0.5186 - val_accuracy: 0.7756\n",
      "Epoch 46/100\n",
      "30162/30162 [==============================] - 3s 107us/step - loss: 0.5177 - accuracy: 0.7730 - val_loss: 0.5161 - val_accuracy: 0.7748\n",
      "Epoch 47/100\n",
      "30162/30162 [==============================] - 3s 103us/step - loss: 0.5020 - accuracy: 0.7747 - val_loss: 0.5162 - val_accuracy: 0.7754\n",
      "Epoch 48/100\n",
      "30162/30162 [==============================] - 3s 99us/step - loss: 0.5079 - accuracy: 0.7738 - val_loss: 0.5205 - val_accuracy: 0.7754\n",
      "Epoch 49/100\n",
      "30162/30162 [==============================] - 3s 107us/step - loss: 0.4991 - accuracy: 0.7740 - val_loss: 0.4187 - val_accuracy: 0.7754\n",
      "Epoch 50/100\n",
      "30162/30162 [==============================] - 3s 97us/step - loss: 0.5046 - accuracy: 0.7742 - val_loss: 0.5130 - val_accuracy: 0.7749\n",
      "Epoch 51/100\n",
      "30162/30162 [==============================] - 3s 99us/step - loss: 0.4864 - accuracy: 0.7730 - val_loss: 0.5044 - val_accuracy: 0.7754\n",
      "Epoch 52/100\n",
      "30162/30162 [==============================] - 3s 96us/step - loss: 0.5072 - accuracy: 0.7742 - val_loss: 0.4980 - val_accuracy: 0.7754\n",
      "Epoch 53/100\n",
      "30162/30162 [==============================] - 3s 104us/step - loss: 0.4952 - accuracy: 0.7744 - val_loss: 0.4836 - val_accuracy: 0.7754\n",
      "Epoch 54/100\n",
      "30162/30162 [==============================] - 3s 108us/step - loss: 0.5062 - accuracy: 0.7740 - val_loss: 0.4910 - val_accuracy: 0.7755\n",
      "Epoch 55/100\n",
      "30162/30162 [==============================] - 3s 99us/step - loss: 0.5180 - accuracy: 0.7724 - val_loss: 0.5135 - val_accuracy: 0.7756\n",
      "Epoch 56/100\n",
      "30162/30162 [==============================] - 3s 105us/step - loss: 0.5187 - accuracy: 0.7740 - val_loss: 0.5129 - val_accuracy: 0.7754\n",
      "Epoch 57/100\n",
      "30162/30162 [==============================] - 3s 98us/step - loss: 0.4992 - accuracy: 0.7742 - val_loss: 0.4311 - val_accuracy: 0.7754\n",
      "Epoch 58/100\n",
      "30162/30162 [==============================] - 3s 102us/step - loss: 0.5219 - accuracy: 0.7743 - val_loss: 0.5308 - val_accuracy: 0.7754\n",
      "Epoch 59/100\n",
      "30162/30162 [==============================] - 3s 95us/step - loss: 0.5223 - accuracy: 0.7745 - val_loss: 0.5181 - val_accuracy: 0.7754\n",
      "Epoch 60/100\n",
      "30162/30162 [==============================] - 3s 95us/step - loss: 0.5150 - accuracy: 0.7736 - val_loss: 0.5178 - val_accuracy: 0.7754\n",
      "Epoch 61/100\n",
      "30162/30162 [==============================] - 3s 91us/step - loss: 0.5214 - accuracy: 0.7733 - val_loss: 0.5171 - val_accuracy: 0.7754\n",
      "Epoch 62/100\n",
      "30162/30162 [==============================] - 3s 91us/step - loss: 0.5048 - accuracy: 0.7727 - val_loss: 0.5268 - val_accuracy: 0.7748\n",
      "Epoch 63/100\n",
      "30162/30162 [==============================] - 3s 98us/step - loss: 0.5218 - accuracy: 0.7740 - val_loss: 0.5198 - val_accuracy: 0.7748\n",
      "Epoch 64/100\n",
      "30162/30162 [==============================] - 3s 98us/step - loss: 0.5090 - accuracy: 0.7736 - val_loss: 0.5171 - val_accuracy: 0.7756\n",
      "Epoch 65/100\n",
      "30162/30162 [==============================] - 3s 104us/step - loss: 0.4684 - accuracy: 0.7745 - val_loss: 0.4492 - val_accuracy: 0.7756\n",
      "Epoch 66/100\n",
      "30162/30162 [==============================] - 3s 95us/step - loss: 0.4723 - accuracy: 0.7737 - val_loss: 0.5113 - val_accuracy: 0.7748\n",
      "Epoch 67/100\n",
      "30162/30162 [==============================] - 3s 92us/step - loss: 0.4938 - accuracy: 0.7734 - val_loss: 0.5236 - val_accuracy: 0.7748\n",
      "Epoch 68/100\n",
      "30162/30162 [==============================] - 3s 91us/step - loss: 0.4670 - accuracy: 0.7735 - val_loss: 0.4108 - val_accuracy: 0.7754\n",
      "Epoch 69/100\n",
      "30162/30162 [==============================] - 3s 92us/step - loss: 0.5184 - accuracy: 0.7730 - val_loss: 0.5120 - val_accuracy: 0.7748\n",
      "Epoch 70/100\n",
      "30162/30162 [==============================] - 3s 91us/step - loss: 0.5194 - accuracy: 0.7732 - val_loss: 0.5157 - val_accuracy: 0.7754\n",
      "Epoch 71/100\n",
      "30162/30162 [==============================] - 3s 91us/step - loss: 0.5122 - accuracy: 0.7735 - val_loss: 0.5075 - val_accuracy: 0.7749\n",
      "Epoch 72/100\n",
      "30162/30162 [==============================] - 3s 92us/step - loss: 0.5031 - accuracy: 0.7737 - val_loss: 0.4968 - val_accuracy: 0.7754\n",
      "Epoch 73/100\n",
      "30162/30162 [==============================] - 3s 92us/step - loss: 0.4961 - accuracy: 0.7738 - val_loss: 0.5172 - val_accuracy: 0.7748\n",
      "Epoch 74/100\n",
      "30162/30162 [==============================] - 3s 98us/step - loss: 0.5131 - accuracy: 0.7726 - val_loss: 0.5218 - val_accuracy: 0.7749\n",
      "Epoch 75/100\n",
      "30162/30162 [==============================] - 3s 105us/step - loss: 0.4821 - accuracy: 0.7731 - val_loss: 0.4772 - val_accuracy: 0.7754\n",
      "Epoch 76/100\n",
      "30162/30162 [==============================] - 3s 96us/step - loss: 0.4819 - accuracy: 0.7739 - val_loss: 0.4923 - val_accuracy: 0.7748\n",
      "Epoch 77/100\n",
      "30162/30162 [==============================] - 3s 96us/step - loss: 0.5170 - accuracy: 0.7736 - val_loss: 0.5182 - val_accuracy: 0.7754\n",
      "Epoch 78/100\n",
      "30162/30162 [==============================] - 3s 108us/step - loss: 0.5215 - accuracy: 0.7736 - val_loss: 0.5176 - val_accuracy: 0.7750\n",
      "Epoch 79/100\n",
      "30162/30162 [==============================] - 3s 105us/step - loss: 0.5216 - accuracy: 0.7729 - val_loss: 0.5180 - val_accuracy: 0.7756\n",
      "Epoch 80/100\n",
      "30162/30162 [==============================] - 3s 103us/step - loss: 0.5213 - accuracy: 0.7736 - val_loss: 0.5177 - val_accuracy: 0.7756\n",
      "Epoch 81/100\n",
      "30162/30162 [==============================] - 3s 100us/step - loss: 0.5207 - accuracy: 0.7742 - val_loss: 0.5269 - val_accuracy: 0.7750\n",
      "Epoch 82/100\n",
      "30162/30162 [==============================] - 3s 97us/step - loss: 0.5068 - accuracy: 0.7742 - val_loss: 0.4397 - val_accuracy: 0.7754\n",
      "Epoch 83/100\n",
      "30162/30162 [==============================] - 3s 95us/step - loss: 0.5071 - accuracy: 0.7745 - val_loss: 0.5176 - val_accuracy: 0.7755\n",
      "Epoch 84/100\n",
      "30162/30162 [==============================] - 3s 95us/step - loss: 0.5216 - accuracy: 0.7746 - val_loss: 0.5192 - val_accuracy: 0.7755\n",
      "Epoch 85/100\n",
      "30162/30162 [==============================] - 3s 101us/step - loss: 0.5210 - accuracy: 0.7741 - val_loss: 0.5176 - val_accuracy: 0.7755\n",
      "Epoch 86/100\n",
      "30162/30162 [==============================] - 3s 103us/step - loss: 0.5211 - accuracy: 0.7728 - val_loss: 0.5174 - val_accuracy: 0.7756\n",
      "Epoch 87/100\n",
      "30162/30162 [==============================] - 3s 99us/step - loss: 0.5209 - accuracy: 0.7742 - val_loss: 0.5191 - val_accuracy: 0.7749\n",
      "Epoch 88/100\n",
      "30162/30162 [==============================] - 3s 98us/step - loss: 0.5209 - accuracy: 0.7727 - val_loss: 0.5179 - val_accuracy: 0.7755\n",
      "Epoch 89/100\n",
      "30162/30162 [==============================] - 3s 94us/step - loss: 0.5208 - accuracy: 0.7737 - val_loss: 0.5175 - val_accuracy: 0.7755\n",
      "Epoch 90/100\n",
      "30162/30162 [==============================] - 3s 98us/step - loss: 0.5208 - accuracy: 0.7738 - val_loss: 0.5174 - val_accuracy: 0.7755\n",
      "Epoch 91/100\n",
      "30162/30162 [==============================] - 3s 104us/step - loss: 0.5205 - accuracy: 0.7732 - val_loss: 0.5180 - val_accuracy: 0.7755\n",
      "Epoch 92/100\n",
      "30162/30162 [==============================] - 3s 101us/step - loss: 0.5206 - accuracy: 0.7737 - val_loss: 0.5176 - val_accuracy: 0.7755\n",
      "Epoch 93/100\n",
      "30162/30162 [==============================] - 3s 95us/step - loss: 0.5203 - accuracy: 0.7747 - val_loss: 0.5216 - val_accuracy: 0.7755\n",
      "Epoch 94/100\n",
      "30162/30162 [==============================] - 3s 103us/step - loss: 0.5204 - accuracy: 0.7731 - val_loss: 0.5193 - val_accuracy: 0.7755\n",
      "Epoch 95/100\n",
      "30162/30162 [==============================] - 3s 95us/step - loss: 0.5204 - accuracy: 0.7740 - val_loss: 0.5191 - val_accuracy: 0.7755\n",
      "Epoch 96/100\n",
      "30162/30162 [==============================] - 3s 104us/step - loss: 0.5206 - accuracy: 0.7745 - val_loss: 0.5174 - val_accuracy: 0.7756\n",
      "Epoch 97/100\n",
      "30162/30162 [==============================] - 3s 97us/step - loss: 0.5203 - accuracy: 0.7743 - val_loss: 0.5175 - val_accuracy: 0.7755\n",
      "Epoch 98/100\n",
      "30162/30162 [==============================] - 3s 103us/step - loss: 0.5203 - accuracy: 0.7743 - val_loss: 0.5182 - val_accuracy: 0.7756\n",
      "Epoch 99/100\n",
      "30162/30162 [==============================] - 3s 92us/step - loss: 0.5206 - accuracy: 0.7735 - val_loss: 0.5179 - val_accuracy: 0.7755\n",
      "Epoch 100/100\n",
      "30162/30162 [==============================] - 3s 93us/step - loss: 0.5206 - accuracy: 0.7731 - val_loss: 0.5174 - val_accuracy: 0.7755\n"
     ]
    },
    {
     "data": {
      "text/plain": [
       "<keras.callbacks.callbacks.History at 0x28e2c310f98>"
      ]
     },
     "execution_count": 11,
     "metadata": {},
     "output_type": "execute_result"
    }
   ],
   "source": [
    "model.fit(X_train, y_train, validation_data= (X_test, y_test), batch_size=32,epochs=100, callbacks=[history_sgd])"
   ]
  },
  {
   "cell_type": "code",
   "execution_count": 14,
   "metadata": {},
   "outputs": [
    {
     "data": {
      "text/plain": [
       "dict_keys(['val_loss', 'val_accuracy', 'loss', 'accuracy'])"
      ]
     },
     "execution_count": 14,
     "metadata": {},
     "output_type": "execute_result"
    }
   ],
   "source": [
    "history_sgd.history.keys()"
   ]
  },
  {
   "cell_type": "code",
   "execution_count": 15,
   "metadata": {},
   "outputs": [
    {
     "data": {
      "image/png": "[encoded data removed]",
      "text/plain": [
       "<Figure size 432x288 with 1 Axes>"
      ]
     },
     "metadata": {
      "needs_background": "light"
     },
     "output_type": "display_data"
    }
   ],
   "source": [
    "import matplotlib.pyplot as pl\n",
    "plt.plot(history_sgd.history['accuracy'], label = \"tarina\")\n",
    "plt.plot(history_sgd.history['val_accuracy'], label = \"test\")\n",
    "plt.legend()\n",
    "plt.show()"
   ]
  },
  {
   "cell_type": "code",
   "execution_count": 16,
   "metadata": {},
   "outputs": [
    {
     "data": {
      "image/png": "[encoded data removed]",
      "text/plain": [
       "<Figure size 432x288 with 1 Axes>"
      ]
     },
     "metadata": {
      "needs_background": "light"
     },
     "output_type": "display_data"
    }
   ],
   "source": [
    "import matplotlib.pyplot as pl\n",
    "plt.plot(history_sgd.history['loss'], label = \"tarina\")\n",
    "plt.plot(history_sgd.history['val_loss'], label = \"test\")\n",
    "plt.legend()\n",
    "plt.show()"
   ]
  },
  {
   "cell_type": "markdown",
   "metadata": {},
   "source": [
    "# RMSprop"
   ]
  },
  {
   "cell_type": "code",
   "execution_count": null,
   "metadata": {},
   "outputs": [],
   "source": []
  },
  {
   "cell_type": "code",
   "execution_count": 19,
   "metadata": {},
   "outputs": [
    {
     "data": {
      "image/png": "[encoded data removed]",
      "text/plain": [
       "<Figure size 432x288 with 1 Axes>"
      ]
     },
     "metadata": {
      "needs_background": "light"
     },
     "output_type": "display_data"
    }
   ],
   "source": []
  },
  {
   "cell_type": "markdown",
   "metadata": {},
   "source": [
    "# Adagrad"
   ]
  },
  {
   "cell_type": "code",
   "execution_count": null,
   "metadata": {},
   "outputs": [],
   "source": []
  },
  {
   "cell_type": "code",
   "execution_count": null,
   "metadata": {},
   "outputs": [],
   "source": []
  },
  {
   "cell_type": "markdown",
   "metadata": {},
   "source": [
    "# Adadelta"
   ]
  },
  {
   "cell_type": "code",
   "execution_count": null,
   "metadata": {},
   "outputs": [],
   "source": []
  },
  {
   "cell_type": "code",
   "execution_count": null,
   "metadata": {},
   "outputs": [],
   "source": []
  },
  {
   "cell_type": "markdown",
   "metadata": {},
   "source": [
    "# Adam"
   ]
  },
  {
   "cell_type": "code",
   "execution_count": null,
   "metadata": {},
   "outputs": [],
   "source": []
  },
  {
   "cell_type": "code",
   "execution_count": null,
   "metadata": {},
   "outputs": [],
   "source": []
  },
  {
   "cell_type": "markdown",
   "metadata": {},
   "source": [
    "# learning rate"
   ]
  },
  {
   "cell_type": "code",
   "execution_count": null,
   "metadata": {},
   "outputs": [],
   "source": []
  },
  {
   "cell_type": "code",
   "execution_count": null,
   "metadata": {},
   "outputs": [],
   "source": []
  }
 ],
 "metadata": {
  "kernelspec": {
   "display_name": "Python 3",
   "language": "python",
   "name": "python3"
  },
  "language_info": {
   "codemirror_mode": {
    "name": "ipython",
    "version": 3
   },
   "file_extension": ".py",
   "mimetype": "text/x-python",
   "name": "python",
   "nbconvert_exporter": "python",
   "pygments_lexer": "ipython3",
   "version": "3.7.1"
  }
 },
 "nbformat": 4,
 "nbformat_minor": 2
}
