{
 "cells": [
  {
   "cell_type": "code",
   "execution_count": 31,
   "metadata": {},
   "outputs": [
    {
     "name": "stdout",
     "output_type": "stream",
     "text": [
      "1.15.0\n",
      "2.3.1\n"
     ]
    }
   ],
   "source": [
    "import tensorflow as tf\n",
    "print(tf.__version__)\n",
    "import keras\n",
    "print(keras.__version__)\n",
    "# from tensorflow import keras as keras "
   ]
  },
  {
   "cell_type": "code",
   "execution_count": 32,
   "metadata": {},
   "outputs": [
    {
     "name": "stderr",
     "output_type": "stream",
     "text": [
      "C:\\ProgramData\\Anaconda3\\lib\\site-packages\\ipykernel_launcher.py:6: ParserWarning: Falling back to the 'python' engine because the 'c' engine does not support regex separators (separators > 1 char and different from '\\s+' are interpreted as regex); you can avoid this warning by specifying engine='python'.\n",
      "  \n",
      "C:\\ProgramData\\Anaconda3\\lib\\site-packages\\ipykernel_launcher.py:7: ParserWarning: Falling back to the 'python' engine because the 'c' engine does not support regex separators (separators > 1 char and different from '\\s+' are interpreted as regex); you can avoid this warning by specifying engine='python'.\n",
      "  import sys\n"
     ]
    },
    {
     "data": {
      "text/html": [
       "<div>\n",
       "<style scoped>\n",
       "    .dataframe tbody tr th:only-of-type {\n",
       "        vertical-align: middle;\n",
       "    }\n",
       "\n",
       "    .dataframe tbody tr th {\n",
       "        vertical-align: top;\n",
       "    }\n",
       "\n",
       "    .dataframe thead th {\n",
       "        text-align: right;\n",
       "    }\n",
       "</style>\n",
       "<table border=\"1\" class=\"dataframe\">\n",
       "  <thead>\n",
       "    <tr style=\"text-align: right;\">\n",
       "      <th></th>\n",
       "      <th>age</th>\n",
       "      <th>workclass</th>\n",
       "      <th>fnlwgt</th>\n",
       "      <th>education</th>\n",
       "      <th>education_num</th>\n",
       "      <th>marital_status</th>\n",
       "      <th>occupation</th>\n",
       "      <th>relationship</th>\n",
       "      <th>race</th>\n",
       "      <th>sex</th>\n",
       "      <th>capital_gain</th>\n",
       "      <th>capital_loss</th>\n",
       "      <th>hours_per_week</th>\n",
       "      <th>native_country</th>\n",
       "      <th>wage_class</th>\n",
       "    </tr>\n",
       "  </thead>\n",
       "  <tbody>\n",
       "    <tr>\n",
       "      <th>0</th>\n",
       "      <td>39</td>\n",
       "      <td>State-gov</td>\n",
       "      <td>77516</td>\n",
       "      <td>Bachelors</td>\n",
       "      <td>13</td>\n",
       "      <td>Never-married</td>\n",
       "      <td>Adm-clerical</td>\n",
       "      <td>Not-in-family</td>\n",
       "      <td>White</td>\n",
       "      <td>Male</td>\n",
       "      <td>2174</td>\n",
       "      <td>0</td>\n",
       "      <td>40</td>\n",
       "      <td>United-States</td>\n",
       "      <td>&lt;=50K</td>\n",
       "    </tr>\n",
       "    <tr>\n",
       "      <th>1</th>\n",
       "      <td>50</td>\n",
       "      <td>Self-emp-not-inc</td>\n",
       "      <td>83311</td>\n",
       "      <td>Bachelors</td>\n",
       "      <td>13</td>\n",
       "      <td>Married-civ-spouse</td>\n",
       "      <td>Exec-managerial</td>\n",
       "      <td>Husband</td>\n",
       "      <td>White</td>\n",
       "      <td>Male</td>\n",
       "      <td>0</td>\n",
       "      <td>0</td>\n",
       "      <td>13</td>\n",
       "      <td>United-States</td>\n",
       "      <td>&lt;=50K</td>\n",
       "    </tr>\n",
       "    <tr>\n",
       "      <th>2</th>\n",
       "      <td>38</td>\n",
       "      <td>Private</td>\n",
       "      <td>215646</td>\n",
       "      <td>HS-grad</td>\n",
       "      <td>9</td>\n",
       "      <td>Divorced</td>\n",
       "      <td>Handlers-cleaners</td>\n",
       "      <td>Not-in-family</td>\n",
       "      <td>White</td>\n",
       "      <td>Male</td>\n",
       "      <td>0</td>\n",
       "      <td>0</td>\n",
       "      <td>40</td>\n",
       "      <td>United-States</td>\n",
       "      <td>&lt;=50K</td>\n",
       "    </tr>\n",
       "    <tr>\n",
       "      <th>3</th>\n",
       "      <td>53</td>\n",
       "      <td>Private</td>\n",
       "      <td>234721</td>\n",
       "      <td>11th</td>\n",
       "      <td>7</td>\n",
       "      <td>Married-civ-spouse</td>\n",
       "      <td>Handlers-cleaners</td>\n",
       "      <td>Husband</td>\n",
       "      <td>Black</td>\n",
       "      <td>Male</td>\n",
       "      <td>0</td>\n",
       "      <td>0</td>\n",
       "      <td>40</td>\n",
       "      <td>United-States</td>\n",
       "      <td>&lt;=50K</td>\n",
       "    </tr>\n",
       "    <tr>\n",
       "      <th>4</th>\n",
       "      <td>28</td>\n",
       "      <td>Private</td>\n",
       "      <td>338409</td>\n",
       "      <td>Bachelors</td>\n",
       "      <td>13</td>\n",
       "      <td>Married-civ-spouse</td>\n",
       "      <td>Prof-specialty</td>\n",
       "      <td>Wife</td>\n",
       "      <td>Black</td>\n",
       "      <td>Female</td>\n",
       "      <td>0</td>\n",
       "      <td>0</td>\n",
       "      <td>40</td>\n",
       "      <td>Cuba</td>\n",
       "      <td>&lt;=50K</td>\n",
       "    </tr>\n",
       "  </tbody>\n",
       "</table>\n",
       "</div>"
      ],
      "text/plain": [
       "   age         workclass  fnlwgt  education  education_num  \\\n",
       "0   39         State-gov   77516  Bachelors             13   \n",
       "1   50  Self-emp-not-inc   83311  Bachelors             13   \n",
       "2   38           Private  215646    HS-grad              9   \n",
       "3   53           Private  234721       11th              7   \n",
       "4   28           Private  338409  Bachelors             13   \n",
       "\n",
       "       marital_status         occupation   relationship   race     sex  \\\n",
       "0       Never-married       Adm-clerical  Not-in-family  White    Male   \n",
       "1  Married-civ-spouse    Exec-managerial        Husband  White    Male   \n",
       "2            Divorced  Handlers-cleaners  Not-in-family  White    Male   \n",
       "3  Married-civ-spouse  Handlers-cleaners        Husband  Black    Male   \n",
       "4  Married-civ-spouse     Prof-specialty           Wife  Black  Female   \n",
       "\n",
       "   capital_gain  capital_loss  hours_per_week native_country wage_class  \n",
       "0          2174             0              40  United-States      <=50K  \n",
       "1             0             0              13  United-States      <=50K  \n",
       "2             0             0              40  United-States      <=50K  \n",
       "3             0             0              40  United-States      <=50K  \n",
       "4             0             0              40           Cuba      <=50K  "
      ]
     },
     "execution_count": 32,
     "metadata": {},
     "output_type": "execute_result"
    }
   ],
   "source": [
    "# Wczytaj dane treningowe i testowe\n",
    "import numpy as np\n",
    "import matplotlib.pyplot as plt\n",
    "import pandas as pd\n",
    "\n",
    "train_set = pd.read_csv('Dane/adult/adult.data', sep=\", \",header = None)\n",
    "test_set = pd.read_csv('Dane/adult/adult.test', sep=\", \",skiprows = 1, header = None) # Make sure to skip a row for the test set\n",
    "\n",
    "col_labels = ['age', 'workclass', 'fnlwgt', 'education', 'education_num', 'marital_status', 'occupation', \n",
    "              'relationship', 'race', 'sex', 'capital_gain', 'capital_loss', 'hours_per_week', 'native_country',\n",
    "             'wage_class']\n",
    "train_set.columns = col_labels\n",
    "test_set.columns = col_labels\n",
    "\n",
    "train = train_set.replace('?', np.nan).dropna()\n",
    "test = test_set.replace('?', np.nan).dropna()\n",
    "\n",
    "train_set.head()\n"
   ]
  },
  {
   "cell_type": "code",
   "execution_count": 33,
   "metadata": {},
   "outputs": [],
   "source": [
    "dataset = pd.concat([train,test])\n",
    "\n",
    "dataset['wage_class'] = dataset.wage_class.replace({'<=50K.': 0,'<=50K':0, '>50K.':1, '>50K':1})\n",
    "\n",
    "dataset.drop([\"fnlwgt\"],axis=1,inplace=True)\n",
    "\n",
    "dataset.drop([\"education\"],axis=1,inplace=True)\n",
    "\n",
    "x = dataset.groupby('native_country')[\"wage_class\"].mean()\n",
    "\n",
    "d = dict(pd.cut(x[x.index!=\" United-States\"],5,labels=range(5)))\n",
    "\n",
    "dataset['native_country'] = dataset['native_country'].replace(d)\n",
    "\n",
    "dataset = pd.get_dummies(dataset,drop_first=True)\n",
    "\n",
    "train = dataset.iloc[:train.shape[0]]\n",
    "test = dataset.iloc[train.shape[0]:]\n",
    "\n",
    "X_train = train.drop(\"wage_class\",axis=1)\n",
    "y_train = train.wage_class\n",
    "\n",
    "X_test = test.drop(\"wage_class\",axis=1)\n",
    "y_test = test.wage_class\n",
    "\n",
    "# from sklearn.preprocessing import StandardScaler\n",
    "# sc = StandardScaler()\n",
    "# X_train = sc.fit_transform(X_train)\n",
    "# X_test = sc.transform(X_test)\n",
    "\n",
    "# print(X_train.shape)\n",
    "# X_test.shape"
   ]
  },
  {
   "cell_type": "code",
   "execution_count": 34,
   "metadata": {},
   "outputs": [],
   "source": [
    "# X_train"
   ]
  },
  {
   "cell_type": "markdown",
   "metadata": {},
   "source": [
    "# Keras"
   ]
  },
  {
   "cell_type": "code",
   "execution_count": 35,
   "metadata": {},
   "outputs": [
    {
     "name": "stdout",
     "output_type": "stream",
     "text": [
      "Model: \"sequential_7\"\n",
      "_________________________________________________________________\n",
      "Layer (type)                 Output Shape              Param #   \n",
      "=================================================================\n",
      "dense_25 (Dense)             (None, 100)               4200      \n",
      "_________________________________________________________________\n",
      "dense_26 (Dense)             (None, 50)                5050      \n",
      "_________________________________________________________________\n",
      "dense_27 (Dense)             (None, 10)                510       \n",
      "_________________________________________________________________\n",
      "dense_28 (Dense)             (None, 1)                 11        \n",
      "=================================================================\n",
      "Total params: 9,771\n",
      "Trainable params: 9,771\n",
      "Non-trainable params: 0\n",
      "_________________________________________________________________\n"
     ]
    }
   ],
   "source": [
    "from keras.models import Sequential\n",
    "from keras.layers import Dense\n",
    "\n",
    "from keras.callbacks import History\n",
    "\n",
    "history = History()\n",
    "model = Sequential()\n",
    "model.add(Dense(100,activation=\"sigmoid\",input_shape=(X_train.shape[1],)))\n",
    "model.add(Dense(50,activation=\"sigmoid\"))\n",
    "model.add(Dense(10,activation=\"sigmoid\"))\n",
    "model.add(Dense(1,activation=\"sigmoid\"))\n",
    "model.summary()"
   ]
  },
  {
   "cell_type": "code",
   "execution_count": 36,
   "metadata": {},
   "outputs": [],
   "source": [
    "Adam = keras.optimizers.Adam(learning_rate=0.0001, beta_1=0.9, beta_2=0.999, amsgrad=False)\n",
    "model.compile(loss=\"binary_crossentropy\",optimizer=\"Adam\", metrics=[\"accuracy\"])"
   ]
  },
  {
   "cell_type": "code",
   "execution_count": 37,
   "metadata": {},
   "outputs": [
    {
     "name": "stdout",
     "output_type": "stream",
     "text": [
      "Train on 30162 samples, validate on 15060 samples\n",
      "Epoch 1/100\n",
      "30162/30162 [==============================] - 4s 132us/step - loss: 0.4336 - accuracy: 0.7929 - val_loss: 0.3754 - val_accuracy: 0.8120\n",
      "Epoch 2/100\n",
      "30162/30162 [==============================] - 4s 118us/step - loss: 0.3780 - accuracy: 0.8103 - val_loss: 0.3749 - val_accuracy: 0.8059\n",
      "Epoch 3/100\n",
      "30162/30162 [==============================] - 3s 94us/step - loss: 0.3730 - accuracy: 0.8123 - val_loss: 0.3715 - val_accuracy: 0.8098\n",
      "Epoch 4/100\n",
      "30162/30162 [==============================] - 3s 114us/step - loss: 0.3717 - accuracy: 0.8131 - val_loss: 0.3670 - val_accuracy: 0.8148\n",
      "Epoch 5/100\n",
      "30162/30162 [==============================] - 3s 105us/step - loss: 0.3718 - accuracy: 0.8136 - val_loss: 0.3799 - val_accuracy: 0.7897\n",
      "Epoch 6/100\n",
      "30162/30162 [==============================] - 3s 106us/step - loss: 0.3712 - accuracy: 0.8138 - val_loss: 0.3836 - val_accuracy: 0.8088\n",
      "Epoch 7/100\n",
      "30162/30162 [==============================] - 4s 117us/step - loss: 0.3686 - accuracy: 0.8147 - val_loss: 0.3659 - val_accuracy: 0.8132\n",
      "Epoch 8/100\n",
      "30162/30162 [==============================] - 3s 92us/step - loss: 0.3679 - accuracy: 0.8167 - val_loss: 0.3703 - val_accuracy: 0.8081\n",
      "Epoch 9/100\n",
      "30162/30162 [==============================] - 3s 115us/step - loss: 0.3661 - accuracy: 0.8151 - val_loss: 0.3631 - val_accuracy: 0.8172\n",
      "Epoch 10/100\n",
      "30162/30162 [==============================] - 4s 138us/step - loss: 0.3681 - accuracy: 0.8124 - val_loss: 0.3635 - val_accuracy: 0.8161\n",
      "Epoch 11/100\n",
      "30162/30162 [==============================] - 3s 97us/step - loss: 0.3656 - accuracy: 0.8164 - val_loss: 0.3642 - val_accuracy: 0.8157\n",
      "Epoch 12/100\n",
      "30162/30162 [==============================] - 4s 121us/step - loss: 0.3652 - accuracy: 0.8151 - val_loss: 0.3629 - val_accuracy: 0.8159\n",
      "Epoch 13/100\n",
      "30162/30162 [==============================] - 4s 135us/step - loss: 0.3653 - accuracy: 0.8148 - val_loss: 0.3780 - val_accuracy: 0.8011\n",
      "Epoch 14/100\n",
      "30162/30162 [==============================] - 3s 107us/step - loss: 0.3644 - accuracy: 0.8165 - val_loss: 0.3630 - val_accuracy: 0.8163\n",
      "Epoch 15/100\n",
      "30162/30162 [==============================] - 4s 132us/step - loss: 0.3641 - accuracy: 0.8155 - val_loss: 0.3652 - val_accuracy: 0.8157\n",
      "Epoch 16/100\n",
      "30162/30162 [==============================] - 3s 115us/step - loss: 0.3645 - accuracy: 0.8163 - val_loss: 0.3738 - val_accuracy: 0.8062\n",
      "Epoch 17/100\n",
      "30162/30162 [==============================] - 3s 105us/step - loss: 0.3627 - accuracy: 0.8161 - val_loss: 0.3671 - val_accuracy: 0.8122\n",
      "Epoch 18/100\n",
      "30162/30162 [==============================] - 4s 131us/step - loss: 0.3631 - accuracy: 0.8166 - val_loss: 0.3664 - val_accuracy: 0.8102\n",
      "Epoch 19/100\n",
      "30162/30162 [==============================] - 3s 106us/step - loss: 0.3627 - accuracy: 0.8175 - val_loss: 0.3760 - val_accuracy: 0.8026\n",
      "Epoch 20/100\n",
      "30162/30162 [==============================] - 4s 125us/step - loss: 0.3627 - accuracy: 0.8161 - val_loss: 0.3639 - val_accuracy: 0.8191\n",
      "Epoch 21/100\n",
      "30162/30162 [==============================] - 4s 132us/step - loss: 0.3620 - accuracy: 0.8172 - val_loss: 0.3632 - val_accuracy: 0.8185\n",
      "Epoch 22/100\n",
      "30162/30162 [==============================] - 3s 86us/step - loss: 0.3614 - accuracy: 0.8175 - val_loss: 0.3776 - val_accuracy: 0.8043\n",
      "Epoch 23/100\n",
      "30162/30162 [==============================] - 4s 143us/step - loss: 0.3612 - accuracy: 0.8159 - val_loss: 0.3632 - val_accuracy: 0.8157\n",
      "Epoch 24/100\n",
      "30162/30162 [==============================] - 5s 152us/step - loss: 0.3607 - accuracy: 0.8178 - val_loss: 0.3628 - val_accuracy: 0.8133\n",
      "Epoch 25/100\n",
      "30162/30162 [==============================] - 3s 96us/step - loss: 0.3613 - accuracy: 0.8164 - val_loss: 0.3708 - val_accuracy: 0.8133\n",
      "Epoch 26/100\n",
      "30162/30162 [==============================] - 4s 143us/step - loss: 0.3611 - accuracy: 0.8172 - val_loss: 0.3666 - val_accuracy: 0.8176\n",
      "Epoch 27/100\n",
      "30162/30162 [==============================] - 4s 145us/step - loss: 0.3611 - accuracy: 0.8155 - val_loss: 0.3622 - val_accuracy: 0.8176\n",
      "Epoch 28/100\n",
      "30162/30162 [==============================] - 3s 115us/step - loss: 0.3604 - accuracy: 0.8183 - val_loss: 0.3660 - val_accuracy: 0.8160\n",
      "Epoch 29/100\n",
      "30162/30162 [==============================] - 4s 136us/step - loss: 0.3602 - accuracy: 0.8186 - val_loss: 0.3653 - val_accuracy: 0.8184\n",
      "Epoch 30/100\n",
      "30162/30162 [==============================] - 4s 121us/step - loss: 0.3599 - accuracy: 0.8168 - val_loss: 0.3644 - val_accuracy: 0.8139\n",
      "Epoch 31/100\n",
      "30162/30162 [==============================] - 4s 120us/step - loss: 0.3594 - accuracy: 0.8181 - val_loss: 0.3642 - val_accuracy: 0.8151\n",
      "Epoch 32/100\n",
      "30162/30162 [==============================] - 4s 144us/step - loss: 0.3608 - accuracy: 0.8160 - val_loss: 0.3747 - val_accuracy: 0.8135\n",
      "Epoch 33/100\n",
      "30162/30162 [==============================] - 3s 107us/step - loss: 0.3593 - accuracy: 0.8183 - val_loss: 0.3619 - val_accuracy: 0.8176\n",
      "Epoch 34/100\n",
      "30162/30162 [==============================] - 4s 138us/step - loss: 0.3592 - accuracy: 0.8180 - val_loss: 0.3610 - val_accuracy: 0.8181\n",
      "Epoch 35/100\n",
      "30162/30162 [==============================] - 4s 135us/step - loss: 0.3591 - accuracy: 0.8198 - val_loss: 0.3612 - val_accuracy: 0.8169\n",
      "Epoch 36/100\n",
      "30162/30162 [==============================] - 3s 110us/step - loss: 0.3593 - accuracy: 0.8183 - val_loss: 0.3618 - val_accuracy: 0.8162\n",
      "Epoch 37/100\n",
      "30162/30162 [==============================] - 4s 135us/step - loss: 0.3594 - accuracy: 0.8170 - val_loss: 0.3628 - val_accuracy: 0.8135\n",
      "Epoch 38/100\n",
      "30162/30162 [==============================] - 4s 123us/step - loss: 0.3589 - accuracy: 0.8194 - val_loss: 0.3622 - val_accuracy: 0.8180\n",
      "Epoch 39/100\n",
      "30162/30162 [==============================] - 4s 123us/step - loss: 0.3582 - accuracy: 0.8184 - val_loss: 0.3625 - val_accuracy: 0.8143\n",
      "Epoch 40/100\n",
      "30162/30162 [==============================] - 4s 135us/step - loss: 0.3578 - accuracy: 0.8172 - val_loss: 0.3631 - val_accuracy: 0.8173\n",
      "Epoch 41/100\n",
      "30162/30162 [==============================] - 3s 110us/step - loss: 0.3614 - accuracy: 0.8165 - val_loss: 0.3759 - val_accuracy: 0.8133\n",
      "Epoch 42/100\n",
      "30162/30162 [==============================] - 4s 135us/step - loss: 0.3584 - accuracy: 0.8189 - val_loss: 0.3628 - val_accuracy: 0.8142\n",
      "Epoch 43/100\n",
      "30162/30162 [==============================] - 4s 137us/step - loss: 0.3572 - accuracy: 0.8187 - val_loss: 0.3629 - val_accuracy: 0.8189\n",
      "Epoch 44/100\n",
      "30162/30162 [==============================] - 2s 79us/step - loss: 0.3582 - accuracy: 0.8181 - val_loss: 0.3644 - val_accuracy: 0.8137\n",
      "Epoch 45/100\n",
      "30162/30162 [==============================] - 4s 134us/step - loss: 0.3580 - accuracy: 0.8200 - val_loss: 0.3648 - val_accuracy: 0.8157\n",
      "Epoch 46/100\n",
      "30162/30162 [==============================] - 4s 136us/step - loss: 0.3579 - accuracy: 0.8170 - val_loss: 0.3621 - val_accuracy: 0.8159\n",
      "Epoch 47/100\n",
      "30162/30162 [==============================] - 3s 107us/step - loss: 0.3574 - accuracy: 0.8191 - val_loss: 0.3678 - val_accuracy: 0.8114\n",
      "Epoch 48/100\n",
      "30162/30162 [==============================] - 4s 138us/step - loss: 0.3570 - accuracy: 0.8191 - val_loss: 0.3643 - val_accuracy: 0.8133\n",
      "Epoch 49/100\n",
      "30162/30162 [==============================] - 4s 136us/step - loss: 0.3570 - accuracy: 0.8193 - val_loss: 0.3612 - val_accuracy: 0.8169\n",
      "Epoch 50/100\n",
      "30162/30162 [==============================] - 3s 95us/step - loss: 0.3564 - accuracy: 0.8201 - val_loss: 0.3661 - val_accuracy: 0.8168\n",
      "Epoch 51/100\n",
      "30162/30162 [==============================] - 4s 135us/step - loss: 0.3562 - accuracy: 0.8207 - val_loss: 0.3636 - val_accuracy: 0.8179\n",
      "Epoch 52/100\n",
      "30162/30162 [==============================] - 4s 126us/step - loss: 0.3563 - accuracy: 0.8212 - val_loss: 0.3663 - val_accuracy: 0.8116\n",
      "Epoch 53/100\n",
      "30162/30162 [==============================] - 4s 116us/step - loss: 0.3568 - accuracy: 0.8207 - val_loss: 0.3715 - val_accuracy: 0.8152\n",
      "Epoch 54/100\n",
      "30162/30162 [==============================] - 4s 137us/step - loss: 0.3562 - accuracy: 0.8187 - val_loss: 0.3611 - val_accuracy: 0.8163\n",
      "Epoch 55/100\n",
      "30162/30162 [==============================] - 3s 105us/step - loss: 0.3554 - accuracy: 0.8200 - val_loss: 0.3630 - val_accuracy: 0.8165\n",
      "Epoch 56/100\n",
      "30162/30162 [==============================] - 4s 135us/step - loss: 0.3549 - accuracy: 0.8215 - val_loss: 0.3634 - val_accuracy: 0.8145\n",
      "Epoch 57/100\n",
      "30162/30162 [==============================] - 4s 136us/step - loss: 0.3556 - accuracy: 0.8214 - val_loss: 0.3622 - val_accuracy: 0.8171\n",
      "Epoch 58/100\n",
      "30162/30162 [==============================] - 3s 108us/step - loss: 0.3555 - accuracy: 0.8214 - val_loss: 0.3694 - val_accuracy: 0.8118\n",
      "Epoch 59/100\n",
      "30162/30162 [==============================] - 4s 135us/step - loss: 0.3549 - accuracy: 0.8199 - val_loss: 0.3668 - val_accuracy: 0.8153\n",
      "Epoch 60/100\n",
      "30162/30162 [==============================] - 4s 127us/step - loss: 0.3557 - accuracy: 0.8191 - val_loss: 0.3614 - val_accuracy: 0.8171\n",
      "Epoch 61/100\n",
      "30162/30162 [==============================] - 3s 116us/step - loss: 0.3552 - accuracy: 0.8202 - val_loss: 0.3612 - val_accuracy: 0.8167\n",
      "Epoch 62/100\n",
      "30162/30162 [==============================] - 4s 136us/step - loss: 0.3534 - accuracy: 0.8224 - val_loss: 0.3620 - val_accuracy: 0.8170\n",
      "Epoch 63/100\n",
      "30162/30162 [==============================] - 3s 111us/step - loss: 0.3545 - accuracy: 0.8202 - val_loss: 0.3653 - val_accuracy: 0.8129\n",
      "Epoch 64/100\n",
      "30162/30162 [==============================] - 4s 133us/step - loss: 0.3542 - accuracy: 0.8210 - val_loss: 0.3645 - val_accuracy: 0.8163\n",
      "Epoch 65/100\n",
      "30162/30162 [==============================] - 4s 134us/step - loss: 0.3544 - accuracy: 0.8198 - val_loss: 0.3632 - val_accuracy: 0.8186\n",
      "Epoch 66/100\n",
      "30162/30162 [==============================] - 3s 112us/step - loss: 0.3527 - accuracy: 0.8209 - val_loss: 0.3634 - val_accuracy: 0.8168\n",
      "Epoch 67/100\n",
      "30162/30162 [==============================] - 4s 142us/step - loss: 0.3536 - accuracy: 0.8207 - val_loss: 0.3628 - val_accuracy: 0.8187\n",
      "Epoch 68/100\n",
      "30162/30162 [==============================] - 4s 132us/step - loss: 0.3526 - accuracy: 0.8222 - val_loss: 0.3764 - val_accuracy: 0.8041\n",
      "Epoch 69/100\n",
      "30162/30162 [==============================] - 4s 120us/step - loss: 0.3528 - accuracy: 0.8206 - val_loss: 0.3649 - val_accuracy: 0.8155\n",
      "Epoch 70/100\n",
      "30162/30162 [==============================] - 4s 139us/step - loss: 0.3521 - accuracy: 0.8213 - val_loss: 0.3617 - val_accuracy: 0.8184\n",
      "Epoch 71/100\n",
      "30162/30162 [==============================] - 3s 111us/step - loss: 0.3528 - accuracy: 0.8206 - val_loss: 0.3667 - val_accuracy: 0.8144\n",
      "Epoch 72/100\n",
      "30162/30162 [==============================] - 4s 128us/step - loss: 0.3519 - accuracy: 0.8220 - val_loss: 0.3648 - val_accuracy: 0.8149\n",
      "Epoch 73/100\n",
      "30162/30162 [==============================] - 4s 144us/step - loss: 0.3523 - accuracy: 0.8216 - val_loss: 0.3692 - val_accuracy: 0.8192\n",
      "Epoch 74/100\n",
      "30162/30162 [==============================] - 3s 99us/step - loss: 0.3524 - accuracy: 0.8214 - val_loss: 0.3657 - val_accuracy: 0.8149\n",
      "Epoch 75/100\n",
      "30162/30162 [==============================] - 4s 142us/step - loss: 0.3522 - accuracy: 0.8220 - val_loss: 0.3624 - val_accuracy: 0.8167\n",
      "Epoch 76/100\n",
      "30162/30162 [==============================] - 4s 139us/step - loss: 0.3517 - accuracy: 0.8229 - val_loss: 0.3629 - val_accuracy: 0.8169\n",
      "Epoch 77/100\n",
      "30162/30162 [==============================] - 3s 113us/step - loss: 0.3515 - accuracy: 0.8210 - val_loss: 0.3629 - val_accuracy: 0.8160\n",
      "Epoch 78/100\n",
      "30162/30162 [==============================] - 4s 144us/step - loss: 0.3514 - accuracy: 0.8215 - val_loss: 0.3640 - val_accuracy: 0.8169\n",
      "Epoch 79/100\n",
      "30162/30162 [==============================] - 4s 125us/step - loss: 0.3519 - accuracy: 0.8215 - val_loss: 0.3625 - val_accuracy: 0.8173\n",
      "Epoch 80/100\n",
      "30162/30162 [==============================] - 4s 119us/step - loss: 0.3518 - accuracy: 0.8207 - val_loss: 0.3651 - val_accuracy: 0.8154\n",
      "Epoch 81/100\n",
      "30162/30162 [==============================] - 4s 136us/step - loss: 0.3515 - accuracy: 0.8215 - val_loss: 0.3626 - val_accuracy: 0.8173\n",
      "Epoch 82/100\n",
      "30162/30162 [==============================] - 3s 104us/step - loss: 0.3511 - accuracy: 0.8228 - val_loss: 0.3630 - val_accuracy: 0.8163\n",
      "Epoch 83/100\n",
      "30162/30162 [==============================] - 4s 131us/step - loss: 0.3507 - accuracy: 0.8224 - val_loss: 0.3630 - val_accuracy: 0.8157\n",
      "Epoch 84/100\n",
      "30162/30162 [==============================] - 4s 135us/step - loss: 0.3519 - accuracy: 0.8212 - val_loss: 0.3643 - val_accuracy: 0.8163\n",
      "Epoch 85/100\n",
      "30162/30162 [==============================] - 3s 98us/step - loss: 0.3507 - accuracy: 0.8202 - val_loss: 0.3653 - val_accuracy: 0.8180\n",
      "Epoch 86/100\n",
      "30162/30162 [==============================] - 4s 136us/step - loss: 0.3502 - accuracy: 0.8211 - val_loss: 0.3688 - val_accuracy: 0.8155\n",
      "Epoch 87/100\n",
      "30162/30162 [==============================] - 4s 135us/step - loss: 0.3510 - accuracy: 0.8206 - val_loss: 0.3631 - val_accuracy: 0.8158\n",
      "Epoch 88/100\n",
      "30162/30162 [==============================] - 3s 111us/step - loss: 0.3501 - accuracy: 0.8212 - val_loss: 0.3713 - val_accuracy: 0.8085\n",
      "Epoch 89/100\n",
      "30162/30162 [==============================] - 4s 144us/step - loss: 0.3500 - accuracy: 0.8223 - val_loss: 0.3691 - val_accuracy: 0.8125\n",
      "Epoch 90/100\n",
      "30162/30162 [==============================] - 4s 130us/step - loss: 0.3495 - accuracy: 0.8214 - val_loss: 0.3726 - val_accuracy: 0.8130\n",
      "Epoch 91/100\n",
      "30162/30162 [==============================] - 2s 82us/step - loss: 0.3505 - accuracy: 0.8228 - val_loss: 0.3648 - val_accuracy: 0.8175\n",
      "Epoch 92/100\n",
      "30162/30162 [==============================] - 2s 72us/step - loss: 0.3495 - accuracy: 0.8232 - val_loss: 0.3651 - val_accuracy: 0.8172\n",
      "Epoch 93/100\n",
      "30162/30162 [==============================] - 5s 163us/step - loss: 0.3503 - accuracy: 0.8205 - val_loss: 0.3642 - val_accuracy: 0.8153\n",
      "Epoch 94/100\n",
      "30162/30162 [==============================] - 5s 179us/step - loss: 0.3505 - accuracy: 0.8229 - val_loss: 0.3729 - val_accuracy: 0.8114\n",
      "Epoch 95/100\n",
      "30162/30162 [==============================] - 6s 183us/step - loss: 0.3495 - accuracy: 0.8212 - val_loss: 0.3691 - val_accuracy: 0.8183\n",
      "Epoch 96/100\n",
      "30162/30162 [==============================] - 5s 178us/step - loss: 0.3495 - accuracy: 0.8219 - val_loss: 0.3650 - val_accuracy: 0.8155\n",
      "Epoch 97/100\n",
      "30162/30162 [==============================] - 2s 80us/step - loss: 0.3497 - accuracy: 0.8235 - val_loss: 0.3676 - val_accuracy: 0.8116\n",
      "Epoch 98/100\n",
      "30162/30162 [==============================] - 2s 69us/step - loss: 0.3487 - accuracy: 0.8219 - val_loss: 0.3645 - val_accuracy: 0.8150\n",
      "Epoch 99/100\n",
      "30162/30162 [==============================] - 5s 171us/step - loss: 0.3493 - accuracy: 0.8222 - val_loss: 0.3651 - val_accuracy: 0.8145\n",
      "Epoch 100/100\n",
      "30162/30162 [==============================] - 6s 184us/step - loss: 0.3481 - accuracy: 0.8233 - val_loss: 0.3643 - val_accuracy: 0.8160\n"
     ]
    },
    {
     "data": {
      "text/plain": [
       "<keras.callbacks.callbacks.History at 0x22d44501a90>"
      ]
     },
     "execution_count": 37,
     "metadata": {},
     "output_type": "execute_result"
    }
   ],
   "source": [
    "model.fit(X_train, y_train, validation_data= (X_test, y_test), batch_size=32,epochs=100, callbacks=[history])"
   ]
  },
  {
   "cell_type": "code",
   "execution_count": 38,
   "metadata": {},
   "outputs": [
    {
     "data": {
      "text/plain": [
       "dict_keys(['val_loss', 'val_accuracy', 'loss', 'accuracy'])"
      ]
     },
     "execution_count": 38,
     "metadata": {},
     "output_type": "execute_result"
    }
   ],
   "source": [
    "history.history.keys()"
   ]
  },
  {
   "cell_type": "code",
   "execution_count": 39,
   "metadata": {},
   "outputs": [
    {
     "data": {
      "image/png": "[encoded data removed]",
      "text/plain": [
       "<Figure size 432x288 with 1 Axes>"
      ]
     },
     "metadata": {
      "needs_background": "light"
     },
     "output_type": "display_data"
    }
   ],
   "source": [
    "import matplotlib.pyplot as plt\n",
    "plt.plot(history.history['accuracy'], label = \"tarina\")\n",
    "plt.plot(history.history['val_accuracy'], label = \"test\")\n",
    "plt.legend()\n",
    "plt.show()"
   ]
  },
  {
   "cell_type": "code",
   "execution_count": 40,
   "metadata": {},
   "outputs": [
    {
     "data": {
      "image/png": "[encoded data removed]",
      "text/plain": [
       "<Figure size 432x288 with 1 Axes>"
      ]
     },
     "metadata": {
      "needs_background": "light"
     },
     "output_type": "display_data"
    }
   ],
   "source": [
    "import matplotlib.pyplot as plt\n",
    "plt.plot(history.history['loss'], label = \"tarina\")\n",
    "plt.plot(history.history['val_loss'], label = \"test\")\n",
    "plt.legend()\n",
    "plt.show()"
   ]
  },
  {
   "cell_type": "code",
   "execution_count": 41,
   "metadata": {},
   "outputs": [
    {
     "data": {
      "text/plain": [
       "array([[3.3634901e-04],\n",
       "       [1.3305974e-01],\n",
       "       [4.2471349e-01],\n",
       "       ...,\n",
       "       [6.8959647e-01],\n",
       "       [6.2518018e-01],\n",
       "       [7.9714197e-01]], dtype=float32)"
      ]
     },
     "execution_count": 41,
     "metadata": {},
     "output_type": "execute_result"
    }
   ],
   "source": [
    "model.predict(X_test)"
   ]
  },
  {
   "cell_type": "code",
   "execution_count": 42,
   "metadata": {},
   "outputs": [
    {
     "name": "stdout",
     "output_type": "stream",
     "text": [
      "15060/15060 [==============================] - 1s 84us/step\n"
     ]
    },
    {
     "data": {
      "text/plain": [
       "[0.36425988980498447, 0.8160026669502258]"
      ]
     },
     "execution_count": 42,
     "metadata": {},
     "output_type": "execute_result"
    }
   ],
   "source": [
    "model.evaluate(X_test,y_test)"
   ]
  },
  {
   "cell_type": "code",
   "execution_count": 43,
   "metadata": {},
   "outputs": [
    {
     "name": "stdout",
     "output_type": "stream",
     "text": [
      "(15060, 1)\n",
      "(15060,)\n"
     ]
    }
   ],
   "source": [
    "print(model.predict(X_test).shape)\n",
    "print(y_test.shape)"
   ]
  },
  {
   "cell_type": "code",
   "execution_count": 44,
   "metadata": {},
   "outputs": [
    {
     "data": {
      "text/plain": [
       "array([[0.],\n",
       "       [0.],\n",
       "       [0.],\n",
       "       ...,\n",
       "       [1.],\n",
       "       [1.],\n",
       "       [1.]], dtype=float32)"
      ]
     },
     "execution_count": 44,
     "metadata": {},
     "output_type": "execute_result"
    }
   ],
   "source": [
    "p = model.predict(X_test)\n",
    "p[p<0.5]=0\n",
    "p[p>0.5]=1\n",
    "p"
   ]
  },
  {
   "cell_type": "code",
   "execution_count": 45,
   "metadata": {},
   "outputs": [
    {
     "data": {
      "text/plain": [
       "0.8160026560424967"
      ]
     },
     "execution_count": 45,
     "metadata": {},
     "output_type": "execute_result"
    }
   ],
   "source": [
    "from sklearn import  metrics\n",
    "metrics.accuracy_score(y_true= y_test, y_pred= p )"
   ]
  },
  {
   "cell_type": "markdown",
   "metadata": {},
   "source": [
    "# Zad\n",
    "\n",
    "Porównaj fukcje aktywacji\n",
    "* sigmoid\n",
    "* tanh\n",
    "* relu"
   ]
  },
  {
   "cell_type": "code",
   "execution_count": null,
   "metadata": {},
   "outputs": [],
   "source": []
  },
  {
   "cell_type": "code",
   "execution_count": null,
   "metadata": {},
   "outputs": [],
   "source": []
  }
 ],
 "metadata": {
  "kernelspec": {
   "display_name": "Python 3",
   "language": "python",
   "name": "python3"
  },
  "language_info": {
   "codemirror_mode": {
    "name": "ipython",
    "version": 3
   },
   "file_extension": ".py",
   "mimetype": "text/x-python",
   "name": "python",
   "nbconvert_exporter": "python",
   "pygments_lexer": "ipython3",
   "version": "3.7.1"
  }
 },
 "nbformat": 4,
 "nbformat_minor": 2
}
