{
 "cells": [
  {
   "cell_type": "code",
   "execution_count": 29,
   "metadata": {},
   "outputs": [
    {
     "name": "stdout",
     "output_type": "stream",
     "text": [
      "1.15.0\n",
      "2.3.1\n"
     ]
    }
   ],
   "source": [
    "import numpy as np\n",
    "import matplotlib.pyplot as plt\n",
    "import pandas as pd\n",
    "\n",
    "import tensorflow as tf\n",
    "print(tf.__version__)\n",
    "import keras\n",
    "print(keras.__version__)\n",
    "# from tensorflow import keras as keras \n",
    "\n",
    "from numpy.random import seed\n",
    "seed(123)\n",
    "from tensorflow import set_random_seed\n",
    "set_random_seed(123)"
   ]
  },
  {
   "cell_type": "markdown",
   "metadata": {},
   "source": [
    "# Zad\n",
    "Pobierz dane"
   ]
  },
  {
   "cell_type": "code",
   "execution_count": 12,
   "metadata": {},
   "outputs": [],
   "source": [
    "from sklearn.datasets import fetch_20newsgroups\n",
    "newsgroups = fetch_20newsgroups(subset='train',categories=['sci.crypt', 'sci.electronics'])"
   ]
  },
  {
   "cell_type": "markdown",
   "metadata": {},
   "source": [
    "Wypisz pierwszy tekst"
   ]
  },
  {
   "cell_type": "code",
   "execution_count": 13,
   "metadata": {},
   "outputs": [
    {
     "name": "stdout",
     "output_type": "stream",
     "text": [
      "From: tedwards@eng.umd.edu (Thomas Grant Edwards)\n",
      "Subject: Re: Once tapped, your code is no good any more.\n",
      "Organization: Project GLUE, University of Maryland, College Park\n",
      "Lines: 25\n",
      "Distribution: na\n",
      "NNTP-Posting-Host: pipa.src.umd.edu\n",
      "\n",
      "In article <1r1r3nINNebn@dns1.NMSU.Edu> amolitor@nmsu.edu (Andrew Molitor) writes:\n",
      ">In article <C5so84.Hxv@demon.co.uk> Graham Toal <gtoal@gtoal.com> writes:\n",
      ">>Actually, I am *completely* baffled by why Dorothy Denning has chosen\n",
      ">>to throw away her academic respectability like this.\n",
      "\n",
      ">\tActually, I've been following her remarks for some time, with\n",
      ">interest. I'm also a member of academia, and her remarks have nothing\n",
      ">but elevate her respectability in my eyes. It remains to be seen whether\n",
      ">you are the radical fringe, or I.\n",
      "\n",
      ">\tIt is generally an error to assume that your beliefs are held by\n",
      ">the majority, or even a sizable minority. Especially when you're seeing\n",
      ">tens, nay dozens, of people on usenet agreeing with you.\n",
      "\n",
      "The people on usenet are clearly a special bunch.  We live the net, which\n",
      "is the future of our culture.  Usenetters have rapid electronic access to\n",
      "information.  Society in general must depend on CNN.  \n",
      "\n",
      "I can only hope we can make this information accessable by the public before\n",
      "the radical fringe, which _is_ the majority, destroys the fabric of\n",
      "this country.  Freedom is never easily won.\n",
      "\n",
      "-Thomas\n",
      "\n",
      "\n",
      "\n"
     ]
    }
   ],
   "source": [
    "# newsgroups_train.data[0]\n",
    "print(newsgroups.data[0])"
   ]
  },
  {
   "cell_type": "code",
   "execution_count": 14,
   "metadata": {},
   "outputs": [
    {
     "name": "stdout",
     "output_type": "stream",
     "text": [
      "1186\n"
     ]
    }
   ],
   "source": [
    "print(len(newsgroups.data))"
   ]
  },
  {
   "cell_type": "code",
   "execution_count": 15,
   "metadata": {},
   "outputs": [
    {
     "data": {
      "text/plain": [
       "1186"
      ]
     },
     "execution_count": 15,
     "metadata": {},
     "output_type": "execute_result"
    }
   ],
   "source": [
    "X = newsgroups.data\n",
    "y = newsgroups.target\n",
    "\n",
    "len(X)"
   ]
  },
  {
   "cell_type": "markdown",
   "metadata": {},
   "source": [
    "# Zad\n",
    "Zbuduj labele $y$ jako **One-hot encoding**:"
   ]
  },
  {
   "cell_type": "code",
   "execution_count": 16,
   "metadata": {},
   "outputs": [
    {
     "data": {
      "text/plain": [
       "array([[1., 0.],\n",
       "       [1., 0.],\n",
       "       [1., 0.],\n",
       "       [1., 0.],\n",
       "       [1., 0.],\n",
       "       [0., 1.],\n",
       "       [0., 1.],\n",
       "       [0., 1.],\n",
       "       [1., 0.],\n",
       "       [1., 0.]], dtype=float32)"
      ]
     },
     "execution_count": 16,
     "metadata": {},
     "output_type": "execute_result"
    }
   ],
   "source": [
    "from keras.utils import np_utils\n",
    "y = np_utils.to_categorical(y)\n",
    "y[:10]"
   ]
  },
  {
   "cell_type": "code",
   "execution_count": 19,
   "metadata": {},
   "outputs": [],
   "source": [
    "import nltk\n",
    "import string\n",
    "import re\n",
    "import pandas as pd"
   ]
  },
  {
   "cell_type": "code",
   "execution_count": 20,
   "metadata": {},
   "outputs": [],
   "source": [
    "def extract_content(mail):    \n",
    "    # wyciagniecie tresci maila   \n",
    "    return mail[mail.find(\"\\n\\n\"):]\n",
    "\n",
    "def extract_subject(mail):\n",
    "    return re.findall(r'Subject:(.+)',mail)[0]\n",
    "\n",
    "\n",
    "def stem_helper(word,stemmer):\n",
    "    try:\n",
    "        y = stemmer.stem(word)\n",
    "    except:\n",
    "        y = word\n",
    "    return y\n",
    "\n",
    "\n",
    "\n",
    "def clean_text(x, stemmer = nltk.PorterStemmer()):   \n",
    "    \"\"\"\n",
    "    x - jeden mail\n",
    "    \"\"\"    \n",
    " \n",
    "    #tokenizacja - rozbicie na liste tokenow\n",
    "    x_t = nltk.word_tokenize(x)    \n",
    "    # usuwanie znakow interpunkcyjnych\n",
    "    translator = str.maketrans('', '', string.punctuation)\n",
    "    x_t = [word.translate(translator) for word in x_t]    \n",
    "    # zamina liter male\n",
    "    x_t = [word.lower() for word in x_t]    \n",
    "    # usuwanie zbednych tokenow\n",
    "    x_t = [w for w in x_t if w not in nltk.corpus.stopwords.words(\"english\")+[\"nt\"]]    \n",
    "    # stemming\n",
    "    x_t = [stem_helper(word,stemmer) for word in x_t]    \n",
    "    # sklejenie do napisu\n",
    "    x_new = ' '.join(x_t)    \n",
    "    return x_new\n",
    "\n",
    "\n",
    "X_c = [clean_text(extract_content(x)) for x in X]\n",
    "X_s = [clean_text(extract_subject(x)) for x in X]\n",
    "\n",
    "X = pd.DataFrame({\"subject\":X_s, \"content\":X_c})"
   ]
  },
  {
   "cell_type": "code",
   "execution_count": 23,
   "metadata": {},
   "outputs": [
    {
     "name": "stdout",
     "output_type": "stream",
     "text": [
      "(400, 2)\n"
     ]
    }
   ],
   "source": [
    "from sklearn.model_selection import train_test_split\n",
    "X_train, X_test, y_train, y_test = train_test_split(X_c,y,test_size=400)\n",
    "#bierzemy tylko tresc - bez tytulu\n",
    "print(y_test.shape)"
   ]
  },
  {
   "cell_type": "code",
   "execution_count": 26,
   "metadata": {},
   "outputs": [],
   "source": [
    "from sklearn.feature_extraction.text import CountVectorizer\n",
    "cv =CountVectorizer(max_features=2000)\n",
    "\n",
    "cv.fit(X_train,y_train)\n",
    "\n",
    "X_train_transformed = cv.transform(X_train).todense()\n",
    "X_test_transformed = cv.transform(X_test).todense()"
   ]
  },
  {
   "cell_type": "code",
   "execution_count": 27,
   "metadata": {},
   "outputs": [
    {
     "data": {
      "text/plain": [
       "((400, 2000), (400, 2))"
      ]
     },
     "execution_count": 27,
     "metadata": {},
     "output_type": "execute_result"
    }
   ],
   "source": [
    "X_test_transformed.shape, y_test.shape"
   ]
  },
  {
   "cell_type": "code",
   "execution_count": null,
   "metadata": {},
   "outputs": [],
   "source": []
  },
  {
   "cell_type": "code",
   "execution_count": 43,
   "metadata": {},
   "outputs": [
    {
     "name": "stdout",
     "output_type": "stream",
     "text": [
      "Train on 550 samples, validate on 236 samples\n",
      "Epoch 1/100\n",
      "550/550 [==============================] - 0s 439us/step - loss: 19.0608 - categorical_accuracy: 0.5764 - val_loss: 18.2478 - val_categorical_accuracy: 0.6441\n",
      "Epoch 2/100\n",
      "550/550 [==============================] - 0s 149us/step - loss: 17.4290 - categorical_accuracy: 0.6364 - val_loss: 16.7293 - val_categorical_accuracy: 0.6992\n",
      "Epoch 3/100\n",
      "550/550 [==============================] - 0s 147us/step - loss: 15.9734 - categorical_accuracy: 0.6727 - val_loss: 15.3375 - val_categorical_accuracy: 0.7415\n",
      "Epoch 4/100\n",
      "550/550 [==============================] - 0s 147us/step - loss: 14.5963 - categorical_accuracy: 0.7455 - val_loss: 14.0616 - val_categorical_accuracy: 0.7542\n",
      "Epoch 5/100\n",
      "550/550 [==============================] - 0s 149us/step - loss: 13.3616 - categorical_accuracy: 0.7618 - val_loss: 12.8754 - val_categorical_accuracy: 0.7881\n",
      "Epoch 6/100\n",
      "550/550 [==============================] - 0s 144us/step - loss: 12.2218 - categorical_accuracy: 0.8055 - val_loss: 11.7873 - val_categorical_accuracy: 0.8390\n",
      "Epoch 7/100\n",
      "550/550 [==============================] - 0s 144us/step - loss: 11.1688 - categorical_accuracy: 0.8236 - val_loss: 10.7901 - val_categorical_accuracy: 0.8517\n",
      "Epoch 8/100\n",
      "550/550 [==============================] - 0s 135us/step - loss: 10.2175 - categorical_accuracy: 0.8545 - val_loss: 9.8718 - val_categorical_accuracy: 0.8771\n",
      "Epoch 9/100\n",
      "550/550 [==============================] - 0s 144us/step - loss: 9.3269 - categorical_accuracy: 0.8764 - val_loss: 9.0354 - val_categorical_accuracy: 0.8856\n",
      "Epoch 10/100\n",
      "550/550 [==============================] - 0s 142us/step - loss: 8.5164 - categorical_accuracy: 0.8964 - val_loss: 8.2686 - val_categorical_accuracy: 0.8898\n",
      "Epoch 11/100\n",
      "550/550 [==============================] - 0s 144us/step - loss: 7.7872 - categorical_accuracy: 0.9036 - val_loss: 7.5594 - val_categorical_accuracy: 0.8983\n",
      "Epoch 12/100\n",
      "550/550 [==============================] - 0s 140us/step - loss: 7.0945 - categorical_accuracy: 0.9291 - val_loss: 6.9158 - val_categorical_accuracy: 0.9025\n",
      "Epoch 13/100\n",
      "550/550 [==============================] - 0s 144us/step - loss: 6.4675 - categorical_accuracy: 0.9527 - val_loss: 6.3257 - val_categorical_accuracy: 0.9025\n",
      "Epoch 14/100\n",
      "550/550 [==============================] - 0s 142us/step - loss: 5.9071 - categorical_accuracy: 0.9400 - val_loss: 5.7881 - val_categorical_accuracy: 0.8983\n",
      "Epoch 15/100\n",
      "550/550 [==============================] - 0s 137us/step - loss: 5.3867 - categorical_accuracy: 0.9455 - val_loss: 5.2922 - val_categorical_accuracy: 0.9025\n",
      "Epoch 16/100\n",
      "550/550 [==============================] - 0s 151us/step - loss: 4.9067 - categorical_accuracy: 0.9600 - val_loss: 4.8360 - val_categorical_accuracy: 0.8983\n",
      "Epoch 17/100\n",
      "550/550 [==============================] - 0s 136us/step - loss: 4.4782 - categorical_accuracy: 0.9673 - val_loss: 4.4200 - val_categorical_accuracy: 0.8983\n",
      "Epoch 18/100\n",
      "550/550 [==============================] - 0s 144us/step - loss: 4.0794 - categorical_accuracy: 0.9618 - val_loss: 4.0394 - val_categorical_accuracy: 0.8898\n",
      "Epoch 19/100\n",
      "550/550 [==============================] - 0s 146us/step - loss: 3.7177 - categorical_accuracy: 0.9582 - val_loss: 3.6927 - val_categorical_accuracy: 0.8856\n",
      "Epoch 20/100\n",
      "550/550 [==============================] - 0s 146us/step - loss: 3.3875 - categorical_accuracy: 0.9618 - val_loss: 3.3759 - val_categorical_accuracy: 0.8856\n",
      "Epoch 21/100\n",
      "550/550 [==============================] - 0s 146us/step - loss: 3.0854 - categorical_accuracy: 0.9709 - val_loss: 3.0904 - val_categorical_accuracy: 0.8941\n",
      "Epoch 22/100\n",
      "550/550 [==============================] - 0s 144us/step - loss: 2.8054 - categorical_accuracy: 0.9800 - val_loss: 2.8304 - val_categorical_accuracy: 0.8941\n",
      "Epoch 23/100\n",
      "550/550 [==============================] - 0s 140us/step - loss: 2.5685 - categorical_accuracy: 0.9782 - val_loss: 2.5943 - val_categorical_accuracy: 0.8941\n",
      "Epoch 24/100\n",
      "550/550 [==============================] - 0s 149us/step - loss: 2.3382 - categorical_accuracy: 0.9691 - val_loss: 2.3794 - val_categorical_accuracy: 0.8983\n",
      "Epoch 25/100\n",
      "550/550 [==============================] - 0s 140us/step - loss: 2.1390 - categorical_accuracy: 0.9836 - val_loss: 2.1838 - val_categorical_accuracy: 0.8983\n",
      "Epoch 26/100\n",
      "550/550 [==============================] - 0s 144us/step - loss: 1.9718 - categorical_accuracy: 0.9727 - val_loss: 2.0055 - val_categorical_accuracy: 0.9025\n",
      "Epoch 27/100\n",
      "550/550 [==============================] - 0s 147us/step - loss: 1.7993 - categorical_accuracy: 0.9891 - val_loss: 1.8509 - val_categorical_accuracy: 0.9280\n",
      "Epoch 28/100\n",
      "550/550 [==============================] - 0s 144us/step - loss: 1.6674 - categorical_accuracy: 0.9836 - val_loss: 1.7204 - val_categorical_accuracy: 0.9280\n",
      "Epoch 29/100\n",
      "550/550 [==============================] - 0s 149us/step - loss: 1.5347 - categorical_accuracy: 0.9836 - val_loss: 1.6005 - val_categorical_accuracy: 0.9195\n",
      "Epoch 30/100\n",
      "550/550 [==============================] - 0s 155us/step - loss: 1.4102 - categorical_accuracy: 0.9836 - val_loss: 1.4900 - val_categorical_accuracy: 0.9153\n",
      "Epoch 31/100\n",
      "550/550 [==============================] - 0s 151us/step - loss: 1.2969 - categorical_accuracy: 0.9891 - val_loss: 1.3882 - val_categorical_accuracy: 0.9195\n",
      "Epoch 32/100\n",
      "550/550 [==============================] - 0s 140us/step - loss: 1.2057 - categorical_accuracy: 0.9818 - val_loss: 1.2969 - val_categorical_accuracy: 0.9110\n",
      "Epoch 33/100\n",
      "550/550 [==============================] - 0s 138us/step - loss: 1.1245 - categorical_accuracy: 0.9855 - val_loss: 1.2130 - val_categorical_accuracy: 0.9195\n",
      "Epoch 34/100\n",
      "550/550 [==============================] - 0s 158us/step - loss: 1.0446 - categorical_accuracy: 0.9836 - val_loss: 1.1406 - val_categorical_accuracy: 0.9110\n",
      "Epoch 35/100\n",
      "550/550 [==============================] - 0s 144us/step - loss: 0.9702 - categorical_accuracy: 0.9836 - val_loss: 1.0746 - val_categorical_accuracy: 0.9110\n",
      "Epoch 36/100\n",
      "550/550 [==============================] - 0s 158us/step - loss: 0.9085 - categorical_accuracy: 0.9800 - val_loss: 1.0102 - val_categorical_accuracy: 0.9153\n",
      "Epoch 37/100\n",
      "550/550 [==============================] - 0s 142us/step - loss: 0.8519 - categorical_accuracy: 0.9873 - val_loss: 0.9555 - val_categorical_accuracy: 0.9153\n",
      "Epoch 38/100\n",
      "550/550 [==============================] - 0s 136us/step - loss: 0.7974 - categorical_accuracy: 0.9818 - val_loss: 0.9043 - val_categorical_accuracy: 0.9195\n",
      "Epoch 39/100\n",
      "550/550 [==============================] - 0s 138us/step - loss: 0.7525 - categorical_accuracy: 0.9818 - val_loss: 0.8578 - val_categorical_accuracy: 0.9195\n",
      "Epoch 40/100\n",
      "550/550 [==============================] - 0s 142us/step - loss: 0.7008 - categorical_accuracy: 0.9873 - val_loss: 0.8146 - val_categorical_accuracy: 0.9195\n",
      "Epoch 41/100\n",
      "550/550 [==============================] - 0s 140us/step - loss: 0.6662 - categorical_accuracy: 0.9855 - val_loss: 0.7788 - val_categorical_accuracy: 0.9110\n",
      "Epoch 42/100\n",
      "550/550 [==============================] - 0s 142us/step - loss: 0.6338 - categorical_accuracy: 0.9818 - val_loss: 0.7464 - val_categorical_accuracy: 0.9110\n",
      "Epoch 43/100\n",
      "550/550 [==============================] - 0s 142us/step - loss: 0.6019 - categorical_accuracy: 0.9873 - val_loss: 0.7139 - val_categorical_accuracy: 0.9110\n",
      "Epoch 44/100\n",
      "550/550 [==============================] - 0s 140us/step - loss: 0.5716 - categorical_accuracy: 0.9873 - val_loss: 0.6865 - val_categorical_accuracy: 0.9110\n",
      "Epoch 45/100\n",
      "550/550 [==============================] - 0s 138us/step - loss: 0.5389 - categorical_accuracy: 0.9891 - val_loss: 0.6614 - val_categorical_accuracy: 0.9068\n",
      "Epoch 46/100\n",
      "550/550 [==============================] - 0s 135us/step - loss: 0.5176 - categorical_accuracy: 0.9836 - val_loss: 0.6369 - val_categorical_accuracy: 0.9110\n",
      "Epoch 47/100\n",
      "550/550 [==============================] - 0s 144us/step - loss: 0.4990 - categorical_accuracy: 0.9855 - val_loss: 0.6161 - val_categorical_accuracy: 0.9195\n",
      "Epoch 48/100\n",
      "550/550 [==============================] - 0s 144us/step - loss: 0.4750 - categorical_accuracy: 0.9855 - val_loss: 0.5953 - val_categorical_accuracy: 0.9153\n"
     ]
    },
    {
     "name": "stdout",
     "output_type": "stream",
     "text": [
      "Epoch 49/100\n",
      "550/550 [==============================] - 0s 146us/step - loss: 0.4642 - categorical_accuracy: 0.9873 - val_loss: 0.5783 - val_categorical_accuracy: 0.9153\n",
      "Epoch 50/100\n",
      "550/550 [==============================] - 0s 140us/step - loss: 0.4413 - categorical_accuracy: 0.9818 - val_loss: 0.5613 - val_categorical_accuracy: 0.9110\n",
      "Epoch 51/100\n",
      "550/550 [==============================] - 0s 135us/step - loss: 0.4231 - categorical_accuracy: 0.9855 - val_loss: 0.5512 - val_categorical_accuracy: 0.9025\n",
      "Epoch 52/100\n",
      "550/550 [==============================] - 0s 136us/step - loss: 0.4085 - categorical_accuracy: 0.9873 - val_loss: 0.5378 - val_categorical_accuracy: 0.9025\n",
      "Epoch 53/100\n",
      "550/550 [==============================] - 0s 140us/step - loss: 0.3994 - categorical_accuracy: 0.9836 - val_loss: 0.5240 - val_categorical_accuracy: 0.9025\n",
      "Epoch 54/100\n",
      "550/550 [==============================] - 0s 140us/step - loss: 0.3834 - categorical_accuracy: 0.9927 - val_loss: 0.5118 - val_categorical_accuracy: 0.9025\n",
      "Epoch 55/100\n",
      "550/550 [==============================] - 0s 149us/step - loss: 0.3760 - categorical_accuracy: 0.9818 - val_loss: 0.5024 - val_categorical_accuracy: 0.8983\n",
      "Epoch 56/100\n",
      "550/550 [==============================] - 0s 147us/step - loss: 0.3660 - categorical_accuracy: 0.9836 - val_loss: 0.4955 - val_categorical_accuracy: 0.8983\n",
      "Epoch 57/100\n",
      "550/550 [==============================] - 0s 140us/step - loss: 0.3562 - categorical_accuracy: 0.9818 - val_loss: 0.4831 - val_categorical_accuracy: 0.8983\n",
      "Epoch 58/100\n",
      "550/550 [==============================] - 0s 140us/step - loss: 0.3494 - categorical_accuracy: 0.9873 - val_loss: 0.4795 - val_categorical_accuracy: 0.9025\n",
      "Epoch 59/100\n",
      "550/550 [==============================] - 0s 133us/step - loss: 0.3367 - categorical_accuracy: 0.9873 - val_loss: 0.4718 - val_categorical_accuracy: 0.9068\n",
      "Epoch 60/100\n",
      "550/550 [==============================] - 0s 140us/step - loss: 0.3278 - categorical_accuracy: 0.9836 - val_loss: 0.4624 - val_categorical_accuracy: 0.9025\n",
      "Epoch 61/100\n",
      "550/550 [==============================] - 0s 138us/step - loss: 0.3245 - categorical_accuracy: 0.9909 - val_loss: 0.4552 - val_categorical_accuracy: 0.9025\n",
      "Epoch 62/100\n",
      "550/550 [==============================] - 0s 140us/step - loss: 0.3152 - categorical_accuracy: 0.9909 - val_loss: 0.4465 - val_categorical_accuracy: 0.9068\n",
      "Epoch 63/100\n",
      "550/550 [==============================] - 0s 135us/step - loss: 0.3126 - categorical_accuracy: 0.9836 - val_loss: 0.4442 - val_categorical_accuracy: 0.9025\n",
      "Epoch 64/100\n",
      "550/550 [==============================] - 0s 138us/step - loss: 0.3000 - categorical_accuracy: 0.9891 - val_loss: 0.4395 - val_categorical_accuracy: 0.8983\n",
      "Epoch 65/100\n",
      "550/550 [==============================] - 0s 136us/step - loss: 0.2983 - categorical_accuracy: 0.9891 - val_loss: 0.4291 - val_categorical_accuracy: 0.8983\n",
      "Epoch 66/100\n",
      "550/550 [==============================] - 0s 140us/step - loss: 0.2902 - categorical_accuracy: 0.9909 - val_loss: 0.4261 - val_categorical_accuracy: 0.8983\n",
      "Epoch 67/100\n",
      "550/550 [==============================] - 0s 151us/step - loss: 0.2853 - categorical_accuracy: 0.9891 - val_loss: 0.4231 - val_categorical_accuracy: 0.8983\n",
      "Epoch 68/100\n",
      "550/550 [==============================] - 0s 140us/step - loss: 0.2816 - categorical_accuracy: 0.9909 - val_loss: 0.4162 - val_categorical_accuracy: 0.8983\n",
      "Epoch 69/100\n",
      "550/550 [==============================] - 0s 144us/step - loss: 0.2785 - categorical_accuracy: 0.9873 - val_loss: 0.4148 - val_categorical_accuracy: 0.8983\n",
      "Epoch 70/100\n",
      "550/550 [==============================] - 0s 138us/step - loss: 0.2730 - categorical_accuracy: 0.9855 - val_loss: 0.4088 - val_categorical_accuracy: 0.8983\n",
      "Epoch 71/100\n",
      "550/550 [==============================] - 0s 142us/step - loss: 0.2700 - categorical_accuracy: 0.9891 - val_loss: 0.4064 - val_categorical_accuracy: 0.8983\n",
      "Epoch 72/100\n",
      "550/550 [==============================] - 0s 136us/step - loss: 0.2659 - categorical_accuracy: 0.9891 - val_loss: 0.4080 - val_categorical_accuracy: 0.9025\n",
      "Epoch 73/100\n",
      "550/550 [==============================] - 0s 146us/step - loss: 0.2641 - categorical_accuracy: 0.9891 - val_loss: 0.4059 - val_categorical_accuracy: 0.8983\n",
      "Epoch 74/100\n",
      "550/550 [==============================] - 0s 142us/step - loss: 0.2575 - categorical_accuracy: 0.9909 - val_loss: 0.3999 - val_categorical_accuracy: 0.9025\n",
      "Epoch 75/100\n",
      "550/550 [==============================] - 0s 146us/step - loss: 0.2559 - categorical_accuracy: 0.9891 - val_loss: 0.4015 - val_categorical_accuracy: 0.8983\n",
      "Epoch 76/100\n",
      "550/550 [==============================] - 0s 147us/step - loss: 0.2546 - categorical_accuracy: 0.9891 - val_loss: 0.3966 - val_categorical_accuracy: 0.8983\n",
      "Epoch 77/100\n",
      "550/550 [==============================] - 0s 153us/step - loss: 0.2505 - categorical_accuracy: 0.9891 - val_loss: 0.3895 - val_categorical_accuracy: 0.8941\n",
      "Epoch 78/100\n",
      "550/550 [==============================] - 0s 138us/step - loss: 0.2455 - categorical_accuracy: 0.9891 - val_loss: 0.3873 - val_categorical_accuracy: 0.8941\n",
      "Epoch 79/100\n",
      "550/550 [==============================] - 0s 138us/step - loss: 0.2412 - categorical_accuracy: 0.9909 - val_loss: 0.3852 - val_categorical_accuracy: 0.8941\n",
      "Epoch 80/100\n",
      "550/550 [==============================] - 0s 133us/step - loss: 0.2409 - categorical_accuracy: 0.9855 - val_loss: 0.3888 - val_categorical_accuracy: 0.8983\n",
      "Epoch 81/100\n",
      "550/550 [==============================] - 0s 138us/step - loss: 0.2355 - categorical_accuracy: 0.9873 - val_loss: 0.3800 - val_categorical_accuracy: 0.8983\n",
      "Epoch 82/100\n",
      "550/550 [==============================] - 0s 138us/step - loss: 0.2373 - categorical_accuracy: 0.9891 - val_loss: 0.3796 - val_categorical_accuracy: 0.8983\n",
      "Epoch 83/100\n",
      "550/550 [==============================] - 0s 149us/step - loss: 0.2352 - categorical_accuracy: 0.9909 - val_loss: 0.3752 - val_categorical_accuracy: 0.8983\n",
      "Epoch 84/100\n",
      "550/550 [==============================] - 0s 136us/step - loss: 0.2280 - categorical_accuracy: 0.9909 - val_loss: 0.3739 - val_categorical_accuracy: 0.8983\n",
      "Epoch 85/100\n",
      "550/550 [==============================] - 0s 140us/step - loss: 0.2251 - categorical_accuracy: 0.9909 - val_loss: 0.3723 - val_categorical_accuracy: 0.8983\n",
      "Epoch 86/100\n",
      "550/550 [==============================] - 0s 144us/step - loss: 0.2278 - categorical_accuracy: 0.9873 - val_loss: 0.3654 - val_categorical_accuracy: 0.9025\n",
      "Epoch 87/100\n",
      "550/550 [==============================] - 0s 151us/step - loss: 0.2215 - categorical_accuracy: 0.9891 - val_loss: 0.3655 - val_categorical_accuracy: 0.9025\n",
      "Epoch 88/100\n",
      "550/550 [==============================] - 0s 138us/step - loss: 0.2212 - categorical_accuracy: 0.9855 - val_loss: 0.3677 - val_categorical_accuracy: 0.8983\n",
      "Epoch 89/100\n",
      "550/550 [==============================] - 0s 131us/step - loss: 0.2205 - categorical_accuracy: 0.9927 - val_loss: 0.3646 - val_categorical_accuracy: 0.8983\n",
      "Epoch 90/100\n",
      "550/550 [==============================] - 0s 138us/step - loss: 0.2172 - categorical_accuracy: 0.9909 - val_loss: 0.3624 - val_categorical_accuracy: 0.8983\n",
      "Epoch 91/100\n",
      "550/550 [==============================] - 0s 142us/step - loss: 0.2156 - categorical_accuracy: 0.9873 - val_loss: 0.3621 - val_categorical_accuracy: 0.8941\n",
      "Epoch 92/100\n",
      "550/550 [==============================] - 0s 142us/step - loss: 0.2110 - categorical_accuracy: 0.9927 - val_loss: 0.3636 - val_categorical_accuracy: 0.8983\n",
      "Epoch 93/100\n",
      "550/550 [==============================] - 0s 138us/step - loss: 0.2130 - categorical_accuracy: 0.9855 - val_loss: 0.3600 - val_categorical_accuracy: 0.8983\n",
      "Epoch 94/100\n",
      "550/550 [==============================] - 0s 136us/step - loss: 0.2107 - categorical_accuracy: 0.9873 - val_loss: 0.3583 - val_categorical_accuracy: 0.8941\n",
      "Epoch 95/100\n",
      "550/550 [==============================] - 0s 133us/step - loss: 0.2078 - categorical_accuracy: 0.9873 - val_loss: 0.3573 - val_categorical_accuracy: 0.8898\n",
      "Epoch 96/100\n",
      "550/550 [==============================] - 0s 140us/step - loss: 0.2086 - categorical_accuracy: 0.9891 - val_loss: 0.3547 - val_categorical_accuracy: 0.8941\n",
      "Epoch 97/100\n"
     ]
    },
    {
     "name": "stdout",
     "output_type": "stream",
     "text": [
      "550/550 [==============================] - 0s 144us/step - loss: 0.2064 - categorical_accuracy: 0.9927 - val_loss: 0.3560 - val_categorical_accuracy: 0.8941\n",
      "Epoch 98/100\n",
      "550/550 [==============================] - 0s 135us/step - loss: 0.2042 - categorical_accuracy: 0.9891 - val_loss: 0.3499 - val_categorical_accuracy: 0.8941\n",
      "Epoch 99/100\n",
      "550/550 [==============================] - 0s 149us/step - loss: 0.2067 - categorical_accuracy: 0.9873 - val_loss: 0.3496 - val_categorical_accuracy: 0.8941\n",
      "Epoch 100/100\n",
      "550/550 [==============================] - 0s 138us/step - loss: 0.2044 - categorical_accuracy: 0.9909 - val_loss: 0.3538 - val_categorical_accuracy: 0.8941\n",
      "400/400 [==============================] - 0s 40us/step\n"
     ]
    },
    {
     "data": {
      "text/plain": [
       "[0.2745735359191894, 0.949999988079071]"
      ]
     },
     "execution_count": 43,
     "metadata": {},
     "output_type": "execute_result"
    }
   ],
   "source": [
    "from keras.models import Sequential\n",
    "from keras.layers import Dense\n",
    "from keras.callbacks import LearningRateScheduler\n",
    "from keras.callbacks import ModelCheckpoint\n",
    "from keras.callbacks import EarlyStopping\n",
    "from keras.layers import Dropout\n",
    "from keras.layers import BatchNormalization\n",
    "from keras.layers import Activation\n",
    "from keras.callbacks import History\n",
    "from keras.regularizers import l2\n",
    "\n",
    "history = History()\n",
    "model = Sequential()\n",
    "model.add(Dense(100,activation=\"relu\",input_shape=(X_train_transformed.shape[1],), kernel_regularizer=l2(0.1)))\n",
    "model.add(Dropout(0.5))\n",
    "model.add(Dense(2,activation=\"softmax\"))\n",
    "Adam = keras.optimizers.Adam(learning_rate=0.0001, beta_1=0.9, beta_2=0.999, amsgrad=False)\n",
    "model.compile(loss=\"categorical_crossentropy\",optimizer=Adam, metrics=[\"categorical_accuracy\"])\n",
    "\n",
    "\n",
    "early_stopping = EarlyStopping(patience=3)\n",
    "save_best_model = ModelCheckpoint(\"wagi_20news_dense.h5py\",save_best_only=True)\n",
    "\n",
    "model.fit(X_train_transformed,y_train, batch_size=32, validation_split=0.3, epochs=100, callbacks=[early_stopping, save_best_model, history])\n",
    "\n",
    "\n",
    "model.load_weights(\"wagi_20news_dense.h5py\")\n",
    "model.evaluate(X_test_transformed, y_test)"
   ]
  },
  {
   "cell_type": "code",
   "execution_count": 44,
   "metadata": {},
   "outputs": [
    {
     "data": {
      "image/png": "[encoded data removed]",
      "text/plain": [
       "<Figure size 432x288 with 1 Axes>"
      ]
     },
     "metadata": {
      "needs_background": "light"
     },
     "output_type": "display_data"
    }
   ],
   "source": [
    "plt.plot(history.history['categorical_accuracy'], label = \"tarina Adam\")\n",
    "plt.plot(history.history['val_categorical_accuracy'], label = \"test Adam\")\n",
    "\n",
    "plt.legend()\n",
    "plt.show()"
   ]
  },
  {
   "cell_type": "markdown",
   "metadata": {},
   "source": [
    "# Zad.\n",
    "\n",
    "Naucz jak najlepszy model na tym zbiorze danych."
   ]
  },
  {
   "cell_type": "code",
   "execution_count": null,
   "metadata": {},
   "outputs": [],
   "source": []
  }
 ],
 "metadata": {
  "kernelspec": {
   "display_name": "Python 3",
   "language": "python",
   "name": "python3"
  },
  "language_info": {
   "codemirror_mode": {
    "name": "ipython",
    "version": 3
   },
   "file_extension": ".py",
   "mimetype": "text/x-python",
   "name": "python",
   "nbconvert_exporter": "python",
   "pygments_lexer": "ipython3",
   "version": "3.7.3"
  }
 },
 "nbformat": 4,
 "nbformat_minor": 2
}
